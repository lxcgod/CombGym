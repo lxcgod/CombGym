{
 "cells": [
  {
   "cell_type": "code",
   "execution_count": 1,
   "metadata": {},
   "outputs": [
    {
     "name": "stdout",
     "output_type": "stream",
     "text": [
      "['/Users/jkinney/github/mavenn/mavenn']\n"
     ]
    }
   ],
   "source": [
    "# Standard imports\n",
    "import pandas as pd\n",
    "import matplotlib.pyplot as plt\n",
    "import numpy as np\n",
    "\n",
    "# Insert path to mavenn beginning of path\n",
    "import os\n",
    "import sys\n",
    "abs_path_to_mavenn = os.path.abspath('../../')\n",
    "sys.path.insert(0, abs_path_to_mavenn)\n",
    "\n",
    "# Load mavenn\n",
    "import mavenn\n",
    "print(mavenn.__path__)"
   ]
  },
  {
   "cell_type": "code",
   "execution_count": 4,
   "metadata": {},
   "outputs": [
    {
     "name": "stdout",
     "output_type": "stream",
     "text": [
      "training N: 429,674\n"
     ]
    },
    {
     "data": {
      "text/html": [
       "<div>\n",
       "<style scoped>\n",
       "    .dataframe tbody tr th:only-of-type {\n",
       "        vertical-align: middle;\n",
       "    }\n",
       "\n",
       "    .dataframe tbody tr th {\n",
       "        vertical-align: top;\n",
       "    }\n",
       "\n",
       "    .dataframe thead th {\n",
       "        text-align: right;\n",
       "    }\n",
       "</style>\n",
       "<table border=\"1\" class=\"dataframe\">\n",
       "  <thead>\n",
       "    <tr style=\"text-align: right;\">\n",
       "      <th></th>\n",
       "      <th>input_ct</th>\n",
       "      <th>selected_ct</th>\n",
       "      <th>hamming_dist</th>\n",
       "      <th>training_set</th>\n",
       "      <th>y</th>\n",
       "      <th>dy</th>\n",
       "      <th>x</th>\n",
       "    </tr>\n",
       "  </thead>\n",
       "  <tbody>\n",
       "    <tr>\n",
       "      <td>0</td>\n",
       "      <td>1759616.0</td>\n",
       "      <td>3041819.0</td>\n",
       "      <td>0</td>\n",
       "      <td>True</td>\n",
       "      <td>0.000000</td>\n",
       "      <td>0.001366</td>\n",
       "      <td>QYKLILNGKTLKGETTTEAVDAATAEKVFKQYANDNGVDGEWTYDD...</td>\n",
       "    </tr>\n",
       "    <tr>\n",
       "      <td>1</td>\n",
       "      <td>14663.0</td>\n",
       "      <td>38476.0</td>\n",
       "      <td>1</td>\n",
       "      <td>True</td>\n",
       "      <td>0.602044</td>\n",
       "      <td>0.014001</td>\n",
       "      <td>AYKLILNGKTLKGETTTEAVDAATAEKVFKQYANDNGVDGEWTYDD...</td>\n",
       "    </tr>\n",
       "    <tr>\n",
       "      <td>2</td>\n",
       "      <td>13001.0</td>\n",
       "      <td>23023.0</td>\n",
       "      <td>1</td>\n",
       "      <td>True</td>\n",
       "      <td>0.034732</td>\n",
       "      <td>0.015827</td>\n",
       "      <td>CYKLILNGKTLKGETTTEAVDAATAEKVFKQYANDNGVDGEWTYDD...</td>\n",
       "    </tr>\n",
       "    <tr>\n",
       "      <td>3</td>\n",
       "      <td>11488.0</td>\n",
       "      <td>18085.0</td>\n",
       "      <td>1</td>\n",
       "      <td>True</td>\n",
       "      <td>-0.135053</td>\n",
       "      <td>0.017212</td>\n",
       "      <td>DYKLILNGKTLKGETTTEAVDAATAEKVFKQYANDNGVDGEWTYDD...</td>\n",
       "    </tr>\n",
       "    <tr>\n",
       "      <td>4</td>\n",
       "      <td>9501.0</td>\n",
       "      <td>15629.0</td>\n",
       "      <td>1</td>\n",
       "      <td>True</td>\n",
       "      <td>-0.071659</td>\n",
       "      <td>0.018767</td>\n",
       "      <td>EYKLILNGKTLKGETTTEAVDAATAEKVFKQYANDNGVDGEWTYDD...</td>\n",
       "    </tr>\n",
       "  </tbody>\n",
       "</table>\n",
       "</div>"
      ],
      "text/plain": [
       "    input_ct  selected_ct  hamming_dist  training_set         y        dy  \\\n",
       "0  1759616.0    3041819.0             0          True  0.000000  0.001366   \n",
       "1    14663.0      38476.0             1          True  0.602044  0.014001   \n",
       "2    13001.0      23023.0             1          True  0.034732  0.015827   \n",
       "3    11488.0      18085.0             1          True -0.135053  0.017212   \n",
       "4     9501.0      15629.0             1          True -0.071659  0.018767   \n",
       "\n",
       "                                                   x  \n",
       "0  QYKLILNGKTLKGETTTEAVDAATAEKVFKQYANDNGVDGEWTYDD...  \n",
       "1  AYKLILNGKTLKGETTTEAVDAATAEKVFKQYANDNGVDGEWTYDD...  \n",
       "2  CYKLILNGKTLKGETTTEAVDAATAEKVFKQYANDNGVDGEWTYDD...  \n",
       "3  DYKLILNGKTLKGETTTEAVDAATAEKVFKQYANDNGVDGEWTYDD...  \n",
       "4  EYKLILNGKTLKGETTTEAVDAATAEKVFKQYANDNGVDGEWTYDD...  "
      ]
     },
     "execution_count": 4,
     "metadata": {},
     "output_type": "execute_result"
    }
   ],
   "source": [
    "# Load example data\n",
    "data_df = mavenn.load_example(which='training_data',name='gb1')\n",
    "print(f'training N: {len(data_df):,}')\n",
    "data_df.head()"
   ]
  },
  {
   "cell_type": "code",
   "execution_count": 5,
   "metadata": {},
   "outputs": [],
   "source": [
    "# Set seeed\n",
    "mavenn.set_seed(0)\n",
    "\n",
    "# Define model\n",
    "model = mavenn.Model(regression_type='GE',\n",
    "                     L=len(data_df['x'][0]),\n",
    "                     alphabet='protein',\n",
    "                     gpmap_type='additive',                     \n",
    "                     ge_noise_model_type='Cauchy',\n",
    "                     ge_heteroskedasticity_order=2)"
   ]
  },
  {
   "cell_type": "code",
   "execution_count": 6,
   "metadata": {},
   "outputs": [
    {
     "name": "stdout",
     "output_type": "stream",
     "text": [
      "N = 429,674 observations set as training data.\n",
      "Data shuffled.\n",
      "Time to set data: 9.39 sec.\n"
     ]
    }
   ],
   "source": [
    "# Set training data\n",
    "model.set_data(x=data_df['x'],\n",
    "               y=data_df['y'],\n",
    "               verbose=True)"
   ]
  },
  {
   "cell_type": "code",
   "execution_count": 7,
   "metadata": {},
   "outputs": [
    {
     "name": "stdout",
     "output_type": "stream",
     "text": [
      " \n",
      "LSMR            Least-squares solution of  Ax = b\n",
      "\n",
      "The matrix A has   429674 rows  and     1100 cols\n",
      "damp = 0.00000000000000e+00\n",
      "\n",
      "atol = 1.00e-06                 conlim = 1.00e+08\n",
      "\n",
      "btol = 1.00e-06             maxiter =     1100\n",
      "\n",
      " \n",
      "   itn      x(1)       norm r    norm Ar  compatible   LS      norm A   cond A\n",
      "     0  0.00000e+00  6.555e+02  6.819e+04   1.0e+00  1.6e-01\n",
      "     1  1.35584e-02  4.784e+02  5.099e+04   7.3e-01  8.4e-01  1.3e+02  1.0e+00\n",
      "     2  3.03543e-02  3.705e+02  8.062e+03   5.7e-01  4.7e-03  4.7e+03  1.6e+01\n",
      "     3  5.05346e-02  2.596e+02  4.464e+03   4.0e-01  3.7e-03  4.7e+03  1.1e+02\n",
      "     4  6.00529e-02  2.415e+02  1.645e+02   3.7e-01  1.5e-04  4.7e+03  9.0e+01\n",
      "     5  6.00044e-02  2.415e+02  1.627e+02   3.7e-01  1.4e-04  4.7e+03  9.0e+01\n",
      "     6  5.96612e-02  2.415e+02  1.486e+02   3.7e-01  9.5e-05  6.5e+03  9.0e+01\n",
      "     7  5.60233e-02  2.415e+02  1.438e+01   3.7e-01  9.0e-06  6.6e+03  9.0e+01\n",
      "     8  5.59991e-02  2.415e+02  1.375e+01   3.7e-01  8.6e-06  6.6e+03  9.0e+01\n",
      "     9  5.56915e-02  2.415e+02  1.338e+01   3.7e-01  8.4e-06  6.6e+03  4.2e+02\n",
      "    10  5.56145e-02  2.415e+02  1.329e+01   3.7e-01  7.9e-06  7.0e+03  9.6e+01\n",
      "    17 -4.18006e-01  2.410e+02  1.008e+00   3.7e-01  4.5e-07  9.4e+03  7.4e+02\n",
      " \n",
      "LSMR finished\n",
      "The least-squares solution is good enough, given atol     \n",
      "istop =       2    normr = 2.4e+02\n",
      "    normA = 9.4e+03    normAr = 1.0e+00\n",
      "itn   =      17    condA = 7.4e+02\n",
      "    normx = 1.9e+01\n",
      "    17 -4.18006e-01   2.410e+02  1.008e+00\n",
      "   3.7e-01  4.5e-07   9.4e+03  7.4e+02\n",
      "Linear regression time: 9.4958 sec\n",
      "Epoch 1/2\n",
      "6875/6875 [==============================] - 12s 2ms/step - loss: 15.2668 - val_loss: 13.0194\n",
      "Epoch 2/2\n",
      "6875/6875 [==============================] - 11s 2ms/step - loss: 11.5838 - val_loss: 7.8658\n",
      "Training time: 40.0 seconds\n"
     ]
    }
   ],
   "source": [
    "# Fit model to data\n",
    "history = model.fit(learning_rate=.005,\n",
    "                    epochs=2,\n",
    "                    early_stopping=True,\n",
    "                    linear_initialization=True,\n",
    "                    early_stopping_patience=10)"
   ]
  },
  {
   "cell_type": "code",
   "execution_count": 8,
   "metadata": {},
   "outputs": [
    {
     "name": "stdout",
     "output_type": "stream",
     "text": [
      "Model saved to these files:\n",
      "\tgb1_ge_additive.pickle\n",
      "\tgb1_ge_additive.h5\n"
     ]
    }
   ],
   "source": [
    "# Save model\n",
    "model.save('gb1_ge_additive')"
   ]
  },
  {
   "cell_type": "code",
   "execution_count": 9,
   "metadata": {},
   "outputs": [
    {
     "name": "stdout",
     "output_type": "stream",
     "text": [
      "{'N': 429674, 'L': 55, 'C': 20, 'alphabet': array(['A', 'C', 'D', 'E', 'F', 'G', 'H', 'I', 'K', 'L', 'M', 'N', 'P',\n",
      "       'Q', 'R', 'S', 'T', 'V', 'W', 'Y'], dtype='<U1'), 'probability_df':            A         C         D         E         F         G         H  \\\n",
      "0   0.001946  0.001915  0.001897  0.001915  0.001936  0.001960  0.001897   \n",
      "1   0.001904  0.001897  0.001908  0.001887  0.001908  0.001899  0.001904   \n",
      "2   0.001864  0.001883  0.001899  0.001894  0.001943  0.001911  0.001853   \n",
      "3   0.001918  0.001922  0.001948  0.001874  0.001913  0.001894  0.001953   \n",
      "4   0.001929  0.001906  0.001841  0.001878  0.001922  0.001913  0.001934   \n",
      "5   0.001920  0.001927  0.001939  0.001899  0.001915  0.001899  0.001939   \n",
      "6   0.001920  0.001878  0.001960  0.001906  0.001869  0.001904  0.001911   \n",
      "7   0.001922  0.001922  0.001880  0.001883  0.001925  0.963740  0.001899   \n",
      "8   0.001932  0.001894  0.001901  0.001894  0.001953  0.001887  0.001936   \n",
      "9   0.001913  0.001925  0.001974  0.001892  0.001920  0.001892  0.001901   \n",
      "10  0.001880  0.001904  0.001887  0.001911  0.001960  0.001871  0.001943   \n",
      "11  0.001883  0.001874  0.001874  0.001925  0.001846  0.001915  0.001913   \n",
      "12  0.001860  0.001880  0.001932  0.001936  0.001892  0.963784  0.001899   \n",
      "13  0.001962  0.001929  0.001874  0.963661  0.001878  0.001897  0.001922   \n",
      "14  0.001964  0.001878  0.001892  0.001925  0.001862  0.001920  0.001911   \n",
      "15  0.001876  0.001876  0.001985  0.001948  0.001876  0.001911  0.001920   \n",
      "16  0.001939  0.001988  0.001936  0.001943  0.001890  0.001929  0.001969   \n",
      "17  0.001925  0.001957  0.001920  0.963679  0.001960  0.001911  0.001939   \n",
      "18  0.963745  0.001864  0.001911  0.001899  0.001915  0.001846  0.001892   \n",
      "19  0.001950  0.001890  0.001911  0.001890  0.001890  0.001894  0.001897   \n",
      "20  0.001920  0.001890  0.963910  0.001920  0.001874  0.001934  0.001897   \n",
      "21  0.963638  0.001925  0.001899  0.001927  0.001943  0.001904  0.001867   \n",
      "22  0.963693  0.001943  0.001908  0.001892  0.001918  0.001941  0.001934   \n",
      "23  0.001897  0.001939  0.001880  0.001913  0.001927  0.001901  0.001897   \n",
      "24  0.963233  0.001943  0.001932  0.001960  0.001953  0.001897  0.001911   \n",
      "25  0.001908  0.001929  0.001878  0.963733  0.001971  0.001829  0.001908   \n",
      "26  0.001918  0.001955  0.001941  0.001932  0.001890  0.001908  0.001983   \n",
      "27  0.001901  0.001869  0.001943  0.001890  0.001925  0.001943  0.001874   \n",
      "28  0.001901  0.001925  0.001867  0.001964  0.963561  0.001867  0.001915   \n",
      "29  0.001939  0.001911  0.001950  0.001897  0.001918  0.001857  0.001922   \n",
      "30  0.001920  0.001946  0.001929  0.001948  0.001901  0.001964  0.001869   \n",
      "31  0.001897  0.001892  0.001904  0.001874  0.001892  0.001915  0.001906   \n",
      "32  0.963619  0.001864  0.001918  0.001960  0.001960  0.001908  0.001960   \n",
      "33  0.001887  0.001876  0.001906  0.001878  0.001904  0.001901  0.001943   \n",
      "34  0.001901  0.001908  0.963461  0.001976  0.001906  0.001897  0.001908   \n",
      "35  0.001734  0.001922  0.001911  0.001918  0.001906  0.001906  0.001860   \n",
      "36  0.001925  0.001925  0.001890  0.001899  0.001911  0.963612  0.001860   \n",
      "37  0.001901  0.001915  0.001941  0.001920  0.001915  0.001939  0.001932   \n",
      "38  0.001922  0.001934  0.963647  0.001874  0.001894  0.001929  0.001925   \n",
      "39  0.001887  0.001913  0.001911  0.001918  0.001887  0.963726  0.001950   \n",
      "40  0.001843  0.001929  0.001939  0.963647  0.001950  0.001890  0.001939   \n",
      "41  0.001925  0.001869  0.001857  0.001913  0.001925  0.001922  0.001978   \n",
      "42  0.001876  0.001839  0.001899  0.001925  0.001890  0.001948  0.001948   \n",
      "43  0.001960  0.001999  0.001927  0.001939  0.001901  0.001880  0.001848   \n",
      "44  0.001925  0.001941  0.963838  0.001874  0.001887  0.001862  0.001962   \n",
      "45  0.001929  0.001894  0.963582  0.001967  0.001915  0.001941  0.001885   \n",
      "46  0.963626  0.001934  0.001925  0.001853  0.001890  0.001939  0.001913   \n",
      "47  0.001920  0.001922  0.001932  0.001932  0.001922  0.001901  0.001948   \n",
      "48  0.001908  0.001925  0.001876  0.001906  0.001897  0.001918  0.001899   \n",
      "49  0.001915  0.001934  0.001906  0.001922  0.001920  0.001867  0.001869   \n",
      "50  0.001934  0.001918  0.001932  0.001934  0.963768  0.001918  0.001904   \n",
      "51  0.001936  0.001841  0.001969  0.001946  0.001913  0.001883  0.001929   \n",
      "52  0.001899  0.001860  0.001913  0.001890  0.001869  0.001950  0.001878   \n",
      "53  0.001978  0.001932  0.001887  0.001899  0.001892  0.001869  0.001927   \n",
      "54  0.001887  0.001967  0.001934  0.963754  0.001899  0.001908  0.001901   \n",
      "\n",
      "           I         K         L         M         N         P         Q  \\\n",
      "0   0.001943  0.001941  0.001901  0.001922  0.001887  0.001883  0.963635   \n",
      "1   0.001897  0.001892  0.001913  0.001927  0.001890  0.001913  0.001932   \n",
      "2   0.001941  0.963835  0.001939  0.001890  0.001911  0.001892  0.001890   \n",
      "3   0.001911  0.001939  0.963640  0.001918  0.001876  0.001913  0.001892   \n",
      "4   0.963440  0.001850  0.001915  0.001955  0.001964  0.001920  0.001969   \n",
      "5   0.001943  0.001892  0.963735  0.001860  0.001939  0.001871  0.001892   \n",
      "6   0.001880  0.001927  0.001871  0.001883  0.963705  0.001918  0.001894   \n",
      "7   0.001880  0.001932  0.001899  0.001906  0.001908  0.001901  0.001892   \n",
      "8   0.001934  0.963645  0.001957  0.001929  0.001946  0.001880  0.001880   \n",
      "9   0.001918  0.001939  0.001953  0.001876  0.001869  0.001925  0.001967   \n",
      "10  0.001918  0.001920  0.963686  0.001953  0.001864  0.001906  0.001901   \n",
      "11  0.001867  0.963931  0.001918  0.001850  0.001880  0.001920  0.001906   \n",
      "12  0.001906  0.001874  0.001929  0.001932  0.001941  0.001906  0.001887   \n",
      "13  0.001960  0.001897  0.001890  0.001918  0.001908  0.001971  0.001874   \n",
      "14  0.001948  0.001864  0.001915  0.001911  0.001955  0.001962  0.001960   \n",
      "15  0.001941  0.001969  0.001915  0.001920  0.001915  0.001918  0.001936   \n",
      "16  0.001978  0.001890  0.001913  0.001862  0.001869  0.001922  0.001922   \n",
      "17  0.001927  0.001864  0.001874  0.001946  0.001918  0.001913  0.001929   \n",
      "18  0.001904  0.001862  0.001869  0.001904  0.002006  0.001918  0.001887   \n",
      "19  0.001906  0.001908  0.001960  0.001922  0.001850  0.001913  0.001853   \n",
      "20  0.001925  0.001860  0.001955  0.001894  0.001911  0.001913  0.001899   \n",
      "21  0.001922  0.001890  0.001932  0.001906  0.001890  0.001913  0.001934   \n",
      "22  0.001874  0.001876  0.001890  0.001892  0.001929  0.001925  0.001897   \n",
      "23  0.001887  0.001918  0.001936  0.001932  0.001890  0.001899  0.001913   \n",
      "24  0.001950  0.001971  0.001957  0.001950  0.001953  0.001908  0.001936   \n",
      "25  0.001911  0.001883  0.001883  0.001925  0.001969  0.001927  0.001890   \n",
      "26  0.001946  0.963340  0.001932  0.001962  0.001929  0.001897  0.001878   \n",
      "27  0.001915  0.001906  0.001943  0.001892  0.001943  0.001906  0.001904   \n",
      "28  0.001906  0.001906  0.001878  0.001964  0.001885  0.001911  0.001948   \n",
      "29  0.001929  0.963530  0.001911  0.001969  0.001892  0.001948  0.001904   \n",
      "30  0.001906  0.001883  0.001962  0.001948  0.001962  0.001936  0.963293   \n",
      "31  0.001918  0.001855  0.001876  0.001913  0.001913  0.001920  0.001908   \n",
      "32  0.001927  0.001918  0.001894  0.001913  0.001906  0.001918  0.001929   \n",
      "33  0.001943  0.001915  0.001853  0.001957  0.963805  0.001971  0.001932   \n",
      "34  0.001920  0.001943  0.001927  0.001915  0.001906  0.001904  0.001927   \n",
      "35  0.001899  0.001897  0.001946  0.001871  0.964126  0.001901  0.001878   \n",
      "36  0.001920  0.001901  0.001934  0.001925  0.001943  0.001953  0.001922   \n",
      "37  0.001869  0.001906  0.001939  0.001899  0.001913  0.001906  0.001925   \n",
      "38  0.001934  0.001939  0.001939  0.001908  0.001932  0.001934  0.001941   \n",
      "39  0.001960  0.001941  0.001950  0.001957  0.001857  0.001936  0.001871   \n",
      "40  0.001955  0.001878  0.001950  0.001948  0.001929  0.001887  0.001880   \n",
      "41  0.001922  0.001892  0.001920  0.001946  0.001971  0.001934  0.001860   \n",
      "42  0.001934  0.001908  0.001953  0.001925  0.001906  0.001897  0.001932   \n",
      "43  0.001939  0.001911  0.001885  0.001832  0.001904  0.001904  0.001904   \n",
      "44  0.001878  0.001913  0.001892  0.001862  0.001913  0.001962  0.001950   \n",
      "45  0.001960  0.001946  0.001943  0.001899  0.001953  0.001948  0.001885   \n",
      "46  0.001950  0.001897  0.001948  0.001936  0.001929  0.001899  0.001915   \n",
      "47  0.001857  0.001901  0.001929  0.001906  0.001876  0.001904  0.001899   \n",
      "48  0.001927  0.963600  0.001915  0.001890  0.001890  0.001985  0.001878   \n",
      "49  0.001883  0.001887  0.001939  0.001892  0.001913  0.001857  0.001934   \n",
      "50  0.001922  0.001918  0.001899  0.001906  0.001906  0.001867  0.001904   \n",
      "51  0.001904  0.001943  0.001904  0.001913  0.001899  0.001929  0.001927   \n",
      "52  0.001920  0.001904  0.001920  0.001876  0.001915  0.001901  0.001836   \n",
      "53  0.001929  0.001953  0.001871  0.001885  0.001939  0.001885  0.001841   \n",
      "54  0.001922  0.001892  0.001897  0.001934  0.001885  0.001892  0.001892   \n",
      "\n",
      "           R         S         T         V         W         Y  \n",
      "0   0.001908  0.001927  0.001878  0.001890  0.001904  0.001913  \n",
      "1   0.001885  0.001922  0.001941  0.001899  0.001927  0.963754  \n",
      "2   0.001911  0.001934  0.001943  0.001876  0.001908  0.001883  \n",
      "3   0.001932  0.001932  0.001925  0.001850  0.001915  0.001936  \n",
      "4   0.001922  0.001960  0.001953  0.001922  0.001936  0.001969  \n",
      "5   0.001946  0.001904  0.001948  0.001855  0.001869  0.001908  \n",
      "6   0.001897  0.001922  0.001894  0.001908  0.001997  0.001955  \n",
      "7   0.001981  0.001892  0.001922  0.001943  0.001862  0.001908  \n",
      "8   0.001871  0.001936  0.001918  0.001899  0.001915  0.001890  \n",
      "9   0.001932  0.001939  0.963524  0.001880  0.001887  0.001976  \n",
      "10  0.001880  0.001901  0.001918  0.001955  0.001943  0.001897  \n",
      "11  0.001908  0.001892  0.001925  0.001934  0.001911  0.001929  \n",
      "12  0.001843  0.001941  0.001911  0.001955  0.001869  0.001922  \n",
      "13  0.001832  0.001911  0.001929  0.001929  0.001918  0.001941  \n",
      "14  0.001908  0.001906  0.963624  0.001876  0.001911  0.001908  \n",
      "15  0.001862  0.001918  0.963519  0.001920  0.001950  0.001925  \n",
      "16  0.001971  0.001929  0.963475  0.001876  0.001920  0.001878  \n",
      "17  0.001883  0.001939  0.001918  0.001880  0.001818  0.001901  \n",
      "18  0.001936  0.001932  0.001964  0.001915  0.001880  0.001950  \n",
      "19  0.001841  0.001957  0.001918  0.963775  0.001915  0.001960  \n",
      "20  0.001925  0.001929  0.001864  0.001871  0.001867  0.001843  \n",
      "21  0.001934  0.001908  0.001899  0.001887  0.001899  0.001983  \n",
      "22  0.001911  0.001904  0.001922  0.001943  0.001899  0.001908  \n",
      "23  0.001899  0.001971  0.963598  0.001953  0.001920  0.001929  \n",
      "24  0.001936  0.001915  0.001974  0.001908  0.001871  0.001941  \n",
      "25  0.001953  0.001871  0.001860  0.001939  0.001927  0.001906  \n",
      "26  0.001906  0.001913  0.001971  0.001934  0.001953  0.001913  \n",
      "27  0.001913  0.001899  0.001950  0.963656  0.001922  0.001904  \n",
      "28  0.001948  0.001860  0.001950  0.001936  0.001962  0.001946  \n",
      "29  0.001904  0.001927  0.001867  0.001962  0.001904  0.001960  \n",
      "30  0.001974  0.001915  0.001960  0.001915  0.001950  0.001918  \n",
      "31  0.001899  0.001899  0.001855  0.001915  0.001892  0.963956  \n",
      "32  0.001848  0.001927  0.001885  0.001906  0.001969  0.001871  \n",
      "33  0.001920  0.001869  0.001848  0.001906  0.001901  0.001883  \n",
      "34  0.001976  0.001922  0.001920  0.001913  0.001927  0.001941  \n",
      "35  0.001915  0.001922  0.001818  0.001883  0.001894  0.001892  \n",
      "36  0.001890  0.001908  0.001925  0.001953  0.001936  0.001869  \n",
      "37  0.001962  0.001876  0.001890  0.963593  0.001929  0.001929  \n",
      "38  0.001887  0.001857  0.001880  0.001897  0.001915  0.001911  \n",
      "39  0.001906  0.001911  0.001925  0.001874  0.001862  0.001857  \n",
      "40  0.001920  0.001869  0.001913  0.001901  0.001978  0.001853  \n",
      "41  0.001878  0.001929  0.001897  0.001904  0.963605  0.001953  \n",
      "42  0.001934  0.001887  0.963656  0.001939  0.001934  0.001871  \n",
      "43  0.001932  0.001922  0.001904  0.001913  0.001864  0.963733  \n",
      "44  0.001880  0.001892  0.001897  0.001899  0.001922  0.001850  \n",
      "45  0.001908  0.001887  0.001832  0.001899  0.001897  0.001929  \n",
      "46  0.001934  0.001892  0.001953  0.001878  0.001904  0.001885  \n",
      "47  0.001941  0.001834  0.963749  0.001920  0.001904  0.001901  \n",
      "48  0.001941  0.001906  0.001925  0.001911  0.001992  0.001911  \n",
      "49  0.001946  0.001904  0.963759  0.001899  0.001922  0.001932  \n",
      "50  0.001869  0.001932  0.001943  0.001829  0.001841  0.001957  \n",
      "51  0.001936  0.001913  0.963568  0.001913  0.001922  0.001911  \n",
      "52  0.001899  0.001897  0.001908  0.963980  0.001943  0.001841  \n",
      "53  0.001890  0.001906  0.963824  0.001864  0.001911  0.001918  \n",
      "54  0.001927  0.001950  0.001915  0.001878  0.001887  0.001876  , 'consensus_seq': 'QYKLILNGKTLKGETTTEAVDAATAEKVFKQYANDNGVDGEWTYDDATKTFTVTE', 'missing_char_dict': {}, 'sparsity_factor': 0.05}\n"
     ]
    }
   ],
   "source": [
    "print(model.x_stats)"
   ]
  },
  {
   "cell_type": "code",
   "execution_count": 10,
   "metadata": {},
   "outputs": [
    {
     "name": "stdout",
     "output_type": "stream",
     "text": [
      "Model loaded from these files:\n",
      "\tgb1_ge_additive.pickle\n",
      "\tgb1_ge_additive.h5\n"
     ]
    }
   ],
   "source": [
    "# Load model\n",
    "model = mavenn.load('gb1_ge_additive')"
   ]
  },
  {
   "cell_type": "code",
   "execution_count": 11,
   "metadata": {},
   "outputs": [
    {
     "name": "stdout",
     "output_type": "stream",
     "text": [
      "test data N: 107,289\n"
     ]
    }
   ],
   "source": [
    "# Load test data\n",
    "test_df = mavenn.load_example(which='test_data',name='gb1')\n",
    "N_test = len(test_df)\n",
    "print(f'test data N: {N_test:,}')\n",
    "\n",
    "# Subsample indices for easy plotting\n",
    "ix = np.random.rand(N_test) < .1\n",
    "\n",
    "# Get x and y\n",
    "x = test_df['x'].values[ix]\n",
    "y = test_df['y'].values[ix]"
   ]
  },
  {
   "cell_type": "code",
   "execution_count": 12,
   "metadata": {},
   "outputs": [
    {
     "data": {
      "image/png": "[encoded data removed]",
      "text/plain": [
       "<Figure size 288x288 with 1 Axes>"
      ]
     },
     "metadata": {
      "needs_background": "light"
     },
     "output_type": "display_data"
    }
   ],
   "source": [
    "# Compute phi and yhat values\n",
    "phi = model.x_to_phi(x)\n",
    "yhat = model.phi_to_yhat(phi)\n",
    "\n",
    "# Create grid for plotting yhat and yqs\n",
    "phi_lim = [-5, 2.5]\n",
    "phi_grid = np.linspace(phi_lim[0], phi_lim[1], 1000)\n",
    "yhat_grid = model.phi_to_yhat(phi_grid)\n",
    "yqs_grid = model.yhat_to_yq(yhat_grid, q=[.16,.84])\n",
    "\n",
    "# Create two panels\n",
    "fig, ax = plt.subplots(1, 1, figsize=[4, 4])\n",
    "\n",
    "# Illustrate measurement process with GE curve\n",
    "ax.scatter(phi, y, color='C0', s=5, alpha=.2, label='test data')\n",
    "ax.plot(phi_grid, yhat_grid, linewidth=2, color='C1',\n",
    "        label='$\\hat{y} = g(\\phi)$')\n",
    "ax.plot(phi_grid, yqs_grid[:, 0], linestyle='--', color='C1',\n",
    "        label='68% CI')\n",
    "ax.plot(phi_grid, yqs_grid[:, 1], linestyle='--', color='C1')\n",
    "ax.set_xlim(phi_lim)\n",
    "ax.set_xlabel('latent phenotype ($\\phi$)')\n",
    "ax.set_ylabel('measurement ($y$)')\n",
    "ax.set_title('measurement process')\n",
    "ax.legend()\n",
    "\n",
    "# Fix up plot\n",
    "fig.tight_layout()\n",
    "plt.show()"
   ]
  },
  {
   "cell_type": "code",
   "execution_count": 13,
   "metadata": {},
   "outputs": [
    {
     "data": {
      "image/png": "[encoded data removed]",
      "text/plain": [
       "<Figure size 720x360 with 2 Axes>"
      ]
     },
     "metadata": {
      "needs_background": "light"
     },
     "output_type": "display_data"
    }
   ],
   "source": [
    "# Set wild-type sequence\n",
    "gb1_seq = model.x_stats['consensus_seq']\n",
    "\n",
    "# Get effects of all single-point mutations on phi\n",
    "dphi_df = mavenn.get_1pt_effects(func=model.x_to_phi,\n",
    "                                 wt_seq=gb1_seq,\n",
    "                                 alphabet='protein')\n",
    "\n",
    "# Compute phi and yhat values\n",
    "phi = model.x_to_phi(x)\n",
    "yhat = model.phi_to_yhat(phi)\n",
    "\n",
    "# Create grid for plotting yhat and yqs\n",
    "phi_lim = [-5, 2.5]\n",
    "phi_grid = np.linspace(phi_lim[0], phi_lim[1], 1000)\n",
    "yhat_grid = model.phi_to_yhat(phi_grid)\n",
    "yqs_grid = model.yhat_to_yq(yhat_grid, q=[.16,.84])\n",
    "\n",
    "# Create two panels\n",
    "fig, ax = plt.subplots(1, 1, figsize=[10, 5])\n",
    "\n",
    "# Left panel: draw heatmap illustrating 1pt mutation effects\n",
    "ax, cb = mavenn.heatmap(dphi_df,\n",
    "                        c_col='c_mut',\n",
    "                        l_col='l',\n",
    "                        value_col='dphi',\n",
    "                        seq=gb1_seq,\n",
    "                        ccenter=0,\n",
    "                        missing_values=0,\n",
    "                        cmap='PiYG',\n",
    "                        ax=ax)\n",
    "ax.set_xlabel('position ($l$)')\n",
    "ax.set_ylabel('amino acid ($c$)')\n",
    "cb.set_label('effect ($\\Delta\\phi$)', rotation=-90, va=\"bottom\")\n",
    "ax.set_title('mutation effects')\n",
    "\n",
    "# Fix up plot\n",
    "fig.tight_layout()\n",
    "plt.show()\n"
   ]
  },
  {
   "cell_type": "code",
   "execution_count": null,
   "metadata": {},
   "outputs": [],
   "source": []
  }
 ],
 "metadata": {
  "kernelspec": {
   "display_name": "Python 3",
   "language": "python",
   "name": "python3"
  },
  "language_info": {
   "codemirror_mode": {
    "name": "ipython",
    "version": 3
   },
   "file_extension": ".py",
   "mimetype": "text/x-python",
   "name": "python",
   "nbconvert_exporter": "python",
   "pygments_lexer": "ipython3",
   "version": "3.7.4"
  }
 },
 "nbformat": 4,
 "nbformat_minor": 2
}
