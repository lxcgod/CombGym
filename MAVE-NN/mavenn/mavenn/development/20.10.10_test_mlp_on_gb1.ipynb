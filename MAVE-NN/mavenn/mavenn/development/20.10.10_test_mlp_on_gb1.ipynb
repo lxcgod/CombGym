{
 "cells": [
  {
   "cell_type": "code",
   "execution_count": 1,
   "metadata": {},
   "outputs": [
    {
     "name": "stdout",
     "output_type": "stream",
     "text": [
      "['/Users/jkinney/github/mavenn/mavenn']\n"
     ]
    }
   ],
   "source": [
    "# Standard imports\n",
    "import pandas as pd\n",
    "import matplotlib.pyplot as plt\n",
    "import numpy as np\n",
    "import time\n",
    "\n",
    "# Insert path to mavenn beginning of path\n",
    "import os\n",
    "import sys\n",
    "abs_path_to_mavenn = os.path.abspath('../../')\n",
    "sys.path.insert(0, abs_path_to_mavenn)\n",
    "\n",
    "# Load mavenn\n",
    "import mavenn\n",
    "print(mavenn.__path__)"
   ]
  },
  {
   "cell_type": "code",
   "execution_count": 2,
   "metadata": {},
   "outputs": [
    {
     "data": {
      "text/html": [
       "<div>\n",
       "<style scoped>\n",
       "    .dataframe tbody tr th:only-of-type {\n",
       "        vertical-align: middle;\n",
       "    }\n",
       "\n",
       "    .dataframe tbody tr th {\n",
       "        vertical-align: top;\n",
       "    }\n",
       "\n",
       "    .dataframe thead th {\n",
       "        text-align: right;\n",
       "    }\n",
       "</style>\n",
       "<table border=\"1\" class=\"dataframe\">\n",
       "  <thead>\n",
       "    <tr style=\"text-align: right;\">\n",
       "      <th></th>\n",
       "      <th>input_ct</th>\n",
       "      <th>selected_ct</th>\n",
       "      <th>hamming_dist</th>\n",
       "      <th>training_set</th>\n",
       "      <th>y</th>\n",
       "      <th>dy</th>\n",
       "      <th>x</th>\n",
       "    </tr>\n",
       "  </thead>\n",
       "  <tbody>\n",
       "    <tr>\n",
       "      <th>0</th>\n",
       "      <td>1759616.0</td>\n",
       "      <td>3041819.0</td>\n",
       "      <td>0</td>\n",
       "      <td>True</td>\n",
       "      <td>0.000000</td>\n",
       "      <td>0.001366</td>\n",
       "      <td>QYKLILNGKTLKGETTTEAVDAATAEKVFKQYANDNGVDGEWTYDD...</td>\n",
       "    </tr>\n",
       "    <tr>\n",
       "      <th>1</th>\n",
       "      <td>14663.0</td>\n",
       "      <td>38476.0</td>\n",
       "      <td>1</td>\n",
       "      <td>True</td>\n",
       "      <td>0.602044</td>\n",
       "      <td>0.014001</td>\n",
       "      <td>AYKLILNGKTLKGETTTEAVDAATAEKVFKQYANDNGVDGEWTYDD...</td>\n",
       "    </tr>\n",
       "    <tr>\n",
       "      <th>2</th>\n",
       "      <td>13001.0</td>\n",
       "      <td>23023.0</td>\n",
       "      <td>1</td>\n",
       "      <td>True</td>\n",
       "      <td>0.034732</td>\n",
       "      <td>0.015827</td>\n",
       "      <td>CYKLILNGKTLKGETTTEAVDAATAEKVFKQYANDNGVDGEWTYDD...</td>\n",
       "    </tr>\n",
       "    <tr>\n",
       "      <th>3</th>\n",
       "      <td>11488.0</td>\n",
       "      <td>18085.0</td>\n",
       "      <td>1</td>\n",
       "      <td>True</td>\n",
       "      <td>-0.135053</td>\n",
       "      <td>0.017212</td>\n",
       "      <td>DYKLILNGKTLKGETTTEAVDAATAEKVFKQYANDNGVDGEWTYDD...</td>\n",
       "    </tr>\n",
       "    <tr>\n",
       "      <th>4</th>\n",
       "      <td>9501.0</td>\n",
       "      <td>15629.0</td>\n",
       "      <td>1</td>\n",
       "      <td>True</td>\n",
       "      <td>-0.071659</td>\n",
       "      <td>0.018767</td>\n",
       "      <td>EYKLILNGKTLKGETTTEAVDAATAEKVFKQYANDNGVDGEWTYDD...</td>\n",
       "    </tr>\n",
       "  </tbody>\n",
       "</table>\n",
       "</div>"
      ],
      "text/plain": [
       "    input_ct  selected_ct  hamming_dist  training_set         y        dy  \\\n",
       "0  1759616.0    3041819.0             0          True  0.000000  0.001366   \n",
       "1    14663.0      38476.0             1          True  0.602044  0.014001   \n",
       "2    13001.0      23023.0             1          True  0.034732  0.015827   \n",
       "3    11488.0      18085.0             1          True -0.135053  0.017212   \n",
       "4     9501.0      15629.0             1          True -0.071659  0.018767   \n",
       "\n",
       "                                                   x  \n",
       "0  QYKLILNGKTLKGETTTEAVDAATAEKVFKQYANDNGVDGEWTYDD...  \n",
       "1  AYKLILNGKTLKGETTTEAVDAATAEKVFKQYANDNGVDGEWTYDD...  \n",
       "2  CYKLILNGKTLKGETTTEAVDAATAEKVFKQYANDNGVDGEWTYDD...  \n",
       "3  DYKLILNGKTLKGETTTEAVDAATAEKVFKQYANDNGVDGEWTYDD...  \n",
       "4  EYKLILNGKTLKGETTTEAVDAATAEKVFKQYANDNGVDGEWTYDD...  "
      ]
     },
     "execution_count": 2,
     "metadata": {},
     "output_type": "execute_result"
    }
   ],
   "source": [
    "# Load example data\n",
    "data_df = mavenn.load_example_dataset('gb1')\n",
    "data_df.head()"
   ]
  },
  {
   "cell_type": "code",
   "execution_count": 3,
   "metadata": {},
   "outputs": [
    {
     "name": "stdout",
     "output_type": "stream",
     "text": [
      "training N: 429,674\n",
      "testing N: 107,289\n"
     ]
    }
   ],
   "source": [
    "# Split into trianing and test data\n",
    "ix = data_df['training_set']\n",
    "L = len(data_df['x'][0])\n",
    "train_df = data_df[ix]\n",
    "print(f'training N: {len(train_df):,}')\n",
    "test_df = data_df[~ix]\n",
    "print(f'testing N: {len(test_df):,}')"
   ]
  },
  {
   "cell_type": "code",
   "execution_count": 4,
   "metadata": {},
   "outputs": [],
   "source": [
    "model_kwargs = {\n",
    "    'regression_type':'GE',\n",
    "    'L':L,\n",
    "    'alphabet':'protein',\n",
    "    'ge_nonlinearity_type':'nonlinear',\n",
    "    'gpmap_type':'mlp',\n",
    "    'gpmap_kwargs':{\n",
    "        'features': 'additive',\n",
    "        'hidden_layer_sizes': (20,20,20)\n",
    "    },\n",
    "    'ge_noise_model_type':'SkewedT',\n",
    "    'ge_heteroskedasticity_order':2\n",
    "}\n",
    "\n",
    "fit_kwargs={'learning_rate':.005,\n",
    "            'epochs':1000,\n",
    "            'batch_size': 1000,\n",
    "            'early_stopping': True,\n",
    "            'early_stopping_patience': 10,\n",
    "            'linear_initialization': False}\n",
    "\n",
    "file_name = 'gb1_ge_blackbox'"
   ]
  },
  {
   "cell_type": "code",
   "execution_count": 5,
   "metadata": {},
   "outputs": [],
   "source": [
    "# Set seeed\n",
    "mavenn.set_seed(0)\n",
    "\n",
    "# Define model\n",
    "model = mavenn.Model(**model_kwargs)"
   ]
  },
  {
   "cell_type": "code",
   "execution_count": 6,
   "metadata": {
    "code_folding": []
   },
   "outputs": [
    {
     "name": "stdout",
     "output_type": "stream",
     "text": [
      "N = 429,674 observations set as training data.\n",
      "Data shuffled.\n",
      "Time to set data: 9.79 sec.\n",
      "Epoch 1/1000\n",
      "344/344 [==============================] - 3s 10ms/step - loss: 304.1158 - I_var: 1.3344 - val_loss: -153.9128 - val_I_var: 2.0078\n",
      "Epoch 2/1000\n",
      "344/344 [==============================] - 3s 10ms/step - loss: -216.3909 - I_var: 2.1041 - val_loss: -310.5469 - val_I_var: 2.2451\n",
      "Epoch 3/1000\n",
      "344/344 [==============================] - 4s 11ms/step - loss: -304.6926 - I_var: 2.2403 - val_loss: -345.0187 - val_I_var: 2.3022\n",
      "Epoch 4/1000\n",
      "344/344 [==============================] - 3s 10ms/step - loss: -343.7534 - I_var: 2.3030 - val_loss: -384.9750 - val_I_var: 2.3651\n",
      "Epoch 5/1000\n",
      "344/344 [==============================] - 4s 11ms/step - loss: -373.8165 - I_var: 2.3501 - val_loss: -337.2565 - val_I_var: 2.2996\n",
      "Epoch 6/1000\n",
      "344/344 [==============================] - 3s 9ms/step - loss: -390.1509 - I_var: 2.3770 - val_loss: -414.3231 - val_I_var: 2.4126\n",
      "Epoch 7/1000\n",
      "344/344 [==============================] - 3s 8ms/step - loss: -391.5984 - I_var: 2.3808 - val_loss: -416.6723 - val_I_var: 2.4175\n",
      "Epoch 8/1000\n",
      "344/344 [==============================] - 3s 8ms/step - loss: -407.1927 - I_var: 2.4038 - val_loss: -429.2986 - val_I_var: 2.4357\n",
      "Epoch 9/1000\n",
      "344/344 [==============================] - 3s 8ms/step - loss: -414.6547 - I_var: 2.4145 - val_loss: -413.1533 - val_I_var: 2.4126\n",
      "Epoch 10/1000\n",
      "344/344 [==============================] - 3s 8ms/step - loss: -397.7721 - I_var: 2.3910 - val_loss: -417.0267 - val_I_var: 2.4195\n",
      "Epoch 11/1000\n",
      "344/344 [==============================] - 3s 8ms/step - loss: -403.4315 - I_var: 2.4008 - val_loss: -420.1377 - val_I_var: 2.4247\n",
      "Epoch 12/1000\n",
      "344/344 [==============================] - 3s 8ms/step - loss: -419.0427 - I_var: 2.4225 - val_loss: -442.0315 - val_I_var: 2.4559\n",
      "Epoch 13/1000\n",
      "344/344 [==============================] - 3s 8ms/step - loss: -421.8092 - I_var: 2.4263 - val_loss: -435.8075 - val_I_var: 2.4466\n",
      "Epoch 14/1000\n",
      "344/344 [==============================] - 3s 8ms/step - loss: -422.5334 - I_var: 2.4272 - val_loss: -432.6460 - val_I_var: 2.4416\n",
      "Epoch 15/1000\n",
      "344/344 [==============================] - 3s 9ms/step - loss: -426.6989 - I_var: 2.4327 - val_loss: -447.4073 - val_I_var: 2.4627\n",
      "Epoch 16/1000\n",
      "344/344 [==============================] - 3s 8ms/step - loss: -420.9466 - I_var: 2.4250 - val_loss: -419.5222 - val_I_var: 2.4231\n",
      "Epoch 17/1000\n",
      "344/344 [==============================] - 3s 8ms/step - loss: -425.6742 - I_var: 2.4317 - val_loss: -423.4673 - val_I_var: 2.4283\n",
      "Epoch 18/1000\n",
      "344/344 [==============================] - 3s 8ms/step - loss: -428.9702 - I_var: 2.4360 - val_loss: -339.1700 - val_I_var: 2.3062\n",
      "Epoch 19/1000\n",
      "344/344 [==============================] - 3s 10ms/step - loss: -430.7543 - I_var: 2.4379 - val_loss: -440.5437 - val_I_var: 2.4520\n",
      "Epoch 20/1000\n",
      "344/344 [==============================] - 3s 9ms/step - loss: -423.2003 - I_var: 2.4273 - val_loss: -403.8486 - val_I_var: 2.3998\n",
      "Epoch 21/1000\n",
      "344/344 [==============================] - 3s 9ms/step - loss: -429.1819 - I_var: 2.4360 - val_loss: -348.0474 - val_I_var: 2.3187\n",
      "Epoch 22/1000\n",
      "344/344 [==============================] - 3s 9ms/step - loss: -434.3372 - I_var: 2.4432 - val_loss: -416.3060 - val_I_var: 2.4170\n",
      "Epoch 23/1000\n",
      "344/344 [==============================] - 3s 9ms/step - loss: -433.5735 - I_var: 2.4418 - val_loss: -437.6371 - val_I_var: 2.4476\n",
      "Epoch 24/1000\n",
      "344/344 [==============================] - 3s 9ms/step - loss: -433.0659 - I_var: 2.4409 - val_loss: -455.0824 - val_I_var: 2.4730\n",
      "Epoch 25/1000\n",
      "344/344 [==============================] - 3s 9ms/step - loss: -435.2534 - I_var: 2.4441 - val_loss: -442.2430 - val_I_var: 2.4542\n",
      "Epoch 26/1000\n",
      "344/344 [==============================] - 3s 9ms/step - loss: -435.7157 - I_var: 2.4449 - val_loss: -460.6410 - val_I_var: 2.4804\n",
      "Epoch 27/1000\n",
      "344/344 [==============================] - 3s 9ms/step - loss: -429.8664 - I_var: 2.4365 - val_loss: -448.8120 - val_I_var: 2.4638\n",
      "Epoch 28/1000\n",
      "344/344 [==============================] - 3s 9ms/step - loss: -442.6862 - I_var: 2.4542 - val_loss: -437.4013 - val_I_var: 2.4467\n",
      "Epoch 29/1000\n",
      "344/344 [==============================] - 3s 9ms/step - loss: -443.4557 - I_var: 2.4552 - val_loss: -452.5758 - val_I_var: 2.4680\n",
      "Epoch 30/1000\n",
      "344/344 [==============================] - 3s 10ms/step - loss: -437.2637 - I_var: 2.4460 - val_loss: -448.6787 - val_I_var: 2.4624\n",
      "Epoch 31/1000\n",
      "344/344 [==============================] - 4s 13ms/step - loss: -439.5607 - I_var: 2.4496 - val_loss: -404.3672 - val_I_var: 2.3987\n",
      "Epoch 32/1000\n",
      "344/344 [==============================] - 3s 10ms/step - loss: -439.6859 - I_var: 2.4494 - val_loss: -449.2937 - val_I_var: 2.4632\n",
      "Epoch 33/1000\n",
      "344/344 [==============================] - 3s 9ms/step - loss: -441.1272 - I_var: 2.4513 - val_loss: -455.4722 - val_I_var: 2.4720\n",
      "Epoch 34/1000\n",
      "344/344 [==============================] - 3s 9ms/step - loss: -422.2829 - I_var: 2.4242 - val_loss: -446.8813 - val_I_var: 2.4624\n",
      "Epoch 35/1000\n",
      "344/344 [==============================] - 3s 9ms/step - loss: -439.6796 - I_var: 2.4508 - val_loss: -439.2899 - val_I_var: 2.4495\n",
      "Epoch 36/1000\n",
      "344/344 [==============================] - 3s 8ms/step - loss: -446.8997 - I_var: 2.4600 - val_loss: -438.7707 - val_I_var: 2.4478\n",
      "Training time: 118.3 seconds\n",
      "Model saved to these files:\n",
      "\tgb1_ge_blackbox.pickle\n",
      "\tgb1_ge_blackbox.h5\n"
     ]
    }
   ],
   "source": [
    "# Set training data\n",
    "model.set_data(x=train_df['x'],\n",
    "               y=train_df['y'])\n",
    "\n",
    "# Fit model to data\n",
    "model.fit(**fit_kwargs)\n",
    "\n",
    "# Save model\n",
    "model.save(file_name)"
   ]
  },
  {
   "cell_type": "code",
   "execution_count": 7,
   "metadata": {
    "scrolled": true
   },
   "outputs": [
    {
     "name": "stdout",
     "output_type": "stream",
     "text": [
      "Model loaded from these files:\n",
      "\tgb1_ge_blackbox.pickle\n",
      "\tgb1_ge_blackbox.h5\n"
     ]
    }
   ],
   "source": [
    "# Load model\n",
    "model = mavenn.load(file_name)"
   ]
  },
  {
   "cell_type": "code",
   "execution_count": 8,
   "metadata": {},
   "outputs": [],
   "source": [
    "# Subsample test data for easier plotting\n",
    "ix = np.random.rand(len(test_df)) < .1\n",
    "\n",
    "# Get x and y\n",
    "x_test = test_df['x'][ix].values\n",
    "y_test = test_df['y'][ix].values\n",
    "dy_test = test_df['dy'][ix].values"
   ]
  },
  {
   "cell_type": "code",
   "execution_count": 9,
   "metadata": {},
   "outputs": [
    {
     "name": "stdout",
     "output_type": "stream",
     "text": [
      "On test data:\n",
      "I_var_test: 2.456 +- 0.019 bits\n",
      "I_pred_test: 2.567 +- 0.015 bits\n",
      "I_intrinsic: 3.171 +- 0.016 bits\n",
      "percent info explained: 80.9% +- 0.6%\n"
     ]
    },
    {
     "data": {
      "image/png": "[encoded data removed]",
      "text/plain": [
       "<Figure size 288x288 with 1 Axes>"
      ]
     },
     "metadata": {
      "needs_background": "light"
     },
     "output_type": "display_data"
    }
   ],
   "source": [
    "# Show training history\n",
    "print('On test data:')\n",
    "\n",
    "# Compute likelihood information\n",
    "I_var, dI_var =  model.I_varlihood(x=x_test, y=y_test)\n",
    "print(f'I_var_test: {I_var:.3f} +- {dI_var:.3f} bits') \n",
    "\n",
    "# Compute predictive information\n",
    "I_pred, dI_pred = model.I_predictive(x=x_test, y=y_test)\n",
    "print(f'I_pred_test: {I_pred:.3f} +- {dI_pred:.3f} bits')\n",
    "\n",
    "# Compute intrinsic information\n",
    "I_intr, dI_intr = mavenn.I_intrinsic(y_values=y_test, dy_values=dy_test)\n",
    "print(f'I_intrinsic: {I_intr:.3f} +- {dI_intr:.3f} bits')\n",
    "\n",
    "# Compute percent info explained\n",
    "pct = 100*I_pred/I_intr\n",
    "dpct = 100*np.sqrt((dI_pred/I_intr)**2 + (dI_intr*I_pred/I_intr**2)**2)\n",
    "print(f'percent info explained: {pct:.1f}% +- {dpct:.1f}%')\n",
    "\n",
    "I_var_hist = model.history['I_var']\n",
    "val_I_var_hist = model.history['val_I_var']\n",
    "\n",
    "fig, ax = plt.subplots(1,1,figsize=[4,4])\n",
    "ax.plot(I_var_hist, label='I_var_train')\n",
    "ax.plot(val_I_var_hist, label='I_var_val')\n",
    "ax.axhline(I_var, color='C2', linestyle=':', label='I_var_test')\n",
    "ax.axhline(I_pred, color='C3', linestyle=':', label='I_pred_test')\n",
    "ax.axhline(I_intr, color='C4', linestyle=':', label='I_intrinsic')\n",
    "ax.legend()\n",
    "ax.set_xlabel('epochs')\n",
    "ax.set_ylabel('bits')\n",
    "ax.set_title('training hisotry')\n",
    "ax.set_ylim([0, I_intr*1.2]);"
   ]
  },
  {
   "cell_type": "code",
   "execution_count": 10,
   "metadata": {},
   "outputs": [
    {
     "data": {
      "image/png": "[encoded data removed]",
      "text/plain": [
       "<Figure size 288x288 with 1 Axes>"
      ]
     },
     "metadata": {
      "needs_background": "light"
     },
     "output_type": "display_data"
    }
   ],
   "source": [
    "# Predict latent phentoype values (phi) on test data\n",
    "phi_test = model.x_to_phi(x_test)\n",
    "\n",
    "# Predict measurement values (yhat) on test data\n",
    "yhat_test = model.x_to_yhat(x_test)\n",
    "\n",
    "# Set phi lims and create grid in phi space\n",
    "phi_lim = [min(phi_test)-.5, max(phi_test)+.5]\n",
    "phi_grid = np.linspace(phi_lim[0], phi_lim[1], 1000)\n",
    "\n",
    "# Compute yhat each phi gridpoint\n",
    "yhat_grid = model.phi_to_yhat(phi_grid)\n",
    "\n",
    "# Compute 90% CI for each yhat\n",
    "q = [0.05, 0.95] #[0.16, 0.84]\n",
    "yqs_grid = model.yhat_to_yq(yhat_grid, q=q)\n",
    "\n",
    "# Create figure\n",
    "fig, ax = plt.subplots(1, 1, figsize=[4, 4])\n",
    "\n",
    "# Illustrate measurement process with GE curve\n",
    "ax.scatter(phi_test, y_test, color='C0', s=5, alpha=.2, label='test data')\n",
    "ax.plot(phi_grid, yhat_grid, linewidth=2, color='C1',\n",
    "        label='$\\hat{y} = g(\\phi)$')\n",
    "ax.plot(phi_grid, yqs_grid[:, 0], linestyle='--', color='C1', label='68% CI')\n",
    "ax.plot(phi_grid, yqs_grid[:, 1], linestyle='--', color='C1')\n",
    "ax.set_xlim(phi_lim)\n",
    "ax.set_xlabel('latent phenotype ($\\phi$)')\n",
    "ax.set_ylabel('measurement ($y$)')\n",
    "ax.set_title('measurement process')\n",
    "#ax.set_ylim([-6, 3])\n",
    "ax.legend()\n",
    "\n",
    "# Fix up plot\n",
    "fig.tight_layout()\n",
    "plt.show()"
   ]
  },
  {
   "cell_type": "code",
   "execution_count": 11,
   "metadata": {},
   "outputs": [],
   "source": [
    "# Plot pairwise parameters\n",
    "if model.gpmap_type in ['pairwise', 'neighbor']:\n",
    "    theta = model.get_theta()\n",
    "    fig, ax = plt.subplots(1, 1, figsize=[8, 4])\n",
    "    mavenn.heatmap_pairwise(values=theta['theta_lclc'],\n",
    "                            alphabet=theta['alphabet'],\n",
    "                            ax=ax);"
   ]
  },
  {
   "cell_type": "code",
   "execution_count": 12,
   "metadata": {},
   "outputs": [
    {
     "name": "stdout",
     "output_type": "stream",
     "text": [
      "Model loaded from these files:\n",
      "\t/Users/jkinney/github/mavenn/mavenn/examples/models/gb1_ge_additive.pickle\n",
      "\t/Users/jkinney/github/mavenn/mavenn/examples/models/gb1_ge_additive.h5\n"
     ]
    }
   ],
   "source": [
    "# Load model\n",
    "model = mavenn.load_example_model('gb1_ge_additive')"
   ]
  },
  {
   "cell_type": "code",
   "execution_count": 13,
   "metadata": {},
   "outputs": [
    {
     "name": "stdout",
     "output_type": "stream",
     "text": [
      "On test data:\n",
      "I_var_test: 2.079 +- 0.019 bits\n",
      "I_pred_test: 2.193 +- 0.014 bits\n",
      "I_intrinsic: 3.183 +- 0.017 bits\n",
      "percent info explained: 68.9% +- 0.6%\n"
     ]
    },
    {
     "data": {
      "image/png": "[encoded data removed]",
      "text/plain": [
       "<Figure size 288x288 with 1 Axes>"
      ]
     },
     "metadata": {
      "needs_background": "light"
     },
     "output_type": "display_data"
    }
   ],
   "source": [
    "# Show training history\n",
    "print('On test data:')\n",
    "\n",
    "# Compute likelihood information\n",
    "I_var, dI_var =  model.I_varlihood(x=x_test, y=y_test)\n",
    "print(f'I_var_test: {I_var:.3f} +- {dI_var:.3f} bits') \n",
    "\n",
    "# Compute predictive information\n",
    "I_pred, dI_pred = model.I_predictive(x=x_test, y=y_test)\n",
    "print(f'I_pred_test: {I_pred:.3f} +- {dI_pred:.3f} bits')\n",
    "\n",
    "# Compute intrinsic information\n",
    "I_intr, dI_intr = mavenn.I_intrinsic(y_values=y_test, dy_values=dy_test)\n",
    "print(f'I_intrinsic: {I_intr:.3f} +- {dI_intr:.3f} bits')\n",
    "\n",
    "# Compute percent info explained\n",
    "pct = 100*I_pred/I_intr\n",
    "dpct = 100*np.sqrt((dI_pred/I_intr)**2 + (dI_intr*I_pred/I_intr**2)**2)\n",
    "print(f'percent info explained: {pct:.1f}% +- {dpct:.1f}%')\n",
    "\n",
    "I_var_hist = model.history['I_var']\n",
    "val_I_var_hist = model.history['val_I_var']\n",
    "\n",
    "fig, ax = plt.subplots(1,1,figsize=[4,4])\n",
    "ax.plot(I_var_hist, label='I_var_train')\n",
    "ax.plot(val_I_var_hist, label='I_var_val')\n",
    "ax.axhline(I_var, color='C2', linestyle=':', label='I_var_test')\n",
    "ax.axhline(I_pred, color='C3', linestyle=':', label='I_pred_test')\n",
    "ax.axhline(I_intr, color='C4', linestyle=':', label='I_intrinsic')\n",
    "ax.legend()\n",
    "ax.set_xlabel('epochs')\n",
    "ax.set_ylabel('bits')\n",
    "ax.set_title('training hisotry')\n",
    "ax.set_ylim([0, I_intr*1.2]);"
   ]
  },
  {
   "cell_type": "code",
   "execution_count": null,
   "metadata": {},
   "outputs": [],
   "source": []
  }
 ],
 "metadata": {
  "kernelspec": {
   "display_name": "Python 3",
   "language": "python",
   "name": "python3"
  },
  "language_info": {
   "codemirror_mode": {
    "name": "ipython",
    "version": 3
   },
   "file_extension": ".py",
   "mimetype": "text/x-python",
   "name": "python",
   "nbconvert_exporter": "python",
   "pygments_lexer": "ipython3",
   "version": "3.7.4"
  }
 },
 "nbformat": 4,
 "nbformat_minor": 2
}
