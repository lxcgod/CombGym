{
 "cells": [
  {
   "cell_type": "code",
   "execution_count": 1,
   "metadata": {},
   "outputs": [],
   "source": [
    "import pandas as pd\n",
    "import matplotlib.pyplot as plt\n",
    "import numpy as np\n",
    "from sklearn.model_selection import train_test_split\n",
    "from numpy.random import default_rng\n",
    "\n",
    "import warnings\n",
    "warnings.filterwarnings('ignore')\n",
    "\n",
    "import sys\n",
    "path_to_mavenn_local = '/Users/tareen/Desktop/Research_Projects/2020_mavenn_github/mavenn_local'\n",
    "sys.path.insert(0,path_to_mavenn_local)\n",
    "\n",
    "import mavenn\n",
    "from mavenn.src.utils import get_example_dataset\n",
    "from mavenn.src.utils import ge_plots_for_mavenn_demo\n",
    "from mavenn.src.utils import onehot_encode_array, _generate_nbr_features_from_sequences, _generate_all_pair_features_from_sequences\n",
    "from mavenn.src.utils import _center_matrix\n",
    "\n",
    "import tensorflow as tf\n",
    "import tensorflow.keras.backend as K"
   ]
  },
  {
   "cell_type": "code",
   "execution_count": 2,
   "metadata": {
    "collapsed": true
   },
   "outputs": [],
   "source": [
    "from sklearn.model_selection import train_test_split\n",
    "from mavenn.src.utils import ge_plots_for_mavenn_demo, get_example_dataset\n",
    "\n",
    "# load data\n",
    "X, y = get_example_dataset(name='MPSA')\n",
    "\n",
    "#X = X[0:50000].copy()\n",
    "#y = y[0:50000].copy()"
   ]
  },
  {
   "cell_type": "code",
   "execution_count": 3,
   "metadata": {
    "collapsed": true
   },
   "outputs": [],
   "source": [
    "# from sklearn.model_selection import train_test_split\n",
    "# from mavenn.src.utils import ge_plots_for_mavenn_demo, get_example_dataset\n",
    "\n",
    "# # load data\n",
    "# X, y = get_example_dataset(name='MPSA')\n",
    "\n",
    "# split data into training and testing sets\n",
    "x_train, x_test, y_train, y_test = train_test_split(X, y)\n",
    "\n",
    "# load mavenn's GE model\n",
    "gpmap_type = 'pairwise'\n",
    "noise_model = 'SkewedT'\n",
    "GER = mavenn.Model(regression_type='GE',\n",
    "                   X=x_train,\n",
    "                   y=y_train,\n",
    "                   gpmap_type=gpmap_type,\n",
    "                   noise_model=noise_model,\n",
    "                   monotonic=True,\n",
    "                   learning_rate=0.003,\n",
    "                   test_size=0.1,\n",
    "                   num_nodes_hidden_measurement_layer=20,\n",
    "                   alphabet='rna',\n",
    "                   polynomial_order_ll=5)"
   ]
  },
  {
   "cell_type": "code",
   "execution_count": 4,
   "metadata": {},
   "outputs": [
    {
     "name": "stdout",
     "output_type": "stream",
     "text": [
      "__________________________________________________________________________________________________\n",
      "Layer (type)                    Output Shape         Param #     Connected to                     \n",
      "==================================================================================================\n",
      "Sequence_labels_input (InputLay (None, 613)          0                                            \n",
      "__________________________________________________________________________________________________\n",
      "Sequence_only (Lambda)          (None, 612)          0           Sequence_labels_input[0][0]      \n",
      "__________________________________________________________________________________________________\n",
      "phi (Dense)                     (None, 1)            613         Sequence_only[0][0]              \n",
      "__________________________________________________________________________________________________\n",
      "dense (Dense)                   (None, 20)           40          phi[0][0]                        \n",
      "__________________________________________________________________________________________________\n",
      "y_hat (Dense)                   (None, 1)            21          dense[0][0]                      \n",
      "__________________________________________________________________________________________________\n",
      "Labels_input (Lambda)           (None, 1)            0           Sequence_labels_input[0][0]      \n",
      "__________________________________________________________________________________________________\n",
      "yhat_and_y_to_ll (Concatenate)  (None, 2)            0           y_hat[0][0]                      \n",
      "                                                                 Labels_input[0][0]               \n",
      "__________________________________________________________________________________________________\n",
      "skewed_t_likelihood_layer (Skew (None, 1)            18          yhat_and_y_to_ll[0][0]           \n",
      "==================================================================================================\n",
      "Total params: 692\n",
      "Trainable params: 692\n",
      "Non-trainable params: 0\n",
      "__________________________________________________________________________________________________\n"
     ]
    }
   ],
   "source": [
    "GER.model.model.summary()"
   ]
  },
  {
   "cell_type": "code",
   "execution_count": 5,
   "metadata": {
    "scrolled": false
   },
   "outputs": [
    {
     "name": "stdout",
     "output_type": "stream",
     "text": [
      "Train on 21057 samples, validate on 2340 samples\n",
      "Epoch 1/20\n",
      "21057/21057 [==============================] - 5s 241us/step - loss: 0.5813 - val_loss: -0.0493\n",
      "Epoch 2/20\n",
      "21057/21057 [==============================] - 2s 91us/step - loss: -0.1675 - val_loss: -0.1784\n",
      "Epoch 3/20\n",
      "21057/21057 [==============================] - 2s 88us/step - loss: -0.2117 - val_loss: -0.1885\n",
      "Epoch 4/20\n",
      "21057/21057 [==============================] - 2s 86us/step - loss: -0.2210 - val_loss: -0.1877\n",
      "Epoch 5/20\n",
      "21057/21057 [==============================] - 2s 94us/step - loss: -0.2169 - val_loss: -0.1788\n",
      "Epoch 6/20\n",
      "21057/21057 [==============================] - 2s 91us/step - loss: -0.2221 - val_loss: -0.1982\n",
      "Epoch 7/20\n",
      "21057/21057 [==============================] - 2s 106us/step - loss: -0.2251 - val_loss: -0.1987\n",
      "Epoch 8/20\n",
      "21057/21057 [==============================] - 2s 98us/step - loss: -0.2274 - val_loss: -0.1714\n",
      "Epoch 9/20\n",
      "21057/21057 [==============================] - 2s 97us/step - loss: -0.2265 - val_loss: -0.1808\n",
      "Epoch 10/20\n",
      "21057/21057 [==============================] - 2s 110us/step - loss: -0.2254 - val_loss: -0.2003\n",
      "Epoch 11/20\n",
      "21057/21057 [==============================] - 2s 94us/step - loss: -0.2261 - val_loss: -0.1992\n",
      "Epoch 12/20\n",
      "21057/21057 [==============================] - 2s 105us/step - loss: -0.2275 - val_loss: -0.2070\n",
      "Epoch 13/20\n",
      "21057/21057 [==============================] - 2s 97us/step - loss: -0.2286 - val_loss: -0.1942\n",
      "Epoch 14/20\n",
      "21057/21057 [==============================] - 2s 92us/step - loss: -0.2261 - val_loss: -0.1799\n",
      "Epoch 15/20\n",
      "21057/21057 [==============================] - 2s 95us/step - loss: -0.2274 - val_loss: -0.1884\n",
      "Epoch 16/20\n",
      "21057/21057 [==============================] - 2s 97us/step - loss: -0.2278 - val_loss: -0.1807\n",
      "Epoch 17/20\n",
      "21057/21057 [==============================] - 2s 97us/step - loss: -0.2256 - val_loss: -0.1882\n",
      "Epoch 18/20\n",
      "21057/21057 [==============================] - 2s 95us/step - loss: -0.2267 - val_loss: -0.1961\n",
      "Epoch 19/20\n",
      "21057/21057 [==============================] - 2s 94us/step - loss: -0.2252 - val_loss: -0.1664\n",
      "Epoch 20/20\n",
      "21057/21057 [==============================] - 2s 102us/step - loss: -0.2284 - val_loss: -0.1982\n"
     ]
    },
    {
     "data": {
      "text/plain": [
       "<tensorflow.python.keras.callbacks.History at 0x1259e77b8>"
      ]
     },
     "execution_count": 5,
     "metadata": {},
     "output_type": "execute_result"
    }
   ],
   "source": [
    "GER.fit(epochs=20,\n",
    "        early_stopping=False,\n",
    "        #early_stopping_patience=10,\n",
    "        validation_split=0.1,\n",
    "        verbose=1)\n",
    "\n",
    "# make predictions on held out test set\n",
    "\n",
    "# predictions = GER.predict(x_test)"
   ]
  },
  {
   "cell_type": "code",
   "execution_count": 6,
   "metadata": {
    "collapsed": true
   },
   "outputs": [],
   "source": [
    "loss_history = GER.model.history"
   ]
  },
  {
   "cell_type": "code",
   "execution_count": 7,
   "metadata": {},
   "outputs": [
    {
     "data": {
      "text/plain": [
       "<matplotlib.legend.Legend at 0x126b15358>"
      ]
     },
     "execution_count": 7,
     "metadata": {},
     "output_type": "execute_result"
    },
    {
     "data": {
      "image/png": "[encoded data removed]",
      "text/plain": [
       "<Figure size 432x288 with 1 Axes>"
      ]
     },
     "metadata": {
      "needs_background": "light"
     },
     "output_type": "display_data"
    }
   ],
   "source": [
    "plt.plot(loss_history.history['loss'], color='blue')\n",
    "plt.plot(loss_history.history['val_loss'], color='orange')\n",
    "plt.title('Model loss', fontsize=12)\n",
    "plt.ylabel('loss', fontsize=12)\n",
    "plt.xlabel('epoch', fontsize=12)\n",
    "plt.legend(['train', 'validation'])"
   ]
  },
  {
   "cell_type": "code",
   "execution_count": 8,
   "metadata": {
    "collapsed": true
   },
   "outputs": [],
   "source": [
    "yhat = GER.predict(x_test)\n",
    "phi = GER.gpmap(x_test)\n"
   ]
  },
  {
   "cell_type": "code",
   "execution_count": 9,
   "metadata": {
    "collapsed": true
   },
   "outputs": [],
   "source": [
    "\n",
    "\n",
    "\n",
    "\n",
    "phi_range = np.linspace(min(phi),max(phi),1000)"
   ]
  },
  {
   "cell_type": "code",
   "execution_count": 10,
   "metadata": {},
   "outputs": [
    {
     "data": {
      "image/png": "[encoded data removed]",
      "text/plain": [
       "<Figure size 360x360 with 1 Axes>"
      ]
     },
     "metadata": {
      "needs_background": "light"
     },
     "output_type": "display_data"
    }
   ],
   "source": [
    "# plt.figure(figsize=(1.5,1.5))\n",
    "# Rsq = np.corrcoef(yhat,y_test)[0][1]**2\n",
    "# plt.scatter(yhat,y_test,color='gray',s=1,alpha=0.5)\n",
    "# plt.xlabel('$\\hat{y}$',fontsize=7.5)\n",
    "# plt.ylabel('$y$',fontsize=7.5)\n",
    "# plt.title('$R^2$: '+str(Rsq)[0:5],fontsize=7.5)\n",
    "# plt.tick_params(labelsize=7.5)\n",
    "# plt.show()\n",
    "\n",
    "plt.figure(figsize=(5,5))\n",
    "Rsq = np.corrcoef(yhat,y_test)[0][1]**2\n",
    "plt.scatter(yhat,y_test,color='black',s=5,alpha=1)\n",
    "plt.xlabel('Predictions (test)',fontsize=12)\n",
    "plt.ylabel('Observations (test)',fontsize=12)\n",
    "plt.title('$R^2$: '+str(Rsq)[0:5],fontsize=12)\n",
    "plt.tick_params(labelsize=12)\n",
    "#plt.savefig('mavenn_mpsa_additive_gaussian_observations_vs_preds_test.png',bbox_inches='tight',dpi=600)\n",
    "plt.show()"
   ]
  },
  {
   "cell_type": "code",
   "execution_count": 11,
   "metadata": {},
   "outputs": [
    {
     "name": "stdout",
     "output_type": "stream",
     "text": [
      "__________________________________________________________________________________________________\n",
      "Layer (type)                    Output Shape         Param #     Connected to                     \n",
      "==================================================================================================\n",
      "Sequence_labels_input (InputLay (None, 613)          0                                            \n",
      "__________________________________________________________________________________________________\n",
      "lambda (Lambda)                 (None, 612)          0           Sequence_labels_input[0][0]      \n",
      "__________________________________________________________________________________________________\n",
      "phiPrime (Dense)                (None, 1)            613         lambda[0][0]                     \n",
      "__________________________________________________________________________________________________\n",
      "fix_diffeomorphic_mode (fixDiff (None, 1)            0           phiPrime[0][0]                   \n",
      "__________________________________________________________________________________________________\n",
      "phi (Dense)                     (None, 1)            2           fix_diffeomorphic_mode[0][0]     \n",
      "__________________________________________________________________________________________________\n",
      "dense_1 (Dense)                 (None, 20)           40          phi[0][0]                        \n",
      "__________________________________________________________________________________________________\n",
      "dense_2 (Dense)                 (None, 1)            21          dense_1[0][0]                    \n",
      "__________________________________________________________________________________________________\n",
      "lambda_1 (Lambda)               (None, 1)            0           Sequence_labels_input[0][0]      \n",
      "__________________________________________________________________________________________________\n",
      "yhat_and_y_to_ll (Concatenate)  (None, 2)            0           dense_2[0][0]                    \n",
      "                                                                 lambda_1[0][0]                   \n",
      "__________________________________________________________________________________________________\n",
      "skewed_t_likelihood_layer_1 (Sk (None, 1)            18          yhat_and_y_to_ll[0][0]           \n",
      "==================================================================================================\n",
      "Total params: 694\n",
      "Trainable params: 694\n",
      "Non-trainable params: 0\n",
      "__________________________________________________________________________________________________\n"
     ]
    }
   ],
   "source": [
    "GER.model.model.summary()"
   ]
  },
  {
   "cell_type": "code",
   "execution_count": 12,
   "metadata": {},
   "outputs": [
    {
     "data": {
      "text/plain": [
       "<matplotlib.collections.PathCollection at 0x127560748>"
      ]
     },
     "execution_count": 12,
     "metadata": {},
     "output_type": "execute_result"
    },
    {
     "data": {
      "image/png": "[encoded data removed]",
      "text/plain": [
       "<Figure size 432x288 with 1 Axes>"
      ]
     },
     "metadata": {
      "needs_background": "light"
     },
     "output_type": "display_data"
    }
   ],
   "source": [
    "plt.scatter(phi,y_test)"
   ]
  },
  {
   "cell_type": "code",
   "execution_count": 13,
   "metadata": {
    "collapsed": true
   },
   "outputs": [],
   "source": [
    "# log_a = GER.get_nn().layers[9].get_weights()[0][0][0]\n",
    "# log_b = GER.get_nn().layers[9].get_weights()[1][0][0]\n",
    "# log_scale = GER.get_nn().layers[9].get_weights()[2][0][0]\n",
    "\n",
    "# log_a,log_b,log_scale\n",
    "\n",
    "model = GER.get_nn()\n",
    "#     w = model.layers[9].get_weights()[0][0][0]\n",
    "#     a = model.layers[9].get_weights()[1][0][0]\n",
    "#     b = model.layers[9].get_weights()[2][0][0]\n",
    "#     c = model.layers[9].get_weights()[3][0][0]"
   ]
  },
  {
   "cell_type": "code",
   "execution_count": 14,
   "metadata": {},
   "outputs": [
    {
     "data": {
      "text/plain": [
       "[array([[ 0.40587816],\n",
       "        [ 0.35240656],\n",
       "        [ 0.02699544],\n",
       "        [ 0.05593415],\n",
       "        [ 0.07452127],\n",
       "        [-0.04137216]], dtype=float32), array([[ 0.22915637],\n",
       "        [ 0.36072388],\n",
       "        [ 0.17587087],\n",
       "        [ 0.07996084],\n",
       "        [-0.00246256],\n",
       "        [-0.01800702]], dtype=float32), array([[-1.7704022 ],\n",
       "        [ 0.905708  ],\n",
       "        [-0.30626512],\n",
       "        [-0.03436579],\n",
       "        [-0.10494194],\n",
       "        [ 0.00783748]], dtype=float32)]"
      ]
     },
     "execution_count": 14,
     "metadata": {},
     "output_type": "execute_result"
    }
   ],
   "source": [
    "GER.model.model.layers[9].get_weights()"
   ]
  },
  {
   "cell_type": "code",
   "execution_count": null,
   "metadata": {
    "collapsed": true
   },
   "outputs": [],
   "source": []
  },
  {
   "cell_type": "code",
   "execution_count": 15,
   "metadata": {
    "scrolled": true
   },
   "outputs": [],
   "source": [
    "# plt.scatter(yhat,np.exp(log_scale),label='scale')\n",
    "# plt.scatter(yhat,np.exp(log_a),label='a')\n",
    "# plt.scatter(yhat,np.exp(log_b),label='b')\n",
    "# plt.legend(fontsize=14)\n",
    "# plt.xlabel('yhat',fontsize=14)\n",
    "# plt.ylabel('SkewedT Parameters',fontsize=14)\n",
    "# plt.title('Polynomial Dependence (order=2)')\n",
    "# plt.tick_params(labelsize=14)"
   ]
  },
  {
   "cell_type": "code",
   "execution_count": 16,
   "metadata": {},
   "outputs": [
    {
     "data": {
      "text/plain": [
       "<Figure size 576x432 with 0 Axes>"
      ]
     },
     "metadata": {},
     "output_type": "display_data"
    }
   ],
   "source": [
    "from mavenn.src.utils import ComputeSkewedTQuantiles\n",
    "\n",
    "plt.figure(figsize=(8,6))\n",
    "phi_range = np.linspace(min(phi),max(phi),1000)\n",
    "\n",
    "yhat_GE = GER.ge_nonlinearity(phi_range)"
   ]
  },
  {
   "cell_type": "code",
   "execution_count": 17,
   "metadata": {},
   "outputs": [],
   "source": [
    "#ComputeSkewedTQuantiles.y_quantile(0.5,yhat,np.exp(log_scale),np.exp(log_a),np.exp(log_b))\n",
    "quantiles = ComputeSkewedTQuantiles(GER,yhat_GE)"
   ]
  },
  {
   "cell_type": "code",
   "execution_count": 24,
   "metadata": {},
   "outputs": [],
   "source": [
    "# quantiles.plus_sigma_quantile\n",
    "# quantiles.minus_sigma_quantile"
   ]
  },
  {
   "cell_type": "code",
   "execution_count": 27,
   "metadata": {},
   "outputs": [
    {
     "data": {
      "image/png": "[encoded data removed]",
      "text/plain": [
       "<Figure size 432x288 with 1 Axes>"
      ]
     },
     "metadata": {
      "needs_background": "light"
     },
     "output_type": "display_data"
    }
   ],
   "source": [
    "plt.plot(phi_range,yhat_GE,lw=2)\n",
    "\n",
    "plt.scatter(phi,y_test,color='gray',s=2,alpha=0.25)\n",
    "#plt.plot(phi_range,GER.ge_nonlinearity(phi_range),color='black',lw=3,label='$\\hat{y}$')\n",
    "\n",
    "plt.plot(phi_range,quantiles.plus_sigma_quantile,label='0.16',color='darkgray')\n",
    "plt.plot(phi_range,quantiles.minus_sigma_quantile,label='0.84',color='darkgray')\n",
    "\n",
    "\n",
    "plt.tick_params(labelsize=14)\n",
    "\n",
    "leg = plt.legend(fontsize=14)\n",
    "for lh in leg.legendHandles: \n",
    "    lh.set_alpha(1)\n",
    "    #lh.set_sizes([5.0])\n",
    "      \n",
    "\n",
    "plt.ylabel('Observations',fontsize=14)\n",
    "plt.xlabel('Latent phenotype ($\\phi$)',fontsize=14)\n",
    "plt.title(noise_model+' Likelihood',fontsize=14)\n",
    "plt.show()\n"
   ]
  },
  {
   "cell_type": "code",
   "execution_count": null,
   "metadata": {
    "collapsed": true
   },
   "outputs": [],
   "source": []
  },
  {
   "cell_type": "code",
   "execution_count": null,
   "metadata": {
    "collapsed": true
   },
   "outputs": [],
   "source": []
  },
  {
   "cell_type": "code",
   "execution_count": 20,
   "metadata": {},
   "outputs": [
    {
     "name": "stdout",
     "output_type": "stream",
     "text": [
      "__________________________________________________________________________________________________\n",
      "Layer (type)                    Output Shape         Param #     Connected to                     \n",
      "==================================================================================================\n",
      "Sequence_labels_input (InputLay (None, 613)          0                                            \n",
      "__________________________________________________________________________________________________\n",
      "lambda (Lambda)                 (None, 612)          0           Sequence_labels_input[0][0]      \n",
      "__________________________________________________________________________________________________\n",
      "phiPrime (Dense)                (None, 1)            613         lambda[0][0]                     \n",
      "__________________________________________________________________________________________________\n",
      "fix_diffeomorphic_mode (fixDiff (None, 1)            0           phiPrime[0][0]                   \n",
      "__________________________________________________________________________________________________\n",
      "phi (Dense)                     (None, 1)            2           fix_diffeomorphic_mode[0][0]     \n",
      "__________________________________________________________________________________________________\n",
      "dense_1 (Dense)                 (None, 20)           40          phi[0][0]                        \n",
      "__________________________________________________________________________________________________\n",
      "dense_2 (Dense)                 (None, 1)            21          dense_1[0][0]                    \n",
      "__________________________________________________________________________________________________\n",
      "lambda_1 (Lambda)               (None, 1)            0           Sequence_labels_input[0][0]      \n",
      "__________________________________________________________________________________________________\n",
      "yhat_and_y_to_ll (Concatenate)  (None, 2)            0           dense_2[0][0]                    \n",
      "                                                                 lambda_1[0][0]                   \n",
      "__________________________________________________________________________________________________\n",
      "skewed_t_likelihood_layer_1 (Sk (None, 1)            18          yhat_and_y_to_ll[0][0]           \n",
      "==================================================================================================\n",
      "Total params: 694\n",
      "Trainable params: 694\n",
      "Non-trainable params: 0\n",
      "__________________________________________________________________________________________________\n"
     ]
    }
   ],
   "source": [
    "nn_model = GER.get_nn()\n",
    "nn_model.summary()"
   ]
  },
  {
   "cell_type": "code",
   "execution_count": 21,
   "metadata": {},
   "outputs": [
    {
     "data": {
      "text/plain": [
       "((612, 1), (1,))"
      ]
     },
     "execution_count": 21,
     "metadata": {},
     "output_type": "execute_result"
    }
   ],
   "source": [
    "nn_model.layers[2].get_weights()[0].shape,nn_model.layers[2].get_weights()[1].shape"
   ]
  },
  {
   "cell_type": "code",
   "execution_count": 22,
   "metadata": {},
   "outputs": [
    {
     "data": {
      "text/plain": [
       "4"
      ]
     },
     "execution_count": 22,
     "metadata": {},
     "output_type": "execute_result"
    }
   ],
   "source": [
    "len(GER.model.characters)"
   ]
  },
  {
   "cell_type": "code",
   "execution_count": 23,
   "metadata": {},
   "outputs": [
    {
     "ename": "NameError",
     "evalue": "name 'salmon' is not defined",
     "output_type": "error",
     "traceback": [
      "\u001b[0;31m---------------------------------------------------------------------------\u001b[0m",
      "\u001b[0;31mNameError\u001b[0m                                 Traceback (most recent call last)",
      "\u001b[0;32m<ipython-input-23-42f5b8cc477d>\u001b[0m in \u001b[0;36m<module>\u001b[0;34m\u001b[0m\n\u001b[0;32m----> 1\u001b[0;31m \u001b[0msalmon\u001b[0m\u001b[0;34m\u001b[0m\u001b[0;34m\u001b[0m\u001b[0m\n\u001b[0m",
      "\u001b[0;31mNameError\u001b[0m: name 'salmon' is not defined"
     ]
    }
   ],
   "source": [
    "salmon"
   ]
  },
  {
   "cell_type": "code",
   "execution_count": null,
   "metadata": {
    "collapsed": true
   },
   "outputs": [],
   "source": [
    "#GER.get_gpmap_parameters()"
   ]
  },
  {
   "cell_type": "markdown",
   "metadata": {},
   "source": [
    "Sailer Harms code"
   ]
  },
  {
   "cell_type": "code",
   "execution_count": null,
   "metadata": {
    "collapsed": true
   },
   "outputs": [],
   "source": [
    "import pandas as pd\n",
    "import matplotlib.pyplot as plt\n",
    "from epistasis.models import EpistasisLinearRegression\n",
    "from epistasis.pyplot import plot_coefs\n",
    "\n",
    "from epistasis.models.nonlinear import EpistasisPowerTransform\n",
    "from epistasis.pyplot.nonlinear import plot_power_transform\n",
    "\n",
    "from gpmap import GenotypePhenotypeMap\n",
    "MPSA_WT = 'CAGGUAAGU'\n",
    "import mavenn\n",
    "from mavenn.src.utils import get_example_dataset\n",
    "X, y = get_example_dataset(name='MPSA')\n",
    "\n",
    "gpm = GenotypePhenotypeMap(MPSA_WT,X,y)\n",
    "\n",
    "# Fit Power transform\n",
    "model = EpistasisPowerTransform(lmbda=3, A=0, B=0)\n",
    "model.add_gpm(gpm)\n",
    "model.fit()\n",
    "\n",
    "# Create plot\n",
    "fig, ax = plt.subplots(figsize=(10,10))\n",
    "plot_power_transform(model, cmap='plasma', ax=ax, yerr=0.6, s=10)\n",
    "\n",
    "ax.set_xlabel('Padd', fontsize=14)\n",
    "ax.set_ylabel('Pobs', fontsize=14)\n",
    "ax.set_title('Sailer/Harms, Power Transform - lmbda = 3')\n",
    "fig.savefig('powerTransformLambda3.png',bbox_inches='tight')"
   ]
  },
  {
   "cell_type": "code",
   "execution_count": null,
   "metadata": {
    "collapsed": true
   },
   "outputs": [],
   "source": [
    "import pandas as pd\n",
    "import matplotlib.pyplot as plt\n",
    "from epistasis.models import EpistasisLinearRegression\n",
    "from epistasis.pyplot import plot_coefs\n",
    "\n",
    "from epistasis.models.nonlinear import EpistasisPowerTransform\n",
    "from epistasis.pyplot.nonlinear import plot_power_transform\n",
    "\n",
    "from epistasis.models import EpistasisSpline\n",
    "\n",
    "from gpmap import GenotypePhenotypeMap\n",
    "MPSA_WT = 'CAGGUAAGU'\n",
    "import mavenn\n",
    "from mavenn.src.utils import get_example_dataset\n",
    "X, y = get_example_dataset(name='MPSA')\n",
    "\n",
    "gpm = GenotypePhenotypeMap(MPSA_WT,X,y)\n",
    "\n",
    "# Fit Power transform\n",
    "model = EpistasisSpline(k=3)\n",
    "model.add_gpm(gpm)\n",
    "model.fit()\n",
    "\n",
    "# Create plot\n",
    "fig, ax = plt.subplots(figsize=(10,10))\n",
    "plot_power_transform(model, cmap='plasma', ax=ax, yerr=0.6, s=10)\n",
    "\n",
    "ax.set_xlabel('Padd', fontsize=14)\n",
    "ax.set_ylabel('Pobs', fontsize=14)\n",
    "ax.set_title('Sailer/Harms, Model Spline')\n",
    "fig.savefig('ModelSpline.png',bbox_inches='tight')"
   ]
  },
  {
   "cell_type": "code",
   "execution_count": null,
   "metadata": {
    "collapsed": true
   },
   "outputs": [],
   "source": [
    "from gpmap import GenotypePhenotypeMap\n",
    "from epistasis.models import EpistasisSpline\n",
    "\n",
    "wildtype = 'AA'\n",
    "genotypes = ['AA', 'AT', 'TA', 'TT']\n",
    "phenotypes = [0.1, 0.2, 0.7, 1.2]\n",
    "\n",
    "# Read genotype-phenotype map.\n",
    "gpm = GenotypePhenotypeMap(wildtype, genotypes, phenotypes)\n",
    "\n",
    "# Initialize the data.\n",
    "model = EpistasisSpline(k=3)\n",
    "\n",
    "# Add Genotype-phenotype map data.\n",
    "model.add_gpm(gpm)\n",
    "\n",
    "# Fit the model.\n",
    "model.fit()"
   ]
  },
  {
   "cell_type": "code",
   "execution_count": null,
   "metadata": {
    "collapsed": true
   },
   "outputs": [],
   "source": []
  }
 ],
 "metadata": {
  "kernelspec": {
   "display_name": "Python 3",
   "language": "python",
   "name": "python3"
  },
  "language_info": {
   "codemirror_mode": {
    "name": "ipython",
    "version": 3
   },
   "file_extension": ".py",
   "mimetype": "text/x-python",
   "name": "python",
   "nbconvert_exporter": "python",
   "pygments_lexer": "ipython3",
   "version": "3.6.7"
  }
 },
 "nbformat": 4,
 "nbformat_minor": 2
}
