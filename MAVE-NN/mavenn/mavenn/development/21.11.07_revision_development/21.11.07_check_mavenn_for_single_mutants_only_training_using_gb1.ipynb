{
 "cells": [
  {
   "cell_type": "markdown",
   "metadata": {},
   "source": [
    "This notebook checks mavenn's new feature where if user supplies only single mutants, then mavenn requires \n",
    "that ge_nonlinearity_type == 'linear', and gpmap_type == 'additive', and ge_noise_model_type == 'Gaussian'. Errors are thrown when set_data is called. "
   ]
  },
  {
   "cell_type": "code",
   "execution_count": 1,
   "metadata": {},
   "outputs": [
    {
     "name": "stdout",
     "output_type": "stream",
     "text": [
      "['/Users/tareen/Desktop/Research_Projects/2020_mavenn_github/mavenn_git_ssh/mavenn']\n"
     ]
    }
   ],
   "source": [
    "# Standard imports\n",
    "import pandas as pd\n",
    "import matplotlib.pyplot as plt\n",
    "import numpy as np\n",
    "import re\n",
    "import seaborn as sns\n",
    "import time\n",
    "import tensorflow as tf\n",
    "from tensorflow.keras.backend import get_value\n",
    "%matplotlib inline\n",
    "\n",
    "# Insert mavenn at beginning of path\n",
    "import sys\n",
    "path_to_mavenn_local = '/Users/tareen/Desktop/Research_Projects/2020_mavenn_github/mavenn_git_ssh/'\n",
    "sys.path.insert(0, path_to_mavenn_local)\n",
    "\n",
    "#Load mavenn and check path\n",
    "import mavenn\n",
    "print(mavenn.__path__)"
   ]
  },
  {
   "cell_type": "markdown",
   "metadata": {},
   "source": [
    "Get GB1 single mutant data to test out single mutant training feature"
   ]
  },
  {
   "cell_type": "code",
   "execution_count": 2,
   "metadata": {
    "collapsed": true
   },
   "outputs": [],
   "source": [
    "def get_gb1_single_mutants_df_from_ambler_counts_data():\n",
    "    \n",
    "    oslon_single_mutant_positions_data = pd.read_csv('oslon_data_single_mutants_ambler.csv',na_values=\"nan\")\n",
    "\n",
    "    WT_seq = 'QYKLILNGKTLKGETTTEAVDAATAEKVFKQYANDNGVDGEWTYDDATKTFTVTE'\n",
    "    #len(WT_seq)\n",
    "\n",
    "    WT_input_count = 1759616\n",
    "    WT_selection_count = 3041819\n",
    "\n",
    "    sequences = []\n",
    "    fitness = []\n",
    "\n",
    "    for loop_index in range(len(oslon_single_mutant_positions_data)):\n",
    "\n",
    "        mut_index = int(oslon_single_mutant_positions_data['Position'][loop_index])-2\n",
    "        mut = oslon_single_mutant_positions_data['Mutation'][loop_index]\n",
    "\n",
    "        temp_seq = list(WT_seq)\n",
    "        temp_seq[mut_index] = mut\n",
    "\n",
    "        # append sequence\n",
    "        sequences.append(''.join(temp_seq))\n",
    "\n",
    "        # calculate fitness for sequence\n",
    "        input_count = oslon_single_mutant_positions_data['Input Count'][loop_index]\n",
    "        selection_count = oslon_single_mutant_positions_data['Selection Count'][loop_index]\n",
    "        # added 1 to ensure log doesn't throw up\n",
    "        temp_fitness = np.log2(((selection_count+1)/input_count)/(WT_selection_count/WT_input_count))\n",
    "        fitness.append(temp_fitness)\n",
    "\n",
    "    gb1_single_mutants_df = pd.DataFrame({'x':sequences,'y':fitness})\n",
    "    return gb1_single_mutants_df"
   ]
  },
  {
   "cell_type": "code",
   "execution_count": 3,
   "metadata": {},
   "outputs": [
    {
     "data": {
      "text/html": [
       "<div>\n",
       "<style scoped>\n",
       "    .dataframe tbody tr th:only-of-type {\n",
       "        vertical-align: middle;\n",
       "    }\n",
       "\n",
       "    .dataframe tbody tr th {\n",
       "        vertical-align: top;\n",
       "    }\n",
       "\n",
       "    .dataframe thead th {\n",
       "        text-align: right;\n",
       "    }\n",
       "</style>\n",
       "<table border=\"1\" class=\"dataframe\">\n",
       "  <thead>\n",
       "    <tr style=\"text-align: right;\">\n",
       "      <th></th>\n",
       "      <th>x</th>\n",
       "      <th>y</th>\n",
       "    </tr>\n",
       "  </thead>\n",
       "  <tbody>\n",
       "    <tr>\n",
       "      <th>0</th>\n",
       "      <td>AYKLILNGKTLKGETTTEAVDAATAEKVFKQYANDNGVDGEWTYDD...</td>\n",
       "      <td>0.602142</td>\n",
       "    </tr>\n",
       "    <tr>\n",
       "      <th>1</th>\n",
       "      <td>CYKLILNGKTLKGETTTEAVDAATAEKVFKQYANDNGVDGEWTYDD...</td>\n",
       "      <td>0.034842</td>\n",
       "    </tr>\n",
       "    <tr>\n",
       "      <th>2</th>\n",
       "      <td>DYKLILNGKTLKGETTTEAVDAATAEKVFKQYANDNGVDGEWTYDD...</td>\n",
       "      <td>-0.134928</td>\n",
       "    </tr>\n",
       "    <tr>\n",
       "      <th>3</th>\n",
       "      <td>EYKLILNGKTLKGETTTEAVDAATAEKVFKQYANDNGVDGEWTYDD...</td>\n",
       "      <td>-0.071507</td>\n",
       "    </tr>\n",
       "    <tr>\n",
       "      <th>4</th>\n",
       "      <td>FYKLILNGKTLKGETTTEAVDAATAEKVFKQYANDNGVDGEWTYDD...</td>\n",
       "      <td>0.693267</td>\n",
       "    </tr>\n",
       "    <tr>\n",
       "      <th>...</th>\n",
       "      <td>...</td>\n",
       "      <td>...</td>\n",
       "    </tr>\n",
       "    <tr>\n",
       "      <th>1040</th>\n",
       "      <td>QYKLILNGKTLKGETTTEAVDAATAEKVFKQYANDNGVDGEWTYDD...</td>\n",
       "      <td>-1.488300</td>\n",
       "    </tr>\n",
       "    <tr>\n",
       "      <th>1041</th>\n",
       "      <td>QYKLILNGKTLKGETTTEAVDAATAEKVFKQYANDNGVDGEWTYDD...</td>\n",
       "      <td>-1.284934</td>\n",
       "    </tr>\n",
       "    <tr>\n",
       "      <th>1042</th>\n",
       "      <td>QYKLILNGKTLKGETTTEAVDAATAEKVFKQYANDNGVDGEWTYDD...</td>\n",
       "      <td>-2.011392</td>\n",
       "    </tr>\n",
       "    <tr>\n",
       "      <th>1043</th>\n",
       "      <td>QYKLILNGKTLKGETTTEAVDAATAEKVFKQYANDNGVDGEWTYDD...</td>\n",
       "      <td>-1.732854</td>\n",
       "    </tr>\n",
       "    <tr>\n",
       "      <th>1044</th>\n",
       "      <td>QYKLILNGKTLKGETTTEAVDAATAEKVFKQYANDNGVDGEWTYDD...</td>\n",
       "      <td>-2.397024</td>\n",
       "    </tr>\n",
       "  </tbody>\n",
       "</table>\n",
       "<p>1045 rows × 2 columns</p>\n",
       "</div>"
      ],
      "text/plain": [
       "                                                      x         y\n",
       "0     AYKLILNGKTLKGETTTEAVDAATAEKVFKQYANDNGVDGEWTYDD...  0.602142\n",
       "1     CYKLILNGKTLKGETTTEAVDAATAEKVFKQYANDNGVDGEWTYDD...  0.034842\n",
       "2     DYKLILNGKTLKGETTTEAVDAATAEKVFKQYANDNGVDGEWTYDD... -0.134928\n",
       "3     EYKLILNGKTLKGETTTEAVDAATAEKVFKQYANDNGVDGEWTYDD... -0.071507\n",
       "4     FYKLILNGKTLKGETTTEAVDAATAEKVFKQYANDNGVDGEWTYDD...  0.693267\n",
       "...                                                 ...       ...\n",
       "1040  QYKLILNGKTLKGETTTEAVDAATAEKVFKQYANDNGVDGEWTYDD... -1.488300\n",
       "1041  QYKLILNGKTLKGETTTEAVDAATAEKVFKQYANDNGVDGEWTYDD... -1.284934\n",
       "1042  QYKLILNGKTLKGETTTEAVDAATAEKVFKQYANDNGVDGEWTYDD... -2.011392\n",
       "1043  QYKLILNGKTLKGETTTEAVDAATAEKVFKQYANDNGVDGEWTYDD... -1.732854\n",
       "1044  QYKLILNGKTLKGETTTEAVDAATAEKVFKQYANDNGVDGEWTYDD... -2.397024\n",
       "\n",
       "[1045 rows x 2 columns]"
      ]
     },
     "execution_count": 3,
     "metadata": {},
     "output_type": "execute_result"
    }
   ],
   "source": [
    "gb1_single_mutants_df = pd.read_csv('gb1_single_mutants_data.csv',index_col=0)\n",
    "gb1_single_mutants_df"
   ]
  },
  {
   "cell_type": "code",
   "execution_count": 6,
   "metadata": {
    "collapsed": true
   },
   "outputs": [],
   "source": [
    "# Get length of sequences\n",
    "L = len(gb1_single_mutants_df['x'][0])\n",
    "\n",
    "# Define model\n",
    "model = mavenn.Model(regression_type='GE',\n",
    "                     L=L,\n",
    "                     alphabet='protein',\n",
    "                     gpmap_type='additive',                     \n",
    "                     ge_noise_model_type='Gaussian',\n",
    "                     ge_nonlinearity_type='linear',\n",
    "                     ge_heteroskedasticity_order=0)"
   ]
  },
  {
   "cell_type": "code",
   "execution_count": 7,
   "metadata": {},
   "outputs": [
    {
     "name": "stdout",
     "output_type": "stream",
     "text": [
      "N = 1,045 observations set as training data.\n",
      "Using 0.0% for validation.\n",
      "Time to set data: 0.0612 sec.\n"
     ]
    }
   ],
   "source": [
    "# Set training data\n",
    "model.set_data(x=gb1_single_mutants_df['x'],\n",
    "               y=gb1_single_mutants_df['y'],\n",
    "               validation_frac=0,\n",
    "               shuffle=False)"
   ]
  },
  {
   "cell_type": "code",
   "execution_count": 8,
   "metadata": {
    "collapsed": true
   },
   "outputs": [],
   "source": [
    "# write utils method to check if dataset contains only single mutants\n",
    "\n",
    "consensus_seq = model.x_stats['consensus_seq']"
   ]
  },
  {
   "cell_type": "code",
   "execution_count": 9,
   "metadata": {},
   "outputs": [
    {
     "data": {
      "text/plain": [
       "True"
      ]
     },
     "execution_count": 9,
     "metadata": {},
     "output_type": "execute_result"
    }
   ],
   "source": [
    "model.x_stats['only_single_mutants']"
   ]
  },
  {
   "cell_type": "code",
   "execution_count": 10,
   "metadata": {},
   "outputs": [
    {
     "name": "stdout",
     "output_type": "stream",
     "text": [
      " \n",
      "LSMR            Least-squares solution of  Ax = b\n",
      "\n",
      "The matrix A has     1045 rows  and     1100 cols\n",
      "damp = 0.00000000000000e+00\n",
      "\n",
      "atol = 1.00e-06                 conlim = 1.00e+08\n",
      "\n",
      "btol = 1.00e-06             maxiter =     1045\n",
      "\n",
      " \n",
      "   itn      x(1)       norm r    norm Ar  compatible   LS      norm A   cond A\n",
      "     0  0.00000e+00  3.233e+01  1.261e+02   1.0e+00  1.2e-01\n",
      "     1  4.87339e-03  2.947e+01  1.186e+02   9.1e-01  9.1e-01  4.4e+00  1.0e+00\n",
      "     2  4.14035e-02  1.541e+01  1.541e+01   4.8e-01  4.3e-03  2.4e+02  6.1e+00\n",
      "     3  9.55262e-02  3.170e-11  7.455e-09   9.8e-13  1.0e+00  2.4e+02  8.1e+01\n",
      " \n",
      "LSMR finished\n",
      "Ax - b is small enough, given atol, btol                  \n",
      "istop =       1    normr = 3.2e-11\n",
      "    normA = 2.4e+02    normAr = 7.5e-09\n",
      "itn   =       3    condA = 8.1e+01\n",
      "    normx = 1.7e+01\n",
      "     3  9.55262e-02   3.170e-11  7.455e-09\n",
      "   9.8e-13  1.0e+00   2.4e+02  8.1e+01\n",
      "Linear regression time: 0.0045 sec\n",
      "Epoch 1/10\n",
      "11/11 [==============================] - 1s 16ms/step - loss: 146.2817 - I_var: -0.6796\n",
      "WARNING:tensorflow:Early stopping conditioned on metric `val_loss` which is not available. Available metrics are: loss,I_var\n",
      "Epoch 2/10\n",
      "11/11 [==============================] - 0s 6ms/step - loss: 142.4975 - I_var: -0.6970\n",
      "WARNING:tensorflow:Early stopping conditioned on metric `val_loss` which is not available. Available metrics are: loss,I_var\n",
      "Epoch 3/10\n",
      "11/11 [==============================] - 0s 7ms/step - loss: 140.5665 - I_var: -0.7120\n",
      "WARNING:tensorflow:Early stopping conditioned on metric `val_loss` which is not available. Available metrics are: loss,I_var\n",
      "Epoch 4/10\n",
      "11/11 [==============================] - 0s 5ms/step - loss: 141.1102 - I_var: -0.6765\n",
      "WARNING:tensorflow:Early stopping conditioned on metric `val_loss` which is not available. Available metrics are: loss,I_var\n",
      "Epoch 5/10\n",
      "11/11 [==============================] - 0s 5ms/step - loss: 142.3311 - I_var: -0.6873\n",
      "WARNING:tensorflow:Early stopping conditioned on metric `val_loss` which is not available. Available metrics are: loss,I_var\n",
      "Epoch 6/10\n",
      "11/11 [==============================] - 0s 5ms/step - loss: 141.0632 - I_var: -0.6970\n",
      "WARNING:tensorflow:Early stopping conditioned on metric `val_loss` which is not available. Available metrics are: loss,I_var\n",
      "Epoch 7/10\n",
      "11/11 [==============================] - 0s 5ms/step - loss: 141.1309 - I_var: -0.6963\n",
      "WARNING:tensorflow:Early stopping conditioned on metric `val_loss` which is not available. Available metrics are: loss,I_var\n",
      "Epoch 8/10\n",
      "11/11 [==============================] - 0s 6ms/step - loss: 141.5107 - I_var: -0.6905\n",
      "WARNING:tensorflow:Early stopping conditioned on metric `val_loss` which is not available. Available metrics are: loss,I_var\n",
      "Epoch 9/10\n",
      "11/11 [==============================] - 0s 6ms/step - loss: 138.8090 - I_var: -0.6976\n",
      "WARNING:tensorflow:Early stopping conditioned on metric `val_loss` which is not available. Available metrics are: loss,I_var\n",
      "Epoch 10/10\n",
      "11/11 [==============================] - 0s 5ms/step - loss: 139.9651 - I_var: -0.6874\n",
      "WARNING:tensorflow:Early stopping conditioned on metric `val_loss` which is not available. Available metrics are: loss,I_var\n",
      "Training time: 1.4 seconds\n"
     ]
    }
   ],
   "source": [
    "# Fit model to data\n",
    "history = model.fit(learning_rate=.00005,\n",
    "                    epochs=10,\n",
    "                    batch_size=100,\n",
    "                    early_stopping=True,\n",
    "                    early_stopping_patience=5,\n",
    "                    linear_initialization=True)"
   ]
  },
  {
   "cell_type": "code",
   "execution_count": 11,
   "metadata": {},
   "outputs": [
    {
     "name": "stdout",
     "output_type": "stream",
     "text": [
      "On test data:\n",
      "I_var_train: -0.691 +- 0.047 bits\n",
      "I_pred_train: 5.091 +- 0.046 bits\n"
     ]
    },
    {
     "data": {
      "text/plain": [
       "Text(0.5, 1.0, 'training hisotry')"
      ]
     },
     "execution_count": 11,
     "metadata": {},
     "output_type": "execute_result"
    },
    {
     "data": {
      "image/png": "[encoded data removed]",
      "text/plain": [
       "<Figure size 288x288 with 1 Axes>"
      ]
     },
     "metadata": {
      "needs_background": "light"
     },
     "output_type": "display_data"
    }
   ],
   "source": [
    "x_train = gb1_single_mutants_df['x']\n",
    "y_train = gb1_single_mutants_df['y']\n",
    "\n",
    "# Show training history\n",
    "print('On test data:')\n",
    "\n",
    "# Compute likelihood information\n",
    "I_var, dI_var =  model.I_variational(x=x_train, y=y_train)\n",
    "print(f'I_var_train: {I_var:.3f} +- {dI_var:.3f} bits') \n",
    "\n",
    "# Compute predictive information\n",
    "I_pred, dI_pred = model.I_predictive(x=x_train, y=y_train)\n",
    "print(f'I_pred_train: {I_pred:.3f} +- {dI_pred:.3f} bits')\n",
    "\n",
    "I_var_hist = model.history['I_var']\n",
    "#val_I_var_hist = model.history['val_I_var']\n",
    "\n",
    "fig, ax = plt.subplots(1,1,figsize=[4,4])\n",
    "ax.plot(I_var_hist, label='I_var_train')\n",
    "#ax.plot(val_I_var_hist, label='I_var_val')\n",
    "ax.axhline(I_var, color='C2', linestyle=':', label='I_var_test')\n",
    "ax.axhline(I_pred, color='C3', linestyle=':', label='I_pred_test')\n",
    "ax.legend()\n",
    "ax.set_xlabel('epochs')\n",
    "ax.set_ylabel('bits')\n",
    "ax.set_title('training hisotry')"
   ]
  },
  {
   "cell_type": "code",
   "execution_count": 12,
   "metadata": {},
   "outputs": [
    {
     "data": {
      "image/png": "[encoded data removed]",
      "text/plain": [
       "<Figure size 288x288 with 1 Axes>"
      ]
     },
     "metadata": {
      "needs_background": "light"
     },
     "output_type": "display_data"
    }
   ],
   "source": [
    "# Compute phi and yhat values\n",
    "phi = model.x_to_phi(x_train)\n",
    "yhat = model.phi_to_yhat(phi)\n",
    "\n",
    "# Create grid for plotting yhat and yqs\n",
    "phi_lim = [-5, 2.5]\n",
    "phi_grid = np.linspace(phi_lim[0], phi_lim[1], 1000)\n",
    "yhat_grid = model.phi_to_yhat(phi_grid)\n",
    "yqs_grid = model.yhat_to_yq(yhat_grid, q=[.16,.84])\n",
    "\n",
    "# Create two panels\n",
    "fig, ax = plt.subplots(1, 1, figsize=[4, 4])\n",
    "\n",
    "# Illustrate measurement process with GE curve\n",
    "ax.scatter(phi, y_train, color='C0', s=5, alpha=.2, label='test data')\n",
    "ax.plot(phi_grid, yhat_grid, linewidth=2, color='C1',\n",
    "        label='$\\hat{y} = g(\\phi)$')\n",
    "ax.plot(phi_grid, yqs_grid[:, 0], linestyle='--', color='C1',\n",
    "        label='68% CI')\n",
    "ax.plot(phi_grid, yqs_grid[:, 1], linestyle='--', color='C1')\n",
    "ax.set_xlim(phi_lim)\n",
    "ax.set_xlabel('latent phenotype ($\\phi$)')\n",
    "ax.set_ylabel('measurement ($y$)')\n",
    "ax.set_title('measurement process')\n",
    "ax.legend()\n",
    "\n",
    "# Fix up plot\n",
    "fig.tight_layout()\n",
    "plt.show()"
   ]
  },
  {
   "cell_type": "code",
   "execution_count": null,
   "metadata": {
    "collapsed": true
   },
   "outputs": [],
   "source": []
  }
 ],
 "metadata": {
  "kernelspec": {
   "display_name": "Python 3",
   "language": "python",
   "name": "python3"
  },
  "language_info": {
   "codemirror_mode": {
    "name": "ipython",
    "version": 3
   },
   "file_extension": ".py",
   "mimetype": "text/x-python",
   "name": "python",
   "nbconvert_exporter": "python",
   "pygments_lexer": "ipython3",
   "version": "3.6.7"
  }
 },
 "nbformat": 4,
 "nbformat_minor": 2
}
