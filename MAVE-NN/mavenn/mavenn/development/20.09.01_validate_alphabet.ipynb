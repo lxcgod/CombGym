{
 "cells": [
  {
   "cell_type": "code",
   "execution_count": 1,
   "metadata": {},
   "outputs": [
    {
     "data": {
      "text/plain": [
       "['/Users/jkinney/github/mavenn/mavenn']"
      ]
     },
     "execution_count": 1,
     "metadata": {},
     "output_type": "execute_result"
    }
   ],
   "source": [
    "# Standard imports\n",
    "import pandas as pd\n",
    "import matplotlib.pyplot as plt\n",
    "import numpy as np\n",
    "\n",
    "# Add mavenn to path\n",
    "import sys\n",
    "path_to_mavenn_local = '/Users/jkinney/github/mavenn'\n",
    "sys.path.insert(0,path_to_mavenn_local)\n",
    "\n",
    "# Load mavenn and check path\n",
    "import mavenn\n",
    "mavenn.__path__"
   ]
  },
  {
   "cell_type": "code",
   "execution_count": 2,
   "metadata": {},
   "outputs": [
    {
     "name": "stdout",
     "output_type": "stream",
     "text": [
      "Expected success.\n",
      "Expected success.\n",
      "Expected success.\n",
      "Expected success.\n",
      "Expected success.\n",
      "Expected success.\n",
      "Expected success.\n",
      "Expected success.\n",
      "Expected error: Unknown alphabet=xna. Must be one of [dict_keys(['dna', 'rna', 'protein', 'protein*'])].\n",
      "Expected error: Unknown alphabet=protein-. Must be one of [dict_keys(['dna', 'rna', 'protein', 'protein*'])].\n",
      "Expected error: Entries of alphabet are not unique.\n",
      "Expected error: len(alphabet)=0; must be >= 1.\n",
      "Expected error: type(alphabet)=<class 'dict'> is invalid. Must be one of (<class 'str'>, <class 'list'>, <class 'set'>, <class 'numpy.ndarray'>, <class 'pandas.core.series.Series'>).\n",
      "Expected error: Alphabet must be 1D. alphabet.shape=(2, 2)\n",
      "Expected error: Alphabet contains non-string characters.\n",
      "Expected error: len(alphabet)=0; must be >= 1.\n"
     ]
    }
   ],
   "source": [
    "from mavenn.src.validate import validate_alphabet\n",
    "\n",
    "# Tests that should pass\n",
    "valid_inputs = [\n",
    "    'dna',\n",
    "    'rna',\n",
    "    'protein',\n",
    "    'protein*',\n",
    "    np.array(['A','B','C']),\n",
    "    {'A','B','C'},\n",
    "    ['A','B','C'],\n",
    "    pd.Series(['A','B','C'])\n",
    "]\n",
    "\n",
    "for arg in valid_inputs:\n",
    "    result = validate_alphabet(arg, should_fail=False)\n",
    "    if result.mistake:\n",
    "        print(f'Failure on input {arg}; got {result.result}')\n",
    "\n",
    "# Tests that should fail\n",
    "invalid_inputs = [\n",
    "    'xna',\n",
    "    'protein-',\n",
    "    ['A','B','A'],\n",
    "    [],\n",
    "    {'A':5},\n",
    "    np.array([['A','B'],['C','D']]),\n",
    "    np.arange(5),\n",
    "    pd.Series([])\n",
    "]\n",
    "        \n",
    "for arg in invalid_inputs:\n",
    "    result = validate_alphabet(arg, should_fail=True)\n",
    "    if result.mistake:\n",
    "        print(f'Failure on input {arg}; got {result.result}')"
   ]
  },
  {
   "cell_type": "code",
   "execution_count": null,
   "metadata": {},
   "outputs": [],
   "source": [
    "# # Define built-in alphabets to use with MAVE-NN\n",
    "# alphabet_dict = {\n",
    "#     'dna': np.array(['A', 'C', 'G', 'T']),\n",
    "#     'rna': np.array(['A', 'C', 'G', 'U']),\n",
    "#     'protein': np.array(['A', 'C', 'D', 'E', 'F',\n",
    "#                          'G', 'H', 'I', 'K', 'L',\n",
    "#                          'M', 'N', 'P', 'Q', 'R',\n",
    "#                          'S', 'T', 'V', 'W', 'Y']),\n",
    "#     'protein*': np.array(['A', 'C', 'D', 'E', 'F',\n",
    "#                           'G', 'H', 'I', 'K', 'L',\n",
    "#                           'M', 'N', 'P', 'Q', 'R',\n",
    "#                           'S', 'T', 'V', 'W', 'Y','*'])\n",
    "# }\n",
    "\n",
    "# from mavenn.src.error_handling import handle_errors, check\n",
    "# @handle_errors\n",
    "# def validate_alphabet(alphabet):\n",
    "#     \"\"\"\n",
    "#     Returns a validated alphabet. String inputs are interpreted\n",
    "#     as the name of one of four alphabets:\n",
    "#         ['dna','rna','protein','protein*']. \n",
    "#     Otherwise alphabet must be one of \n",
    "#         [set, list, np.ndarray, pd.Series],\n",
    "#     containing only unique characters.\n",
    "#     \"\"\"\n",
    "    \n",
    "#     valid_types = (str,list,set,np.ndarray,pd.Series)\n",
    "#     check(isinstance(alphabet,valid_types),\n",
    "#           f'type(alphabet)={type(alphabet)} is invalid. ' \n",
    "#           f'Must be one of {valid_types}.')\n",
    "    \n",
    "#     # If alphabet is a string, replace with array from alphabet_dict\n",
    "#     if isinstance(alphabet,str):\n",
    "#         check(alphabet in alphabet_dict, \n",
    "#               f'Unknown alphabet={alphabet}. Must be one of [{alphabet_dict.keys()}].')\n",
    "#         alphabet = alphabet_dict[alphabet]\n",
    "        \n",
    "#     # If alphabet is a set, cast as np.ndarray \n",
    "#     elif isinstance(alphabet,set):\n",
    "#         alphabet = np.array(list(alphabet))\n",
    "\n",
    "#     # If alphabet is a list, cast an np.ndarray \n",
    "#     elif isinstance(alphabet,list):\n",
    "#         alphabet = np.array(alphabet)\n",
    "        \n",
    "#     # If alphabet is a pd.Series, get values\n",
    "#     elif isinstance(alphabet, pd.Series):\n",
    "#         alphabet = alphabet.values\n",
    "        \n",
    "#     # Make sure alphabet is 1D\n",
    "#     check(len(alphabet.shape)==1, \n",
    "#           f'Alphabet must be 1D. alphabet.shape={alphabet.shape}')\n",
    "        \n",
    "#     # Make sure the entries of alphabet are unique\n",
    "#     check(len(alphabet) == len(set(alphabet)), \n",
    "#           f'Entries of alphabet are not unique.')\n",
    "        \n",
    "#     # Make sure alphabet is not empty\n",
    "#     check(len(alphabet) > 0,\n",
    "#           f'len(alphabet)={len(alphabet)}; must be >= 1.')\n",
    "\n",
    "#     # Make sure all alphabet entries are strings\n",
    "#     check(all([isinstance(c,str) for c in alphabet]), \n",
    "#           'Alphabet contains non-string characters.')\n",
    "\n",
    "#     # Make sure all alphabet entries are single-character\n",
    "#     check(all([len(c)==1 for c in alphabet]), \n",
    "#           'Alphabet contains non-string characters.')\n",
    "    \n",
    "#     # Sort alphabet\n",
    "#     alphabet.sort()\n",
    "    \n",
    "#     return alphabet"
   ]
  },
  {
   "cell_type": "code",
   "execution_count": null,
   "metadata": {},
   "outputs": [],
   "source": []
  },
  {
   "cell_type": "code",
   "execution_count": null,
   "metadata": {},
   "outputs": [],
   "source": []
  }
 ],
 "metadata": {
  "kernelspec": {
   "display_name": "Python 3",
   "language": "python",
   "name": "python3"
  },
  "language_info": {
   "codemirror_mode": {
    "name": "ipython",
    "version": 3
   },
   "file_extension": ".py",
   "mimetype": "text/x-python",
   "name": "python",
   "nbconvert_exporter": "python",
   "pygments_lexer": "ipython3",
   "version": "3.7.4"
  }
 },
 "nbformat": 4,
 "nbformat_minor": 2
}
