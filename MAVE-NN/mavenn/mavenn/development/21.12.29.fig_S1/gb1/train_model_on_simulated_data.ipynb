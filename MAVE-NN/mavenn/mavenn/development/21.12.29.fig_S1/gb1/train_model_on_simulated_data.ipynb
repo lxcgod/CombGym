{
 "cells": [
  {
   "cell_type": "code",
   "execution_count": 1,
   "metadata": {
    "collapsed": true
   },
   "outputs": [],
   "source": [
    "# Standard imports\n",
    "import pandas as pd\n",
    "import matplotlib.pyplot as plt\n",
    "import numpy as np\n",
    "import time\n",
    "# import mavenn\n",
    "import sys\n",
    "#path_to_mavenn = '/Users/tareen/Desktop/Research_Projects/2020_mavenn_github/mavenn'\n",
    "path_to_mavenn = '/Users/tareen/Desktop/Research_Projects/2020_mavenn_github/mavenn_git_ssh/'\n",
    "sys.path.insert(0,path_to_mavenn)\n",
    "\n",
    "# Load mavenn\n",
    "import mavenn"
   ]
  },
  {
   "cell_type": "code",
   "execution_count": 2,
   "metadata": {},
   "outputs": [
    {
     "name": "stdout",
     "output_type": "stream",
     "text": [
      "Model loaded from these files:\n",
      "\tgb1_additive_ge_2021.12.28.17h.21m.pickle\n",
      "\tgb1_additive_ge_2021.12.28.17h.21m.h5\n"
     ]
    }
   ],
   "source": [
    "model = mavenn.load('gb1_additive_ge_2021.12.28.17h.21m')"
   ]
  },
  {
   "cell_type": "code",
   "execution_count": 3,
   "metadata": {},
   "outputs": [
    {
     "name": "stdout",
     "output_type": "stream",
     "text": [
      "test N: 26,364\n",
      "training + validation N: 504,373\n"
     ]
    },
    {
     "data": {
      "text/html": [
       "<div>\n",
       "<style scoped>\n",
       "    .dataframe tbody tr th:only-of-type {\n",
       "        vertical-align: middle;\n",
       "    }\n",
       "\n",
       "    .dataframe tbody tr th {\n",
       "        vertical-align: top;\n",
       "    }\n",
       "\n",
       "    .dataframe thead th {\n",
       "        text-align: right;\n",
       "    }\n",
       "</style>\n",
       "<table border=\"1\" class=\"dataframe\">\n",
       "  <thead>\n",
       "    <tr style=\"text-align: right;\">\n",
       "      <th></th>\n",
       "      <th>set</th>\n",
       "      <th>dist</th>\n",
       "      <th>input_ct</th>\n",
       "      <th>selected_ct</th>\n",
       "      <th>y</th>\n",
       "      <th>x</th>\n",
       "    </tr>\n",
       "  </thead>\n",
       "  <tbody>\n",
       "    <tr>\n",
       "      <th>0</th>\n",
       "      <td>training</td>\n",
       "      <td>2</td>\n",
       "      <td>173</td>\n",
       "      <td>33</td>\n",
       "      <td>-3.145154</td>\n",
       "      <td>AAKLILNGKTLKGETTTEAVDAATAEKVFKQYANDNGVDGEWTYDD...</td>\n",
       "    </tr>\n",
       "    <tr>\n",
       "      <th>1</th>\n",
       "      <td>training</td>\n",
       "      <td>2</td>\n",
       "      <td>18</td>\n",
       "      <td>8</td>\n",
       "      <td>-1.867676</td>\n",
       "      <td>ACKLILNGKTLKGETTTEAVDAATAEKVFKQYANDNGVDGEWTYDD...</td>\n",
       "    </tr>\n",
       "    <tr>\n",
       "      <th>2</th>\n",
       "      <td>training</td>\n",
       "      <td>2</td>\n",
       "      <td>66</td>\n",
       "      <td>2</td>\n",
       "      <td>-5.270800</td>\n",
       "      <td>ADKLILNGKTLKGETTTEAVDAATAEKVFKQYANDNGVDGEWTYDD...</td>\n",
       "    </tr>\n",
       "    <tr>\n",
       "      <th>3</th>\n",
       "      <td>training</td>\n",
       "      <td>2</td>\n",
       "      <td>72</td>\n",
       "      <td>1</td>\n",
       "      <td>-5.979498</td>\n",
       "      <td>AEKLILNGKTLKGETTTEAVDAATAEKVFKQYANDNGVDGEWTYDD...</td>\n",
       "    </tr>\n",
       "    <tr>\n",
       "      <th>4</th>\n",
       "      <td>training</td>\n",
       "      <td>2</td>\n",
       "      <td>69</td>\n",
       "      <td>168</td>\n",
       "      <td>0.481923</td>\n",
       "      <td>AFKLILNGKTLKGETTTEAVDAATAEKVFKQYANDNGVDGEWTYDD...</td>\n",
       "    </tr>\n",
       "    <tr>\n",
       "      <th>5</th>\n",
       "      <td>training</td>\n",
       "      <td>2</td>\n",
       "      <td>108</td>\n",
       "      <td>1</td>\n",
       "      <td>-6.557858</td>\n",
       "      <td>AGKLILNGKTLKGETTTEAVDAATAEKVFKQYANDNGVDGEWTYDD...</td>\n",
       "    </tr>\n",
       "    <tr>\n",
       "      <th>6</th>\n",
       "      <td>training</td>\n",
       "      <td>2</td>\n",
       "      <td>48</td>\n",
       "      <td>93</td>\n",
       "      <td>0.150206</td>\n",
       "      <td>AHKLILNGKTLKGETTTEAVDAATAEKVFKQYANDNGVDGEWTYDD...</td>\n",
       "    </tr>\n",
       "    <tr>\n",
       "      <th>7</th>\n",
       "      <td>training</td>\n",
       "      <td>2</td>\n",
       "      <td>119</td>\n",
       "      <td>49</td>\n",
       "      <td>-2.052708</td>\n",
       "      <td>AIKLILNGKTLKGETTTEAVDAATAEKVFKQYANDNGVDGEWTYDD...</td>\n",
       "    </tr>\n",
       "    <tr>\n",
       "      <th>8</th>\n",
       "      <td>training</td>\n",
       "      <td>2</td>\n",
       "      <td>252</td>\n",
       "      <td>79</td>\n",
       "      <td>-2.450739</td>\n",
       "      <td>ALKLILNGKTLKGETTTEAVDAATAEKVFKQYANDNGVDGEWTYDD...</td>\n",
       "    </tr>\n",
       "    <tr>\n",
       "      <th>9</th>\n",
       "      <td>training</td>\n",
       "      <td>2</td>\n",
       "      <td>110</td>\n",
       "      <td>116</td>\n",
       "      <td>-0.713724</td>\n",
       "      <td>AMKLILNGKTLKGETTTEAVDAATAEKVFKQYANDNGVDGEWTYDD...</td>\n",
       "    </tr>\n",
       "  </tbody>\n",
       "</table>\n",
       "</div>"
      ],
      "text/plain": [
       "        set  dist  input_ct  selected_ct         y  \\\n",
       "0  training     2       173           33 -3.145154   \n",
       "1  training     2        18            8 -1.867676   \n",
       "2  training     2        66            2 -5.270800   \n",
       "3  training     2        72            1 -5.979498   \n",
       "4  training     2        69          168  0.481923   \n",
       "5  training     2       108            1 -6.557858   \n",
       "6  training     2        48           93  0.150206   \n",
       "7  training     2       119           49 -2.052708   \n",
       "8  training     2       252           79 -2.450739   \n",
       "9  training     2       110          116 -0.713724   \n",
       "\n",
       "                                                   x  \n",
       "0  AAKLILNGKTLKGETTTEAVDAATAEKVFKQYANDNGVDGEWTYDD...  \n",
       "1  ACKLILNGKTLKGETTTEAVDAATAEKVFKQYANDNGVDGEWTYDD...  \n",
       "2  ADKLILNGKTLKGETTTEAVDAATAEKVFKQYANDNGVDGEWTYDD...  \n",
       "3  AEKLILNGKTLKGETTTEAVDAATAEKVFKQYANDNGVDGEWTYDD...  \n",
       "4  AFKLILNGKTLKGETTTEAVDAATAEKVFKQYANDNGVDGEWTYDD...  \n",
       "5  AGKLILNGKTLKGETTTEAVDAATAEKVFKQYANDNGVDGEWTYDD...  \n",
       "6  AHKLILNGKTLKGETTTEAVDAATAEKVFKQYANDNGVDGEWTYDD...  \n",
       "7  AIKLILNGKTLKGETTTEAVDAATAEKVFKQYANDNGVDGEWTYDD...  \n",
       "8  ALKLILNGKTLKGETTTEAVDAATAEKVFKQYANDNGVDGEWTYDD...  \n",
       "9  AMKLILNGKTLKGETTTEAVDAATAEKVFKQYANDNGVDGEWTYDD...  "
      ]
     },
     "execution_count": 3,
     "metadata": {},
     "output_type": "execute_result"
    }
   ],
   "source": [
    "# Load example data (WHICH CONTAINS DOUBLE MUTANTS ONLY!)\n",
    "data_df = mavenn.load_example_dataset('gb1')\n",
    "\n",
    "# Separate test from data_df\n",
    "ix_test = data_df['set']=='test'\n",
    "test_df = data_df[ix_test].reset_index(drop=True)\n",
    "print(f'test N: {len(test_df):,}')\n",
    "\n",
    "# Remove test data from data_df\n",
    "data_df = data_df[~ix_test].reset_index(drop=True)\n",
    "print(f'training + validation N: {len(data_df):,}')\n",
    "data_df.head(10)"
   ]
  },
  {
   "cell_type": "code",
   "execution_count": 4,
   "metadata": {
    "collapsed": true
   },
   "outputs": [],
   "source": [
    "from numpy.random import default_rng\n",
    "N = 300000\n",
    "\n",
    "rng = default_rng()\n",
    "# size here represents the number of double mutants\n",
    "# uniformly randomly pick some number of double mutants\n",
    "\n",
    "numbers = rng.choice(len(data_df), size=N, replace=False) "
   ]
  },
  {
   "cell_type": "code",
   "execution_count": 5,
   "metadata": {
    "collapsed": true
   },
   "outputs": [],
   "source": [
    "data_df_N = data_df.loc[numbers].reset_index(drop=True).copy()"
   ]
  },
  {
   "cell_type": "code",
   "execution_count": 6,
   "metadata": {},
   "outputs": [],
   "source": [
    "# simulate data from loaded model\n",
    "sim_df = model.simulate_dataset(template_df=data_df_N)"
   ]
  },
  {
   "cell_type": "code",
   "execution_count": 7,
   "metadata": {},
   "outputs": [
    {
     "data": {
      "text/html": [
       "<div>\n",
       "<style scoped>\n",
       "    .dataframe tbody tr th:only-of-type {\n",
       "        vertical-align: middle;\n",
       "    }\n",
       "\n",
       "    .dataframe tbody tr th {\n",
       "        vertical-align: top;\n",
       "    }\n",
       "\n",
       "    .dataframe thead th {\n",
       "        text-align: right;\n",
       "    }\n",
       "</style>\n",
       "<table border=\"1\" class=\"dataframe\">\n",
       "  <thead>\n",
       "    <tr style=\"text-align: right;\">\n",
       "      <th></th>\n",
       "      <th>set</th>\n",
       "      <th>phi</th>\n",
       "      <th>yhat</th>\n",
       "      <th>y</th>\n",
       "      <th>x</th>\n",
       "    </tr>\n",
       "  </thead>\n",
       "  <tbody>\n",
       "    <tr>\n",
       "      <th>0</th>\n",
       "      <td>training</td>\n",
       "      <td>0.634462</td>\n",
       "      <td>-1.117043</td>\n",
       "      <td>-1.143524</td>\n",
       "      <td>QYKLILNGKTLKSETTTEAVDAATAEKVFKQYANDNGVDGEWTWDD...</td>\n",
       "    </tr>\n",
       "    <tr>\n",
       "      <th>1</th>\n",
       "      <td>training</td>\n",
       "      <td>-0.585621</td>\n",
       "      <td>-6.513978</td>\n",
       "      <td>-6.392124</td>\n",
       "      <td>QYKIILNGKTLKGETTTEAVDAATAEKVFKQYAGDNGVDGEWTYDD...</td>\n",
       "    </tr>\n",
       "    <tr>\n",
       "      <th>2</th>\n",
       "      <td>training</td>\n",
       "      <td>-2.285171</td>\n",
       "      <td>-7.901658</td>\n",
       "      <td>-7.598669</td>\n",
       "      <td>QYKLILNGKTLKGETTTEAVDAATASKVFKQYANDNGVDGEWTYDD...</td>\n",
       "    </tr>\n",
       "    <tr>\n",
       "      <th>3</th>\n",
       "      <td>training</td>\n",
       "      <td>-1.104050</td>\n",
       "      <td>-7.409938</td>\n",
       "      <td>-5.700406</td>\n",
       "      <td>QYKLILNGKTLKGETTTEAVDAATAEKVFKQYAPDNGVCGEWTYDD...</td>\n",
       "    </tr>\n",
       "    <tr>\n",
       "      <th>4</th>\n",
       "      <td>validation</td>\n",
       "      <td>-0.998027</td>\n",
       "      <td>-7.286275</td>\n",
       "      <td>-7.357221</td>\n",
       "      <td>QYKLILNGKTLKGETTTEAVDAATAEKVFKQYANDNGVDGEWTYDW...</td>\n",
       "    </tr>\n",
       "    <tr>\n",
       "      <th>...</th>\n",
       "      <td>...</td>\n",
       "      <td>...</td>\n",
       "      <td>...</td>\n",
       "      <td>...</td>\n",
       "      <td>...</td>\n",
       "    </tr>\n",
       "    <tr>\n",
       "      <th>299995</th>\n",
       "      <td>training</td>\n",
       "      <td>0.338397</td>\n",
       "      <td>-2.599643</td>\n",
       "      <td>-2.499728</td>\n",
       "      <td>QYKLIYNGKTLKGETTTEAVDAATAEKVFKQYANDNGVDGEWTYHD...</td>\n",
       "    </tr>\n",
       "    <tr>\n",
       "      <th>299996</th>\n",
       "      <td>training</td>\n",
       "      <td>-0.154529</td>\n",
       "      <td>-5.028903</td>\n",
       "      <td>-3.956814</td>\n",
       "      <td>QYKLILNGKTLKGHTTTEAVDAATAEKVFKQYAFDNGVDGEWTYDD...</td>\n",
       "    </tr>\n",
       "    <tr>\n",
       "      <th>299997</th>\n",
       "      <td>training</td>\n",
       "      <td>-1.395266</td>\n",
       "      <td>-7.646314</td>\n",
       "      <td>-7.720807</td>\n",
       "      <td>QYKLILNGKTLKGETTTEAVDAATAEKVFKQYANDNGVDGENVYDD...</td>\n",
       "    </tr>\n",
       "    <tr>\n",
       "      <th>299998</th>\n",
       "      <td>training</td>\n",
       "      <td>-0.732591</td>\n",
       "      <td>-6.851542</td>\n",
       "      <td>-4.389921</td>\n",
       "      <td>QYKLILNGKTLKGETFTEAVDAATAEKVFKQYANDNGVDWEWTYDD...</td>\n",
       "    </tr>\n",
       "    <tr>\n",
       "      <th>299999</th>\n",
       "      <td>training</td>\n",
       "      <td>-0.318868</td>\n",
       "      <td>-5.684991</td>\n",
       "      <td>-6.337916</td>\n",
       "      <td>QYKLIRNGKTLKGETTTEAVDAATAEKVFKQYANDNGVDGEWTIDD...</td>\n",
       "    </tr>\n",
       "  </tbody>\n",
       "</table>\n",
       "<p>300000 rows × 5 columns</p>\n",
       "</div>"
      ],
      "text/plain": [
       "               set       phi      yhat         y  \\\n",
       "0         training  0.634462 -1.117043 -1.143524   \n",
       "1         training -0.585621 -6.513978 -6.392124   \n",
       "2         training -2.285171 -7.901658 -7.598669   \n",
       "3         training -1.104050 -7.409938 -5.700406   \n",
       "4       validation -0.998027 -7.286275 -7.357221   \n",
       "...            ...       ...       ...       ...   \n",
       "299995    training  0.338397 -2.599643 -2.499728   \n",
       "299996    training -0.154529 -5.028903 -3.956814   \n",
       "299997    training -1.395266 -7.646314 -7.720807   \n",
       "299998    training -0.732591 -6.851542 -4.389921   \n",
       "299999    training -0.318868 -5.684991 -6.337916   \n",
       "\n",
       "                                                        x  \n",
       "0       QYKLILNGKTLKSETTTEAVDAATAEKVFKQYANDNGVDGEWTWDD...  \n",
       "1       QYKIILNGKTLKGETTTEAVDAATAEKVFKQYAGDNGVDGEWTYDD...  \n",
       "2       QYKLILNGKTLKGETTTEAVDAATASKVFKQYANDNGVDGEWTYDD...  \n",
       "3       QYKLILNGKTLKGETTTEAVDAATAEKVFKQYAPDNGVCGEWTYDD...  \n",
       "4       QYKLILNGKTLKGETTTEAVDAATAEKVFKQYANDNGVDGEWTYDW...  \n",
       "...                                                   ...  \n",
       "299995  QYKLIYNGKTLKGETTTEAVDAATAEKVFKQYANDNGVDGEWTYHD...  \n",
       "299996  QYKLILNGKTLKGHTTTEAVDAATAEKVFKQYAFDNGVDGEWTYDD...  \n",
       "299997  QYKLILNGKTLKGETTTEAVDAATAEKVFKQYANDNGVDGENVYDD...  \n",
       "299998  QYKLILNGKTLKGETFTEAVDAATAEKVFKQYANDNGVDWEWTYDD...  \n",
       "299999  QYKLIRNGKTLKGETTTEAVDAATAEKVFKQYANDNGVDGEWTIDD...  \n",
       "\n",
       "[300000 rows x 5 columns]"
      ]
     },
     "execution_count": 7,
     "metadata": {},
     "output_type": "execute_result"
    }
   ],
   "source": [
    "sim_df"
   ]
  },
  {
   "cell_type": "code",
   "execution_count": 8,
   "metadata": {},
   "outputs": [],
   "source": [
    "# load data to compare ground-truth model\n",
    "x_test = test_df['x'].values\n",
    "y_test = test_df['y'].values\n",
    "phi_test = model.x_to_phi(x_test)\n",
    "yhat_test = model.x_to_yhat(x_test)\n",
    "phi_lim = [min(phi_test)-.5, max(phi_test)+.5]\n",
    "phi_grid = np.linspace(phi_lim[0], phi_lim[1], 1000)\n",
    "yhat_grid = model.phi_to_yhat(phi_grid)"
   ]
  },
  {
   "cell_type": "code",
   "execution_count": 9,
   "metadata": {
    "collapsed": true
   },
   "outputs": [],
   "source": [
    "# get pairwise theta from model trained on experimental data\n",
    "theta_lc = model.get_theta()['theta_lc']\n",
    "# drop nans to plotting\n",
    "theta_lc = theta_lc[~np.isnan(theta_lc)]"
   ]
  },
  {
   "cell_type": "code",
   "execution_count": 10,
   "metadata": {
    "collapsed": true
   },
   "outputs": [],
   "source": [
    "# # Split simulated data into trianing and test sets as\n",
    "# # with the model trained on experimental data\n",
    "# ix = sim_df['training_set']\n",
    "# sim_train_df = sim_df[ix]\n",
    "# print(f'simulated training N: {len(sim_train_df):,}')\n",
    "# sim_test_df = sim_df[~ix]\n",
    "# print(f'simulated testing N: {len(sim_test_df):,}')\n",
    "\n",
    "sim_train_df = sim_df.copy()"
   ]
  },
  {
   "cell_type": "code",
   "execution_count": 11,
   "metadata": {
    "collapsed": true
   },
   "outputs": [],
   "source": [
    "# define sequence length\n",
    "L = len(sim_df['x'][0])"
   ]
  },
  {
   "cell_type": "markdown",
   "metadata": {},
   "source": [
    "## Train models on simulated data"
   ]
  },
  {
   "cell_type": "code",
   "execution_count": 12,
   "metadata": {},
   "outputs": [
    {
     "name": "stdout",
     "output_type": "stream",
     "text": [
      "training model 0\n",
      "Training time: 93.9 seconds\n",
      "training model 1\n",
      "Training time: 127.1 seconds\n",
      "training model 2\n",
      "Training time: 121.5 seconds\n",
      "training model 3\n",
      "Training time: 100.0 seconds\n",
      "training model 4\n",
      "Training time: 118.0 seconds\n",
      "training model 5\n",
      "Training time: 145.5 seconds\n",
      "training model 6\n",
      "Training time: 118.6 seconds\n",
      "training model 7\n",
      "Training time: 93.5 seconds\n",
      "training model 8\n",
      "Training time: 105.6 seconds\n",
      "training model 9\n",
      "Training time: 110.5 seconds\n"
     ]
    }
   ],
   "source": [
    "models = []\n",
    "training_times = []\n",
    "\n",
    "for model_index in range(10):\n",
    "    \n",
    "    print(f'training model {model_index}')\n",
    "    sim_model = mavenn.Model(L=L,\n",
    "                         alphabet='protein',\n",
    "                         gpmap_type='additive', \n",
    "                         regression_type='GE',\n",
    "                         ge_noise_model_type='Gaussian',\n",
    "                         ge_heteroskedasticity_order=2)\n",
    "\n",
    "    # Set simulated training data\n",
    "    sim_model.set_data(x=sim_train_df['x'],\n",
    "                   y=sim_train_df['y'],\n",
    "                   shuffle=True,\n",
    "                   verbose=False)\n",
    "    \n",
    "    start_time = time.time()\n",
    "    # Fit model to data\n",
    "    sim_model.fit(learning_rate=.005,\n",
    "              epochs=1000,\n",
    "              try_tqdm=False,    \n",
    "              batch_size=200,\n",
    "              early_stopping=True,\n",
    "              early_stopping_patience=30,\n",
    "              linear_initialization=True,\n",
    "              verbose=False)\n",
    "    \n",
    "    training_time = time.time() - start_time\n",
    "    \n",
    "    training_times.append(training_time)\n",
    "    models.append(sim_model)"
   ]
  },
  {
   "cell_type": "code",
   "execution_count": 13,
   "metadata": {},
   "outputs": [
    {
     "name": "stdout",
     "output_type": "stream",
     "text": [
      "mkdir: models/N_300000: File exists\r\n"
     ]
    }
   ],
   "source": [
    "# make directory to save results\n",
    "directory = 'N_'+str(len(sim_df))\n",
    "!mkdir models/$directory"
   ]
  },
  {
   "cell_type": "code",
   "execution_count": 14,
   "metadata": {},
   "outputs": [
    {
     "name": "stdout",
     "output_type": "stream",
     "text": [
      " Model: 0, $R^2$: 0.9985265202338827\n",
      "Model saved to these files:\n",
      "\tmodels/N_300000/model_0.pickle\n",
      "\tmodels/N_300000/model_0.h5\n",
      " Model: 1, $R^2$: 0.9984153675890678\n",
      "Model saved to these files:\n",
      "\tmodels/N_300000/model_1.pickle\n",
      "\tmodels/N_300000/model_1.h5\n",
      " Model: 2, $R^2$: 0.9984569396046553\n",
      "Model saved to these files:\n",
      "\tmodels/N_300000/model_2.pickle\n",
      "\tmodels/N_300000/model_2.h5\n",
      " Model: 3, $R^2$: 0.9985792426895276\n",
      "Model saved to these files:\n",
      "\tmodels/N_300000/model_3.pickle\n",
      "\tmodels/N_300000/model_3.h5\n",
      " Model: 4, $R^2$: 0.9987774445865912\n",
      "Model saved to these files:\n",
      "\tmodels/N_300000/model_4.pickle\n",
      "\tmodels/N_300000/model_4.h5\n",
      " Model: 5, $R^2$: 0.9986649575871799\n",
      "Model saved to these files:\n",
      "\tmodels/N_300000/model_5.pickle\n",
      "\tmodels/N_300000/model_5.h5\n",
      " Model: 6, $R^2$: 0.997673754997059\n",
      "Model saved to these files:\n",
      "\tmodels/N_300000/model_6.pickle\n",
      "\tmodels/N_300000/model_6.h5\n",
      " Model: 7, $R^2$: 0.9986833821203004\n",
      "Model saved to these files:\n",
      "\tmodels/N_300000/model_7.pickle\n",
      "\tmodels/N_300000/model_7.h5\n",
      " Model: 8, $R^2$: 0.9983091188295792\n",
      "Model saved to these files:\n",
      "\tmodels/N_300000/model_8.pickle\n",
      "\tmodels/N_300000/model_8.h5\n",
      " Model: 9, $R^2$: 0.9987364675613976\n",
      "Model saved to these files:\n",
      "\tmodels/N_300000/model_9.pickle\n",
      "\tmodels/N_300000/model_9.h5\n"
     ]
    }
   ],
   "source": [
    "model_Rsqs = []\n",
    "for model_index in range(len(models)):\n",
    "    print(f' Model: {model_index}, $R^2$: {np.corrcoef(models[model_index].x_to_yhat(x_test),yhat_test)[0][1]**2}')\n",
    "    model_Rsqs.append(np.corrcoef(models[model_index].x_to_yhat(x_test),yhat_test)[0][1]**2)\n",
    "    models[model_index].save(f'models/{directory}/model_{model_index}')"
   ]
  },
  {
   "cell_type": "code",
   "execution_count": 15,
   "metadata": {
    "collapsed": true
   },
   "outputs": [],
   "source": [
    "#np.savetxt('models/N_24K/training_times.txt',training_times)\n",
    "#np.savetxt('models/N_24K/model_Rsqs.txt',model_Rsqs)\n",
    "\n",
    "np.savetxt(f'models/{directory}/training_times.txt',training_times)\n",
    "np.savetxt(f'models/{directory}/model_Rsqs.txt',model_Rsqs)"
   ]
  },
  {
   "cell_type": "code",
   "execution_count": 16,
   "metadata": {},
   "outputs": [
    {
     "data": {
      "text/plain": [
       "[93.98594689369202,\n",
       " 127.1999089717865,\n",
       " 121.60798525810242,\n",
       " 100.10070300102234,\n",
       " 118.09328508377075,\n",
       " 145.5615038871765,\n",
       " 118.64710664749146,\n",
       " 93.53135991096497,\n",
       " 105.6686840057373,\n",
       " 110.60171222686768]"
      ]
     },
     "execution_count": 16,
     "metadata": {},
     "output_type": "execute_result"
    }
   ],
   "source": [
    "training_times"
   ]
  },
  {
   "cell_type": "code",
   "execution_count": null,
   "metadata": {
    "collapsed": true
   },
   "outputs": [],
   "source": []
  }
 ],
 "metadata": {
  "kernelspec": {
   "display_name": "Python 3",
   "language": "python",
   "name": "python3"
  },
  "language_info": {
   "codemirror_mode": {
    "name": "ipython",
    "version": 3
   },
   "file_extension": ".py",
   "mimetype": "text/x-python",
   "name": "python",
   "nbconvert_exporter": "python",
   "pygments_lexer": "ipython3",
   "version": "3.6.7"
  }
 },
 "nbformat": 4,
 "nbformat_minor": 2
}
