{
 "cells": [
  {
   "cell_type": "markdown",
   "metadata": {},
   "source": [
    "### Import libraries and read data"
   ]
  },
  {
   "cell_type": "code",
   "execution_count": 1,
   "metadata": {},
   "outputs": [
    {
     "name": "stderr",
     "output_type": "stream",
     "text": [
      "Using TensorFlow backend.\n",
      "/Users/tareen/miniconda3/lib/python3.6/site-packages/tensorflow/python/framework/dtypes.py:523: FutureWarning: Passing (type, 1) or '1type' as a synonym of type is deprecated; in a future version of numpy, it will be understood as (type, (1,)) / '(1,)type'.\n",
      "  _np_qint8 = np.dtype([(\"qint8\", np.int8, 1)])\n",
      "/Users/tareen/miniconda3/lib/python3.6/site-packages/tensorflow/python/framework/dtypes.py:524: FutureWarning: Passing (type, 1) or '1type' as a synonym of type is deprecated; in a future version of numpy, it will be understood as (type, (1,)) / '(1,)type'.\n",
      "  _np_quint8 = np.dtype([(\"quint8\", np.uint8, 1)])\n",
      "/Users/tareen/miniconda3/lib/python3.6/site-packages/tensorflow/python/framework/dtypes.py:525: FutureWarning: Passing (type, 1) or '1type' as a synonym of type is deprecated; in a future version of numpy, it will be understood as (type, (1,)) / '(1,)type'.\n",
      "  _np_qint16 = np.dtype([(\"qint16\", np.int16, 1)])\n",
      "/Users/tareen/miniconda3/lib/python3.6/site-packages/tensorflow/python/framework/dtypes.py:526: FutureWarning: Passing (type, 1) or '1type' as a synonym of type is deprecated; in a future version of numpy, it will be understood as (type, (1,)) / '(1,)type'.\n",
      "  _np_quint16 = np.dtype([(\"quint16\", np.uint16, 1)])\n",
      "/Users/tareen/miniconda3/lib/python3.6/site-packages/tensorflow/python/framework/dtypes.py:527: FutureWarning: Passing (type, 1) or '1type' as a synonym of type is deprecated; in a future version of numpy, it will be understood as (type, (1,)) / '(1,)type'.\n",
      "  _np_qint32 = np.dtype([(\"qint32\", np.int32, 1)])\n",
      "/Users/tareen/miniconda3/lib/python3.6/site-packages/tensorflow/python/framework/dtypes.py:532: FutureWarning: Passing (type, 1) or '1type' as a synonym of type is deprecated; in a future version of numpy, it will be understood as (type, (1,)) / '(1,)type'.\n",
      "  np_resource = np.dtype([(\"resource\", np.ubyte, 1)])\n"
     ]
    }
   ],
   "source": [
    "from __future__ import division\n",
    "import pandas as pd\n",
    "import numpy as np\n",
    "from numpy import argmax\n",
    "from scipy import constants\n",
    "import random\n",
    "\n",
    "import os\n",
    "import sys\n",
    "import re\n",
    "import pdb\n",
    "import glob\n",
    "\n",
    "#import suftware\n",
    "\n",
    "from sklearn.preprocessing import LabelEncoder\n",
    "from sklearn.preprocessing import OneHotEncoder\n",
    "from sklearn.model_selection import train_test_split\n",
    "\n",
    "import keras\n",
    "from keras.models import Sequential, Model\n",
    "from keras.layers import Dense, Dropout, Activation, Input, Lambda, Concatenate\n",
    "from keras.optimizers import Adam, SGD\n",
    "from keras import metrics\n",
    "from keras import regularizers\n",
    "from keras import callbacks\n",
    "import keras.backend as K\n",
    "\n",
    "import tensorflow as tf\n",
    "from tensorflow.python.framework import ops\n",
    "from tensorflow.python.ops import math_ops\n",
    "\n",
    "import seaborn as sns\n",
    "import matplotlib.pyplot as plt\n",
    "import matplotlib.patches as patches\n",
    "from matplotlib import cm\n",
    "from matplotlib.colors import ListedColormap, LinearSegmentedColormap\n",
    "%matplotlib inline\n",
    "plt.ion()"
   ]
  },
  {
   "cell_type": "code",
   "execution_count": 2,
   "metadata": {
    "collapsed": true
   },
   "outputs": [],
   "source": [
    "input_data_ordered_raw = pd.read_csv('psi_9nt.csv')\n",
    "#input_data_ordered_raw = pd.read_csv('ratios_9nt_ss_locus.txt',delim_whitespace=True)"
   ]
  },
  {
   "cell_type": "code",
   "execution_count": 3,
   "metadata": {},
   "outputs": [
    {
     "data": {
      "text/html": [
       "<div>\n",
       "<style scoped>\n",
       "    .dataframe tbody tr th:only-of-type {\n",
       "        vertical-align: middle;\n",
       "    }\n",
       "\n",
       "    .dataframe tbody tr th {\n",
       "        vertical-align: top;\n",
       "    }\n",
       "\n",
       "    .dataframe thead th {\n",
       "        text-align: right;\n",
       "    }\n",
       "</style>\n",
       "<table border=\"1\" class=\"dataframe\">\n",
       "  <thead>\n",
       "    <tr style=\"text-align: right;\">\n",
       "      <th></th>\n",
       "      <th>seq</th>\n",
       "      <th>brca2_9nt</th>\n",
       "      <th>brca2_9nt_stderr</th>\n",
       "      <th>ikbkap_9nt</th>\n",
       "      <th>ikbkap_9nt_stderr</th>\n",
       "      <th>smn1_9nt</th>\n",
       "      <th>smn1_9nt_stderr</th>\n",
       "    </tr>\n",
       "  </thead>\n",
       "  <tbody>\n",
       "    <tr>\n",
       "      <th>0</th>\n",
       "      <td>AAAGCAAAA</td>\n",
       "      <td>0.373522</td>\n",
       "      <td>0.095217</td>\n",
       "      <td>0.080039</td>\n",
       "      <td>0.081333</td>\n",
       "      <td>0.227001</td>\n",
       "      <td>0.082164</td>\n",
       "    </tr>\n",
       "    <tr>\n",
       "      <th>1</th>\n",
       "      <td>AAAGCAAAC</td>\n",
       "      <td>0.688386</td>\n",
       "      <td>0.063575</td>\n",
       "      <td>0.061021</td>\n",
       "      <td>0.018316</td>\n",
       "      <td>0.522138</td>\n",
       "      <td>0.017503</td>\n",
       "    </tr>\n",
       "    <tr>\n",
       "      <th>2</th>\n",
       "      <td>AAAGCAAAG</td>\n",
       "      <td>0.756357</td>\n",
       "      <td>0.481555</td>\n",
       "      <td>0.045032</td>\n",
       "      <td>0.023374</td>\n",
       "      <td>0.210907</td>\n",
       "      <td>0.170688</td>\n",
       "    </tr>\n",
       "    <tr>\n",
       "      <th>3</th>\n",
       "      <td>AAAGCAAAU</td>\n",
       "      <td>0.443014</td>\n",
       "      <td>0.127961</td>\n",
       "      <td>0.071423</td>\n",
       "      <td>0.028762</td>\n",
       "      <td>0.232645</td>\n",
       "      <td>0.044371</td>\n",
       "    </tr>\n",
       "    <tr>\n",
       "      <th>4</th>\n",
       "      <td>AAAGCAACA</td>\n",
       "      <td>0.548363</td>\n",
       "      <td>0.140963</td>\n",
       "      <td>0.100128</td>\n",
       "      <td>0.071551</td>\n",
       "      <td>0.362139</td>\n",
       "      <td>0.127696</td>\n",
       "    </tr>\n",
       "  </tbody>\n",
       "</table>\n",
       "</div>"
      ],
      "text/plain": [
       "         seq  brca2_9nt  brca2_9nt_stderr  ikbkap_9nt  ikbkap_9nt_stderr  \\\n",
       "0  AAAGCAAAA   0.373522          0.095217    0.080039           0.081333   \n",
       "1  AAAGCAAAC   0.688386          0.063575    0.061021           0.018316   \n",
       "2  AAAGCAAAG   0.756357          0.481555    0.045032           0.023374   \n",
       "3  AAAGCAAAU   0.443014          0.127961    0.071423           0.028762   \n",
       "4  AAAGCAACA   0.548363          0.140963    0.100128           0.071551   \n",
       "\n",
       "   smn1_9nt  smn1_9nt_stderr  \n",
       "0  0.227001         0.082164  \n",
       "1  0.522138         0.017503  \n",
       "2  0.210907         0.170688  \n",
       "3  0.232645         0.044371  \n",
       "4  0.362139         0.127696  "
      ]
     },
     "execution_count": 3,
     "metadata": {},
     "output_type": "execute_result"
    }
   ],
   "source": [
    "input_data_ordered_raw.head()"
   ]
  },
  {
   "cell_type": "code",
   "execution_count": 4,
   "metadata": {},
   "outputs": [
    {
     "data": {
      "text/plain": [
       "32768"
      ]
     },
     "execution_count": 4,
     "metadata": {},
     "output_type": "execute_result"
    }
   ],
   "source": [
    "len(input_data_ordered_raw)"
   ]
  },
  {
   "cell_type": "markdown",
   "metadata": {},
   "source": [
    "## Remove nan rows from dataframe"
   ]
  },
  {
   "cell_type": "code",
   "execution_count": 5,
   "metadata": {
    "collapsed": true
   },
   "outputs": [],
   "source": [
    "input_data_ordered_raw = input_data_ordered_raw[['seq','brca2_9nt']].dropna()\n",
    "\n",
    "# so I don't have to use pseudocounts\n",
    "input_data_ordered_raw = input_data_ordered_raw[input_data_ordered_raw['brca2_9nt']>0]"
   ]
  },
  {
   "cell_type": "code",
   "execution_count": 6,
   "metadata": {
    "collapsed": true
   },
   "outputs": [],
   "source": [
    "#sequences_9nt = input_data_ordered_raw['seq'].values\n",
    "sequences = input_data_ordered_raw['seq'].values\n",
    "val = np.log10(input_data_ordered_raw['brca2_9nt'].values)\n",
    "#val = input_data_ordered_raw['smn1_9nt']"
   ]
  },
  {
   "cell_type": "code",
   "execution_count": 7,
   "metadata": {},
   "outputs": [
    {
     "data": {
      "text/plain": [
       "31197"
      ]
     },
     "execution_count": 7,
     "metadata": {},
     "output_type": "execute_result"
    }
   ],
   "source": [
    "len(input_data_ordered_raw)"
   ]
  },
  {
   "cell_type": "code",
   "execution_count": 8,
   "metadata": {
    "collapsed": true
   },
   "outputs": [],
   "source": [
    "# sequences = []\n",
    "# # delete characters G and U at positions 3 and 4 in the sequences\n",
    "# for _ in range(len(sequences_9nt)):\n",
    "#     sequences.append(sequences_9nt[_][0:3]+sequences_9nt[_][5:])\n",
    "    \n",
    "# sequences = np.array(sequences)    "
   ]
  },
  {
   "cell_type": "code",
   "execution_count": 9,
   "metadata": {
    "collapsed": true
   },
   "outputs": [],
   "source": [
    "#val_norm = (val-min(val))/(max(val)-min(val))\n",
    "val_norm = val"
   ]
  },
  {
   "cell_type": "code",
   "execution_count": 10,
   "metadata": {},
   "outputs": [
    {
     "data": {
      "text/plain": [
       "31197"
      ]
     },
     "execution_count": 10,
     "metadata": {},
     "output_type": "execute_result"
    }
   ],
   "source": [
    "len(sequences)"
   ]
  },
  {
   "cell_type": "markdown",
   "metadata": {},
   "source": [
    "## Split the data into test and train"
   ]
  },
  {
   "cell_type": "code",
   "execution_count": 11,
   "metadata": {
    "collapsed": true
   },
   "outputs": [],
   "source": [
    "from sklearn.model_selection import train_test_split"
   ]
  },
  {
   "cell_type": "code",
   "execution_count": 12,
   "metadata": {
    "collapsed": true
   },
   "outputs": [],
   "source": [
    "x_train, x_test, y_train, y_test = train_test_split(sequences,val_norm,test_size=0.2,random_state=0)\n",
    "#x_train, x_test, y_train, y_test = train_test_split(sequences,val,test_size=0.2)\n",
    "\n"
   ]
  },
  {
   "cell_type": "code",
   "execution_count": 13,
   "metadata": {
    "collapsed": true
   },
   "outputs": [],
   "source": [
    "# min_y_train = min(y_train)\n",
    "# max_y_train = max(y_train)\n",
    "\n",
    "# min_y_test = min(y_test)\n",
    "# max_y_test = max(y_test)\n",
    "\n",
    "# y_train = (y_train-min(y_train))/(max(y_train)-min(y_train))\n",
    "# y_test = (y_test-min(y_test))/(max(y_test)-min(y_test))"
   ]
  },
  {
   "cell_type": "code",
   "execution_count": 14,
   "metadata": {},
   "outputs": [
    {
     "data": {
      "text/plain": [
       "'AUAGUAACA'"
      ]
     },
     "execution_count": 14,
     "metadata": {},
     "output_type": "execute_result"
    }
   ],
   "source": [
    "x_train[0]"
   ]
  },
  {
   "cell_type": "code",
   "execution_count": 15,
   "metadata": {},
   "outputs": [
    {
     "data": {
      "image/png": "[encoded data removed]",
      "text/plain": [
       "<Figure size 432x288 with 1 Axes>"
      ]
     },
     "metadata": {
      "needs_background": "light"
     },
     "output_type": "display_data"
    }
   ],
   "source": [
    "plt.hist(y_train,bins=50,color='r',density=True,alpha=0.5)\n",
    "plt.hist(y_test,bins=50,color='b',density=True,alpha=0.5)\n",
    "plt.show()"
   ]
  },
  {
   "cell_type": "code",
   "execution_count": 16,
   "metadata": {
    "collapsed": true
   },
   "outputs": [],
   "source": [
    "# le = LabelEncoder().fit(bases).transform(bases).reshape(len(bases), 1)\n",
    "# onehot_encoder = OneHotEncoder(sparse = False)\n",
    "# onehot_encoder.fit(le)"
   ]
  },
  {
   "cell_type": "code",
   "execution_count": 17,
   "metadata": {
    "collapsed": true
   },
   "outputs": [],
   "source": [
    "# # Fit a label encoder and a onehot encoder\n",
    "# bases = [\"A\",\"C\",\"G\",\"U\"]\n",
    "# label_encoder = LabelEncoder()\n",
    "# label_encoder.fit(bases)\n",
    "# tmp = label_encoder.transform(bases)\n",
    "# tmp = tmp.reshape(len(tmp), 1)\n",
    "# onehot_encoder = OneHotEncoder(sparse = False)\n",
    "# onehot_encoder.fit(tmp)\n",
    "\n",
    "# # Encode sequence into onehot\n",
    "# def onehot_sequence(sequence, lab_encoder = label_encoder, one_encoder = onehot_encoder):\n",
    "#     \"\"\"Sequence as a string\"\"\"\n",
    "#     tmp = lab_encoder.transform(list(sequence))\n",
    "#     tmp = tmp.reshape(len(tmp),1)\n",
    "#     tmp = one_encoder.transform(tmp)\n",
    "#     return tmp"
   ]
  },
  {
   "cell_type": "code",
   "execution_count": 18,
   "metadata": {
    "collapsed": true
   },
   "outputs": [],
   "source": [
    "# Fit a label encoder and a onehot encoder\n",
    "bases = [\"A\",\"C\",\"G\",\"U\"]\n",
    "label_encoder = LabelEncoder()\n",
    "label_encoder.fit(bases)\n",
    "tmp = label_encoder.transform(bases)\n",
    "tmp = tmp.reshape(len(tmp), 1)\n",
    "onehot_encoder = OneHotEncoder(sparse = False)\n",
    "onehot_encoder.fit(tmp)\n",
    "\n",
    "# Encode sequence into onehot\n",
    "def onehot_sequence(sequence, lab_encoder = label_encoder, one_encoder = onehot_encoder):\n",
    "    \"\"\"Sequence as a string\"\"\"\n",
    "    tmp = lab_encoder.transform(list(sequence))\n",
    "    tmp = tmp.reshape(len(tmp),1)\n",
    "    tmp = one_encoder.transform(tmp)\n",
    "    return tmp"
   ]
  },
  {
   "cell_type": "code",
   "execution_count": 19,
   "metadata": {},
   "outputs": [
    {
     "name": "stdout",
     "output_type": "stream",
     "text": [
      "UCUGCUUUU\n"
     ]
    },
    {
     "data": {
      "text/plain": [
       "(9, 4)"
      ]
     },
     "execution_count": 19,
     "metadata": {},
     "output_type": "execute_result"
    }
   ],
   "source": [
    "print(x_train[2])\n",
    "onehot_sequence(x_train[2]).shape"
   ]
  },
  {
   "cell_type": "code",
   "execution_count": null,
   "metadata": {
    "collapsed": true
   },
   "outputs": [],
   "source": []
  },
  {
   "cell_type": "markdown",
   "metadata": {},
   "source": [
    "### Form input from sequences for all-pairs model"
   ]
  },
  {
   "cell_type": "code",
   "execution_count": 20,
   "metadata": {
    "collapsed": true
   },
   "outputs": [],
   "source": [
    "# nbr_dinucleotides = ['AA', 'AC', 'AG', 'AU', \n",
    "#                      'CA', 'CC', 'CG', 'CU', \n",
    "#                      'GA', 'GC', 'GG', 'GU',\n",
    "#                      'UA', 'UC', 'UG', 'UU']\n",
    "\n",
    "\n",
    "# # one-hot encode di-nucleotide training set\n",
    "# dinuc_seqs_OHE = []\n",
    "# for _ in range(len(X_train)):\n",
    "\n",
    "#     # take current raw training sequence    \n",
    "#     raw_sequence = X_train[_]\n",
    "    \n",
    "#     # split it into all nucleotide pairs\n",
    "#     all_nucl_pairs = []\n",
    "\n",
    "#     for i in range(len(raw_sequence)):\n",
    "#         for j in range(i+1,len(raw_sequence)):\n",
    "#             all_nucl_pairs.append(raw_sequence[i]+raw_sequence[j])\n",
    "    \n",
    "#     # get indices of where pairs occur so that these indices could be used to one-hot encode.\n",
    "#     list_of_nbr_indices = [nbr_dinucleotides.index(dn) for dn in all_nucl_pairs]\n",
    "    \n",
    "#     # do One-hot encoding. Every time a pair from list 'nbr_dinucleotides'\n",
    "#     # appears at a position, put 1 there, otherwise zeros.\n",
    "#     tmp_seq = np.array(list_of_nbr_indices)\n",
    "#     OHE_dinucl_seq = np.zeros((tmp_seq.size, len(nbr_dinucleotides)))\n",
    "#     OHE_dinucl_seq[np.arange(tmp_seq.size),tmp_seq] = 1\n",
    "    \n",
    "#     dinuc_seqs_OHE.append(OHE_dinucl_seq)\n",
    "    \n",
    "\n",
    "# dinuc_seqs_OHE_test = []\n",
    "# for _ in range(len(X_test)):\n",
    "\n",
    "#     # take current raw test sequence    \n",
    "#     raw_sequence = X_test[_]\n",
    "    \n",
    "#     # split it into all nucleotide pairs\n",
    "#     all_nucl_pairs = []\n",
    "\n",
    "#     for i in range(len(raw_sequence)):\n",
    "#         for j in range(i+1,len(raw_sequence)):\n",
    "#             all_nucl_pairs.append(raw_sequence[i]+raw_sequence[j])\n",
    "    \n",
    "#     # get indices of where pairs occur so that these indices could be used to one-hot encode.\n",
    "#     list_of_nbr_indices = [nbr_dinucleotides.index(dn) for dn in all_nucl_pairs]\n",
    "    \n",
    "#     # do One-hot encoding. Every time a pair from list 'nbr_dinucleotides'\n",
    "#     # appears at a position, put 1 there, otherwise zeros.\n",
    "#     tmp_seq = np.array(list_of_nbr_indices)\n",
    "#     OHE_dinucl_seq = np.zeros((tmp_seq.size, len(nbr_dinucleotides)))\n",
    "#     OHE_dinucl_seq[np.arange(tmp_seq.size),tmp_seq] = 1\n",
    "    \n",
    "#     dinuc_seqs_OHE_test.append(OHE_dinucl_seq)    "
   ]
  },
  {
   "cell_type": "code",
   "execution_count": 21,
   "metadata": {},
   "outputs": [
    {
     "name": "stdout",
     "output_type": "stream",
     "text": [
      "0\n",
      "5000\n",
      "10000\n",
      "15000\n",
      "20000\n",
      "--- 20.94305396080017 seconds ---\n"
     ]
    }
   ],
   "source": [
    "import time\n",
    "start_time = time.time()\n",
    "\n",
    "input_seqs_ohe = []\n",
    "for _ in range(len(x_train)):\n",
    "    \n",
    "    if _%5000==0:\n",
    "        print(_)\n",
    "    \n",
    "    input_seqs_ohe.append(onehot_sequence(x_train[_]))\n",
    "\n",
    "\n",
    "print(\"--- %s seconds ---\" % (time.time() - start_time))\n",
    "    \n",
    "    \n",
    "test_seqs_ohe = []    \n",
    "for _ in range(len(x_test)):\n",
    "    test_seqs_ohe.append(onehot_sequence(x_test[_]))"
   ]
  },
  {
   "cell_type": "code",
   "execution_count": null,
   "metadata": {
    "collapsed": true
   },
   "outputs": [],
   "source": []
  },
  {
   "cell_type": "code",
   "execution_count": 22,
   "metadata": {},
   "outputs": [
    {
     "data": {
      "text/plain": [
       "(24957, 9, 4)"
      ]
     },
     "execution_count": 22,
     "metadata": {},
     "output_type": "execute_result"
    }
   ],
   "source": [
    "np.shape(input_seqs_ohe)"
   ]
  },
  {
   "cell_type": "code",
   "execution_count": 23,
   "metadata": {},
   "outputs": [
    {
     "data": {
      "text/plain": [
       "numpy.ndarray"
      ]
     },
     "execution_count": 23,
     "metadata": {},
     "output_type": "execute_result"
    }
   ],
   "source": [
    "type(input_seqs_ohe[0])"
   ]
  },
  {
   "cell_type": "code",
   "execution_count": 24,
   "metadata": {},
   "outputs": [
    {
     "data": {
      "text/plain": [
       "list"
      ]
     },
     "execution_count": 24,
     "metadata": {},
     "output_type": "execute_result"
    }
   ],
   "source": [
    "type(input_seqs_ohe)"
   ]
  },
  {
   "cell_type": "code",
   "execution_count": 25,
   "metadata": {
    "collapsed": true
   },
   "outputs": [],
   "source": [
    "input_sequences_tensor2 = np.array(input_seqs_ohe)\n",
    "test_input_sequences_tensor2 = np.array(test_seqs_ohe)"
   ]
  },
  {
   "cell_type": "code",
   "execution_count": 26,
   "metadata": {},
   "outputs": [
    {
     "name": "stdout",
     "output_type": "stream",
     "text": [
      "(24957, 9, 4)\n",
      "(6240, 9, 4)\n"
     ]
    }
   ],
   "source": [
    "print(input_sequences_tensor2.shape)\n",
    "print(test_input_sequences_tensor2.shape)"
   ]
  },
  {
   "cell_type": "code",
   "execution_count": 27,
   "metadata": {
    "collapsed": true
   },
   "outputs": [],
   "source": [
    "labels = np.array(y_train)\n",
    "test_labels = np.array(y_test)"
   ]
  },
  {
   "cell_type": "code",
   "execution_count": 28,
   "metadata": {},
   "outputs": [
    {
     "data": {
      "text/plain": [
       "(24957, 1)"
      ]
     },
     "execution_count": 28,
     "metadata": {},
     "output_type": "execute_result"
    }
   ],
   "source": [
    "y_train = np.array(y_train).reshape(y_train.shape[0],1)\n",
    "y_train.shape"
   ]
  },
  {
   "cell_type": "code",
   "execution_count": 29,
   "metadata": {
    "collapsed": true
   },
   "outputs": [],
   "source": [
    "x_train_tensor = input_seqs_ohe.copy()\n",
    "x_test_tensor = test_seqs_ohe.copy()"
   ]
  },
  {
   "cell_type": "code",
   "execution_count": 30,
   "metadata": {},
   "outputs": [
    {
     "name": "stdout",
     "output_type": "stream",
     "text": [
      "0\n",
      "5000\n",
      "10000\n",
      "15000\n",
      "20000\n"
     ]
    }
   ],
   "source": [
    "input_sequences_tensor2 = []\n",
    "test_input_sequences_tensor2 = []\n",
    "\n",
    "for _ in range(len(x_train_tensor)):\n",
    "    \n",
    "    if _%5000==0:\n",
    "        print(_)\n",
    "    \n",
    "    temp = x_train_tensor[_].ravel()\n",
    "    input_sequences_tensor2.append(temp)\n",
    "    \n",
    "for _ in range(len(x_test_tensor)):\n",
    "    \n",
    "    temp = x_test_tensor[_].ravel()\n",
    "    test_input_sequences_tensor2.append(temp)\n",
    "    \n",
    "input_sequences_tensor2 = np.array(input_sequences_tensor2)\n",
    "test_input_sequences_tensor2 = np.array(test_input_sequences_tensor2)    "
   ]
  },
  {
   "cell_type": "code",
   "execution_count": 31,
   "metadata": {},
   "outputs": [
    {
     "data": {
      "text/plain": [
       "((24957, 36), (24957,))"
      ]
     },
     "execution_count": 31,
     "metadata": {},
     "output_type": "execute_result"
    }
   ],
   "source": [
    "input_sequences_tensor2.shape, labels.shape"
   ]
  },
  {
   "cell_type": "markdown",
   "metadata": {},
   "source": [
    "## Custom error metric"
   ]
  },
  {
   "cell_type": "code",
   "execution_count": 32,
   "metadata": {
    "collapsed": true
   },
   "outputs": [],
   "source": [
    "# coefficient of determination (R^2) for regression\n",
    "def r_square(y_true, y_pred):\n",
    "    from keras import backend as K\n",
    "    SS_res =  K.sum(K.square(y_true - y_pred)) \n",
    "    SS_tot = K.sum(K.square(y_true - K.mean(y_true))) \n",
    "    return (1 - SS_res/(SS_tot + K.epsilon()))"
   ]
  },
  {
   "cell_type": "code",
   "execution_count": 33,
   "metadata": {
    "collapsed": true
   },
   "outputs": [],
   "source": [
    "import keras.backend as K\n",
    "import numpy as np"
   ]
  },
  {
   "cell_type": "markdown",
   "metadata": {},
   "source": [
    "## Custom Loss"
   ]
  },
  {
   "cell_type": "code",
   "execution_count": 34,
   "metadata": {
    "collapsed": true
   },
   "outputs": [],
   "source": [
    "import keras.backend as K\n",
    "import tensorflow as tf\n",
    "\n",
    "#K.clear_session()"
   ]
  },
  {
   "cell_type": "code",
   "execution_count": 35,
   "metadata": {
    "collapsed": true
   },
   "outputs": [],
   "source": [
    "from keras.models import Sequential \n",
    "from keras.layers import Dense, Activation, Flatten, Dropout \n",
    "from keras import regularizers\n",
    "from keras.optimizers import SGD, Adam, RMSprop\n",
    "from keras.constraints import maxnorm, nonneg\n",
    "\n",
    "from mavenn.src.utils import get_example_dataset\n",
    "from sklearn.model_selection import train_test_split\n",
    "from mavenn.src.utils import _generate_nbr_features_from_sequences\n",
    "from mavenn.src.utils import _generate_all_pair_features_from_sequences\n",
    "\n",
    "X, y = get_example_dataset('MPSA')\n",
    "x_train, x_test, y_train, y_test = train_test_split(X, y)\n",
    "\n",
    "x_train_nbr_OHE = _generate_all_pair_features_from_sequences(x_train,'rna')\n",
    "x_test_nbr_OHE = _generate_all_pair_features_from_sequences(x_test,'rna')"
   ]
  },
  {
   "cell_type": "code",
   "execution_count": 36,
   "metadata": {
    "collapsed": true
   },
   "outputs": [],
   "source": [
    "class CustomDense(Dense):\n",
    "    \n",
    "    def __init__(self, units=1,**kwargs):\n",
    "    \n",
    "        self.units = units\n",
    "        super(CustomDense,self).__init__(units,**kwargs)  \n",
    "\n",
    "    def build(self, input_shape):\n",
    "        \n",
    "        self.logsigma = self.add_weight(name='logsigma',\n",
    "            shape=(1, 1),\n",
    "            initializer=\"random_normal\",\n",
    "            trainable=True,\n",
    "        )\n",
    "\n",
    "    def call(self, inputs):\n",
    "        \n",
    "        # compute per-datum ll here\n",
    "        \n",
    "        # this is yhat\n",
    "        yhat = inputs[:,0:1]\n",
    "        \n",
    "        # these are the labels\n",
    "        ytrue = inputs[:,1:]\n",
    "        \n",
    "        #ll_per_datum =  0.5*K.square((ytrue-yhat)/(K.exp(self.logsigma)))+self.logsigma\n",
    "        ll_per_datum =0.5*K.sum(K.square((ytrue-yhat)/K.exp(self.logsigma))+self.logsigma,axis=1)\n",
    "        return ll_per_datum\n",
    "\n",
    "    \n",
    "            "
   ]
  },
  {
   "cell_type": "code",
   "execution_count": 37,
   "metadata": {
    "collapsed": true
   },
   "outputs": [],
   "source": [
    "def custom_loss(y_true, y_pred):\n",
    "    #return K.sum(y_pred)\n",
    "    return y_pred\n",
    "    "
   ]
  },
  {
   "cell_type": "code",
   "execution_count": null,
   "metadata": {
    "collapsed": true
   },
   "outputs": [],
   "source": []
  },
  {
   "cell_type": "code",
   "execution_count": null,
   "metadata": {},
   "outputs": [],
   "source": []
  },
  {
   "cell_type": "code",
   "execution_count": 38,
   "metadata": {},
   "outputs": [],
   "source": [
    "number_input_layer_nodes = len(x_train_nbr_OHE[0]) +1\n",
    "inputTensor = Input((number_input_layer_nodes,),name='Sequence')\n",
    "\n",
    "sequence_input = Lambda(lambda x: x[:,0:len(x_train_nbr_OHE[0])], output_shape=((len(x_train_nbr_OHE[0]),)))(inputTensor)\n",
    "labels_input = Lambda(lambda x: x[:,len(x_train_nbr_OHE[0]):len(x_train_nbr_OHE[0])+1], output_shape=((1,)), trainable=False)(inputTensor)                    \n",
    "\n",
    "                    \n",
    "phi = Dense(1)(sequence_input)\n",
    "intermediateTensor = Dense(25,activation='sigmoid',kernel_constraint=nonneg())(phi)\n",
    "yhat = Dense(1,kernel_constraint=nonneg())(intermediateTensor)\n",
    "concatenateLayer = Concatenate()([yhat,labels_input])\n",
    "outputTensor = CustomDense()(concatenateLayer)\n",
    "\n",
    "#create the model:\n",
    "model = Model(inputTensor,outputTensor)                    "
   ]
  },
  {
   "cell_type": "code",
   "execution_count": 39,
   "metadata": {},
   "outputs": [
    {
     "name": "stdout",
     "output_type": "stream",
     "text": [
      "__________________________________________________________________________________________________\n",
      "Layer (type)                    Output Shape         Param #     Connected to                     \n",
      "==================================================================================================\n",
      "Sequence (InputLayer)           (None, 577)          0                                            \n",
      "__________________________________________________________________________________________________\n",
      "lambda_1 (Lambda)               (None, 576)          0           Sequence[0][0]                   \n",
      "__________________________________________________________________________________________________\n",
      "dense_1 (Dense)                 (None, 1)            577         lambda_1[0][0]                   \n",
      "__________________________________________________________________________________________________\n",
      "dense_2 (Dense)                 (None, 25)           50          dense_1[0][0]                    \n",
      "__________________________________________________________________________________________________\n",
      "dense_3 (Dense)                 (None, 1)            26          dense_2[0][0]                    \n",
      "__________________________________________________________________________________________________\n",
      "lambda_2 (Lambda)               (None, 1)            0           Sequence[0][0]                   \n",
      "__________________________________________________________________________________________________\n",
      "concatenate_1 (Concatenate)     (None, 2)            0           dense_3[0][0]                    \n",
      "                                                                 lambda_2[0][0]                   \n",
      "__________________________________________________________________________________________________\n",
      "custom_dense_1 (CustomDense)    (None, 1)            1           concatenate_1[0][0]              \n",
      "==================================================================================================\n",
      "Total params: 654\n",
      "Trainable params: 654\n",
      "Non-trainable params: 0\n",
      "__________________________________________________________________________________________________\n"
     ]
    }
   ],
   "source": [
    "model.summary()"
   ]
  },
  {
   "cell_type": "code",
   "execution_count": 40,
   "metadata": {},
   "outputs": [
    {
     "data": {
      "text/plain": [
       "[<keras.engine.input_layer.InputLayer at 0x1316eff60>,\n",
       " <keras.layers.core.Lambda at 0x1316efcf8>,\n",
       " <keras.layers.core.Dense at 0x1316eff98>,\n",
       " <keras.layers.core.Dense at 0x1316ef2e8>,\n",
       " <keras.layers.core.Dense at 0x1317b9fd0>,\n",
       " <keras.layers.core.Lambda at 0x1316effd0>,\n",
       " <keras.layers.merge.Concatenate at 0x1317b9a20>,\n",
       " <__main__.CustomDense at 0x1324be320>]"
      ]
     },
     "execution_count": 40,
     "metadata": {},
     "output_type": "execute_result"
    }
   ],
   "source": [
    "model.layers"
   ]
  },
  {
   "cell_type": "markdown",
   "metadata": {},
   "source": [
    "### Define model"
   ]
  },
  {
   "cell_type": "code",
   "execution_count": 41,
   "metadata": {},
   "outputs": [],
   "source": [
    "# number_input_layer_nodes = len(x_train_nbr_OHE[0])\n",
    "# inputTensor = Input((number_input_layer_nodes,),name='Sequence')\n",
    "# phi = Dense(1)(inputTensor)\n",
    "# intermediateTensor = Dense(50,activation='sigmoid',kernel_constraint=nonneg())(phi)\n",
    "# yhat = Dense(1,kernel_constraint=nonneg())(intermediateTensor)\n",
    "\n",
    "# outputTensor = CustomDense(ytrue = K.constant(y_train.reshape(-1,1)))(yhat)\n",
    "\n",
    "# #create the model:\n",
    "# model = Model(inputTensor,outputTensor)\n"
   ]
  },
  {
   "cell_type": "code",
   "execution_count": 42,
   "metadata": {},
   "outputs": [
    {
     "data": {
      "text/plain": [
       "[array([[0.03920333]], dtype=float32)]"
      ]
     },
     "execution_count": 42,
     "metadata": {},
     "output_type": "execute_result"
    }
   ],
   "source": [
    "model.layers[7].get_weights()"
   ]
  },
  {
   "cell_type": "code",
   "execution_count": 43,
   "metadata": {},
   "outputs": [
    {
     "name": "stdout",
     "output_type": "stream",
     "text": [
      "__________________________________________________________________________________________________\n",
      "Layer (type)                    Output Shape         Param #     Connected to                     \n",
      "==================================================================================================\n",
      "Sequence (InputLayer)           (None, 577)          0                                            \n",
      "__________________________________________________________________________________________________\n",
      "lambda_1 (Lambda)               (None, 576)          0           Sequence[0][0]                   \n",
      "__________________________________________________________________________________________________\n",
      "dense_1 (Dense)                 (None, 1)            577         lambda_1[0][0]                   \n",
      "__________________________________________________________________________________________________\n",
      "dense_2 (Dense)                 (None, 25)           50          dense_1[0][0]                    \n",
      "__________________________________________________________________________________________________\n",
      "dense_3 (Dense)                 (None, 1)            26          dense_2[0][0]                    \n",
      "__________________________________________________________________________________________________\n",
      "lambda_2 (Lambda)               (None, 1)            0           Sequence[0][0]                   \n",
      "__________________________________________________________________________________________________\n",
      "concatenate_1 (Concatenate)     (None, 2)            0           dense_3[0][0]                    \n",
      "                                                                 lambda_2[0][0]                   \n",
      "__________________________________________________________________________________________________\n",
      "custom_dense_1 (CustomDense)    (None, 1)            1           concatenate_1[0][0]              \n",
      "==================================================================================================\n",
      "Total params: 654\n",
      "Trainable params: 654\n",
      "Non-trainable params: 0\n",
      "__________________________________________________________________________________________________\n"
     ]
    }
   ],
   "source": [
    "model.summary()"
   ]
  },
  {
   "cell_type": "code",
   "execution_count": 44,
   "metadata": {},
   "outputs": [],
   "source": [
    "#model.compile(loss='mean_squared_error',optimizer=sgd, metrics=['mean_absolute_error'])\n",
    "#model.compile(loss='mean_squared_error',optimizer=Adam(lr=0.005), metrics=['mean_absolute_error'])\n",
    "model.compile(loss=custom_loss,optimizer=Adam(lr=0.0025))\n"
   ]
  },
  {
   "cell_type": "code",
   "execution_count": 45,
   "metadata": {},
   "outputs": [],
   "source": [
    "train_sequences = []\n",
    "test_sequences = []\n",
    "\n",
    "for _ in range(len(x_train_nbr_OHE)):\n",
    "    temp = x_train_nbr_OHE[_].ravel()\n",
    "    temp = np.append(temp,y_train[_])\n",
    "    train_sequences.append(temp)\n",
    "    \n",
    "for _ in range(len(x_test_nbr_OHE)):\n",
    "    \n",
    "    temp = x_test_nbr_OHE[_].ravel()\n",
    "    temp = np.append(temp,y_test[_])\n",
    "    test_sequences.append(temp)"
   ]
  },
  {
   "cell_type": "code",
   "execution_count": 46,
   "metadata": {},
   "outputs": [],
   "source": [
    "train_sequences = np.array(train_sequences)\n",
    "test_sequences = np.array(test_sequences)"
   ]
  },
  {
   "cell_type": "code",
   "execution_count": 47,
   "metadata": {},
   "outputs": [
    {
     "name": "stdout",
     "output_type": "stream",
     "text": [
      "Train on 18717 samples, validate on 4680 samples\n",
      "Epoch 1/100\n",
      "18717/18717 [==============================] - 1s 72us/step - loss: 0.0748 - val_loss: -0.1616\n",
      "Epoch 2/100\n",
      "18717/18717 [==============================] - 1s 40us/step - loss: -0.2371 - val_loss: -0.2314\n",
      "Epoch 3/100\n",
      "18717/18717 [==============================] - 1s 40us/step - loss: -0.2644 - val_loss: -0.2384\n",
      "Epoch 4/100\n",
      "18717/18717 [==============================] - 1s 39us/step - loss: -0.2680 - val_loss: -0.2323\n",
      "Epoch 5/100\n",
      "18717/18717 [==============================] - 1s 38us/step - loss: -0.2687 - val_loss: -0.2351\n",
      "Epoch 6/100\n",
      "18717/18717 [==============================] - 1s 38us/step - loss: -0.2699 - val_loss: -0.2385\n",
      "Epoch 7/100\n",
      "18717/18717 [==============================] - 1s 39us/step - loss: -0.2694 - val_loss: -0.2385\n",
      "Epoch 8/100\n",
      "18717/18717 [==============================] - 1s 39us/step - loss: -0.2707 - val_loss: -0.2370\n",
      "Epoch 9/100\n",
      "18717/18717 [==============================] - 1s 36us/step - loss: -0.2706 - val_loss: -0.2353\n",
      "Epoch 10/100\n",
      "18717/18717 [==============================] - 1s 40us/step - loss: -0.2706 - val_loss: -0.2339\n",
      "Epoch 11/100\n",
      "18717/18717 [==============================] - 1s 41us/step - loss: -0.2711 - val_loss: -0.2384\n",
      "Epoch 12/100\n",
      "18717/18717 [==============================] - 1s 31us/step - loss: -0.2708 - val_loss: -0.2361\n",
      "Epoch 13/100\n",
      "18717/18717 [==============================] - 1s 31us/step - loss: -0.2722 - val_loss: -0.2321\n",
      "Epoch 14/100\n",
      "18717/18717 [==============================] - 1s 30us/step - loss: -0.2709 - val_loss: -0.2358\n",
      "Epoch 15/100\n",
      "18717/18717 [==============================] - 1s 30us/step - loss: -0.2715 - val_loss: -0.2357\n",
      "Epoch 16/100\n",
      "18717/18717 [==============================] - 1s 34us/step - loss: -0.2717 - val_loss: -0.2367\n",
      "Epoch 17/100\n",
      "18717/18717 [==============================] - 1s 32us/step - loss: -0.2719 - val_loss: -0.2288\n",
      "Epoch 18/100\n",
      "18717/18717 [==============================] - 1s 31us/step - loss: -0.2723 - val_loss: -0.2312\n",
      "Epoch 19/100\n",
      "18717/18717 [==============================] - 1s 30us/step - loss: -0.2715 - val_loss: -0.2345\n",
      "Epoch 20/100\n",
      "18717/18717 [==============================] - 1s 35us/step - loss: -0.2721 - val_loss: -0.2291\n",
      "Epoch 21/100\n",
      "18717/18717 [==============================] - 1s 30us/step - loss: -0.2720 - val_loss: -0.2359\n",
      "Epoch 22/100\n",
      "18717/18717 [==============================] - 1s 36us/step - loss: -0.2725 - val_loss: -0.2385\n",
      "Epoch 23/100\n",
      "18717/18717 [==============================] - 1s 32us/step - loss: -0.2725 - val_loss: -0.2375\n",
      "Epoch 24/100\n",
      "18717/18717 [==============================] - 1s 35us/step - loss: -0.2721 - val_loss: -0.2361\n",
      "Epoch 25/100\n",
      "18717/18717 [==============================] - 1s 33us/step - loss: -0.2732 - val_loss: -0.2268\n",
      "Epoch 26/100\n",
      "18717/18717 [==============================] - 1s 36us/step - loss: -0.2730 - val_loss: -0.2392\n",
      "Epoch 27/100\n",
      "18717/18717 [==============================] - 1s 32us/step - loss: -0.2732 - val_loss: -0.2355\n",
      "Epoch 28/100\n",
      "18717/18717 [==============================] - 1s 42us/step - loss: -0.2723 - val_loss: -0.2312\n",
      "Epoch 29/100\n",
      "18717/18717 [==============================] - 1s 36us/step - loss: -0.2729 - val_loss: -0.2375\n",
      "Epoch 30/100\n",
      "18717/18717 [==============================] - 1s 34us/step - loss: -0.2750 - val_loss: -0.2388\n",
      "Epoch 31/100\n",
      "18717/18717 [==============================] - 1s 32us/step - loss: -0.2855 - val_loss: -0.2459\n",
      "Epoch 32/100\n",
      "18717/18717 [==============================] - 1s 37us/step - loss: -0.2961 - val_loss: -0.2650\n",
      "Epoch 33/100\n",
      "18717/18717 [==============================] - 1s 35us/step - loss: -0.3024 - val_loss: -0.2768\n",
      "Epoch 34/100\n",
      "18717/18717 [==============================] - 1s 34us/step - loss: -0.3075 - val_loss: -0.2886\n",
      "Epoch 35/100\n",
      "18717/18717 [==============================] - 1s 35us/step - loss: -0.3134 - val_loss: -0.2917\n",
      "Epoch 36/100\n",
      "18717/18717 [==============================] - 1s 36us/step - loss: -0.3162 - val_loss: -0.2879\n",
      "Epoch 37/100\n",
      "18717/18717 [==============================] - 1s 35us/step - loss: -0.3185 - val_loss: -0.2959\n",
      "Epoch 38/100\n",
      "18717/18717 [==============================] - 1s 37us/step - loss: -0.3206 - val_loss: -0.2993\n",
      "Epoch 39/100\n",
      "18717/18717 [==============================] - 1s 36us/step - loss: -0.3227 - val_loss: -0.3024\n",
      "Epoch 40/100\n",
      "18717/18717 [==============================] - 1s 31us/step - loss: -0.3230 - val_loss: -0.3012\n",
      "Epoch 41/100\n",
      "18717/18717 [==============================] - 1s 41us/step - loss: -0.3250 - val_loss: -0.3072\n",
      "Epoch 42/100\n",
      "18717/18717 [==============================] - 1s 37us/step - loss: -0.3257 - val_loss: -0.2998\n",
      "Epoch 43/100\n",
      "18717/18717 [==============================] - 1s 38us/step - loss: -0.3255 - val_loss: -0.3084\n",
      "Epoch 44/100\n",
      "18717/18717 [==============================] - 1s 34us/step - loss: -0.3267 - val_loss: -0.3045\n",
      "Epoch 45/100\n",
      "18717/18717 [==============================] - 1s 30us/step - loss: -0.3261 - val_loss: -0.3083\n",
      "Epoch 46/100\n",
      "18717/18717 [==============================] - 1s 29us/step - loss: -0.3262 - val_loss: -0.3040\n",
      "Epoch 47/100\n",
      "18717/18717 [==============================] - 1s 33us/step - loss: -0.3265 - val_loss: -0.3062\n",
      "Epoch 48/100\n",
      "18717/18717 [==============================] - 1s 34us/step - loss: -0.3266 - val_loss: -0.3082\n",
      "Epoch 49/100\n",
      "18717/18717 [==============================] - 1s 30us/step - loss: -0.3280 - val_loss: -0.3084\n",
      "Epoch 50/100\n",
      "18717/18717 [==============================] - 1s 30us/step - loss: -0.3270 - val_loss: -0.3056\n",
      "Epoch 51/100\n",
      "18717/18717 [==============================] - 1s 30us/step - loss: -0.3270 - val_loss: -0.3089\n",
      "Epoch 52/100\n",
      "18717/18717 [==============================] - 1s 30us/step - loss: -0.3277 - val_loss: -0.3051\n",
      "Epoch 53/100\n",
      "18717/18717 [==============================] - 1s 30us/step - loss: -0.3279 - val_loss: -0.3072\n",
      "Epoch 54/100\n",
      "18717/18717 [==============================] - 1s 30us/step - loss: -0.3281 - val_loss: -0.3044\n",
      "Epoch 55/100\n",
      "18717/18717 [==============================] - 1s 30us/step - loss: -0.3283 - val_loss: -0.3073\n",
      "Epoch 56/100\n",
      "18717/18717 [==============================] - 1s 30us/step - loss: -0.3276 - val_loss: -0.3036\n",
      "Epoch 57/100\n",
      "18717/18717 [==============================] - 1s 30us/step - loss: -0.3279 - val_loss: -0.3104\n",
      "Epoch 58/100\n",
      "18717/18717 [==============================] - 1s 31us/step - loss: -0.3282 - val_loss: -0.3088\n",
      "Epoch 59/100\n",
      "18717/18717 [==============================] - 1s 30us/step - loss: -0.3275 - val_loss: -0.3069\n",
      "Epoch 60/100\n",
      "18717/18717 [==============================] - 1s 30us/step - loss: -0.3278 - val_loss: -0.3075\n",
      "Epoch 61/100\n",
      "18717/18717 [==============================] - 1s 30us/step - loss: -0.3282 - val_loss: -0.3077\n",
      "Epoch 62/100\n",
      "18717/18717 [==============================] - 1s 30us/step - loss: -0.3274 - val_loss: -0.3059\n",
      "Epoch 63/100\n",
      "18717/18717 [==============================] - 1s 30us/step - loss: -0.3286 - val_loss: -0.2994\n",
      "Epoch 64/100\n",
      "18717/18717 [==============================] - 1s 31us/step - loss: -0.3284 - val_loss: -0.3065\n",
      "Epoch 65/100\n",
      "18717/18717 [==============================] - 1s 31us/step - loss: -0.3281 - val_loss: -0.3077\n",
      "Epoch 66/100\n",
      "18717/18717 [==============================] - 1s 36us/step - loss: -0.3283 - val_loss: -0.3080\n",
      "Epoch 67/100\n",
      "18717/18717 [==============================] - 1s 31us/step - loss: -0.3283 - val_loss: -0.3071\n",
      "Epoch 68/100\n",
      "18717/18717 [==============================] - 1s 31us/step - loss: -0.3281 - val_loss: -0.3079\n",
      "Epoch 69/100\n",
      "18717/18717 [==============================] - 1s 31us/step - loss: -0.3286 - val_loss: -0.3082\n",
      "Epoch 70/100\n",
      "18717/18717 [==============================] - 1s 30us/step - loss: -0.3291 - val_loss: -0.3072\n",
      "Epoch 71/100\n",
      "18717/18717 [==============================] - 1s 30us/step - loss: -0.3284 - val_loss: -0.3095\n",
      "Epoch 72/100\n",
      "18717/18717 [==============================] - 1s 30us/step - loss: -0.3279 - val_loss: -0.3073\n",
      "Epoch 73/100\n",
      "18717/18717 [==============================] - 1s 32us/step - loss: -0.3285 - val_loss: -0.3103\n",
      "Epoch 74/100\n",
      "18717/18717 [==============================] - 1s 33us/step - loss: -0.3280 - val_loss: -0.3100\n",
      "Epoch 75/100\n",
      "18717/18717 [==============================] - 1s 33us/step - loss: -0.3287 - val_loss: -0.3105\n"
     ]
    },
    {
     "name": "stdout",
     "output_type": "stream",
     "text": [
      "Epoch 76/100\n",
      "18717/18717 [==============================] - 1s 38us/step - loss: -0.3284 - val_loss: -0.3095\n",
      "Epoch 77/100\n",
      "18717/18717 [==============================] - 1s 32us/step - loss: -0.3301 - val_loss: -0.3074\n",
      "Epoch 78/100\n",
      "18717/18717 [==============================] - 1s 43us/step - loss: -0.3294 - val_loss: -0.3076\n",
      "Epoch 79/100\n",
      "18717/18717 [==============================] - 1s 40us/step - loss: -0.3290 - val_loss: -0.3086\n",
      "Epoch 80/100\n",
      "18717/18717 [==============================] - 1s 40us/step - loss: -0.3292 - val_loss: -0.3107\n",
      "Epoch 81/100\n",
      "18717/18717 [==============================] - 1s 30us/step - loss: -0.3283 - val_loss: -0.3072\n",
      "Epoch 82/100\n",
      "18717/18717 [==============================] - 1s 44us/step - loss: -0.3292 - val_loss: -0.3089\n",
      "Epoch 83/100\n",
      "18717/18717 [==============================] - 1s 49us/step - loss: -0.3282 - val_loss: -0.3092\n",
      "Epoch 84/100\n",
      "18717/18717 [==============================] - 1s 47us/step - loss: -0.3289 - val_loss: -0.3085\n",
      "Epoch 85/100\n",
      "18717/18717 [==============================] - 1s 53us/step - loss: -0.3287 - val_loss: -0.3124\n",
      "Epoch 86/100\n",
      "18717/18717 [==============================] - 1s 44us/step - loss: -0.3294 - val_loss: -0.3115\n",
      "Epoch 87/100\n",
      "18717/18717 [==============================] - 1s 41us/step - loss: -0.3299 - val_loss: -0.3086\n",
      "Epoch 88/100\n",
      "18717/18717 [==============================] - 1s 47us/step - loss: -0.3302 - val_loss: -0.3029\n",
      "Epoch 89/100\n",
      "18717/18717 [==============================] - 1s 41us/step - loss: -0.3283 - val_loss: -0.3076\n",
      "Epoch 90/100\n",
      "18717/18717 [==============================] - 1s 52us/step - loss: -0.3290 - val_loss: -0.3076\n",
      "Epoch 91/100\n",
      "18717/18717 [==============================] - 1s 35us/step - loss: -0.3298 - val_loss: -0.3059\n",
      "Epoch 92/100\n",
      "18717/18717 [==============================] - 1s 33us/step - loss: -0.3300 - val_loss: -0.3035\n",
      "Epoch 93/100\n",
      "18717/18717 [==============================] - 1s 31us/step - loss: -0.3292 - val_loss: -0.3101\n",
      "Epoch 94/100\n",
      "18717/18717 [==============================] - 1s 38us/step - loss: -0.3291 - val_loss: -0.3089\n",
      "Epoch 95/100\n",
      "18717/18717 [==============================] - 1s 40us/step - loss: -0.3298 - val_loss: -0.3107\n",
      "Epoch 96/100\n",
      "18717/18717 [==============================] - 1s 45us/step - loss: -0.3294 - val_loss: -0.3090\n",
      "Epoch 97/100\n",
      "18717/18717 [==============================] - 1s 46us/step - loss: -0.3291 - val_loss: -0.3072\n",
      "Epoch 98/100\n",
      "18717/18717 [==============================] - 1s 36us/step - loss: -0.3298 - val_loss: -0.3111\n",
      "Epoch 99/100\n",
      "18717/18717 [==============================] - 1s 45us/step - loss: -0.3294 - val_loss: -0.3091\n",
      "Epoch 100/100\n",
      "18717/18717 [==============================] - 1s 36us/step - loss: -0.3292 - val_loss: -0.3076\n"
     ]
    }
   ],
   "source": [
    "#history = model.fit(x_train_flat, y_train, validation_split=0.2, epochs=25)  # starts training\n",
    "#history = model.fit(input_sequences_tensor2, labels, validation_split=0.2, epochs=25,verbose=1)  # starts training\n",
    "history = model.fit(train_sequences, y_train, validation_split=0.2, epochs=100,verbose=1)  # starts training\n",
    "\n"
   ]
  },
  {
   "cell_type": "code",
   "execution_count": 48,
   "metadata": {},
   "outputs": [
    {
     "data": {
      "image/png": "[encoded data removed]",
      "text/plain": [
       "<Figure size 432x288 with 1 Axes>"
      ]
     },
     "metadata": {
      "needs_background": "light"
     },
     "output_type": "display_data"
    }
   ],
   "source": [
    "plt.figure()\n",
    "plt.plot(history.history['loss'],color='blue')\n",
    "plt.plot(history.history['val_loss'],color='orange')\n",
    "plt.title('Model loss',fontsize=12)\n",
    "plt.ylabel('loss',fontsize=12)\n",
    "plt.xlabel('epoch',fontsize=12)\n",
    "plt.legend(['train', 'validation'])\n",
    "#plt.savefig('Write_up/model_loss.png')\n",
    "plt.show()"
   ]
  },
  {
   "cell_type": "code",
   "execution_count": 49,
   "metadata": {},
   "outputs": [
    {
     "data": {
      "text/plain": [
       "<tf.Tensor 'dense_2/Sigmoid:0' shape=(?, 25) dtype=float32>"
      ]
     },
     "execution_count": 49,
     "metadata": {},
     "output_type": "execute_result"
    }
   ],
   "source": [
    "model.layers[3].output\n",
    "#model.layers[1].output"
   ]
  },
  {
   "cell_type": "code",
   "execution_count": 50,
   "metadata": {},
   "outputs": [],
   "source": [
    "# Note this gives liklelihood\n",
    "model_prediction = model.predict(test_sequences)\n",
    "model_prediction_train = model.predict(train_sequences)"
   ]
  },
  {
   "cell_type": "code",
   "execution_count": 51,
   "metadata": {},
   "outputs": [
    {
     "data": {
      "image/png": "[encoded data removed]",
      "text/plain": [
       "<Figure size 432x288 with 1 Axes>"
      ]
     },
     "metadata": {
      "needs_background": "light"
     },
     "output_type": "display_data"
    }
   ],
   "source": [
    "plt.scatter(model_prediction_train.ravel(),y_train,color='black',s=1)\n",
    "#plt.scatter(model_prediction[:,0],y_test,color='blue',s=1)\n",
    "\n",
    "plt.show()"
   ]
  },
  {
   "cell_type": "code",
   "execution_count": null,
   "metadata": {
    "collapsed": true
   },
   "outputs": [],
   "source": []
  },
  {
   "cell_type": "code",
   "execution_count": 52,
   "metadata": {},
   "outputs": [
    {
     "data": {
      "text/plain": [
       "0.3132798"
      ]
     },
     "execution_count": 52,
     "metadata": {},
     "output_type": "execute_result"
    }
   ],
   "source": [
    "np.exp(model.layers[7].get_weights()[0][0][0])"
   ]
  },
  {
   "cell_type": "code",
   "execution_count": 53,
   "metadata": {},
   "outputs": [],
   "source": [
    "get_yhat_out = K.function([model.layers[1].input],[model.layers[4].output])\n",
    "yhat = get_yhat_out([x_test_nbr_OHE])"
   ]
  },
  {
   "cell_type": "code",
   "execution_count": null,
   "metadata": {},
   "outputs": [],
   "source": []
  },
  {
   "cell_type": "code",
   "execution_count": 54,
   "metadata": {
    "collapsed": true
   },
   "outputs": [],
   "source": [
    "model.layers\n",
    "get_1st_layer_output = K.function([model.layers[1].input],[model.layers[2].output])\n",
    "layer_output = get_1st_layer_output([x_test_nbr_OHE])\n",
    "get_1st_layer_output_train = K.function([model.layers[0].input],[model.layers[1].output])\n",
    "layer_output_train = get_1st_layer_output_train([x_train_nbr_OHE])"
   ]
  },
  {
   "cell_type": "code",
   "execution_count": 55,
   "metadata": {
    "collapsed": true
   },
   "outputs": [],
   "source": [
    "sigma = np.exp(model.layers[7].get_weights()[0][0][0])"
   ]
  },
  {
   "cell_type": "code",
   "execution_count": 93,
   "metadata": {},
   "outputs": [
    {
     "data": {
      "image/png": "[encoded data removed]",
      "text/plain": [
       "<Figure size 504x360 with 1 Axes>"
      ]
     },
     "metadata": {
      "needs_background": "light"
     },
     "output_type": "display_data"
    }
   ],
   "source": [
    "plt.figure(figsize=(7,5))\n",
    "plt.scatter(layer_output[0],y_test,s=1,color='gray',alpha=0.5,label='')\n",
    "plt.scatter(layer_output[0],yhat[0].ravel(),color='black',s=1,label='$\\hat{y}$')\n",
    "plt.scatter(layer_output[0],yhat[0].ravel()+sigma,color='blue',s=1,alpha=0.25,label='$\\hat{y} \\pm \\sigma$')\n",
    "plt.scatter(layer_output[0],yhat[0].ravel()-sigma,color='blue',s=1,alpha=0.25)\n",
    "plt.tick_params(labelsize=14)\n",
    "\n",
    "leg = plt.legend(fontsize=14)\n",
    "for lh in leg.legendHandles: \n",
    "    lh.set_alpha(1)\n",
    "    lh.set_sizes([5.0])\n",
    "      \n",
    "\n",
    "plt.ylabel('Observations',fontsize=14)\n",
    "plt.xlabel('Latent phenotype ($\\phi$)',fontsize=14)\n",
    "plt.title('Gaussian Likelihood',fontsize=14)\n",
    "plt.show()"
   ]
  },
  {
   "cell_type": "code",
   "execution_count": null,
   "metadata": {},
   "outputs": [],
   "source": []
  },
  {
   "cell_type": "code",
   "execution_count": 57,
   "metadata": {},
   "outputs": [
    {
     "data": {
      "text/plain": [
       "<matplotlib.collections.PathCollection at 0x131c49710>"
      ]
     },
     "execution_count": 57,
     "metadata": {},
     "output_type": "execute_result"
    },
    {
     "data": {
      "image/png": "[encoded data removed]",
      "text/plain": [
       "<Figure size 432x288 with 1 Axes>"
      ]
     },
     "metadata": {
      "needs_background": "light"
     },
     "output_type": "display_data"
    }
   ],
   "source": [
    "plt.scatter(yhat[0].ravel(),y_test,s=1,color='black')"
   ]
  },
  {
   "cell_type": "code",
   "execution_count": 58,
   "metadata": {},
   "outputs": [
    {
     "data": {
      "text/plain": [
       "0.7855793975109618"
      ]
     },
     "execution_count": 58,
     "metadata": {},
     "output_type": "execute_result"
    }
   ],
   "source": [
    "np.corrcoef(yhat[0].ravel(),y_test)[0][1]**2"
   ]
  },
  {
   "cell_type": "code",
   "execution_count": 59,
   "metadata": {
    "collapsed": true
   },
   "outputs": [],
   "source": [
    "get_observable_output = K.function([model.layers[0].input],[model.layers[3].output])\n",
    "observable_output = get_observable_output([x_test_nbr_OHE])"
   ]
  },
  {
   "cell_type": "code",
   "execution_count": 60,
   "metadata": {
    "collapsed": true
   },
   "outputs": [],
   "source": [
    "#plt.scatter(observable_output[0].ravel(),model_prediction[:,0],s=1,color='black')"
   ]
  }
 ],
 "metadata": {
  "colab": {
   "collapsed_sections": [],
   "name": "motif_learn_convnet.ipynb",
   "provenance": [],
   "version": "0.3.2"
  },
  "kernelspec": {
   "display_name": "Python 3",
   "language": "python",
   "name": "python3"
  },
  "language_info": {
   "codemirror_mode": {
    "name": "ipython",
    "version": 3
   },
   "file_extension": ".py",
   "mimetype": "text/x-python",
   "name": "python",
   "nbconvert_exporter": "python",
   "pygments_lexer": "ipython3",
   "version": "3.6.7"
  }
 },
 "nbformat": 4,
 "nbformat_minor": 1
}
