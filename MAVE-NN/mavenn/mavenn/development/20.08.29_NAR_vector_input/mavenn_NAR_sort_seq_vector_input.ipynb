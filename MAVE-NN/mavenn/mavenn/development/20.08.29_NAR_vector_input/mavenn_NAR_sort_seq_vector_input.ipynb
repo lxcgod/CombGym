{
 "cells": [
  {
   "cell_type": "code",
   "execution_count": 1,
   "metadata": {
    "collapsed": true
   },
   "outputs": [],
   "source": [
    "import pandas as pd\n",
    "import matplotlib.pyplot as plt\n",
    "import numpy as np\n",
    "from sklearn.model_selection import train_test_split\n",
    "\n",
    "import warnings\n",
    "warnings.filterwarnings(\"ignore\")\n",
    "\n",
    "\n",
    "import sys\n",
    "path_to_mavenn_local = '/Users/tareen/Desktop/Research_Projects/2020_mavenn_github/mavenn_local'\n",
    "sys.path.insert(0,path_to_mavenn_local)\n",
    "\n",
    "import mavenn"
   ]
  },
  {
   "cell_type": "code",
   "execution_count": 2,
   "metadata": {
    "collapsed": true
   },
   "outputs": [],
   "source": [
    "# load vector data.\n",
    "data_df = pd.read_csv('Sort_seq_vector_fmt_input.csv',index_col=[0])"
   ]
  },
  {
   "cell_type": "code",
   "execution_count": 3,
   "metadata": {},
   "outputs": [
    {
     "data": {
      "text/html": [
       "<div>\n",
       "<style scoped>\n",
       "    .dataframe tbody tr th:only-of-type {\n",
       "        vertical-align: middle;\n",
       "    }\n",
       "\n",
       "    .dataframe tbody tr th {\n",
       "        vertical-align: top;\n",
       "    }\n",
       "\n",
       "    .dataframe thead th {\n",
       "        text-align: right;\n",
       "    }\n",
       "</style>\n",
       "<table border=\"1\" class=\"dataframe\">\n",
       "  <thead>\n",
       "    <tr style=\"text-align: right;\">\n",
       "      <th></th>\n",
       "      <th>seq</th>\n",
       "      <th>bin</th>\n",
       "      <th>ct</th>\n",
       "    </tr>\n",
       "  </thead>\n",
       "  <tbody>\n",
       "    <tr>\n",
       "      <th>0</th>\n",
       "      <td>GGCTTTACACTTTATGCTTCCGGCTCGTATGTTGTGTGG</td>\n",
       "      <td>6</td>\n",
       "      <td>100</td>\n",
       "    </tr>\n",
       "    <tr>\n",
       "      <th>1</th>\n",
       "      <td>GGCTTTACACTTTATGCTTCCGGCTCGTATGTTGTGTGG</td>\n",
       "      <td>8</td>\n",
       "      <td>89</td>\n",
       "    </tr>\n",
       "    <tr>\n",
       "      <th>2</th>\n",
       "      <td>GGCTTTACACTTTATGCTTCCGGCTCGTATGTTGTGTGG</td>\n",
       "      <td>5</td>\n",
       "      <td>88</td>\n",
       "    </tr>\n",
       "    <tr>\n",
       "      <th>3</th>\n",
       "      <td>GGCTTTACACTTTATGCTTCCGGCTCGTATGTTGTGTGG</td>\n",
       "      <td>7</td>\n",
       "      <td>84</td>\n",
       "    </tr>\n",
       "    <tr>\n",
       "      <th>4</th>\n",
       "      <td>GGCTTTACACTTTATGCTTCCGGCTCGTATGTTGTGTGG</td>\n",
       "      <td>9</td>\n",
       "      <td>72</td>\n",
       "    </tr>\n",
       "  </tbody>\n",
       "</table>\n",
       "</div>"
      ],
      "text/plain": [
       "                                       seq  bin   ct\n",
       "0  GGCTTTACACTTTATGCTTCCGGCTCGTATGTTGTGTGG    6  100\n",
       "1  GGCTTTACACTTTATGCTTCCGGCTCGTATGTTGTGTGG    8   89\n",
       "2  GGCTTTACACTTTATGCTTCCGGCTCGTATGTTGTGTGG    5   88\n",
       "3  GGCTTTACACTTTATGCTTCCGGCTCGTATGTTGTGTGG    7   84\n",
       "4  GGCTTTACACTTTATGCTTCCGGCTCGTATGTTGTGTGG    9   72"
      ]
     },
     "execution_count": 3,
     "metadata": {},
     "output_type": "execute_result"
    }
   ],
   "source": [
    "data_df.head()"
   ]
  },
  {
   "cell_type": "code",
   "execution_count": 4,
   "metadata": {
    "collapsed": true
   },
   "outputs": [],
   "source": [
    "sequences = data_df['seq'].values\n",
    "bin_counts = data_df['bin'].values\n",
    "ct_n = data_df['ct'].values"
   ]
  },
  {
   "cell_type": "code",
   "execution_count": 5,
   "metadata": {},
   "outputs": [
    {
     "name": "stdout",
     "output_type": "stream",
     "text": [
      "Train on 36622 samples, validate on 9156 samples\n",
      "Epoch 1/30\n",
      "36622/36622 [==============================] - 1s 36us/step - loss: 110.9515 - val_loss: 104.1417\n",
      "Epoch 2/30\n",
      "36622/36622 [==============================] - 1s 30us/step - loss: 107.7577 - val_loss: 99.4937\n",
      "Epoch 3/30\n",
      "36622/36622 [==============================] - 1s 31us/step - loss: 102.1125 - val_loss: 96.5605\n",
      "Epoch 4/30\n",
      "36622/36622 [==============================] - 1s 31us/step - loss: 100.3345 - val_loss: 95.9816\n",
      "Epoch 5/30\n",
      "36622/36622 [==============================] - 1s 31us/step - loss: 99.9515 - val_loss: 95.7391\n",
      "Epoch 6/30\n",
      "36622/36622 [==============================] - 1s 29us/step - loss: 99.7487 - val_loss: 95.8318\n",
      "Epoch 7/30\n",
      "36622/36622 [==============================] - 1s 30us/step - loss: 99.6258 - val_loss: 95.5434\n",
      "Epoch 8/30\n",
      "36622/36622 [==============================] - 1s 30us/step - loss: 99.5061 - val_loss: 95.4894\n",
      "Epoch 9/30\n",
      "36622/36622 [==============================] - 1s 30us/step - loss: 99.4555 - val_loss: 95.3622\n",
      "Epoch 10/30\n",
      "36622/36622 [==============================] - 1s 30us/step - loss: 99.3567 - val_loss: 95.3935\n",
      "Epoch 11/30\n",
      "36622/36622 [==============================] - 1s 31us/step - loss: 99.3126 - val_loss: 95.2462\n",
      "Epoch 12/30\n",
      "36622/36622 [==============================] - 1s 31us/step - loss: 99.2683 - val_loss: 95.1999\n",
      "Epoch 13/30\n",
      "36622/36622 [==============================] - 1s 30us/step - loss: 99.2334 - val_loss: 95.2014\n",
      "Epoch 14/30\n",
      "36622/36622 [==============================] - 1s 30us/step - loss: 99.1696 - val_loss: 95.1806\n",
      "Epoch 15/30\n",
      "36622/36622 [==============================] - 1s 31us/step - loss: 99.1554 - val_loss: 95.2172\n",
      "Epoch 16/30\n",
      "36622/36622 [==============================] - 1s 31us/step - loss: 99.1225 - val_loss: 95.3132\n",
      "Epoch 17/30\n",
      "36622/36622 [==============================] - 1s 30us/step - loss: 99.0920 - val_loss: 95.3344\n",
      "Epoch 18/30\n",
      "36622/36622 [==============================] - 1s 31us/step - loss: 99.0697 - val_loss: 95.1784\n",
      "Epoch 19/30\n",
      "36622/36622 [==============================] - 1s 31us/step - loss: 99.0739 - val_loss: 95.2380\n",
      "Epoch 20/30\n",
      "36622/36622 [==============================] - 1s 32us/step - loss: 99.0610 - val_loss: 95.0940\n",
      "Epoch 21/30\n",
      "36622/36622 [==============================] - 1s 31us/step - loss: 99.0377 - val_loss: 95.0840\n",
      "Epoch 22/30\n",
      "36622/36622 [==============================] - 1s 30us/step - loss: 99.0257 - val_loss: 95.1171\n",
      "Epoch 23/30\n",
      "36622/36622 [==============================] - 1s 32us/step - loss: 98.9995 - val_loss: 95.0997\n",
      "Epoch 24/30\n",
      "36622/36622 [==============================] - 1s 32us/step - loss: 99.0023 - val_loss: 95.0643\n",
      "Epoch 25/30\n",
      "36622/36622 [==============================] - 1s 31us/step - loss: 98.9984 - val_loss: 95.1859\n",
      "Epoch 26/30\n",
      "36622/36622 [==============================] - 1s 31us/step - loss: 98.9757 - val_loss: 95.0844\n",
      "Epoch 27/30\n",
      "36622/36622 [==============================] - 1s 31us/step - loss: 98.9591 - val_loss: 95.1110\n",
      "Epoch 28/30\n",
      "36622/36622 [==============================] - 1s 30us/step - loss: 98.9723 - val_loss: 95.0459\n",
      "Epoch 29/30\n",
      "36622/36622 [==============================] - 1s 30us/step - loss: 98.9530 - val_loss: 95.0797\n",
      "Epoch 30/30\n",
      "36622/36622 [==============================] - 1s 30us/step - loss: 98.9627 - val_loss: 95.5350\n"
     ]
    },
    {
     "data": {
      "text/plain": [
       "<tensorflow.python.keras.callbacks.History at 0x114b2aa90>"
      ]
     },
     "execution_count": 5,
     "metadata": {},
     "output_type": "execute_result"
    }
   ],
   "source": [
    "NAR = mavenn.Model(regression_type='NA',\n",
    "                   x=sequences, \n",
    "                   y=bin_counts, \n",
    "                   ct_n = ct_n,\n",
    "                   gpmap_type='additive',\n",
    "                   alphabet='dna',\n",
    "                   theta_regularization=0.001,\n",
    "                   ohe_batch_size=50000)\n",
    "\n",
    "NAR.fit(epochs=30, \n",
    "        learning_rate=0.0005,\n",
    "        early_stopping=True, \n",
    "        early_stopping_patience=5, \n",
    "        verbose=1)"
   ]
  },
  {
   "cell_type": "code",
   "execution_count": 6,
   "metadata": {
    "collapsed": true
   },
   "outputs": [],
   "source": [
    "loss_history = NAR.model.history"
   ]
  },
  {
   "cell_type": "code",
   "execution_count": 7,
   "metadata": {},
   "outputs": [
    {
     "data": {
      "image/png": "[encoded data removed]",
      "text/plain": [
       "<Figure size 432x288 with 1 Axes>"
      ]
     },
     "metadata": {
      "needs_background": "light"
     },
     "output_type": "display_data"
    }
   ],
   "source": [
    "plt.plot(loss_history.history['loss'], color='blue')\n",
    "plt.plot(loss_history.history['val_loss'], color='orange')\n",
    "plt.title('Model loss', fontsize=12)\n",
    "plt.ylabel('loss', fontsize=12)\n",
    "plt.xlabel('epoch', fontsize=12)\n",
    "plt.legend(['train', 'validation'])\n",
    "plt.show()"
   ]
  },
  {
   "cell_type": "code",
   "execution_count": 8,
   "metadata": {},
   "outputs": [
    {
     "name": "stdout",
     "output_type": "stream",
     "text": [
      "__________________________________________________________________________________________________\n",
      "Layer (type)                    Output Shape         Param #     Connected to                     \n",
      "==================================================================================================\n",
      "Sequence_labels_input (InputLay (None, 166)          0                                            \n",
      "__________________________________________________________________________________________________\n",
      "Sequence_only (Lambda)          (None, 156)          0           Sequence_labels_input[0][0]      \n",
      "__________________________________________________________________________________________________\n",
      "phiPrime (Dense)                (None, 1)            157         Sequence_only[0][0]              \n",
      "__________________________________________________________________________________________________\n",
      "fix_diffeomorphic_mode (fixDiff (None, 1)            0           phiPrime[0][0]                   \n",
      "__________________________________________________________________________________________________\n",
      "phi (Dense)                     (None, 1)            2           fix_diffeomorphic_mode[0][0]     \n",
      "__________________________________________________________________________________________________\n",
      "dense_1 (Dense)                 (None, 50)           100         phi[0][0]                        \n",
      "__________________________________________________________________________________________________\n",
      "yhat (Dense)                    (None, 10)           510         dense_1[0][0]                    \n",
      "__________________________________________________________________________________________________\n",
      "Labels_input (Lambda)           (None, 10)           0           Sequence_labels_input[0][0]      \n",
      "__________________________________________________________________________________________________\n",
      "yhat_and_y_to_ll (Concatenate)  (None, 20)           0           yhat[0][0]                       \n",
      "                                                                 Labels_input[0][0]               \n",
      "__________________________________________________________________________________________________\n",
      "na_likelihood_layer_1 (NALikeli ()                   0           yhat_and_y_to_ll[0][0]           \n",
      "==================================================================================================\n",
      "Total params: 769\n",
      "Trainable params: 769\n",
      "Non-trainable params: 0\n",
      "__________________________________________________________________________________________________\n"
     ]
    }
   ],
   "source": [
    "NAR.get_nn().summary()"
   ]
  },
  {
   "cell_type": "code",
   "execution_count": 9,
   "metadata": {},
   "outputs": [
    {
     "data": {
      "text/plain": [
       "<tensorflow.python.keras.engine.training.Model at 0x12e520630>"
      ]
     },
     "execution_count": 9,
     "metadata": {},
     "output_type": "execute_result"
    }
   ],
   "source": [
    "NAR.get_nn()"
   ]
  },
  {
   "cell_type": "code",
   "execution_count": 10,
   "metadata": {
    "collapsed": true
   },
   "outputs": [],
   "source": [
    "phi = NAR.x_to_phi(sequences)"
   ]
  },
  {
   "cell_type": "code",
   "execution_count": 11,
   "metadata": {},
   "outputs": [
    {
     "data": {
      "text/plain": [
       "<logomaker.src.Logo.Logo at 0x12e5f1e10>"
      ]
     },
     "execution_count": 11,
     "metadata": {},
     "output_type": "execute_result"
    },
    {
     "data": {
      "image/png": "[encoded data removed]",
      "text/plain": [
       "<Figure size 720x180 with 1 Axes>"
      ]
     },
     "metadata": {
      "needs_background": "light"
     },
     "output_type": "display_data"
    }
   ],
   "source": [
    "import logomaker\n",
    "theta_df = pd.DataFrame(NAR.get_nn().layers[2].get_weights()[0].reshape(39,4),columns=['A','C','G','T'])\n",
    "logomaker.Logo(theta_df,center_values=False)"
   ]
  },
  {
   "cell_type": "code",
   "execution_count": 12,
   "metadata": {
    "collapsed": true
   },
   "outputs": [],
   "source": [
    "phi_range = np.linspace(min(phi),max(phi),500)"
   ]
  },
  {
   "cell_type": "code",
   "execution_count": 13,
   "metadata": {
    "collapsed": true
   },
   "outputs": [],
   "source": [
    "p_of_all_y_given_phi = NAR.na_p_of_all_y_given_phi(phi_range)"
   ]
  },
  {
   "cell_type": "code",
   "execution_count": 14,
   "metadata": {},
   "outputs": [
    {
     "data": {
      "text/plain": [
       "[Text(0.5, 0, '-3.20'), Text(20.5, 0, '2.'), Text(40.5, 0, '8.168')]"
      ]
     },
     "execution_count": 14,
     "metadata": {},
     "output_type": "execute_result"
    },
    {
     "data": {
      "image/png": "[encoded data removed]",
      "text/plain": [
       "<Figure size 432x288 with 2 Axes>"
      ]
     },
     "metadata": {
      "needs_background": "light"
     },
     "output_type": "display_data"
    }
   ],
   "source": [
    "import seaborn as sns\n",
    "fig, ax = plt.subplots(figsize=(6,4))\n",
    "if p_of_all_y_given_phi.T[p_of_all_y_given_phi.T.shape[0]-1][0]>p_of_all_y_given_phi.T[p_of_all_y_given_phi.T.shape[0]-1][p_of_all_y_given_phi.T.shape[1]-1]:\n",
    "    ax = sns.heatmap(pd.DataFrame(p_of_all_y_given_phi.T).loc[::1,::-1],cmap='Greens')\n",
    "else:\n",
    "    ax = sns.heatmap(p_of_all_y_given_phi.T,cmap='Greens')    \n",
    "ax.invert_yaxis()\n",
    "ax.set_xticks(([0,int(len(phi_range)/2),len(phi_range)-2]), minor=False)\n",
    "middle_tick = str(phi_range[int(len(phi_range)/2)])\n",
    "ax.set_xticklabels(([str(phi_range[0])[0:5],middle_tick[0:2],str(phi_range[len(phi_range)-1])[0:5]]), minor=False)"
   ]
  }
 ],
 "metadata": {
  "kernelspec": {
   "display_name": "Python 3",
   "language": "python",
   "name": "python3"
  },
  "language_info": {
   "codemirror_mode": {
    "name": "ipython",
    "version": 3
   },
   "file_extension": ".py",
   "mimetype": "text/x-python",
   "name": "python",
   "nbconvert_exporter": "python",
   "pygments_lexer": "ipython3",
   "version": "3.6.7"
  }
 },
 "nbformat": 4,
 "nbformat_minor": 2
}
