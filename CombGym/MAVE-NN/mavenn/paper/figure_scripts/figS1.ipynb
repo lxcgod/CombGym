{
 "cells": [
  {
   "cell_type": "code",
   "execution_count": 1,
   "metadata": {
    "ExecuteTime": {
     "end_time": "2022-03-21T10:54:20.652262Z",
     "start_time": "2022-03-21T10:54:18.720921Z"
    }
   },
   "outputs": [],
   "source": [
    "# Standard imports\n",
    "import pandas as pd\n",
    "import matplotlib.pyplot as plt\n",
    "import numpy as np\n",
    "import time\n",
    "\n",
    "# import mavenn\n",
    "import mavenn\n",
    "\n",
    "# Import helper functions\n",
    "from helper_functions import my_rsquared, save_fig_with_date_stamp\n",
    "\n",
    "# Set random seed\n",
    "np.random.seed(0)\n",
    "\n",
    "# Set figure name\n",
    "fig_name = 'figS1'"
   ]
  },
  {
   "cell_type": "code",
   "execution_count": 2,
   "metadata": {
    "ExecuteTime": {
     "end_time": "2022-03-21T10:54:21.092127Z",
     "start_time": "2022-03-21T10:54:20.653256Z"
    }
   },
   "outputs": [
    {
     "name": "stdout",
     "output_type": "stream",
     "text": [
      "Model loaded from these files:\n",
      "\t../models/fig_s1_models/gb1_ge_additive_2021.12.31.14h.50m.pickle\n",
      "\t../models/fig_s1_models/gb1_ge_additive_2021.12.31.14h.50m.h5\n",
      "Model loaded from these files:\n",
      "\t../models/fig_s1_models/bootsraping_models/gb1_ge_additive_bootstrap_0_2021.12.31.14h.50m.pickle\n",
      "\t../models/fig_s1_models/bootsraping_models/gb1_ge_additive_bootstrap_0_2021.12.31.14h.50m.h5\n"
     ]
    }
   ],
   "source": [
    "# Load GB1 MAVE-NN models\n",
    "model = mavenn.load('../models/fig_s1_models/gb1_ge_additive_2021.12.31.14h.50m')\n",
    "sim_model = mavenn.load('../models/fig_s1_models/bootsraping_models/gb1_ge_additive_bootstrap_0_2021.12.31.14h.50m')"
   ]
  },
  {
   "cell_type": "code",
   "execution_count": 3,
   "metadata": {
    "ExecuteTime": {
     "end_time": "2022-03-21T10:54:22.313006Z",
     "start_time": "2022-03-21T10:54:21.093066Z"
    }
   },
   "outputs": [
    {
     "name": "stdout",
     "output_type": "stream",
     "text": [
      "Training set   :  477,854 observations (  90.04%)\n",
      "Validation set :   26,519 observations (   5.00%)\n",
      "Test set       :   26,364 observations (   4.97%)\n",
      "-------------------------------------------------\n",
      "Total dataset  :  530,737 observations ( 100.00%)\n",
      "\n"
     ]
    }
   ],
   "source": [
    "# Load training data\n",
    "data_df = pd.read_csv('../datasets/gb1_data.csv.gz')\n",
    "trainval_df, test_df = mavenn.split_dataset(data_df)\n",
    "\n",
    "x_test = test_df['x'].values\n",
    "y_test = test_df['y'].values\n",
    "\n",
    "# load data to compare ground-truth model\n",
    "phi_test = model.x_to_phi(x_test)\n",
    "yhat_test = model.x_to_yhat(x_test)\n",
    "#phi_lim = [min(phi_test)-.5, max(phi_test)+.5]\n",
    "phi_lim=[-5,3]\n",
    "phi_grid = np.linspace(phi_lim[0], phi_lim[1], 1000)\n",
    "yhat_grid = model.phi_to_yhat(phi_grid)"
   ]
  },
  {
   "cell_type": "code",
   "execution_count": 4,
   "metadata": {
    "ExecuteTime": {
     "end_time": "2022-03-21T10:54:22.339449Z",
     "start_time": "2022-03-21T10:54:22.313839Z"
    }
   },
   "outputs": [],
   "source": [
    "# get pairwise theta from model trained on experimental data\n",
    "theta_lc = model.get_theta()['theta_lc']\n",
    "# drop nans to plotting\n",
    "theta_lc = theta_lc[~np.isnan(theta_lc)]"
   ]
  },
  {
   "cell_type": "code",
   "execution_count": 5,
   "metadata": {
    "ExecuteTime": {
     "end_time": "2022-03-21T10:54:22.364994Z",
     "start_time": "2022-03-21T10:54:22.340143Z"
    }
   },
   "outputs": [],
   "source": [
    "sim_theta_lc = sim_model.get_theta()['theta_lc']\n",
    "sim_theta_lc = sim_theta_lc[~np.isnan(sim_theta_lc)]"
   ]
  },
  {
   "cell_type": "code",
   "execution_count": 6,
   "metadata": {
    "ExecuteTime": {
     "end_time": "2022-03-21T10:54:22.373148Z",
     "start_time": "2022-03-21T10:54:22.365711Z"
    }
   },
   "outputs": [],
   "source": [
    "# load data\n",
    "import glob\n",
    "\n",
    "data_sizes = [1000,3000,10000,30000,100000,300000]\n",
    "\n",
    "training_times = []\n",
    "model_Rsqs = []\n",
    "\n",
    "Rsq_file_paths = glob.glob(f'../models/fig_s1_models/timing_models/*model_Rsqs*')\n",
    "training_times_file_paths = glob.glob(f'../models/fig_s1_models/timing_models/*training_times*')\n",
    "\n",
    "for data_size in data_sizes:\n",
    "    for file_path in Rsq_file_paths:\n",
    "        if str(data_size)+'_' in file_path:\n",
    "            model_Rsqs.append(np.loadtxt(file_path))\n",
    "            \n",
    "for data_size in data_sizes:\n",
    "    for file_path in training_times_file_paths:\n",
    "        if str(data_size)+'_' in file_path:\n",
    "            training_times.append(np.loadtxt(file_path))"
   ]
  },
  {
   "cell_type": "code",
   "execution_count": 7,
   "metadata": {
    "ExecuteTime": {
     "end_time": "2022-03-21T10:54:22.377395Z",
     "start_time": "2022-03-21T10:54:22.374689Z"
    }
   },
   "outputs": [
    {
     "data": {
      "text/plain": [
       "array([0.561777  , 0.49513812, 0.49767903, 0.53305682, 0.57692755,\n",
       "       0.55606657, 0.53630029, 0.55747188, 0.57057702, 0.4701844 ])"
      ]
     },
     "execution_count": 7,
     "metadata": {},
     "output_type": "execute_result"
    }
   ],
   "source": [
    "model_Rsqs[0]"
   ]
  },
  {
   "cell_type": "code",
   "execution_count": 8,
   "metadata": {
    "ExecuteTime": {
     "end_time": "2022-03-21T10:54:22.977450Z",
     "start_time": "2022-03-21T10:54:22.378670Z"
    }
   },
   "outputs": [
    {
     "data": {
      "image/png": "[encoded data removed]",
      "text/plain": [
       "<Figure size 432x288 with 1 Axes>"
      ]
     },
     "metadata": {
      "needs_background": "light"
     },
     "output_type": "display_data"
    }
   ],
   "source": [
    "for model_index in range(len(data_sizes)):\n",
    "    \n",
    "    mean = np.mean(training_times[model_index])\n",
    "    for time in training_times[model_index]:\n",
    "        #print(time)\n",
    "        plt.scatter(data_sizes[model_index],time/60,s=5,color='gray',alpha=0.5)\n",
    "        plt.scatter(data_sizes[model_index],mean/60,s=20,color='black',alpha=1)        \n",
    "\n",
    "plt.xscale('log')    \n",
    "plt.yscale('log') \n",
    "plt.show()"
   ]
  },
  {
   "cell_type": "code",
   "execution_count": 9,
   "metadata": {
    "ExecuteTime": {
     "end_time": "2022-03-21T10:54:23.436519Z",
     "start_time": "2022-03-21T10:54:22.978089Z"
    }
   },
   "outputs": [],
   "source": [
    "# Predict latent phentoype values (phi) on test data\n",
    "sim_phi_test = sim_model.x_to_phi(x_test)\n",
    "\n",
    "# Predict measurement values (yhat) on test data\n",
    "sim_yhat_test = sim_model.x_to_yhat(x_test)"
   ]
  },
  {
   "cell_type": "code",
   "execution_count": 10,
   "metadata": {
    "ExecuteTime": {
     "end_time": "2022-03-21T10:54:23.439219Z",
     "start_time": "2022-03-21T10:54:23.437206Z"
    }
   },
   "outputs": [],
   "source": [
    "def estimate_Rsq_error_from_boostrap(data_array_1,\n",
    "                                     data_array_2,\n",
    "                                     number_of_bs_trials=1000):\n",
    "\n",
    "    number_data = data_array_1.shape[0]\n",
    "\n",
    "    Rsq_bs = np.zeros(shape=number_of_bs_trials)\n",
    "    size_of_drawn_samples = int(number_data*0.25)\n",
    "\n",
    "    for trial in range(number_of_bs_trials):\n",
    "\n",
    "        # sample quarter of the data with replacement\n",
    "        ix = np.random.choice(number_data, size=size_of_drawn_samples, replace=True)\n",
    "\n",
    "        # compute individual R values for the current bs sample\n",
    "        R_sq_sub = np.corrcoef(data_array_1[ix], data_array_2[ix])[0][1]**2        \n",
    "        Rsq_bs[trial] = R_sq_sub\n",
    "        \n",
    "    std_error = np.std(Rsq_bs)\n",
    "    return std_error "
   ]
  },
  {
   "cell_type": "code",
   "execution_count": 14,
   "metadata": {
    "ExecuteTime": {
     "end_time": "2022-03-21T10:55:14.560773Z",
     "start_time": "2022-03-21T10:55:12.399472Z"
    }
   },
   "outputs": [
    {
     "name": "stdout",
     "output_type": "stream",
     "text": [
      "Figure saved figure to png/figS1_ipynb_2022.03.21.06h.55m.13s.png.\n"
     ]
    },
    {
     "data": {
      "image/png": "[encoded data removed]",
      "text/plain": [
       "<Figure size 481.89x342 with 6 Axes>"
      ]
     },
     "metadata": {
      "needs_background": "light"
     },
     "output_type": "display_data"
    }
   ],
   "source": [
    "fig, ax = plt.subplots(2, 3, figsize=[6.69291,4.75])\n",
    "\n",
    "subpanel_letter_pos_x = -0.3\n",
    "subpanel_letter_pos_y = 1.05\n",
    "\n",
    "# Compute yhat each phi gridpoint\n",
    "sim_yhat_grid = sim_model.phi_to_yhat(phi_grid)\n",
    "\n",
    "ax[0,0].plot(phi_grid,yhat_grid, lw=2, color='C0', label='true $g$')\n",
    "ax[0,0].plot(phi_grid,sim_yhat_grid, linestyle='--', color='C1', lw=2, label='inferred $g$')\n",
    "ax[0,0].scatter(sim_phi_test, y_test, color='silver', s=0.25, alpha=0.25, label ='simulated $y$')\n",
    "\n",
    "ax[0,0].set_xlabel('latent phenotype ($\\phi$)',fontsize=7.5)\n",
    "leg = ax[0,0].legend(fontsize=7,prop={'size': 6}, loc='upper left')\n",
    "\n",
    "for lh in leg.legendHandles: \n",
    "    lh.set_alpha(1)\n",
    "\n",
    "ax[0,0].set_ylabel('observation ($y$)',fontsize=7.5)\n",
    "ax[0,0].tick_params(labelsize=7.5)\n",
    "ax[0,0].text(subpanel_letter_pos_x, subpanel_letter_pos_y, 'a',fontsize=11.5, fontweight='bold',transform=ax[0,0].transAxes)\n",
    "ax[0,0].set_xticks([-4,-2,0,2])\n",
    "ax[0,0].set_yticks([-8,-4,0,4])\n",
    "ax[0,0].set_xlim(phi_lim)\n",
    "\n",
    "Rsq_sim = np.corrcoef(sim_yhat_test, yhat_test)[0][1]**2\n",
    "ax[0,1].scatter(sim_yhat_test,yhat_test,s=0.25,alpha=0.25, color='C1')\n",
    "lims = [-9,5]\n",
    "ticks = [-8,-4,0,4]\n",
    "ax[0,1].plot(lims, lims, linestyle=':', color='k', label='$y=\\hat{y}$', lw=2, zorder=-100)\n",
    "\n",
    "delta_Rsq_sim = f'{estimate_Rsq_error_from_boostrap(sim_yhat_test, yhat_test):.3e}'\n",
    "\n",
    "#ax[0,1].text(0.05,0.9,'$R^2: $'+str(Rsq_sim)[0:5]+'$\\pm$ '+delta_Rsq_sim, fontsize=7.5, fontweight='regular',transform=ax[0,1].transAxes)\n",
    "ax[0,1].text(0.05,0.9,'$R^2: $'+str(Rsq_sim)[0:7], fontsize=7.5, fontweight='regular',transform=ax[0,1].transAxes)\n",
    "\n",
    "ax[0,1].set_xlabel('true model prediction ($\\hat{y}$)',fontsize=7.5)\n",
    "ax[0,1].set_ylabel('inferred model prediction ($\\hat{y}$)',fontsize=7.5)\n",
    "ax[0,1].tick_params(labelsize=7.5)\n",
    "ax[0,1].set_xticks(ticks)\n",
    "ax[0,1].set_yticks(ticks)\n",
    "ax[0,1].text(subpanel_letter_pos_x, subpanel_letter_pos_y, 'b',fontsize=11.5, fontweight='bold',transform=ax[0,1].transAxes)\n",
    "ax[0,1].set_xlim(lims)\n",
    "ax[0,1].set_ylim(lims)\n",
    "\n",
    "Rsq_phi_sim = np.corrcoef(phi_test, sim_phi_test)[0][1]**2\n",
    "delta_Rsq_phi_sim = f'{estimate_Rsq_error_from_boostrap(phi_test, sim_phi_test):.3e}'\n",
    "\n",
    "ax[0,2].scatter(phi_test,sim_phi_test,s=1.5,alpha=0.25, color='C1')\n",
    "lims = [-5,3]\n",
    "ticks = [-4,-2,0,2]\n",
    "ax[0,2].plot(lims, lims, linestyle=':', color='k', lw=2, zorder=-100)\n",
    "#ax[0,2].text(0.05, 0.9,'$R^2: $'+str(Rsq_phi_sim)[0:5]+'$\\pm$ '+delta_Rsq_phi_sim, fontsize=7.5, fontweight='regular',transform=ax[0,2].transAxes)\n",
    "ax[0,2].text(0.05, 0.9,'$R^2: $'+str(Rsq_phi_sim)[0:6], fontsize=7.5, fontweight='regular',transform=ax[0,2].transAxes)\n",
    "ax[0,2].set_ylabel('inferred latent phenotype ($\\phi$)', fontsize=7.5)\n",
    "ax[0,2].set_xlabel('true latent phenotype ($\\phi$)', fontsize=7.5)\n",
    "ax[0,2].text(subpanel_letter_pos_x, subpanel_letter_pos_y, 'c',fontsize=11.5, fontweight='bold',transform=ax[0,2].transAxes)\n",
    "ax[0,2].tick_params(labelsize=7.5)\n",
    "ax[0,2].set_xticks(ticks)\n",
    "ax[0,2].set_yticks(ticks)\n",
    "ax[0,2].set_xlim(lims)\n",
    "ax[0,2].set_ylim(lims)\n",
    "\n",
    "Rsq_theta_sim = np.corrcoef(theta_lc, sim_theta_lc)[0][1]**2\n",
    "delta_Rsq_theta_sim = f'{estimate_Rsq_error_from_boostrap(theta_lc, sim_theta_lc):.3e}'\n",
    "\n",
    "ax[1,0].scatter(theta_lc,sim_theta_lc,s=0.5,alpha=0.5, color='C1')\n",
    "lims=[-2,2]\n",
    "ticks=[-2,-1,0,1,2]\n",
    "ax[1,0].plot(lims, lims, linestyle=':', color='k', lw=2, zorder=-100)\n",
    "#ax[1,0].text(-0.75, 0.8,'$R^2: $'+str(Rsq_theta_sim)[0:5])\n",
    "#ax[1,0].text(0.05, 0.9,'$R^2: $'+str(Rsq_theta_sim)[0:5]+'$\\pm$ '+delta_Rsq_theta_sim, fontsize=7.5, fontweight='regular',transform=ax[1,0].transAxes)\n",
    "ax[1,0].text(0.05, 0.9,'$R^2: $'+str(Rsq_theta_sim)[0:6], fontsize=7.5, fontweight='regular',transform=ax[1,0].transAxes)\n",
    "ax[1,0].text(subpanel_letter_pos_x, subpanel_letter_pos_y, 'd',fontsize=11.5, fontweight='bold',transform=ax[1,0].transAxes)\n",
    "ax[1,0].set_ylabel('inferred parameters (${\\\\theta}$)',fontsize=7.5)\n",
    "ax[1,0].set_xlabel('true parameters (${\\\\theta}$)',fontsize=7.5)\n",
    "ax[1,0].tick_params(labelsize=7.5)\n",
    "ax[1,0].set_xticks(ticks)\n",
    "ax[1,0].set_yticks(ticks)\n",
    "ax[1,0].set_xlim(lims)\n",
    "ax[1,0].set_ylim(lims)\n",
    "\n",
    "for model_index in range(len(data_sizes)):\n",
    "    \n",
    "    mean = np.mean(training_times[model_index])\n",
    "    for time in training_times[model_index]:\n",
    "        #print(time)\n",
    "        ax[1,1].scatter(data_sizes[model_index],time/60,s=1,color='gray',alpha=0.5)\n",
    "        ax[1,1].scatter(data_sizes[model_index],mean/60,s=3,color='black',alpha=1)        \n",
    "\n",
    "ax[1,1].scatter([len(data_df)],[271.9/60],color='C0',s=2.5) # initial model time\n",
    "ax[1,1].scatter([len(data_df)],[346.1/60],color='C1',s=2.5,zorder=2) # bootstrap model time\n",
    "ax[1,1].set_xscale('log')    \n",
    "ax[1,1].set_yscale('log') \n",
    "ax[1,1].text(subpanel_letter_pos_x, subpanel_letter_pos_y, 'e',fontsize=11.5, fontweight='bold',transform=ax[1,1].transAxes)\n",
    "ax[1,1].set_xlabel('dataset size',fontsize=7.5)\n",
    "ax[1,1].set_ylabel('inference time [min]',fontsize=7.5)\n",
    "ax[1,1].tick_params(labelsize=7.5)\n",
    "ax[1,1].set_xticks([1e3,1e4,1e5])\n",
    "ax[1,2].set_xlim([5E2, 8E5])\n",
    "\n",
    "for model_index in range(len(data_sizes)):\n",
    "    \n",
    "    mean = np.mean(model_Rsqs[model_index])\n",
    "    for rsq in model_Rsqs[model_index]:\n",
    "        #print(time)\n",
    "        ax[1,2].scatter(data_sizes[model_index],rsq,s=1,color='gray',alpha=0.5)\n",
    "        ax[1,2].scatter(data_sizes[model_index],mean,s=3,color='black',alpha=1)        \n",
    "\n",
    "ax[1,2].scatter([len(data_df)],[Rsq_sim],color='C1',s=2.5,zorder=2) # bootstrap model performance\n",
    "ax[1,2].set_xscale('log')    \n",
    "ax[1,2].set_xlabel('dataset size',fontsize=7.5)\n",
    "ax[1,2].set_ylabel('$R^2$ (inferred $\\hat{y}$ vs. true $\\hat{y}$)',fontsize=7.5)\n",
    "ax[1,2].text(subpanel_letter_pos_x, subpanel_letter_pos_y, 'f',fontsize=11.5, fontweight='bold',transform=ax[1,2].transAxes)\n",
    "ax[1,2].tick_params(labelsize=7.5)\n",
    "ax[1,2].set_xticks([1e3,1e4,1e5])\n",
    "ax[1,2].set_xlim([5E2, 8E5])\n",
    "\n",
    "# Tight layout\n",
    "fig.tight_layout()\n",
    "            \n",
    "# Save figure\n",
    "save_fig_with_date_stamp(fig, fig_name)"
   ]
  },
  {
   "cell_type": "code",
   "execution_count": null,
   "metadata": {},
   "outputs": [],
   "source": []
  }
 ],
 "metadata": {
  "kernelspec": {
   "display_name": "Python 3",
   "language": "python",
   "name": "python3"
  },
  "language_info": {
   "codemirror_mode": {
    "name": "ipython",
    "version": 3
   },
   "file_extension": ".py",
   "mimetype": "text/x-python",
   "name": "python",
   "nbconvert_exporter": "python",
   "pygments_lexer": "ipython3",
   "version": "3.9.2"
  },
  "varInspector": {
   "cols": {
    "lenName": 16,
    "lenType": 16,
    "lenVar": 40
   },
   "kernels_config": {
    "python": {
     "delete_cmd_postfix": "",
     "delete_cmd_prefix": "del ",
     "library": "var_list.py",
     "varRefreshCmd": "print(var_dic_list())"
    },
    "r": {
     "delete_cmd_postfix": ") ",
     "delete_cmd_prefix": "rm(",
     "library": "var_list.r",
     "varRefreshCmd": "cat(var_dic_list()) "
    }
   },
   "types_to_exclude": [
    "module",
    "function",
    "builtin_function_or_method",
    "instance",
    "_Feature"
   ],
   "window_display": false
  }
 },
 "nbformat": 4,
 "nbformat_minor": 2
}
