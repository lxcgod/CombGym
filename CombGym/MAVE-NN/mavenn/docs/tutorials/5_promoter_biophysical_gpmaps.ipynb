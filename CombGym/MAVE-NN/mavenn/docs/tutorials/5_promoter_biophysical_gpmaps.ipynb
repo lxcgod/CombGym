{
 "cells": [
  {
   "cell_type": "markdown",
   "metadata": {},
   "source": [
    "# Tutorial 5: The sort-seq *E. Coli lac* promoter binding analysis using a custom biophysical G-P maps"
   ]
  },
  {
   "cell_type": "code",
   "execution_count": 1,
   "metadata": {
    "ExecuteTime": {
     "end_time": "2021-12-29T17:18:00.644139Z",
     "start_time": "2021-12-29T17:17:58.975268Z"
    },
    "jupyter": {
     "outputs_hidden": false
    },
    "pycharm": {
     "name": "#%%\n"
    }
   },
   "outputs": [],
   "source": [
    "# Standard imports\n",
    "import numpy as np\n",
    "import pandas as pd\n",
    "import matplotlib.pyplot as plt\n",
    "\n",
    "# Special imports\n",
    "import mavenn"
   ]
  },
  {
   "cell_type": "markdown",
   "metadata": {},
   "source": [
    "The sort-seq MPRA data of Kinney et al., 2010. The authors in Ref. [1] used fluorescence-activated cell sorting, \n",
    "followed by deep sequencing, to assay gene expression levels from variant lac promoters in E. coli.\n",
    "The data is available in MAVE-nn `load_example_dataset` function and it is called `'sortseq'`. "
   ]
  },
  {
   "cell_type": "code",
   "execution_count": 2,
   "metadata": {
    "ExecuteTime": {
     "end_time": "2021-12-29T17:18:00.714827Z",
     "start_time": "2021-12-29T17:18:00.645223Z"
    }
   },
   "outputs": [
    {
     "name": "stdout",
     "output_type": "stream",
     "text": [
      "Loading dataset 'sortseq' \n",
      "Sequence length: 75 amino acids\n"
     ]
    },
    {
     "data": {
      "text/html": [
       "<div>\n",
       "<style scoped>\n",
       "    .dataframe tbody tr th:only-of-type {\n",
       "        vertical-align: middle;\n",
       "    }\n",
       "\n",
       "    .dataframe tbody tr th {\n",
       "        vertical-align: top;\n",
       "    }\n",
       "\n",
       "    .dataframe thead th {\n",
       "        text-align: right;\n",
       "    }\n",
       "</style>\n",
       "<table border=\"1\" class=\"dataframe\">\n",
       "  <thead>\n",
       "    <tr style=\"text-align: right;\">\n",
       "      <th></th>\n",
       "      <th>set</th>\n",
       "      <th>ct_0</th>\n",
       "      <th>ct_1</th>\n",
       "      <th>ct_2</th>\n",
       "      <th>ct_3</th>\n",
       "      <th>ct_4</th>\n",
       "      <th>ct_5</th>\n",
       "      <th>ct_6</th>\n",
       "      <th>ct_7</th>\n",
       "      <th>ct_8</th>\n",
       "      <th>ct_9</th>\n",
       "      <th>x</th>\n",
       "    </tr>\n",
       "  </thead>\n",
       "  <tbody>\n",
       "    <tr>\n",
       "      <th>0</th>\n",
       "      <td>training</td>\n",
       "      <td>0</td>\n",
       "      <td>1</td>\n",
       "      <td>0</td>\n",
       "      <td>0</td>\n",
       "      <td>0</td>\n",
       "      <td>0</td>\n",
       "      <td>0</td>\n",
       "      <td>0</td>\n",
       "      <td>0</td>\n",
       "      <td>0</td>\n",
       "      <td>AAAAAAAGTGAGTTAGCCAACTAATTAGGCACCGTACGCTTTATAG...</td>\n",
       "    </tr>\n",
       "    <tr>\n",
       "      <th>1</th>\n",
       "      <td>test</td>\n",
       "      <td>0</td>\n",
       "      <td>0</td>\n",
       "      <td>0</td>\n",
       "      <td>0</td>\n",
       "      <td>0</td>\n",
       "      <td>0</td>\n",
       "      <td>0</td>\n",
       "      <td>0</td>\n",
       "      <td>1</td>\n",
       "      <td>0</td>\n",
       "      <td>AAAAAATCTGAGTTAGCTTACTCATTAGGCACCCCAGGCTTGACAC...</td>\n",
       "    </tr>\n",
       "    <tr>\n",
       "      <th>2</th>\n",
       "      <td>test</td>\n",
       "      <td>0</td>\n",
       "      <td>0</td>\n",
       "      <td>0</td>\n",
       "      <td>0</td>\n",
       "      <td>0</td>\n",
       "      <td>0</td>\n",
       "      <td>1</td>\n",
       "      <td>0</td>\n",
       "      <td>0</td>\n",
       "      <td>0</td>\n",
       "      <td>AAAAAATCTGAGTTTGCTCACTCTATCGGCACCCCAGTCTTTACAC...</td>\n",
       "    </tr>\n",
       "    <tr>\n",
       "      <th>3</th>\n",
       "      <td>training</td>\n",
       "      <td>0</td>\n",
       "      <td>0</td>\n",
       "      <td>0</td>\n",
       "      <td>0</td>\n",
       "      <td>0</td>\n",
       "      <td>0</td>\n",
       "      <td>0</td>\n",
       "      <td>0</td>\n",
       "      <td>0</td>\n",
       "      <td>1</td>\n",
       "      <td>AAAAAATGAGAGTTAGTTCACTCATTCGGCACCACAGGCTTTACAA...</td>\n",
       "    </tr>\n",
       "    <tr>\n",
       "      <th>4</th>\n",
       "      <td>training</td>\n",
       "      <td>0</td>\n",
       "      <td>0</td>\n",
       "      <td>0</td>\n",
       "      <td>0</td>\n",
       "      <td>0</td>\n",
       "      <td>0</td>\n",
       "      <td>0</td>\n",
       "      <td>0</td>\n",
       "      <td>0</td>\n",
       "      <td>1</td>\n",
       "      <td>AAAAAATGGGTGTTAGCTCTATCATTAGGCACCCCCGGCTTTACAC...</td>\n",
       "    </tr>\n",
       "    <tr>\n",
       "      <th>...</th>\n",
       "      <td>...</td>\n",
       "      <td>...</td>\n",
       "      <td>...</td>\n",
       "      <td>...</td>\n",
       "      <td>...</td>\n",
       "      <td>...</td>\n",
       "      <td>...</td>\n",
       "      <td>...</td>\n",
       "      <td>...</td>\n",
       "      <td>...</td>\n",
       "      <td>...</td>\n",
       "      <td>...</td>\n",
       "    </tr>\n",
       "    <tr>\n",
       "      <th>50513</th>\n",
       "      <td>validation</td>\n",
       "      <td>0</td>\n",
       "      <td>0</td>\n",
       "      <td>0</td>\n",
       "      <td>1</td>\n",
       "      <td>0</td>\n",
       "      <td>0</td>\n",
       "      <td>0</td>\n",
       "      <td>0</td>\n",
       "      <td>0</td>\n",
       "      <td>0</td>\n",
       "      <td>TTTTGCAGAGTGTCAGCCCACTCATTACGCACCGCAGCCGTTACAC...</td>\n",
       "    </tr>\n",
       "    <tr>\n",
       "      <th>50514</th>\n",
       "      <td>test</td>\n",
       "      <td>0</td>\n",
       "      <td>0</td>\n",
       "      <td>0</td>\n",
       "      <td>0</td>\n",
       "      <td>0</td>\n",
       "      <td>0</td>\n",
       "      <td>0</td>\n",
       "      <td>0</td>\n",
       "      <td>1</td>\n",
       "      <td>0</td>\n",
       "      <td>TTTTTATGTGAGTTAGCTCACTCATTCGGCACCCTAGGCTTTACAC...</td>\n",
       "    </tr>\n",
       "    <tr>\n",
       "      <th>50515</th>\n",
       "      <td>training</td>\n",
       "      <td>0</td>\n",
       "      <td>0</td>\n",
       "      <td>0</td>\n",
       "      <td>1</td>\n",
       "      <td>0</td>\n",
       "      <td>0</td>\n",
       "      <td>0</td>\n",
       "      <td>0</td>\n",
       "      <td>0</td>\n",
       "      <td>0</td>\n",
       "      <td>TTTTTATGTGAGTTTGCTCACTCATGTGGCACCTAAGGCTTTACGC...</td>\n",
       "    </tr>\n",
       "    <tr>\n",
       "      <th>50516</th>\n",
       "      <td>training</td>\n",
       "      <td>1</td>\n",
       "      <td>0</td>\n",
       "      <td>0</td>\n",
       "      <td>0</td>\n",
       "      <td>0</td>\n",
       "      <td>0</td>\n",
       "      <td>0</td>\n",
       "      <td>0</td>\n",
       "      <td>0</td>\n",
       "      <td>0</td>\n",
       "      <td>TTTTTATGTGGGTTAGGTCGCGCATTAGGCACCGCAGGCTTTACCC...</td>\n",
       "    </tr>\n",
       "    <tr>\n",
       "      <th>50517</th>\n",
       "      <td>training</td>\n",
       "      <td>1</td>\n",
       "      <td>0</td>\n",
       "      <td>0</td>\n",
       "      <td>0</td>\n",
       "      <td>0</td>\n",
       "      <td>0</td>\n",
       "      <td>0</td>\n",
       "      <td>0</td>\n",
       "      <td>0</td>\n",
       "      <td>0</td>\n",
       "      <td>TTTTTATGTGTGTTTACTCTCTCATTAGGCACTCCACGCTTTACAC...</td>\n",
       "    </tr>\n",
       "  </tbody>\n",
       "</table>\n",
       "<p>50518 rows × 12 columns</p>\n",
       "</div>"
      ],
      "text/plain": [
       "              set  ct_0  ct_1  ct_2  ct_3  ct_4  ct_5  ct_6  ct_7  ct_8  ct_9  \\\n",
       "0        training     0     1     0     0     0     0     0     0     0     0   \n",
       "1            test     0     0     0     0     0     0     0     0     1     0   \n",
       "2            test     0     0     0     0     0     0     1     0     0     0   \n",
       "3        training     0     0     0     0     0     0     0     0     0     1   \n",
       "4        training     0     0     0     0     0     0     0     0     0     1   \n",
       "...           ...   ...   ...   ...   ...   ...   ...   ...   ...   ...   ...   \n",
       "50513  validation     0     0     0     1     0     0     0     0     0     0   \n",
       "50514        test     0     0     0     0     0     0     0     0     1     0   \n",
       "50515    training     0     0     0     1     0     0     0     0     0     0   \n",
       "50516    training     1     0     0     0     0     0     0     0     0     0   \n",
       "50517    training     1     0     0     0     0     0     0     0     0     0   \n",
       "\n",
       "                                                       x  \n",
       "0      AAAAAAAGTGAGTTAGCCAACTAATTAGGCACCGTACGCTTTATAG...  \n",
       "1      AAAAAATCTGAGTTAGCTTACTCATTAGGCACCCCAGGCTTGACAC...  \n",
       "2      AAAAAATCTGAGTTTGCTCACTCTATCGGCACCCCAGTCTTTACAC...  \n",
       "3      AAAAAATGAGAGTTAGTTCACTCATTCGGCACCACAGGCTTTACAA...  \n",
       "4      AAAAAATGGGTGTTAGCTCTATCATTAGGCACCCCCGGCTTTACAC...  \n",
       "...                                                  ...  \n",
       "50513  TTTTGCAGAGTGTCAGCCCACTCATTACGCACCGCAGCCGTTACAC...  \n",
       "50514  TTTTTATGTGAGTTAGCTCACTCATTCGGCACCCTAGGCTTTACAC...  \n",
       "50515  TTTTTATGTGAGTTTGCTCACTCATGTGGCACCTAAGGCTTTACGC...  \n",
       "50516  TTTTTATGTGGGTTAGGTCGCGCATTAGGCACCGCAGGCTTTACCC...  \n",
       "50517  TTTTTATGTGTGTTTACTCTCTCATTAGGCACTCCACGCTTTACAC...  \n",
       "\n",
       "[50518 rows x 12 columns]"
      ]
     },
     "execution_count": 2,
     "metadata": {},
     "output_type": "execute_result"
    }
   ],
   "source": [
    "# Choose dataset\n",
    "data_name = 'sortseq'\n",
    "\n",
    "print(f\"Loading dataset '{data_name}' \")\n",
    "\n",
    "# Load datset\n",
    "data_df = mavenn.load_example_dataset(data_name)\n",
    "\n",
    "# Get and report sequence length\n",
    "L = len(data_df.loc[0, 'x'])\n",
    "print(f'Sequence length: {L:d} amino acids')\n",
    "\n",
    "# Preview dataset\n",
    "data_df"
   ]
  },
  {
   "cell_type": "code",
   "execution_count": 3,
   "metadata": {
    "ExecuteTime": {
     "end_time": "2021-12-29T17:18:00.735494Z",
     "start_time": "2021-12-29T17:18:00.715769Z"
    }
   },
   "outputs": [
    {
     "name": "stdout",
     "output_type": "stream",
     "text": [
      "Training set   :   30,516 observations (  60.41%)\n",
      "Validation set :   10,067 observations (  19.93%)\n",
      "Test set       :    9,935 observations (  19.67%)\n",
      "-------------------------------------------------\n",
      "Total dataset  :   50,518 observations ( 100.00%)\n",
      "\n",
      "Train + val set size : 40,583 observations\n",
      "Test set size        :  9,935 observations\n"
     ]
    },
    {
     "data": {
      "text/html": [
       "<div>\n",
       "<style scoped>\n",
       "    .dataframe tbody tr th:only-of-type {\n",
       "        vertical-align: middle;\n",
       "    }\n",
       "\n",
       "    .dataframe tbody tr th {\n",
       "        vertical-align: top;\n",
       "    }\n",
       "\n",
       "    .dataframe thead th {\n",
       "        text-align: right;\n",
       "    }\n",
       "</style>\n",
       "<table border=\"1\" class=\"dataframe\">\n",
       "  <thead>\n",
       "    <tr style=\"text-align: right;\">\n",
       "      <th></th>\n",
       "      <th>validation</th>\n",
       "      <th>ct_0</th>\n",
       "      <th>ct_1</th>\n",
       "      <th>ct_2</th>\n",
       "      <th>ct_3</th>\n",
       "      <th>ct_4</th>\n",
       "      <th>ct_5</th>\n",
       "      <th>ct_6</th>\n",
       "      <th>ct_7</th>\n",
       "      <th>ct_8</th>\n",
       "      <th>ct_9</th>\n",
       "      <th>x</th>\n",
       "    </tr>\n",
       "  </thead>\n",
       "  <tbody>\n",
       "    <tr>\n",
       "      <th>0</th>\n",
       "      <td>False</td>\n",
       "      <td>0</td>\n",
       "      <td>1</td>\n",
       "      <td>0</td>\n",
       "      <td>0</td>\n",
       "      <td>0</td>\n",
       "      <td>0</td>\n",
       "      <td>0</td>\n",
       "      <td>0</td>\n",
       "      <td>0</td>\n",
       "      <td>0</td>\n",
       "      <td>AAAAAAAGTGAGTTAGCCAACTAATTAGGCACCGTACGCTTTATAG...</td>\n",
       "    </tr>\n",
       "    <tr>\n",
       "      <th>1</th>\n",
       "      <td>False</td>\n",
       "      <td>0</td>\n",
       "      <td>0</td>\n",
       "      <td>0</td>\n",
       "      <td>0</td>\n",
       "      <td>0</td>\n",
       "      <td>0</td>\n",
       "      <td>0</td>\n",
       "      <td>0</td>\n",
       "      <td>0</td>\n",
       "      <td>1</td>\n",
       "      <td>AAAAAATGAGAGTTAGTTCACTCATTCGGCACCACAGGCTTTACAA...</td>\n",
       "    </tr>\n",
       "    <tr>\n",
       "      <th>2</th>\n",
       "      <td>False</td>\n",
       "      <td>0</td>\n",
       "      <td>0</td>\n",
       "      <td>0</td>\n",
       "      <td>0</td>\n",
       "      <td>0</td>\n",
       "      <td>0</td>\n",
       "      <td>0</td>\n",
       "      <td>0</td>\n",
       "      <td>0</td>\n",
       "      <td>1</td>\n",
       "      <td>AAAAAATGGGTGTTAGCTCTATCATTAGGCACCCCCGGCTTTACAC...</td>\n",
       "    </tr>\n",
       "    <tr>\n",
       "      <th>3</th>\n",
       "      <td>False</td>\n",
       "      <td>0</td>\n",
       "      <td>1</td>\n",
       "      <td>0</td>\n",
       "      <td>0</td>\n",
       "      <td>0</td>\n",
       "      <td>0</td>\n",
       "      <td>0</td>\n",
       "      <td>0</td>\n",
       "      <td>0</td>\n",
       "      <td>0</td>\n",
       "      <td>AAAAAATGTCAGTTAGCTGACTCATTAGGCACCCCTGGCTTTACGT...</td>\n",
       "    </tr>\n",
       "    <tr>\n",
       "      <th>4</th>\n",
       "      <td>True</td>\n",
       "      <td>0</td>\n",
       "      <td>0</td>\n",
       "      <td>0</td>\n",
       "      <td>0</td>\n",
       "      <td>0</td>\n",
       "      <td>0</td>\n",
       "      <td>1</td>\n",
       "      <td>0</td>\n",
       "      <td>0</td>\n",
       "      <td>0</td>\n",
       "      <td>AAAAAATGTGAGAAAGCTCACTCCTTTGGCACCGCAGGCTTTACAC...</td>\n",
       "    </tr>\n",
       "    <tr>\n",
       "      <th>...</th>\n",
       "      <td>...</td>\n",
       "      <td>...</td>\n",
       "      <td>...</td>\n",
       "      <td>...</td>\n",
       "      <td>...</td>\n",
       "      <td>...</td>\n",
       "      <td>...</td>\n",
       "      <td>...</td>\n",
       "      <td>...</td>\n",
       "      <td>...</td>\n",
       "      <td>...</td>\n",
       "      <td>...</td>\n",
       "    </tr>\n",
       "    <tr>\n",
       "      <th>40578</th>\n",
       "      <td>True</td>\n",
       "      <td>0</td>\n",
       "      <td>1</td>\n",
       "      <td>0</td>\n",
       "      <td>0</td>\n",
       "      <td>0</td>\n",
       "      <td>0</td>\n",
       "      <td>0</td>\n",
       "      <td>0</td>\n",
       "      <td>0</td>\n",
       "      <td>0</td>\n",
       "      <td>TTTTGATGTGGGTTTGCTCTCTCTTCAGGCACCCCACGCTTTACGC...</td>\n",
       "    </tr>\n",
       "    <tr>\n",
       "      <th>40579</th>\n",
       "      <td>True</td>\n",
       "      <td>0</td>\n",
       "      <td>0</td>\n",
       "      <td>0</td>\n",
       "      <td>1</td>\n",
       "      <td>0</td>\n",
       "      <td>0</td>\n",
       "      <td>0</td>\n",
       "      <td>0</td>\n",
       "      <td>0</td>\n",
       "      <td>0</td>\n",
       "      <td>TTTTGCAGAGTGTCAGCCCACTCATTACGCACCGCAGCCGTTACAC...</td>\n",
       "    </tr>\n",
       "    <tr>\n",
       "      <th>40580</th>\n",
       "      <td>False</td>\n",
       "      <td>0</td>\n",
       "      <td>0</td>\n",
       "      <td>0</td>\n",
       "      <td>1</td>\n",
       "      <td>0</td>\n",
       "      <td>0</td>\n",
       "      <td>0</td>\n",
       "      <td>0</td>\n",
       "      <td>0</td>\n",
       "      <td>0</td>\n",
       "      <td>TTTTTATGTGAGTTTGCTCACTCATGTGGCACCTAAGGCTTTACGC...</td>\n",
       "    </tr>\n",
       "    <tr>\n",
       "      <th>40581</th>\n",
       "      <td>False</td>\n",
       "      <td>1</td>\n",
       "      <td>0</td>\n",
       "      <td>0</td>\n",
       "      <td>0</td>\n",
       "      <td>0</td>\n",
       "      <td>0</td>\n",
       "      <td>0</td>\n",
       "      <td>0</td>\n",
       "      <td>0</td>\n",
       "      <td>0</td>\n",
       "      <td>TTTTTATGTGGGTTAGGTCGCGCATTAGGCACCGCAGGCTTTACCC...</td>\n",
       "    </tr>\n",
       "    <tr>\n",
       "      <th>40582</th>\n",
       "      <td>False</td>\n",
       "      <td>1</td>\n",
       "      <td>0</td>\n",
       "      <td>0</td>\n",
       "      <td>0</td>\n",
       "      <td>0</td>\n",
       "      <td>0</td>\n",
       "      <td>0</td>\n",
       "      <td>0</td>\n",
       "      <td>0</td>\n",
       "      <td>0</td>\n",
       "      <td>TTTTTATGTGTGTTTACTCTCTCATTAGGCACTCCACGCTTTACAC...</td>\n",
       "    </tr>\n",
       "  </tbody>\n",
       "</table>\n",
       "<p>40583 rows × 12 columns</p>\n",
       "</div>"
      ],
      "text/plain": [
       "       validation  ct_0  ct_1  ct_2  ct_3  ct_4  ct_5  ct_6  ct_7  ct_8  ct_9  \\\n",
       "0           False     0     1     0     0     0     0     0     0     0     0   \n",
       "1           False     0     0     0     0     0     0     0     0     0     1   \n",
       "2           False     0     0     0     0     0     0     0     0     0     1   \n",
       "3           False     0     1     0     0     0     0     0     0     0     0   \n",
       "4            True     0     0     0     0     0     0     1     0     0     0   \n",
       "...           ...   ...   ...   ...   ...   ...   ...   ...   ...   ...   ...   \n",
       "40578        True     0     1     0     0     0     0     0     0     0     0   \n",
       "40579        True     0     0     0     1     0     0     0     0     0     0   \n",
       "40580       False     0     0     0     1     0     0     0     0     0     0   \n",
       "40581       False     1     0     0     0     0     0     0     0     0     0   \n",
       "40582       False     1     0     0     0     0     0     0     0     0     0   \n",
       "\n",
       "                                                       x  \n",
       "0      AAAAAAAGTGAGTTAGCCAACTAATTAGGCACCGTACGCTTTATAG...  \n",
       "1      AAAAAATGAGAGTTAGTTCACTCATTCGGCACCACAGGCTTTACAA...  \n",
       "2      AAAAAATGGGTGTTAGCTCTATCATTAGGCACCCCCGGCTTTACAC...  \n",
       "3      AAAAAATGTCAGTTAGCTGACTCATTAGGCACCCCTGGCTTTACGT...  \n",
       "4      AAAAAATGTGAGAAAGCTCACTCCTTTGGCACCGCAGGCTTTACAC...  \n",
       "...                                                  ...  \n",
       "40578  TTTTGATGTGGGTTTGCTCTCTCTTCAGGCACCCCACGCTTTACGC...  \n",
       "40579  TTTTGCAGAGTGTCAGCCCACTCATTACGCACCGCAGCCGTTACAC...  \n",
       "40580  TTTTTATGTGAGTTTGCTCACTCATGTGGCACCTAAGGCTTTACGC...  \n",
       "40581  TTTTTATGTGGGTTAGGTCGCGCATTAGGCACCGCAGGCTTTACCC...  \n",
       "40582  TTTTTATGTGTGTTTACTCTCTCATTAGGCACTCCACGCTTTACAC...  \n",
       "\n",
       "[40583 rows x 12 columns]"
      ]
     },
     "execution_count": 3,
     "metadata": {},
     "output_type": "execute_result"
    }
   ],
   "source": [
    "# Split dataset\n",
    "trainval_df, test_df = mavenn.split_dataset(data_df)\n",
    "\n",
    "# Show dataset sizes\n",
    "print(f'Train + val set size : {len(trainval_df):6,d} observations')\n",
    "print(f'Test set size        : {len(test_df):6,d} observations')\n",
    "\n",
    "# Preview trainval_df\n",
    "trainval_df"
   ]
  },
  {
   "cell_type": "markdown",
   "metadata": {},
   "source": [
    "Training data are the count columns (10 columns) of the above dataset."
   ]
  },
  {
   "cell_type": "code",
   "execution_count": 4,
   "metadata": {
    "ExecuteTime": {
     "end_time": "2021-12-29T17:18:00.738206Z",
     "start_time": "2021-12-29T17:18:00.736190Z"
    }
   },
   "outputs": [],
   "source": [
    "# Get the length of the sequence\n",
    "L = len(data_df['x'][0])\n",
    "# Get the column index for the counts\n",
    "y_cols = trainval_df.columns[1:-1]\n",
    "# Get the number of count columns\n",
    "len_y_cols = len(y_cols)"
   ]
  },
  {
   "cell_type": "markdown",
   "metadata": {},
   "source": [
    "## Training\n",
    "\n",
    "A four-state thermodynamic model for transcriptional activation at *E. coli lac* promoter which proposed in Ref. [1] is trained here using MAVE-NN. \n",
    "Here, $\\Delta G_R$ and  $\\Delta G_C$ are RNAP-DNA and CRP-DNA binding Gibbs free energies and CRP-RNAP interaction energy is represented by a scalar $\\Delta G_I$.\n",
    "The four-state thermodynamic model is summarized below:\n",
    "\n",
    "| microstates                                   | Gibbs free energies                   | activity |\n",
    "|:----------------------------------------------|:--------------------------------------|:---------|\n",
    "| free DNA                                      | 0                                     | 0        |\n",
    "| CRP-DNA binding                               | $\\Delta G_C$                          | 0        |\n",
    "| RNAP-DNA binding                              | $\\Delta G_R$                          | 1        |\n",
    "| CRP and RNAP both bounded to DNA and interact | $\\Delta G_C+ \\Delta G_R + \\Delta G_I$ | 1        |\n",
    "\n",
    "The rate of transcription `tr_rate` has the following form:\n",
    "$$\n",
    "tr_{\\text{rate}} = t_{sat} \\frac {\\exp(-\\Delta G_R)+ \\exp(-\\Delta G_C-\\Delta G_R-\\Delta G_I)}{1+\\exp(-\\Delta G_C)+ \\exp(-\\Delta G_R)+ \\exp(-\\Delta G_C- \\Delta G_R- \\Delta G_I)} \n",
    "$$ \n",
    "\n",
    "in which $t_{sat}$ is the transcription rate resulting from full RNAP occupancy. \n",
    "\n",
    "Here, the $\\Delta G_C$ and $\\Delta G_R$ are trainable matrices (weights of the neural network) and $\\Delta G_I$ and $t_{sat}$ are trainable scalars.\n",
    "\n",
    "To fit the above thermodynamic models, we used the **Custom G-P maps** layer implemented in `'mavenn.src.layers.gpmap'`.\n",
    "For the detailed discussion on how to use the MAVE-NN custom G-P maps layer, checkout the thermodynamic model for IgG binding by GB1 tutorial."
   ]
  },
  {
   "cell_type": "code",
   "execution_count": 5,
   "metadata": {
    "ExecuteTime": {
     "end_time": "2021-12-29T17:18:00.745900Z",
     "start_time": "2021-12-29T17:18:00.739098Z"
    }
   },
   "outputs": [],
   "source": [
    "from mavenn.src.layers.gpmap import GPMapLayer\n",
    "\n",
    "# Tensorflow imports\n",
    "import tensorflow as tf\n",
    "import tensorflow.keras.backend as K\n",
    "from tensorflow.keras.initializers import Constant\n",
    "\n",
    "class ThermodynamicLayer(GPMapLayer):\n",
    "    \"\"\"\n",
    "    Represents a four-stage thermodynamic model\n",
    "    containing the states:\n",
    "    1. free DNA \n",
    "    2. CPR-DNA binding\n",
    "    3. RNAP-DNA binding\n",
    "    4. CPR and RNAP both bounded to DNA and interact\n",
    "    \"\"\"\n",
    "\n",
    "    def __init__(self,\n",
    "                 tf_start,\n",
    "                 tf_end,\n",
    "                 rnap_start,\n",
    "                 rnap_end,\n",
    "                 *args, **kwargs):\n",
    "        \"\"\"Construct layer instance.\"\"\"\n",
    "\n",
    "        # Call superclass\n",
    "        super().__init__(*args, **kwargs)\n",
    "        \n",
    "        # set attributes\n",
    "        self.tf_start = tf_start            # transcription factor starting position\n",
    "        self.tf_end = tf_end                 # transcription factor ending position\n",
    "        self.L_tf = tf_end - tf_start        # length of transcription factor\n",
    "        self.rnap_start = rnap_start         # RNAP starting position\n",
    "        self.rnap_end = rnap_end             # RNAP ending position\n",
    "        self.L_rnap = rnap_end - rnap_start  # length of RNAP\n",
    "\n",
    "        # define bias/chemical potential weight for TF/CRP energy\n",
    "        self.theta_tf_0 = self.add_weight(name='theta_tf_0',\n",
    "                                          shape=(1,),\n",
    "                                          initializer=Constant(1.),\n",
    "                                          trainable=True,\n",
    "                                          regularizer=self.regularizer)\n",
    "\n",
    "        # define bias/chemical potential weight for rnap energy\n",
    "        self.theta_rnap_0 = self.add_weight(name='theta_rnap_0',\n",
    "                                            shape=(1,),\n",
    "                                            initializer=Constant(1.),\n",
    "                                            trainable=True,\n",
    "                                            regularizer=self.regularizer)\n",
    "\n",
    "        # initialize the theta_tf\n",
    "        theta_tf_shape = (1, self.L_tf, self.C)\n",
    "        theta_tf_init = np.random.randn(*theta_tf_shape)/np.sqrt(self.L_tf)\n",
    "        \n",
    "        # define the weights of the layer corresponds to theta_tf\n",
    "        self.theta_tf = self.add_weight(name='theta_tf',\n",
    "                                        shape=theta_tf_shape,\n",
    "                                        initializer=Constant(theta_tf_init),\n",
    "                                        trainable=True,\n",
    "                                        regularizer=self.regularizer)\n",
    "\n",
    "        # define theta_rnap parameters\n",
    "        theta_rnap_shape = (1, self.L_rnap, self.C)\n",
    "        theta_rnap_init = np.random.randn(*theta_rnap_shape)/np.sqrt(self.L_rnap)\n",
    "        \n",
    "        # define the weights of the layer corresponds to theta_rnap\n",
    "        self.theta_rnap = self.add_weight(name='theta_rnap',\n",
    "                                          shape=theta_rnap_shape,\n",
    "                                          initializer=Constant(theta_rnap_init),\n",
    "                                          trainable=True,\n",
    "                                          regularizer=self.regularizer)\n",
    "\n",
    "        # define trainable real number G_I, representing interaction Gibbs energy\n",
    "        self.theta_dG_I = self.add_weight(name='theta_dG_I',\n",
    "                                   shape=(1,),\n",
    "                                   initializer=Constant(-4),\n",
    "                                   trainable=True,\n",
    "                                   regularizer=self.regularizer)\n",
    "\n",
    "\n",
    "    def call(self, x):\n",
    "        \"\"\"Process layer input and return output.\n",
    "\n",
    "        x: (tensor)\n",
    "            Input tensor that represents one-hot encoded \n",
    "            sequence values. \n",
    "        \"\"\"\n",
    "        \n",
    "        # 1kT = 0.616 kcal/mol at body temperature\n",
    "        kT = 0.616\n",
    "\n",
    "        # extract locations of binding sites from entire lac-promoter sequence.\n",
    "        # for transcription factor and rnap\n",
    "        x_tf = x[:, self.C * self.tf_start:self.C * self.tf_end]\n",
    "        x_rnap = x[:, self.C * self.rnap_start: self.C * self.rnap_end]\n",
    "\n",
    "        # reshape according to tf and rnap lengths.\n",
    "        x_tf = tf.reshape(x_tf, [-1, self.L_tf, self.C])\n",
    "        x_rnap = tf.reshape(x_rnap, [-1, self.L_rnap, self.C])\n",
    "\n",
    "        # compute delta G for crp binding\n",
    "        G_C = self.theta_tf_0 + \\\n",
    "            tf.reshape(K.sum(self.theta_tf * x_tf, axis=[1, 2]),\n",
    "                       shape=[-1, 1])\n",
    "\n",
    "        # compute delta G for rnap binding\n",
    "        G_R = self.theta_rnap_0 + \\\n",
    "            tf.reshape(K.sum(self.theta_rnap * x_rnap, axis=[1, 2]),\n",
    "                       shape=[-1, 1])\n",
    "        \n",
    "        G_I = self.theta_dG_I\n",
    "\n",
    "        # compute phi\n",
    "        numerator_of_rate = K.exp(-G_R/kT) + K.exp(-(G_C+G_R+G_I)/kT)\n",
    "        denom_of_rate = 1.0 + K.exp(-G_C/kT) + K.exp(-G_R/kT) + K.exp(-(G_C+G_R+G_I)/kT)\n",
    "        phi = numerator_of_rate/denom_of_rate\n",
    "\n",
    "        return phi"
   ]
  },
  {
   "cell_type": "markdown",
   "metadata": {},
   "source": [
    "### Training the Model\n",
    "Here we train the model with MAVEN. Note that we initialize the Gibbs energies with random negative values to help the convergence of the training."
   ]
  },
  {
   "cell_type": "code",
   "execution_count": 6,
   "metadata": {
    "ExecuteTime": {
     "end_time": "2021-12-29T17:19:13.174626Z",
     "start_time": "2021-12-29T17:18:00.746634Z"
    },
    "jupyter": {
     "outputs_hidden": false
    },
    "pycharm": {
     "name": "#%%\n"
    }
   },
   "outputs": [
    {
     "name": "stdout",
     "output_type": "stream",
     "text": [
      "N = 40,583 observations set as training data.\n",
      "Using 24.8% for validation.\n",
      "Data shuffled.\n",
      "Time to set data: 0.447 sec.\n"
     ]
    },
    {
     "data": {
      "application/vnd.jupyter.widget-view+json": {
       "model_id": "6beaa8b5d8af4a4fad968f23d9992284",
       "version_major": 2,
       "version_minor": 0
      },
      "text/plain": [
       "0epoch [00:00, ?epoch/s]"
      ]
     },
     "metadata": {},
     "output_type": "display_data"
    },
    {
     "name": "stdout",
     "output_type": "stream",
     "text": [
      "Training time: 71.6 seconds\n"
     ]
    }
   ],
   "source": [
    "# define custom gp_map parameters dictionary\n",
    "gpmap_kwargs = {'tf_start': 1,  # starting position of the CRP\n",
    "                'tf_end': 27,  # ending position of the CRP\n",
    "                'rnap_start': 34,  # starting position of the RNAP\n",
    "                'rnap_end': 75,   # ending position of the RNAP\n",
    "                'L': L,\n",
    "                'C': 4,\n",
    "                'theta_regularization': 0.1} \n",
    "\n",
    "# Create model\n",
    "model = mavenn.Model(L=L,\n",
    "                     Y=len_y_cols,\n",
    "                     alphabet='dna',\n",
    "                     regression_type='MPA',\n",
    "                     gpmap_type='custom',\n",
    "                     gpmap_kwargs=gpmap_kwargs,\n",
    "                     custom_gpmap=ThermodynamicLayer);\n",
    "\n",
    "# Set training data\n",
    "model.set_data(x=trainval_df['x'],\n",
    "               y=trainval_df[y_cols],\n",
    "               validation_flags=trainval_df['validation'],\n",
    "               shuffle=True);\n",
    "\n",
    "# Fit model to data\n",
    "model.fit(learning_rate=5e-4,\n",
    "          epochs=2000,\n",
    "          batch_size=100,\n",
    "          early_stopping=True,\n",
    "          early_stopping_patience=25,\n",
    "          linear_initialization=False,\n",
    "          verbose=False);"
   ]
  },
  {
   "cell_type": "code",
   "execution_count": 7,
   "metadata": {
    "ExecuteTime": {
     "end_time": "2021-12-29T17:19:13.186739Z",
     "start_time": "2021-12-29T17:19:13.176315Z"
    }
   },
   "outputs": [
    {
     "name": "stdout",
     "output_type": "stream",
     "text": [
      "Model saved to these files:\n",
      "\tsortseq_thermodynamic_mpa.pickle\n",
      "\tsortseq_thermodynamic_mpa.h5\n"
     ]
    }
   ],
   "source": [
    "model.save('sortseq_thermodynamic_mpa')"
   ]
  },
  {
   "cell_type": "code",
   "execution_count": 8,
   "metadata": {
    "ExecuteTime": {
     "end_time": "2021-12-29T17:19:13.588121Z",
     "start_time": "2021-12-29T17:19:13.188483Z"
    }
   },
   "outputs": [
    {
     "name": "stdout",
     "output_type": "stream",
     "text": [
      "test_I_pred: 0.685 +- 0.011 bits\n"
     ]
    }
   ],
   "source": [
    "# Compute predictive information on test data\n",
    "I_pred, dI_pred = model.I_predictive(x=test_df['x'], y=test_df[y_cols])\n",
    "print(f'test_I_pred: {I_pred:.3f} +- {dI_pred:.3f} bits')"
   ]
  },
  {
   "cell_type": "code",
   "execution_count": 9,
   "metadata": {
    "ExecuteTime": {
     "end_time": "2021-12-29T17:19:13.670191Z",
     "start_time": "2021-12-29T17:19:13.588807Z"
    }
   },
   "outputs": [
    {
     "data": {
      "image/png": "[encoded data removed]",
      "text/plain": [
       "<Figure size 360x360 with 1 Axes>"
      ]
     },
     "metadata": {
      "needs_background": "light"
     },
     "output_type": "display_data"
    }
   ],
   "source": [
    "# Create figure and axes for plotting\n",
    "fig, ax = plt.subplots(1, 1, figsize=[5, 5])\n",
    "\n",
    "# Plot I_var_train, the variational information on training data as a function of epoch\n",
    "ax.plot(model.history['I_var'], label=r'I_var_train')\n",
    "\n",
    "# Plot I_var_val, the variational information on validation data as a function of epoch\n",
    "ax.plot(model.history['val_I_var'], label=r'val_I_var')\n",
    "\n",
    "# Show I_pred_test, the predictive information of the final model on test data\n",
    "ax.axhline(I_pred, color='C3', linestyle=':', label=r'test_I_pred')\n",
    "\n",
    "# Style plot\n",
    "ax.set_xlabel('epochs')\n",
    "ax.set_ylabel('bits')\n",
    "ax.set_title('Training history: variational information')\n",
    "ax.legend()\n",
    "\n",
    "plt.tight_layout()"
   ]
  },
  {
   "cell_type": "code",
   "execution_count": 10,
   "metadata": {
    "ExecuteTime": {
     "end_time": "2021-12-29T17:19:13.673705Z",
     "start_time": "2021-12-29T17:19:13.671014Z"
    }
   },
   "outputs": [
    {
     "data": {
      "text/plain": [
       "dict_keys(['theta_tf_0', 'theta_rnap_0', 'theta_tf', 'theta_rnap', 'theta_dG_I'])"
      ]
     },
     "execution_count": 10,
     "metadata": {},
     "output_type": "execute_result"
    }
   ],
   "source": [
    "# Get the trained model parameters\n",
    "# Retrieve G-P map parameter dict and view dict keys\n",
    "param_dict = model.layer_gpmap.get_params()\n",
    "param_dict.keys()"
   ]
  },
  {
   "cell_type": "markdown",
   "metadata": {},
   "source": [
    "Authors in Ref. [1], reported they inferred CRP-RNAP interaction energy to be $\\Delta G_I = −3.26$ kcal∕mol.\n",
    "The MAVE-NN prediction is very similar to the reported value, while it is several order of magnitude faster \n",
    "than the method used in Ref. [1]."
   ]
  },
  {
   "cell_type": "code",
   "execution_count": 11,
   "metadata": {
    "ExecuteTime": {
     "end_time": "2021-12-29T17:19:13.676154Z",
     "start_time": "2021-12-29T17:19:13.674540Z"
    }
   },
   "outputs": [
    {
     "name": "stdout",
     "output_type": "stream",
     "text": [
      "CRP-RNAP interaction energy = -1.549 k_cal/mol\n"
     ]
    }
   ],
   "source": [
    "delta_G_I = param_dict['theta_dG_I']  # Gibbs energy of Interaction (scalar)\n",
    "print(f'CRP-RNAP interaction energy = {delta_G_I*0.62:.3f} k_cal/mol')"
   ]
  },
  {
   "cell_type": "markdown",
   "metadata": {},
   "source": [
    "In addition, we can represent the CRP-DNA $\\Delta G_C$ and RNAP-DNA $\\Delta G_R$ binding energies in\n",
    "the weight matrix form. The weight matrices can be represented by sequence logos. To do that, we used the \n",
    "a Python package `Logomaker` which is also developed in our research group and is \n",
    "freely available [here](https://logomaker.readthedocs.io/en/latest/).\n",
    "To represent the weight matrices in logo\n",
    "\n",
    "(a) we get the trained `crp_weights` and `rnap_weights` values, \n",
    "(b) we convert them to the `pandas.DataFrame` with column names being the nucleotide strings. \n",
    "\n",
    "The `pandas.DataFrame` can easily imported in `Logomaker`. \n",
    "See the [documentation](https://logomaker.readthedocs.io/en/latest/) \n",
    "of `Logomaker` for detailed description of the parameters one can pass to make logos."
   ]
  },
  {
   "cell_type": "code",
   "execution_count": 12,
   "metadata": {
    "ExecuteTime": {
     "end_time": "2021-12-29T17:19:15.104168Z",
     "start_time": "2021-12-29T17:19:13.677125Z"
    }
   },
   "outputs": [
    {
     "data": {
      "image/png": "[encoded data removed]",
      "text/plain": [
       "<Figure size 864x216 with 2 Axes>"
      ]
     },
     "metadata": {
      "needs_background": "light"
     },
     "output_type": "display_data"
    }
   ],
   "source": [
    "# import logomaker\n",
    "import logomaker\n",
    "\n",
    "# Get the \\Delta G_C trained values (theta_tf)\n",
    "crp_weights = param_dict['theta_tf']\n",
    "# Get the \\Delta G_R trained values (theta_rnap)\n",
    "rnap_weights = param_dict['theta_rnap']\n",
    "# Convert them to pandas dataframe\n",
    "crp_df = pd.DataFrame(crp_weights, columns=model.alphabet)\n",
    "rnap_df = pd.DataFrame(rnap_weights, columns=model.alphabet)\n",
    "\n",
    "\n",
    "# plot logos\n",
    "fig, axs = plt.subplots(1, 2, figsize=[12, 3])\n",
    "\n",
    "# sequence logo for the CRP-DNA binding energy matrix\n",
    "logo = logomaker.Logo(crp_df,  ax=axs[0], center_values=True)\n",
    "axs[0].set_title('CRP-DNA ($\\Delta G_C$)')\n",
    "logo.style_spines(visible=False)\n",
    "\n",
    "\n",
    "# sequence logo for the RNAP-DNA binding energy matrix\n",
    "logo = logomaker.Logo(rnap_df, ax=axs[1], center_values=True)\n",
    "axs[1].set_title('RNAP-DNA ($\\Delta G_R$)')\n",
    "logo.style_spines(visible=False)\n",
    "\n",
    "plt.tight_layout()"
   ]
  },
  {
   "cell_type": "markdown",
   "metadata": {},
   "source": [
    "## References\n",
    "\n",
    "1. Kinney J, Murugan A, Callan C, Cox E (2010). Using deep sequencing to characterize the biophysical mechanism of a transcriptional regulatory sequence. [Proc Natl Acad Sci USA. 107(20):9158-9163](https://doi.org/10.1073/pnas.1004290107)."
   ]
  }
 ],
 "metadata": {
  "kernelspec": {
   "display_name": "Python 3",
   "language": "python",
   "name": "python3"
  },
  "language_info": {
   "codemirror_mode": {
    "name": "ipython",
    "version": 3
   },
   "file_extension": ".py",
   "mimetype": "text/x-python",
   "name": "python",
   "nbconvert_exporter": "python",
   "pygments_lexer": "ipython3",
   "version": "3.9.2"
  },
  "varInspector": {
   "cols": {
    "lenName": 16,
    "lenType": 16,
    "lenVar": 40
   },
   "kernels_config": {
    "python": {
     "delete_cmd_postfix": "",
     "delete_cmd_prefix": "del ",
     "library": "var_list.py",
     "varRefreshCmd": "print(var_dic_list())"
    },
    "r": {
     "delete_cmd_postfix": ") ",
     "delete_cmd_prefix": "rm(",
     "library": "var_list.r",
     "varRefreshCmd": "cat(var_dic_list()) "
    }
   },
   "types_to_exclude": [
    "module",
    "function",
    "builtin_function_or_method",
    "instance",
    "_Feature"
   ],
   "window_display": false
  }
 },
 "nbformat": 4,
 "nbformat_minor": 4
}
