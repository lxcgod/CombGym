{
 "cells": [
  {
   "cell_type": "markdown",
   "metadata": {},
   "source": [
    "# Overview of built-in datasets"
   ]
  },
  {
   "cell_type": "code",
   "execution_count": 1,
   "metadata": {
    "ExecuteTime": {
     "end_time": "2021-06-28T14:33:40.027237Z",
     "start_time": "2021-06-28T14:33:37.387781Z"
    },
    "collapsed": true
   },
   "outputs": [],
   "source": [
    "import mavenn"
   ]
  },
  {
   "cell_type": "markdown",
   "metadata": {},
   "source": [
    "MAVE-NN comes with multiple built-in datasets for use in training or evaluating models. These datasets can be accessed by passing a  datset name to ``mavenn.load_example_dataset()``. To get a list of valid datset names, execute this command without any arguments:"
   ]
  },
  {
   "cell_type": "code",
   "execution_count": 2,
   "metadata": {
    "ExecuteTime": {
     "end_time": "2021-06-28T14:33:40.031048Z",
     "start_time": "2021-06-28T14:33:40.029286Z"
    }
   },
   "outputs": [
    {
     "name": "stdout",
     "output_type": "stream",
     "text": [
      "Please enter a dataset name. Valid choices are:\n",
      "\"amyloid\"\n",
      "\"gb1\"\n",
      "\"mpsa\"\n",
      "\"mpsa_replicate\"\n",
      "\"nisthal\"\n",
      "\"sortseq\"\n",
      "\"tdp43\"\n"
     ]
    }
   ],
   "source": [
    "mavenn.load_example_dataset()"
   ]
  },
  {
   "cell_type": "markdown",
   "metadata": {},
   "source": [
    "Datasets are returned in the form of ``pandas`` dataframes. Common fields include:\n",
    "\n",
    "- ``'x'``: Assayed sequences, all of which are the same length.\n",
    "- ``'y'``: Values of continuous measurements (used to train GE models).\n",
    "- ``'ct_y'``: Read counts observed in bin number ``y``, where ``y`` is an integer ranging from  ``0`` to ``Y-1`` (used to train MPA models).\n",
    "- ``'set'``: Indicates whether each observation was reserved for the ``'training'``, ``'validation'``, or ``'test'`` set when inferring the corresponding example models provided with MAVE-NN. \n",
    "\n",
    "Other fields are sometimes provided as well, e.g. the raw input and output counts used to compute measurement values. "
   ]
  }
 ],
 "metadata": {
  "kernelspec": {
   "display_name": "Python 3 (ipykernel)",
   "language": "python",
   "name": "python3"
  },
  "language_info": {
   "codemirror_mode": {
    "name": "ipython",
    "version": 3
   },
   "file_extension": ".py",
   "mimetype": "text/x-python",
   "name": "python",
   "nbconvert_exporter": "python",
   "pygments_lexer": "ipython3",
   "version": "3.9.7"
  },
  "toc": {
   "base_numbering": 1,
   "nav_menu": {},
   "number_sections": true,
   "sideBar": true,
   "skip_h1_title": false,
   "title_cell": "Table of Contents",
   "title_sidebar": "Contents",
   "toc_cell": false,
   "toc_position": {},
   "toc_section_display": true,
   "toc_window_display": true
  },
  "varInspector": {
   "cols": {
    "lenName": 16,
    "lenType": 16,
    "lenVar": 40
   },
   "kernels_config": {
    "python": {
     "delete_cmd_postfix": "",
     "delete_cmd_prefix": "del ",
     "library": "var_list.py",
     "varRefreshCmd": "print(var_dic_list())"
    },
    "r": {
     "delete_cmd_postfix": ") ",
     "delete_cmd_prefix": "rm(",
     "library": "var_list.r",
     "varRefreshCmd": "cat(var_dic_list()) "
    }
   },
   "types_to_exclude": [
    "module",
    "function",
    "builtin_function_or_method",
    "instance",
    "_Feature"
   ],
   "window_display": false
  }
 },
 "nbformat": 4,
 "nbformat_minor": 2
}
