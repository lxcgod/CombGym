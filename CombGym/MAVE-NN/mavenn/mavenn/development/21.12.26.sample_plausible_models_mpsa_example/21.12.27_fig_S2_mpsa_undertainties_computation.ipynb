{
 "cells": [
  {
   "cell_type": "markdown",
   "metadata": {},
   "source": [
    "This notebook is intended to test the mavenn functionality which enables the computation of parameter uncertainties via inference on simulated data"
   ]
  },
  {
   "cell_type": "code",
   "execution_count": 1,
   "metadata": {
    "ExecuteTime": {
     "end_time": "2021-12-27T18:30:47.848234Z",
     "start_time": "2021-12-27T18:30:45.891055Z"
    }
   },
   "outputs": [],
   "source": [
    "# Standard imports\n",
    "import pandas as pd\n",
    "import matplotlib.pyplot as plt\n",
    "import numpy as np\n",
    "import re\n",
    "import seaborn as sns\n",
    "import time\n",
    "import tensorflow as tf\n",
    "%matplotlib inline\n",
    "\n",
    "#Load mavenn and check path\n",
    "import mavenn"
   ]
  },
  {
   "cell_type": "code",
   "execution_count": 2,
   "metadata": {
    "ExecuteTime": {
     "end_time": "2021-12-27T18:30:52.016658Z",
     "start_time": "2021-12-27T18:30:51.739040Z"
    }
   },
   "outputs": [],
   "source": [
    "!rm -rf 'models/'\n",
    "!mkdir 'models/'"
   ]
  },
  {
   "cell_type": "code",
   "execution_count": 3,
   "metadata": {
    "ExecuteTime": {
     "end_time": "2021-12-27T18:30:53.048908Z",
     "start_time": "2021-12-27T18:30:52.979781Z"
    }
   },
   "outputs": [
    {
     "name": "stdout",
     "output_type": "stream",
     "text": [
      "Training set   :   18,469 observations (  60.59%)\n",
      "Validation set :    5,936 observations (  19.47%)\n",
      "Test set       :    6,078 observations (  19.94%)\n",
      "-------------------------------------------------\n",
      "Total dataset  :   30,483 observations ( 100.00%)\n",
      "\n",
      "training + validation N: 24,405\n"
     ]
    },
    {
     "data": {
      "text/html": [
       "<div>\n",
       "<style scoped>\n",
       "    .dataframe tbody tr th:only-of-type {\n",
       "        vertical-align: middle;\n",
       "    }\n",
       "\n",
       "    .dataframe tbody tr th {\n",
       "        vertical-align: top;\n",
       "    }\n",
       "\n",
       "    .dataframe thead th {\n",
       "        text-align: right;\n",
       "    }\n",
       "</style>\n",
       "<table border=\"1\" class=\"dataframe\">\n",
       "  <thead>\n",
       "    <tr style=\"text-align: right;\">\n",
       "      <th></th>\n",
       "      <th>validation</th>\n",
       "      <th>tot_ct</th>\n",
       "      <th>ex_ct</th>\n",
       "      <th>y</th>\n",
       "      <th>x</th>\n",
       "    </tr>\n",
       "  </thead>\n",
       "  <tbody>\n",
       "    <tr>\n",
       "      <th>0</th>\n",
       "      <td>False</td>\n",
       "      <td>28</td>\n",
       "      <td>2</td>\n",
       "      <td>0.023406</td>\n",
       "      <td>GGAGUGAUG</td>\n",
       "    </tr>\n",
       "    <tr>\n",
       "      <th>1</th>\n",
       "      <td>False</td>\n",
       "      <td>193</td>\n",
       "      <td>15</td>\n",
       "      <td>-0.074999</td>\n",
       "      <td>UUCGCGCCA</td>\n",
       "    </tr>\n",
       "    <tr>\n",
       "      <th>2</th>\n",
       "      <td>False</td>\n",
       "      <td>27</td>\n",
       "      <td>0</td>\n",
       "      <td>-0.438475</td>\n",
       "      <td>UAAGCUUUU</td>\n",
       "    </tr>\n",
       "    <tr>\n",
       "      <th>3</th>\n",
       "      <td>False</td>\n",
       "      <td>130</td>\n",
       "      <td>2</td>\n",
       "      <td>-0.631467</td>\n",
       "      <td>AUGGUCGGG</td>\n",
       "    </tr>\n",
       "    <tr>\n",
       "      <th>4</th>\n",
       "      <td>False</td>\n",
       "      <td>552</td>\n",
       "      <td>19</td>\n",
       "      <td>-0.433012</td>\n",
       "      <td>AGGGCAGGA</td>\n",
       "    </tr>\n",
       "    <tr>\n",
       "      <th>5</th>\n",
       "      <td>False</td>\n",
       "      <td>216</td>\n",
       "      <td>6</td>\n",
       "      <td>-0.482679</td>\n",
       "      <td>GGUGUCUGU</td>\n",
       "    </tr>\n",
       "    <tr>\n",
       "      <th>6</th>\n",
       "      <td>True</td>\n",
       "      <td>88</td>\n",
       "      <td>4</td>\n",
       "      <td>-0.241737</td>\n",
       "      <td>CAGGCAAAC</td>\n",
       "    </tr>\n",
       "    <tr>\n",
       "      <th>7</th>\n",
       "      <td>False</td>\n",
       "      <td>14</td>\n",
       "      <td>0</td>\n",
       "      <td>-0.167408</td>\n",
       "      <td>CAUGCAGCU</td>\n",
       "    </tr>\n",
       "    <tr>\n",
       "      <th>8</th>\n",
       "      <td>False</td>\n",
       "      <td>170</td>\n",
       "      <td>14</td>\n",
       "      <td>-0.048222</td>\n",
       "      <td>CAAGUCACU</td>\n",
       "    </tr>\n",
       "    <tr>\n",
       "      <th>9</th>\n",
       "      <td>False</td>\n",
       "      <td>242</td>\n",
       "      <td>13</td>\n",
       "      <td>-0.230795</td>\n",
       "      <td>UCCGCGCUA</td>\n",
       "    </tr>\n",
       "  </tbody>\n",
       "</table>\n",
       "</div>"
      ],
      "text/plain": [
       "   validation  tot_ct  ex_ct         y          x\n",
       "0       False      28      2  0.023406  GGAGUGAUG\n",
       "1       False     193     15 -0.074999  UUCGCGCCA\n",
       "2       False      27      0 -0.438475  UAAGCUUUU\n",
       "3       False     130      2 -0.631467  AUGGUCGGG\n",
       "4       False     552     19 -0.433012  AGGGCAGGA\n",
       "5       False     216      6 -0.482679  GGUGUCUGU\n",
       "6        True      88      4 -0.241737  CAGGCAAAC\n",
       "7       False      14      0 -0.167408  CAUGCAGCU\n",
       "8       False     170     14 -0.048222  CAAGUCACU\n",
       "9       False     242     13 -0.230795  UCCGCGCUA"
      ]
     },
     "execution_count": 3,
     "metadata": {},
     "output_type": "execute_result"
    }
   ],
   "source": [
    "# Load example data\n",
    "data_df = mavenn.load_example_dataset('mpsa')\n",
    "trainval_df, test_df = mavenn.split_dataset(data_df)\n",
    "print(f'training + validation N: {len(trainval_df):,}')\n",
    "trainval_df.head(10)"
   ]
  },
  {
   "cell_type": "code",
   "execution_count": 4,
   "metadata": {
    "ExecuteTime": {
     "end_time": "2021-12-27T18:30:55.982267Z",
     "start_time": "2021-12-27T18:30:55.507338Z"
    }
   },
   "outputs": [],
   "source": [
    "# Get sequence length\n",
    "L = len(trainval_df['x'][0])\n",
    "\n",
    "# Define model\n",
    "model = mavenn.Model(L=L,\n",
    "                     alphabet='rna',\n",
    "                     gpmap_type='pairwise', \n",
    "                     regression_type='GE',\n",
    "                     ge_noise_model_type='SkewedT',\n",
    "                     ge_heteroskedasticity_order=2)"
   ]
  },
  {
   "cell_type": "code",
   "execution_count": 5,
   "metadata": {
    "ExecuteTime": {
     "end_time": "2021-12-27T18:30:57.687253Z",
     "start_time": "2021-12-27T18:30:57.433201Z"
    }
   },
   "outputs": [
    {
     "name": "stdout",
     "output_type": "stream",
     "text": [
      "N = 24,405 observations set as training data.\n",
      "Using 24.3% for validation.\n",
      "Data shuffled.\n",
      "Time to set data: 0.251 sec.\n"
     ]
    }
   ],
   "source": [
    "# Set training data\n",
    "model.set_data(x=trainval_df['x'],\n",
    "               y=trainval_df['y'],\n",
    "               validation_flags=trainval_df['validation'],\n",
    "               shuffle=True)"
   ]
  },
  {
   "cell_type": "code",
   "execution_count": 6,
   "metadata": {
    "ExecuteTime": {
     "end_time": "2021-12-27T18:31:23.855820Z",
     "start_time": "2021-12-27T18:31:01.928800Z"
    }
   },
   "outputs": [
    {
     "data": {
      "application/vnd.jupyter.widget-view+json": {
       "model_id": "ae924f5389a145a8938a6cbbf2f6d2ed",
       "version_major": 2,
       "version_minor": 0
      },
      "text/plain": [
       "0epoch [00:00, ?epoch/s]"
      ]
     },
     "metadata": {},
     "output_type": "display_data"
    },
    {
     "name": "stdout",
     "output_type": "stream",
     "text": [
      "Training time: 21.9 seconds\n"
     ]
    },
    {
     "data": {
      "text/plain": [
       "<tensorflow.python.keras.callbacks.History at 0x28a121c10>"
      ]
     },
     "execution_count": 6,
     "metadata": {},
     "output_type": "execute_result"
    }
   ],
   "source": [
    "# Fit model to data\n",
    "model.fit(learning_rate=.001,\n",
    "          epochs=300,\n",
    "          batch_size=200,\n",
    "          early_stopping=True,\n",
    "          early_stopping_patience=30,\n",
    "          try_tqdm = True,\n",
    "          linear_initialization=True,\n",
    "          verbose=False)"
   ]
  },
  {
   "cell_type": "code",
   "execution_count": 7,
   "metadata": {
    "ExecuteTime": {
     "end_time": "2021-12-27T18:31:31.216460Z",
     "start_time": "2021-12-27T18:31:31.195709Z"
    }
   },
   "outputs": [
    {
     "name": "stdout",
     "output_type": "stream",
     "text": [
      "Model saved to these files:\n",
      "\tmodels/mpsa_ge_pairwise.pickle\n",
      "\tmodels/mpsa_ge_pairwise.h5\n"
     ]
    }
   ],
   "source": [
    "# # Save model\n",
    "model.save('models/mpsa_ge_pairwise')"
   ]
  },
  {
   "cell_type": "code",
   "execution_count": 8,
   "metadata": {
    "ExecuteTime": {
     "end_time": "2021-12-27T18:31:34.077914Z",
     "start_time": "2021-12-27T18:31:33.646472Z"
    }
   },
   "outputs": [
    {
     "name": "stdout",
     "output_type": "stream",
     "text": [
      "On test data:\n",
      "I_var_test: 0.344 +- 0.030 bits\n",
      "I_pred_test: 0.359 +- 0.013 bits\n"
     ]
    },
    {
     "data": {
      "text/plain": [
       "Text(0.5, 1.0, 'training hisotry')"
      ]
     },
     "execution_count": 8,
     "metadata": {},
     "output_type": "execute_result"
    },
    {
     "data": {
      "image/png": "[encoded data removed]",
      "text/plain": [
       "<Figure size 288x288 with 1 Axes>"
      ]
     },
     "metadata": {
      "needs_background": "light"
     },
     "output_type": "display_data"
    }
   ],
   "source": [
    "# Show training history\n",
    "print('On test data:')\n",
    "\n",
    "# Get x and y\n",
    "x_test = test_df['x'].values\n",
    "y_test = test_df['y'].values\n",
    "\n",
    "# Compute variational information\n",
    "I_var, dI_var =  model.I_variational(x=x_test, y=y_test)\n",
    "print(f'I_var_test: {I_var:.3f} +- {dI_var:.3f} bits') \n",
    "\n",
    "# Compute predictive information\n",
    "I_pred, dI_pred = model.I_predictive(x=x_test, y=y_test)\n",
    "print(f'I_pred_test: {I_pred:.3f} +- {dI_pred:.3f} bits')\n",
    "\n",
    "I_var_hist = model.history['I_var']\n",
    "val_I_var_hist = model.history['val_I_var']\n",
    "\n",
    "fig, ax = plt.subplots(1,1,figsize=[4,4])\n",
    "ax.plot(I_var_hist, label='I_var_train')\n",
    "ax.plot(val_I_var_hist, label='I_var_val')\n",
    "ax.axhline(I_var, color='C2', linestyle=':', label='I_var_test')\n",
    "ax.axhline(I_pred, color='C3', linestyle=':', label='I_pred_test')\n",
    "ax.legend()\n",
    "ax.set_xlabel('epochs')\n",
    "ax.set_ylabel('bits')\n",
    "ax.set_title('training hisotry')\n",
    "#ax.set_ylim([0, I_pred*1.2]);"
   ]
  },
  {
   "cell_type": "code",
   "execution_count": 9,
   "metadata": {
    "ExecuteTime": {
     "end_time": "2021-12-27T18:31:38.062307Z",
     "start_time": "2021-12-27T18:31:37.775846Z"
    }
   },
   "outputs": [
    {
     "data": {
      "image/png": "[encoded data removed]",
      "text/plain": [
       "<Figure size 288x288 with 1 Axes>"
      ]
     },
     "metadata": {
      "needs_background": "light"
     },
     "output_type": "display_data"
    }
   ],
   "source": [
    "# Predict latent phentoype values (phi) on test data\n",
    "phi_test = model.x_to_phi(x_test)\n",
    "\n",
    "# Predict measurement values (yhat) on test data\n",
    "yhat_test = model.x_to_yhat(x_test)\n",
    "\n",
    "# Set phi lims and create grid in phi space\n",
    "phi_lim = [min(phi_test)-.5, max(phi_test)+.5]\n",
    "phi_grid = np.linspace(phi_lim[0], phi_lim[1], 1000)\n",
    "\n",
    "# Compute yhat each phi gridpoint\n",
    "yhat_grid = model.phi_to_yhat(phi_grid)\n",
    "\n",
    "# Compute 90% CI for each yhat\n",
    "q = [0.05, 0.95] #[0.16, 0.84]\n",
    "yqs_grid = model.yhat_to_yq(yhat_grid, q=q)\n",
    "\n",
    "# Create figure\n",
    "fig, ax = plt.subplots(1, 1, figsize=[4, 4])\n",
    "\n",
    "# Illustrate measurement process with GE curve\n",
    "ax.scatter(phi_test, y_test, color='C0', s=5, alpha=.2, label='test data')\n",
    "ax.plot(phi_grid, yhat_grid, linewidth=2, color='C1',\n",
    "        label='$\\hat{y} = g(\\phi)$')\n",
    "ax.plot(phi_grid, yqs_grid[:, 0], linestyle='--', color='C1', label='68% CI')\n",
    "ax.plot(phi_grid, yqs_grid[:, 1], linestyle='--', color='C1')\n",
    "ax.set_xlim(phi_lim)\n",
    "ax.set_xlabel('latent phenotype ($\\phi$)')\n",
    "ax.set_ylabel('measurement ($y$)')\n",
    "ax.set_title('measurement process')\n",
    "ax.legend()\n",
    "\n",
    "# Fix up plot\n",
    "fig.tight_layout()\n",
    "plt.show()"
   ]
  },
  {
   "cell_type": "code",
   "execution_count": 10,
   "metadata": {
    "ExecuteTime": {
     "end_time": "2021-12-27T18:34:29.381179Z",
     "start_time": "2021-12-27T18:32:18.139819Z"
    }
   },
   "outputs": [
    {
     "name": "stdout",
     "output_type": "stream",
     "text": [
      "Training set   :   18,469 observations (  60.59%)\n",
      "Validation set :    5,936 observations (  19.47%)\n",
      "Test set       :    6,078 observations (  19.94%)\n",
      "-------------------------------------------------\n",
      "Total dataset  :   30,483 observations ( 100.00%)\n",
      "\n",
      "training model 0 ...\n",
      "N = 24,405 observations set as training data.\n",
      "Using 24.3% for validation.\n",
      "Data shuffled.\n",
      "Time to set data: 0.21 sec.\n"
     ]
    },
    {
     "data": {
      "application/vnd.jupyter.widget-view+json": {
       "model_id": "1924d08eb4884aa1b9217a5d69bc559d",
       "version_major": 2,
       "version_minor": 0
      },
      "text/plain": [
       "0epoch [00:00, ?epoch/s]"
      ]
     },
     "metadata": {},
     "output_type": "display_data"
    },
    {
     "name": "stdout",
     "output_type": "stream",
     "text": [
      "Training time: 5.4 seconds\n",
      "Training set   :   18,469 observations (  60.59%)\n",
      "Validation set :    5,936 observations (  19.47%)\n",
      "Test set       :    6,078 observations (  19.94%)\n",
      "-------------------------------------------------\n",
      "Total dataset  :   30,483 observations ( 100.00%)\n",
      "\n",
      "training model 1 ...\n",
      "N = 24,405 observations set as training data.\n",
      "Using 24.3% for validation.\n",
      "Data shuffled.\n",
      "Time to set data: 0.211 sec.\n"
     ]
    },
    {
     "data": {
      "application/vnd.jupyter.widget-view+json": {
       "model_id": "c916d363957d48f6b37633f14264b3bc",
       "version_major": 2,
       "version_minor": 0
      },
      "text/plain": [
       "0epoch [00:00, ?epoch/s]"
      ]
     },
     "metadata": {},
     "output_type": "display_data"
    },
    {
     "name": "stdout",
     "output_type": "stream",
     "text": [
      "Training time: 6.8 seconds\n",
      "Training set   :   18,469 observations (  60.59%)\n",
      "Validation set :    5,936 observations (  19.47%)\n",
      "Test set       :    6,078 observations (  19.94%)\n",
      "-------------------------------------------------\n",
      "Total dataset  :   30,483 observations ( 100.00%)\n",
      "\n",
      "training model 2 ...\n",
      "N = 24,405 observations set as training data.\n",
      "Using 24.3% for validation.\n",
      "Data shuffled.\n",
      "Time to set data: 0.208 sec.\n"
     ]
    },
    {
     "data": {
      "application/vnd.jupyter.widget-view+json": {
       "model_id": "bc04fecc8d114bda993129d1190dbfc3",
       "version_major": 2,
       "version_minor": 0
      },
      "text/plain": [
       "0epoch [00:00, ?epoch/s]"
      ]
     },
     "metadata": {},
     "output_type": "display_data"
    },
    {
     "name": "stdout",
     "output_type": "stream",
     "text": [
      "Training time: 6.0 seconds\n",
      "Training set   :   18,469 observations (  60.59%)\n",
      "Validation set :    5,936 observations (  19.47%)\n",
      "Test set       :    6,078 observations (  19.94%)\n",
      "-------------------------------------------------\n",
      "Total dataset  :   30,483 observations ( 100.00%)\n",
      "\n",
      "training model 3 ...\n",
      "N = 24,405 observations set as training data.\n",
      "Using 24.3% for validation.\n",
      "Data shuffled.\n",
      "Time to set data: 0.211 sec.\n"
     ]
    },
    {
     "data": {
      "application/vnd.jupyter.widget-view+json": {
       "model_id": "3b4fc8a0e3984c28b116fd079a0273a4",
       "version_major": 2,
       "version_minor": 0
      },
      "text/plain": [
       "0epoch [00:00, ?epoch/s]"
      ]
     },
     "metadata": {},
     "output_type": "display_data"
    },
    {
     "name": "stdout",
     "output_type": "stream",
     "text": [
      "Training time: 6.5 seconds\n",
      "Training set   :   18,469 observations (  60.59%)\n",
      "Validation set :    5,936 observations (  19.47%)\n",
      "Test set       :    6,078 observations (  19.94%)\n",
      "-------------------------------------------------\n",
      "Total dataset  :   30,483 observations ( 100.00%)\n",
      "\n",
      "training model 4 ...\n",
      "N = 24,405 observations set as training data.\n",
      "Using 24.3% for validation.\n",
      "Data shuffled.\n",
      "Time to set data: 0.211 sec.\n"
     ]
    },
    {
     "data": {
      "application/vnd.jupyter.widget-view+json": {
       "model_id": "529b064d2b4c43d4b8542c276151feea",
       "version_major": 2,
       "version_minor": 0
      },
      "text/plain": [
       "0epoch [00:00, ?epoch/s]"
      ]
     },
     "metadata": {},
     "output_type": "display_data"
    },
    {
     "name": "stdout",
     "output_type": "stream",
     "text": [
      "Training time: 4.9 seconds\n",
      "Training set   :   18,469 observations (  60.59%)\n",
      "Validation set :    5,936 observations (  19.47%)\n",
      "Test set       :    6,078 observations (  19.94%)\n",
      "-------------------------------------------------\n",
      "Total dataset  :   30,483 observations ( 100.00%)\n",
      "\n",
      "training model 5 ...\n",
      "N = 24,405 observations set as training data.\n",
      "Using 24.3% for validation.\n",
      "Data shuffled.\n",
      "Time to set data: 0.211 sec.\n"
     ]
    },
    {
     "data": {
      "application/vnd.jupyter.widget-view+json": {
       "model_id": "8de1df940b294d848a5ec9f7fa777d10",
       "version_major": 2,
       "version_minor": 0
      },
      "text/plain": [
       "0epoch [00:00, ?epoch/s]"
      ]
     },
     "metadata": {},
     "output_type": "display_data"
    },
    {
     "name": "stdout",
     "output_type": "stream",
     "text": [
      "Training time: 8.2 seconds\n",
      "Training set   :   18,469 observations (  60.59%)\n",
      "Validation set :    5,936 observations (  19.47%)\n",
      "Test set       :    6,078 observations (  19.94%)\n",
      "-------------------------------------------------\n",
      "Total dataset  :   30,483 observations ( 100.00%)\n",
      "\n",
      "training model 6 ...\n",
      "N = 24,405 observations set as training data.\n",
      "Using 24.3% for validation.\n",
      "Data shuffled.\n",
      "Time to set data: 0.214 sec.\n"
     ]
    },
    {
     "data": {
      "application/vnd.jupyter.widget-view+json": {
       "model_id": "cb8478e5cff5469ebd9eb046730f59dc",
       "version_major": 2,
       "version_minor": 0
      },
      "text/plain": [
       "0epoch [00:00, ?epoch/s]"
      ]
     },
     "metadata": {},
     "output_type": "display_data"
    },
    {
     "name": "stdout",
     "output_type": "stream",
     "text": [
      "Training time: 4.6 seconds\n",
      "Training set   :   18,469 observations (  60.59%)\n",
      "Validation set :    5,936 observations (  19.47%)\n",
      "Test set       :    6,078 observations (  19.94%)\n",
      "-------------------------------------------------\n",
      "Total dataset  :   30,483 observations ( 100.00%)\n",
      "\n",
      "training model 7 ...\n",
      "N = 24,405 observations set as training data.\n",
      "Using 24.3% for validation.\n",
      "Data shuffled.\n",
      "Time to set data: 0.209 sec.\n"
     ]
    },
    {
     "data": {
      "application/vnd.jupyter.widget-view+json": {
       "model_id": "2232d57d2a954ce1a35f720381cb7f6f",
       "version_major": 2,
       "version_minor": 0
      },
      "text/plain": [
       "0epoch [00:00, ?epoch/s]"
      ]
     },
     "metadata": {},
     "output_type": "display_data"
    },
    {
     "name": "stdout",
     "output_type": "stream",
     "text": [
      "Training time: 4.8 seconds\n",
      "Training set   :   18,469 observations (  60.59%)\n",
      "Validation set :    5,936 observations (  19.47%)\n",
      "Test set       :    6,078 observations (  19.94%)\n",
      "-------------------------------------------------\n",
      "Total dataset  :   30,483 observations ( 100.00%)\n",
      "\n",
      "training model 8 ...\n",
      "N = 24,405 observations set as training data.\n",
      "Using 24.3% for validation.\n",
      "Data shuffled.\n",
      "Time to set data: 0.209 sec.\n"
     ]
    },
    {
     "data": {
      "application/vnd.jupyter.widget-view+json": {
       "model_id": "28d4c529bbea4a9384154d4b4c6a6c7a",
       "version_major": 2,
       "version_minor": 0
      },
      "text/plain": [
       "0epoch [00:00, ?epoch/s]"
      ]
     },
     "metadata": {},
     "output_type": "display_data"
    },
    {
     "name": "stdout",
     "output_type": "stream",
     "text": [
      "Training time: 6.1 seconds\n",
      "Training set   :   18,469 observations (  60.59%)\n",
      "Validation set :    5,936 observations (  19.47%)\n",
      "Test set       :    6,078 observations (  19.94%)\n",
      "-------------------------------------------------\n",
      "Total dataset  :   30,483 observations ( 100.00%)\n",
      "\n",
      "training model 9 ...\n",
      "N = 24,405 observations set as training data.\n",
      "Using 24.3% for validation.\n",
      "Data shuffled.\n",
      "Time to set data: 0.21 sec.\n"
     ]
    },
    {
     "data": {
      "application/vnd.jupyter.widget-view+json": {
       "model_id": "c6cdc6fad59848329094b98f1b78fa11",
       "version_major": 2,
       "version_minor": 0
      },
      "text/plain": [
       "0epoch [00:00, ?epoch/s]"
      ]
     },
     "metadata": {},
     "output_type": "display_data"
    },
    {
     "name": "stdout",
     "output_type": "stream",
     "text": [
      "Training time: 9.4 seconds\n",
      "Training set   :   18,469 observations (  60.59%)\n",
      "Validation set :    5,936 observations (  19.47%)\n",
      "Test set       :    6,078 observations (  19.94%)\n",
      "-------------------------------------------------\n",
      "Total dataset  :   30,483 observations ( 100.00%)\n",
      "\n",
      "training model 10 ...\n",
      "N = 24,405 observations set as training data.\n",
      "Using 24.3% for validation.\n",
      "Data shuffled.\n",
      "Time to set data: 0.224 sec.\n"
     ]
    },
    {
     "data": {
      "application/vnd.jupyter.widget-view+json": {
       "model_id": "ca5ff749569b4217a8deb072c390cb58",
       "version_major": 2,
       "version_minor": 0
      },
      "text/plain": [
       "0epoch [00:00, ?epoch/s]"
      ]
     },
     "metadata": {},
     "output_type": "display_data"
    },
    {
     "name": "stdout",
     "output_type": "stream",
     "text": [
      "Training time: 4.6 seconds\n",
      "Training set   :   18,469 observations (  60.59%)\n",
      "Validation set :    5,936 observations (  19.47%)\n",
      "Test set       :    6,078 observations (  19.94%)\n",
      "-------------------------------------------------\n",
      "Total dataset  :   30,483 observations ( 100.00%)\n",
      "\n",
      "training model 11 ...\n",
      "N = 24,405 observations set as training data.\n",
      "Using 24.3% for validation.\n",
      "Data shuffled.\n",
      "Time to set data: 0.213 sec.\n"
     ]
    },
    {
     "data": {
      "application/vnd.jupyter.widget-view+json": {
       "model_id": "f9d3b126342a4f60ba74f22ac21ba7ab",
       "version_major": 2,
       "version_minor": 0
      },
      "text/plain": [
       "0epoch [00:00, ?epoch/s]"
      ]
     },
     "metadata": {},
     "output_type": "display_data"
    },
    {
     "name": "stdout",
     "output_type": "stream",
     "text": [
      "Training time: 5.2 seconds\n",
      "Training set   :   18,469 observations (  60.59%)\n",
      "Validation set :    5,936 observations (  19.47%)\n",
      "Test set       :    6,078 observations (  19.94%)\n",
      "-------------------------------------------------\n",
      "Total dataset  :   30,483 observations ( 100.00%)\n",
      "\n",
      "training model 12 ...\n",
      "N = 24,405 observations set as training data.\n",
      "Using 24.3% for validation.\n",
      "Data shuffled.\n",
      "Time to set data: 0.212 sec.\n"
     ]
    },
    {
     "data": {
      "application/vnd.jupyter.widget-view+json": {
       "model_id": "69a9d96896a14b56ad1d2c32206fd38b",
       "version_major": 2,
       "version_minor": 0
      },
      "text/plain": [
       "0epoch [00:00, ?epoch/s]"
      ]
     },
     "metadata": {},
     "output_type": "display_data"
    },
    {
     "name": "stdout",
     "output_type": "stream",
     "text": [
      "Training time: 4.4 seconds\n",
      "Training set   :   18,469 observations (  60.59%)\n",
      "Validation set :    5,936 observations (  19.47%)\n",
      "Test set       :    6,078 observations (  19.94%)\n",
      "-------------------------------------------------\n",
      "Total dataset  :   30,483 observations ( 100.00%)\n",
      "\n",
      "training model 13 ...\n",
      "N = 24,405 observations set as training data.\n",
      "Using 24.3% for validation.\n",
      "Data shuffled.\n",
      "Time to set data: 0.214 sec.\n"
     ]
    },
    {
     "data": {
      "application/vnd.jupyter.widget-view+json": {
       "model_id": "ad2d1965321f4c7f80b30ee2ca2dad6b",
       "version_major": 2,
       "version_minor": 0
      },
      "text/plain": [
       "0epoch [00:00, ?epoch/s]"
      ]
     },
     "metadata": {},
     "output_type": "display_data"
    },
    {
     "name": "stdout",
     "output_type": "stream",
     "text": [
      "Training time: 5.6 seconds\n",
      "Training set   :   18,469 observations (  60.59%)\n",
      "Validation set :    5,936 observations (  19.47%)\n",
      "Test set       :    6,078 observations (  19.94%)\n",
      "-------------------------------------------------\n",
      "Total dataset  :   30,483 observations ( 100.00%)\n",
      "\n",
      "training model 14 ...\n",
      "N = 24,405 observations set as training data.\n",
      "Using 24.3% for validation.\n",
      "Data shuffled.\n",
      "Time to set data: 0.213 sec.\n"
     ]
    },
    {
     "data": {
      "application/vnd.jupyter.widget-view+json": {
       "model_id": "1e8a7586a1ed438b9b36da11b1deb670",
       "version_major": 2,
       "version_minor": 0
      },
      "text/plain": [
       "0epoch [00:00, ?epoch/s]"
      ]
     },
     "metadata": {},
     "output_type": "display_data"
    },
    {
     "name": "stdout",
     "output_type": "stream",
     "text": [
      "Training time: 8.4 seconds\n",
      "Training set   :   18,469 observations (  60.59%)\n",
      "Validation set :    5,936 observations (  19.47%)\n",
      "Test set       :    6,078 observations (  19.94%)\n",
      "-------------------------------------------------\n",
      "Total dataset  :   30,483 observations ( 100.00%)\n",
      "\n",
      "training model 15 ...\n",
      "N = 24,405 observations set as training data.\n",
      "Using 24.3% for validation.\n",
      "Data shuffled.\n",
      "Time to set data: 0.212 sec.\n"
     ]
    },
    {
     "data": {
      "application/vnd.jupyter.widget-view+json": {
       "model_id": "6149b19ba5224770bb1a043f3c64ced6",
       "version_major": 2,
       "version_minor": 0
      },
      "text/plain": [
       "0epoch [00:00, ?epoch/s]"
      ]
     },
     "metadata": {},
     "output_type": "display_data"
    },
    {
     "name": "stdout",
     "output_type": "stream",
     "text": [
      "Training time: 8.4 seconds\n",
      "Training set   :   18,469 observations (  60.59%)\n",
      "Validation set :    5,936 observations (  19.47%)\n",
      "Test set       :    6,078 observations (  19.94%)\n",
      "-------------------------------------------------\n",
      "Total dataset  :   30,483 observations ( 100.00%)\n",
      "\n",
      "training model 16 ...\n",
      "N = 24,405 observations set as training data.\n",
      "Using 24.3% for validation.\n",
      "Data shuffled.\n",
      "Time to set data: 0.215 sec.\n"
     ]
    },
    {
     "data": {
      "application/vnd.jupyter.widget-view+json": {
       "model_id": "761a22ecde14465eb9aee69c6474256f",
       "version_major": 2,
       "version_minor": 0
      },
      "text/plain": [
       "0epoch [00:00, ?epoch/s]"
      ]
     },
     "metadata": {},
     "output_type": "display_data"
    },
    {
     "name": "stdout",
     "output_type": "stream",
     "text": [
      "Training time: 4.3 seconds\n",
      "Training set   :   18,469 observations (  60.59%)\n",
      "Validation set :    5,936 observations (  19.47%)\n",
      "Test set       :    6,078 observations (  19.94%)\n",
      "-------------------------------------------------\n",
      "Total dataset  :   30,483 observations ( 100.00%)\n",
      "\n",
      "training model 17 ...\n",
      "N = 24,405 observations set as training data.\n",
      "Using 24.3% for validation.\n",
      "Data shuffled.\n",
      "Time to set data: 0.21 sec.\n"
     ]
    },
    {
     "data": {
      "application/vnd.jupyter.widget-view+json": {
       "model_id": "7af399abf528467698f5122b2b8c2e8b",
       "version_major": 2,
       "version_minor": 0
      },
      "text/plain": [
       "0epoch [00:00, ?epoch/s]"
      ]
     },
     "metadata": {},
     "output_type": "display_data"
    },
    {
     "name": "stdout",
     "output_type": "stream",
     "text": [
      "Training time: 6.0 seconds\n",
      "Training set   :   18,469 observations (  60.59%)\n",
      "Validation set :    5,936 observations (  19.47%)\n",
      "Test set       :    6,078 observations (  19.94%)\n",
      "-------------------------------------------------\n",
      "Total dataset  :   30,483 observations ( 100.00%)\n",
      "\n",
      "training model 18 ...\n",
      "N = 24,405 observations set as training data.\n",
      "Using 24.3% for validation.\n",
      "Data shuffled.\n",
      "Time to set data: 0.21 sec.\n"
     ]
    },
    {
     "data": {
      "application/vnd.jupyter.widget-view+json": {
       "model_id": "f8b4320ef74441f082f0fe86b667dfbb",
       "version_major": 2,
       "version_minor": 0
      },
      "text/plain": [
       "0epoch [00:00, ?epoch/s]"
      ]
     },
     "metadata": {},
     "output_type": "display_data"
    },
    {
     "name": "stdout",
     "output_type": "stream",
     "text": [
      "Training time: 6.1 seconds\n",
      "Training set   :   18,469 observations (  60.59%)\n",
      "Validation set :    5,936 observations (  19.47%)\n",
      "Test set       :    6,078 observations (  19.94%)\n",
      "-------------------------------------------------\n",
      "Total dataset  :   30,483 observations ( 100.00%)\n",
      "\n",
      "training model 19 ...\n",
      "N = 24,405 observations set as training data.\n",
      "Using 24.3% for validation.\n",
      "Data shuffled.\n",
      "Time to set data: 0.211 sec.\n"
     ]
    },
    {
     "data": {
      "application/vnd.jupyter.widget-view+json": {
       "model_id": "2c00618e6eb74e55bb65e8a3c108a39e",
       "version_major": 2,
       "version_minor": 0
      },
      "text/plain": [
       "0epoch [00:00, ?epoch/s]"
      ]
     },
     "metadata": {},
     "output_type": "display_data"
    },
    {
     "name": "stdout",
     "output_type": "stream",
     "text": [
      "Training time: 5.3 seconds\n"
     ]
    }
   ],
   "source": [
    "#uncertainty_dict = model.compute_parameter_uncertainties(num_simulations=2)\n",
    "sim_models = model.bootstrap(data_df=data_df,\n",
    "                                           num_models=20,\n",
    "                                           initialize_from_fit_model=True,)"
   ]
  },
  {
   "cell_type": "code",
   "execution_count": 11,
   "metadata": {
    "ExecuteTime": {
     "end_time": "2021-12-27T18:34:35.774236Z",
     "start_time": "2021-12-27T18:34:35.657217Z"
    }
   },
   "outputs": [
    {
     "name": "stdout",
     "output_type": "stream",
     "text": [
      "Model saved to these files:\n",
      "\tmodels/mpsa_ge_pairwise_sim_00.pickle\n",
      "\tmodels/mpsa_ge_pairwise_sim_00.h5\n",
      "Model saved to these files:\n",
      "\tmodels/mpsa_ge_pairwise_sim_01.pickle\n",
      "\tmodels/mpsa_ge_pairwise_sim_01.h5\n",
      "Model saved to these files:\n",
      "\tmodels/mpsa_ge_pairwise_sim_02.pickle\n",
      "\tmodels/mpsa_ge_pairwise_sim_02.h5\n",
      "Model saved to these files:\n",
      "\tmodels/mpsa_ge_pairwise_sim_03.pickle\n",
      "\tmodels/mpsa_ge_pairwise_sim_03.h5\n",
      "Model saved to these files:\n",
      "\tmodels/mpsa_ge_pairwise_sim_04.pickle\n",
      "\tmodels/mpsa_ge_pairwise_sim_04.h5\n",
      "Model saved to these files:\n",
      "\tmodels/mpsa_ge_pairwise_sim_05.pickle\n",
      "\tmodels/mpsa_ge_pairwise_sim_05.h5\n",
      "Model saved to these files:\n",
      "\tmodels/mpsa_ge_pairwise_sim_06.pickle\n",
      "\tmodels/mpsa_ge_pairwise_sim_06.h5\n",
      "Model saved to these files:\n",
      "\tmodels/mpsa_ge_pairwise_sim_07.pickle\n",
      "\tmodels/mpsa_ge_pairwise_sim_07.h5\n",
      "Model saved to these files:\n",
      "\tmodels/mpsa_ge_pairwise_sim_08.pickle\n",
      "\tmodels/mpsa_ge_pairwise_sim_08.h5\n",
      "Model saved to these files:\n",
      "\tmodels/mpsa_ge_pairwise_sim_09.pickle\n",
      "\tmodels/mpsa_ge_pairwise_sim_09.h5\n",
      "Model saved to these files:\n",
      "\tmodels/mpsa_ge_pairwise_sim_10.pickle\n",
      "\tmodels/mpsa_ge_pairwise_sim_10.h5\n",
      "Model saved to these files:\n",
      "\tmodels/mpsa_ge_pairwise_sim_11.pickle\n",
      "\tmodels/mpsa_ge_pairwise_sim_11.h5\n",
      "Model saved to these files:\n",
      "\tmodels/mpsa_ge_pairwise_sim_12.pickle\n",
      "\tmodels/mpsa_ge_pairwise_sim_12.h5\n",
      "Model saved to these files:\n",
      "\tmodels/mpsa_ge_pairwise_sim_13.pickle\n",
      "\tmodels/mpsa_ge_pairwise_sim_13.h5\n",
      "Model saved to these files:\n",
      "\tmodels/mpsa_ge_pairwise_sim_14.pickle\n",
      "\tmodels/mpsa_ge_pairwise_sim_14.h5\n",
      "Model saved to these files:\n",
      "\tmodels/mpsa_ge_pairwise_sim_15.pickle\n",
      "\tmodels/mpsa_ge_pairwise_sim_15.h5\n",
      "Model saved to these files:\n",
      "\tmodels/mpsa_ge_pairwise_sim_16.pickle\n",
      "\tmodels/mpsa_ge_pairwise_sim_16.h5\n",
      "Model saved to these files:\n",
      "\tmodels/mpsa_ge_pairwise_sim_17.pickle\n",
      "\tmodels/mpsa_ge_pairwise_sim_17.h5\n",
      "Model saved to these files:\n",
      "\tmodels/mpsa_ge_pairwise_sim_18.pickle\n",
      "\tmodels/mpsa_ge_pairwise_sim_18.h5\n",
      "Model saved to these files:\n",
      "\tmodels/mpsa_ge_pairwise_sim_19.pickle\n",
      "\tmodels/mpsa_ge_pairwise_sim_19.h5\n"
     ]
    }
   ],
   "source": [
    "# Save models\n",
    "for model_num, sim_model in enumerate(sim_models):\n",
    "    sim_model.save(f'models/mpsa_ge_pairwise_sim_{model_num:02d}')"
   ]
  },
  {
   "cell_type": "code",
   "execution_count": 12,
   "metadata": {
    "ExecuteTime": {
     "end_time": "2021-12-27T18:35:01.865269Z",
     "start_time": "2021-12-27T18:35:01.703283Z"
    }
   },
   "outputs": [
    {
     "name": "stdout",
     "output_type": "stream",
     "text": [
      "total 1680\r\n",
      "drwxr-xr-x  44 jkinney  staff   1.4K Dec 27 10:34 \u001b[1m\u001b[34m.\u001b[m\u001b[m\r\n",
      "drwxr-xr-x  13 jkinney  staff   416B Dec 27 10:34 \u001b[1m\u001b[34m..\u001b[m\u001b[m\r\n",
      "-rw-r--r--   1 jkinney  staff    24K Dec 27 10:31 mpsa_ge_pairwise.h5\r\n",
      "-rw-r--r--   1 jkinney  staff   9.1K Dec 27 10:31 mpsa_ge_pairwise.pickle\r\n",
      "-rw-r--r--   1 jkinney  staff    24K Dec 27 10:34 mpsa_ge_pairwise_sim_00.h5\r\n",
      "-rw-r--r--   1 jkinney  staff   9.8K Dec 27 10:34 mpsa_ge_pairwise_sim_00.pickle\r\n",
      "-rw-r--r--   1 jkinney  staff    24K Dec 27 10:34 mpsa_ge_pairwise_sim_01.h5\r\n",
      "-rw-r--r--   1 jkinney  staff    10K Dec 27 10:34 mpsa_ge_pairwise_sim_01.pickle\r\n",
      "-rw-r--r--   1 jkinney  staff    24K Dec 27 10:34 mpsa_ge_pairwise_sim_02.h5\r\n",
      "-rw-r--r--   1 jkinney  staff    10K Dec 27 10:34 mpsa_ge_pairwise_sim_02.pickle\r\n",
      "-rw-r--r--   1 jkinney  staff    24K Dec 27 10:34 mpsa_ge_pairwise_sim_03.h5\r\n",
      "-rw-r--r--   1 jkinney  staff    10K Dec 27 10:34 mpsa_ge_pairwise_sim_03.pickle\r\n",
      "-rw-r--r--   1 jkinney  staff    24K Dec 27 10:34 mpsa_ge_pairwise_sim_04.h5\r\n",
      "-rw-r--r--   1 jkinney  staff   9.6K Dec 27 10:34 mpsa_ge_pairwise_sim_04.pickle\r\n",
      "-rw-r--r--   1 jkinney  staff    24K Dec 27 10:34 mpsa_ge_pairwise_sim_05.h5\r\n",
      "-rw-r--r--   1 jkinney  staff    11K Dec 27 10:34 mpsa_ge_pairwise_sim_05.pickle\r\n",
      "-rw-r--r--   1 jkinney  staff    24K Dec 27 10:34 mpsa_ge_pairwise_sim_06.h5\r\n",
      "-rw-r--r--   1 jkinney  staff   9.6K Dec 27 10:34 mpsa_ge_pairwise_sim_06.pickle\r\n",
      "-rw-r--r--   1 jkinney  staff    24K Dec 27 10:34 mpsa_ge_pairwise_sim_07.h5\r\n",
      "-rw-r--r--   1 jkinney  staff   9.7K Dec 27 10:34 mpsa_ge_pairwise_sim_07.pickle\r\n",
      "-rw-r--r--   1 jkinney  staff    24K Dec 27 10:34 mpsa_ge_pairwise_sim_08.h5\r\n",
      "-rw-r--r--   1 jkinney  staff    10K Dec 27 10:34 mpsa_ge_pairwise_sim_08.pickle\r\n",
      "-rw-r--r--   1 jkinney  staff    24K Dec 27 10:34 mpsa_ge_pairwise_sim_09.h5\r\n",
      "-rw-r--r--   1 jkinney  staff    11K Dec 27 10:34 mpsa_ge_pairwise_sim_09.pickle\r\n",
      "-rw-r--r--   1 jkinney  staff    24K Dec 27 10:34 mpsa_ge_pairwise_sim_10.h5\r\n",
      "-rw-r--r--   1 jkinney  staff   9.5K Dec 27 10:34 mpsa_ge_pairwise_sim_10.pickle\r\n",
      "-rw-r--r--   1 jkinney  staff    24K Dec 27 10:34 mpsa_ge_pairwise_sim_11.h5\r\n",
      "-rw-r--r--   1 jkinney  staff   9.8K Dec 27 10:34 mpsa_ge_pairwise_sim_11.pickle\r\n",
      "-rw-r--r--   1 jkinney  staff    24K Dec 27 10:34 mpsa_ge_pairwise_sim_12.h5\r\n",
      "-rw-r--r--   1 jkinney  staff   9.5K Dec 27 10:34 mpsa_ge_pairwise_sim_12.pickle\r\n",
      "-rw-r--r--   1 jkinney  staff    24K Dec 27 10:34 mpsa_ge_pairwise_sim_13.h5\r\n",
      "-rw-r--r--   1 jkinney  staff   9.8K Dec 27 10:34 mpsa_ge_pairwise_sim_13.pickle\r\n",
      "-rw-r--r--   1 jkinney  staff    24K Dec 27 10:34 mpsa_ge_pairwise_sim_14.h5\r\n",
      "-rw-r--r--   1 jkinney  staff    11K Dec 27 10:34 mpsa_ge_pairwise_sim_14.pickle\r\n",
      "-rw-r--r--   1 jkinney  staff    24K Dec 27 10:34 mpsa_ge_pairwise_sim_15.h5\r\n",
      "-rw-r--r--   1 jkinney  staff    11K Dec 27 10:34 mpsa_ge_pairwise_sim_15.pickle\r\n",
      "-rw-r--r--   1 jkinney  staff    24K Dec 27 10:34 mpsa_ge_pairwise_sim_16.h5\r\n",
      "-rw-r--r--   1 jkinney  staff   9.5K Dec 27 10:34 mpsa_ge_pairwise_sim_16.pickle\r\n",
      "-rw-r--r--   1 jkinney  staff    24K Dec 27 10:34 mpsa_ge_pairwise_sim_17.h5\r\n",
      "-rw-r--r--   1 jkinney  staff    10K Dec 27 10:34 mpsa_ge_pairwise_sim_17.pickle\r\n",
      "-rw-r--r--   1 jkinney  staff    24K Dec 27 10:34 mpsa_ge_pairwise_sim_18.h5\r\n",
      "-rw-r--r--   1 jkinney  staff    10K Dec 27 10:34 mpsa_ge_pairwise_sim_18.pickle\r\n",
      "-rw-r--r--   1 jkinney  staff    24K Dec 27 10:34 mpsa_ge_pairwise_sim_19.h5\r\n",
      "-rw-r--r--   1 jkinney  staff   9.8K Dec 27 10:34 mpsa_ge_pairwise_sim_19.pickle\r\n"
     ]
    }
   ],
   "source": [
    "!ls -lah models/"
   ]
  },
  {
   "cell_type": "code",
   "execution_count": null,
   "metadata": {},
   "outputs": [],
   "source": []
  }
 ],
 "metadata": {
  "kernelspec": {
   "display_name": "Python 3",
   "language": "python",
   "name": "python3"
  },
  "language_info": {
   "codemirror_mode": {
    "name": "ipython",
    "version": 3
   },
   "file_extension": ".py",
   "mimetype": "text/x-python",
   "name": "python",
   "nbconvert_exporter": "python",
   "pygments_lexer": "ipython3",
   "version": "3.9.2"
  },
  "varInspector": {
   "cols": {
    "lenName": 16,
    "lenType": 16,
    "lenVar": 40
   },
   "kernels_config": {
    "python": {
     "delete_cmd_postfix": "",
     "delete_cmd_prefix": "del ",
     "library": "var_list.py",
     "varRefreshCmd": "print(var_dic_list())"
    },
    "r": {
     "delete_cmd_postfix": ") ",
     "delete_cmd_prefix": "rm(",
     "library": "var_list.r",
     "varRefreshCmd": "cat(var_dic_list()) "
    }
   },
   "types_to_exclude": [
    "module",
    "function",
    "builtin_function_or_method",
    "instance",
    "_Feature"
   ],
   "window_display": false
  }
 },
 "nbformat": 4,
 "nbformat_minor": 2
}
