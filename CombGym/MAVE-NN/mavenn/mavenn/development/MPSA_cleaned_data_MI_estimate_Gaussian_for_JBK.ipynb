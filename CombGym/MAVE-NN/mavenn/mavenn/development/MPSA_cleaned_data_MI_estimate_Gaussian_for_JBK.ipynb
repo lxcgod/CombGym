{
 "cells": [
  {
   "cell_type": "code",
   "execution_count": 41,
   "metadata": {
    "collapsed": true
   },
   "outputs": [],
   "source": [
    "import pandas as pd\n",
    "import matplotlib.pyplot as plt\n",
    "import numpy as np\n",
    "from sklearn.model_selection import train_test_split\n",
    "from numpy.random import default_rng\n",
    "\n",
    "import warnings\n",
    "warnings.filterwarnings('ignore')\n",
    "\n",
    "import sys\n",
    "path_to_mavenn_local = '/Users/tareen/Desktop/Research_Projects/2020_mavenn_github/mavenn_local'\n",
    "sys.path.insert(0,path_to_mavenn_local)\n",
    "\n",
    "import mavenn\n",
    "from mavenn.src.utils import get_example_dataset\n",
    "from mavenn.src.utils import ge_plots_for_mavenn_demo\n",
    "from mavenn.src.utils import onehot_encode_array, _generate_nbr_features_from_sequences, _generate_all_pair_features_from_sequences\n",
    "from mavenn.src.utils import _center_matrix\n",
    "from mavenn.src.utils import estimate_instrinsic_information\n",
    "\n",
    "import tensorflow as tf\n",
    "import tensorflow.keras.backend as K"
   ]
  },
  {
   "cell_type": "code",
   "execution_count": 42,
   "metadata": {},
   "outputs": [
    {
     "data": {
      "text/plain": [
       "['/Users/tareen/Desktop/Research_Projects/2020_mavenn_github/mavenn_local/mavenn']"
      ]
     },
     "execution_count": 42,
     "metadata": {},
     "output_type": "execute_result"
    }
   ],
   "source": [
    "mavenn.__path__"
   ]
  },
  {
   "cell_type": "code",
   "execution_count": 2,
   "metadata": {},
   "outputs": [
    {
     "data": {
      "text/html": [
       "<div>\n",
       "<style scoped>\n",
       "    .dataframe tbody tr th:only-of-type {\n",
       "        vertical-align: middle;\n",
       "    }\n",
       "\n",
       "    .dataframe tbody tr th {\n",
       "        vertical-align: top;\n",
       "    }\n",
       "\n",
       "    .dataframe thead th {\n",
       "        text-align: right;\n",
       "    }\n",
       "</style>\n",
       "<table border=\"1\" class=\"dataframe\">\n",
       "  <thead>\n",
       "    <tr style=\"text-align: right;\">\n",
       "      <th></th>\n",
       "      <th>ss</th>\n",
       "      <th>log_psi</th>\n",
       "      <th>dlog_psi</th>\n",
       "    </tr>\n",
       "  </thead>\n",
       "  <tbody>\n",
       "    <tr>\n",
       "      <th>0</th>\n",
       "      <td>AAAGCAAAA</td>\n",
       "      <td>-3.751854</td>\n",
       "      <td>0.444200</td>\n",
       "    </tr>\n",
       "    <tr>\n",
       "      <th>1</th>\n",
       "      <td>AAAGCAAAC</td>\n",
       "      <td>-2.697741</td>\n",
       "      <td>0.369972</td>\n",
       "    </tr>\n",
       "    <tr>\n",
       "      <th>2</th>\n",
       "      <td>AAAGCAAAG</td>\n",
       "      <td>-2.242947</td>\n",
       "      <td>0.575121</td>\n",
       "    </tr>\n",
       "    <tr>\n",
       "      <th>3</th>\n",
       "      <td>AAAGCAAAT</td>\n",
       "      <td>-3.067251</td>\n",
       "      <td>0.357014</td>\n",
       "    </tr>\n",
       "    <tr>\n",
       "      <th>4</th>\n",
       "      <td>AAAGCAACA</td>\n",
       "      <td>-2.987074</td>\n",
       "      <td>0.472637</td>\n",
       "    </tr>\n",
       "  </tbody>\n",
       "</table>\n",
       "</div>"
      ],
      "text/plain": [
       "          ss   log_psi  dlog_psi\n",
       "0  AAAGCAAAA -3.751854  0.444200\n",
       "1  AAAGCAAAC -2.697741  0.369972\n",
       "2  AAAGCAAAG -2.242947  0.575121\n",
       "3  AAAGCAAAT -3.067251  0.357014\n",
       "4  AAAGCAACA -2.987074  0.472637"
      ]
     },
     "execution_count": 2,
     "metadata": {},
     "output_type": "execute_result"
    }
   ],
   "source": [
    "MPSA_data = pd.read_csv('20.08.16_mpsa_data/brca2_lib1_rep1.csv')\n",
    "MPSA_data.head()"
   ]
  },
  {
   "cell_type": "code",
   "execution_count": 3,
   "metadata": {
    "collapsed": true
   },
   "outputs": [],
   "source": [
    "X = MPSA_data['ss'].values\n",
    "y = MPSA_data['log_psi'].values\n",
    "dy = MPSA_data['dlog_psi'].values"
   ]
  },
  {
   "cell_type": "code",
   "execution_count": 4,
   "metadata": {
    "collapsed": true
   },
   "outputs": [],
   "source": [
    "ix = (y > 0) & (dy > 0)"
   ]
  },
  {
   "cell_type": "code",
   "execution_count": 5,
   "metadata": {},
   "outputs": [
    {
     "name": "stdout",
     "output_type": "stream",
     "text": [
      "H[y]   = +1.0603 +- 0.0379 bits\n",
      "H[y|x] = -1.7274 +- 0.0535 bits\n",
      "I[y;x] = +2.7878 +- 0.0655 bits\n"
     ]
    },
    {
     "data": {
      "text/plain": [
       "(2.787797643056015, 0.06552233939699166)"
      ]
     },
     "execution_count": 5,
     "metadata": {},
     "output_type": "execute_result"
    }
   ],
   "source": [
    "estimate_instrinsic_information(y[ix],dy[ix],True)"
   ]
  },
  {
   "cell_type": "code",
   "execution_count": 6,
   "metadata": {},
   "outputs": [],
   "source": [
    "from sklearn.model_selection import train_test_split\n",
    "from mavenn.src.utils import ge_plots_for_mavenn_demo, get_example_dataset\n",
    "\n",
    "# load data\n",
    "#X, y = get_example_dataset(name='MPSA')\n",
    "\n",
    "# X = X[0:50000].copy()\n",
    "# y = y[0:50000].copy()\n",
    "\n",
    "# split data into training and testing sets\n",
    "x_train, x_test, y_train, y_test = train_test_split(X, y)\n",
    "\n",
    "# load mavenn's GE model\n",
    "gpmap_type = 'pairwise'\n",
    "noise_model = 'Gaussian'\n",
    "GER = mavenn.Model(regression_type='GE',\n",
    "                   X=x_train,\n",
    "                   y=y_train,\n",
    "                   gpmap_type=gpmap_type,\n",
    "                   noise_model=noise_model,\n",
    "                   monotonic=True,\n",
    "                   learning_rate=0.0005,\n",
    "                   num_nodes_hidden_measurement_layer=20,\n",
    "                   alphabet='dna',\n",
    "                   polynomial_order_ll=2)"
   ]
  },
  {
   "cell_type": "code",
   "execution_count": null,
   "metadata": {
    "collapsed": true
   },
   "outputs": [],
   "source": []
  },
  {
   "cell_type": "code",
   "execution_count": 7,
   "metadata": {},
   "outputs": [
    {
     "name": "stdout",
     "output_type": "stream",
     "text": [
      "__________________________________________________________________________________________________\n",
      "Layer (type)                    Output Shape         Param #     Connected to                     \n",
      "==================================================================================================\n",
      "Sequence_labels_input (InputLay (None, 613)          0                                            \n",
      "__________________________________________________________________________________________________\n",
      "Sequence_only (Lambda)          (None, 612)          0           Sequence_labels_input[0][0]      \n",
      "__________________________________________________________________________________________________\n",
      "phi (Dense)                     (None, 1)            613         Sequence_only[0][0]              \n",
      "__________________________________________________________________________________________________\n",
      "dense (Dense)                   (None, 20)           40          phi[0][0]                        \n",
      "__________________________________________________________________________________________________\n",
      "y_hat (Dense)                   (None, 1)            21          dense[0][0]                      \n",
      "__________________________________________________________________________________________________\n",
      "Labels_input (Lambda)           (None, 1)            0           Sequence_labels_input[0][0]      \n",
      "__________________________________________________________________________________________________\n",
      "yhat_and_y_to_ll (Concatenate)  (None, 2)            0           y_hat[0][0]                      \n",
      "                                                                 Labels_input[0][0]               \n",
      "__________________________________________________________________________________________________\n",
      "gaussian_likelihood_layer (Gaus (None,)              3           yhat_and_y_to_ll[0][0]           \n",
      "==================================================================================================\n",
      "Total params: 677\n",
      "Trainable params: 677\n",
      "Non-trainable params: 0\n",
      "__________________________________________________________________________________________________\n"
     ]
    }
   ],
   "source": [
    "GER.model.model.summary()"
   ]
  },
  {
   "cell_type": "code",
   "execution_count": 8,
   "metadata": {
    "scrolled": false
   },
   "outputs": [
    {
     "name": "stdout",
     "output_type": "stream",
     "text": [
      "Train on 14801 samples, validate on 1645 samples\n",
      "Epoch 1/50\n",
      "14801/14801 [==============================] - 1s 56us/step - loss: 197.2593 - val_loss: 123.1459\n",
      "Epoch 2/50\n",
      "14801/14801 [==============================] - 0s 32us/step - loss: 103.9591 - val_loss: 85.6790\n",
      "Epoch 3/50\n",
      "14801/14801 [==============================] - 0s 32us/step - loss: 76.1359 - val_loss: 64.8495\n",
      "Epoch 4/50\n",
      "14801/14801 [==============================] - 0s 31us/step - loss: 58.1180 - val_loss: 49.9565\n",
      "Epoch 5/50\n",
      "14801/14801 [==============================] - 0s 32us/step - loss: 45.0273 - val_loss: 39.1907\n",
      "Epoch 6/50\n",
      "14801/14801 [==============================] - 0s 31us/step - loss: 35.8765 - val_loss: 32.0963\n",
      "Epoch 7/50\n",
      "14801/14801 [==============================] - 1s 36us/step - loss: 30.2579 - val_loss: 28.1563\n",
      "Epoch 8/50\n",
      "14801/14801 [==============================] - 1s 37us/step - loss: 27.3904 - val_loss: 26.3609\n",
      "Epoch 9/50\n",
      "14801/14801 [==============================] - 0s 31us/step - loss: 26.1468 - val_loss: 25.6135\n",
      "Epoch 10/50\n",
      "14801/14801 [==============================] - 0s 31us/step - loss: 25.5672 - val_loss: 25.1748\n",
      "Epoch 11/50\n",
      "14801/14801 [==============================] - 0s 31us/step - loss: 25.1078 - val_loss: 24.7025\n",
      "Epoch 12/50\n",
      "14801/14801 [==============================] - 0s 32us/step - loss: 24.5491 - val_loss: 24.0734\n",
      "Epoch 13/50\n",
      "14801/14801 [==============================] - 0s 31us/step - loss: 23.7987 - val_loss: 23.2429\n",
      "Epoch 14/50\n",
      "14801/14801 [==============================] - 0s 32us/step - loss: 22.8293 - val_loss: 22.2161\n",
      "Epoch 15/50\n",
      "14801/14801 [==============================] - 0s 32us/step - loss: 21.6821 - val_loss: 21.0845\n",
      "Epoch 16/50\n",
      "14801/14801 [==============================] - 0s 31us/step - loss: 20.4563 - val_loss: 19.9783\n",
      "Epoch 17/50\n",
      "14801/14801 [==============================] - 0s 31us/step - loss: 19.3174 - val_loss: 19.0545\n",
      "Epoch 18/50\n",
      "14801/14801 [==============================] - 0s 32us/step - loss: 18.3866 - val_loss: 18.3538\n",
      "Epoch 19/50\n",
      "14801/14801 [==============================] - 0s 32us/step - loss: 17.7473 - val_loss: 17.9892\n",
      "Epoch 20/50\n",
      "14801/14801 [==============================] - 0s 32us/step - loss: 17.3779 - val_loss: 17.7624\n",
      "Epoch 21/50\n",
      "14801/14801 [==============================] - 0s 32us/step - loss: 17.1891 - val_loss: 17.6688\n",
      "Epoch 22/50\n",
      "14801/14801 [==============================] - 0s 32us/step - loss: 13.9882 - val_loss: 10.5853\n",
      "Epoch 23/50\n",
      "14801/14801 [==============================] - 0s 32us/step - loss: 8.9536 - val_loss: 9.6180\n",
      "Epoch 24/50\n",
      "14801/14801 [==============================] - 0s 32us/step - loss: 8.3388 - val_loss: 9.1961\n",
      "Epoch 25/50\n",
      "14801/14801 [==============================] - 0s 32us/step - loss: 8.1165 - val_loss: 9.0223\n",
      "Epoch 26/50\n",
      "14801/14801 [==============================] - 0s 33us/step - loss: 7.9953 - val_loss: 8.9842\n",
      "Epoch 27/50\n",
      "14801/14801 [==============================] - 0s 32us/step - loss: 7.8726 - val_loss: 8.8082\n",
      "Epoch 28/50\n",
      "14801/14801 [==============================] - 0s 32us/step - loss: 7.7961 - val_loss: 8.7194\n",
      "Epoch 29/50\n",
      "14801/14801 [==============================] - 0s 32us/step - loss: 7.7184 - val_loss: 8.6281\n",
      "Epoch 30/50\n",
      "14801/14801 [==============================] - 0s 32us/step - loss: 7.6323 - val_loss: 8.5568\n",
      "Epoch 31/50\n",
      "14801/14801 [==============================] - 0s 32us/step - loss: 7.5876 - val_loss: 8.5599\n",
      "Epoch 32/50\n",
      "14801/14801 [==============================] - 0s 32us/step - loss: 7.5482 - val_loss: 8.4352\n",
      "Epoch 33/50\n",
      "14801/14801 [==============================] - 1s 71us/step - loss: 7.5028 - val_loss: 8.3900\n",
      "Epoch 34/50\n",
      "14801/14801 [==============================] - 1s 44us/step - loss: 7.4452 - val_loss: 8.3485\n",
      "Epoch 35/50\n",
      "14801/14801 [==============================] - 1s 35us/step - loss: 7.4028 - val_loss: 8.3209\n",
      "Epoch 36/50\n",
      "14801/14801 [==============================] - 1s 45us/step - loss: 7.3470 - val_loss: 8.2591\n",
      "Epoch 37/50\n",
      "14801/14801 [==============================] - 1s 44us/step - loss: 7.3709 - val_loss: 8.2548\n",
      "Epoch 38/50\n",
      "14801/14801 [==============================] - 0s 34us/step - loss: 7.3256 - val_loss: 8.3292\n",
      "Epoch 39/50\n",
      "14801/14801 [==============================] - 0s 33us/step - loss: 7.2999 - val_loss: 8.3337\n",
      "Epoch 40/50\n",
      "14801/14801 [==============================] - 1s 35us/step - loss: 7.2844 - val_loss: 8.1654\n",
      "Epoch 41/50\n",
      "14801/14801 [==============================] - 1s 34us/step - loss: 7.2280 - val_loss: 8.3030\n",
      "Epoch 42/50\n",
      "14801/14801 [==============================] - 1s 46us/step - loss: 7.2459 - val_loss: 8.1738\n",
      "Epoch 43/50\n",
      "14801/14801 [==============================] - 1s 38us/step - loss: 7.2148 - val_loss: 8.1424\n",
      "Epoch 44/50\n",
      "14801/14801 [==============================] - 1s 35us/step - loss: 7.1990 - val_loss: 8.2014\n",
      "Epoch 45/50\n",
      "14801/14801 [==============================] - 0s 33us/step - loss: 7.1761 - val_loss: 8.0871\n",
      "Epoch 46/50\n",
      "14801/14801 [==============================] - 1s 38us/step - loss: 7.1309 - val_loss: 8.2111\n",
      "Epoch 47/50\n",
      "14801/14801 [==============================] - 1s 49us/step - loss: 7.1255 - val_loss: 8.0550\n",
      "Epoch 48/50\n",
      "14801/14801 [==============================] - 1s 44us/step - loss: 7.1156 - val_loss: 7.9892\n",
      "Epoch 49/50\n",
      "14801/14801 [==============================] - 1s 34us/step - loss: 7.1008 - val_loss: 8.0150\n",
      "Epoch 50/50\n",
      "14801/14801 [==============================] - 0s 32us/step - loss: 7.0878 - val_loss: 7.9876\n"
     ]
    },
    {
     "data": {
      "text/plain": [
       "<tensorflow.python.keras.callbacks.History at 0x131ecfef0>"
      ]
     },
     "execution_count": 8,
     "metadata": {},
     "output_type": "execute_result"
    }
   ],
   "source": [
    "GER.fit(epochs=50,\n",
    "        early_stopping=False,\n",
    "        #early_stopping_patience=15,\n",
    "        validation_split=0.1,\n",
    "        verbose=1)\n",
    "\n",
    "# make predictions on held out test set\n",
    "\n",
    "# predictions = GER.predict(x_test)"
   ]
  },
  {
   "cell_type": "code",
   "execution_count": 9,
   "metadata": {
    "collapsed": true
   },
   "outputs": [],
   "source": [
    "loss_history = GER.model.history"
   ]
  },
  {
   "cell_type": "code",
   "execution_count": 10,
   "metadata": {},
   "outputs": [
    {
     "data": {
      "text/plain": [
       "<matplotlib.legend.Legend at 0x136e3d0f0>"
      ]
     },
     "execution_count": 10,
     "metadata": {},
     "output_type": "execute_result"
    },
    {
     "data": {
      "image/png": "[encoded data removed]",
      "text/plain": [
       "<Figure size 432x288 with 1 Axes>"
      ]
     },
     "metadata": {
      "needs_background": "light"
     },
     "output_type": "display_data"
    }
   ],
   "source": [
    "plt.plot(loss_history.history['loss'], color='blue')\n",
    "plt.plot(loss_history.history['val_loss'], color='orange')\n",
    "plt.title('Model loss', fontsize=12)\n",
    "plt.ylabel('loss', fontsize=12)\n",
    "plt.xlabel('epoch', fontsize=12)\n",
    "plt.legend(['train', 'validation'])"
   ]
  },
  {
   "cell_type": "code",
   "execution_count": 11,
   "metadata": {
    "collapsed": true
   },
   "outputs": [],
   "source": [
    "yhat = GER.predict(x_test)\n",
    "phi = GER.gpmap(x_test)\n"
   ]
  },
  {
   "cell_type": "code",
   "execution_count": 12,
   "metadata": {},
   "outputs": [
    {
     "data": {
      "text/plain": [
       "10"
      ]
     },
     "execution_count": 12,
     "metadata": {},
     "output_type": "execute_result"
    }
   ],
   "source": [
    "len(GER.get_nn().layers)"
   ]
  },
  {
   "cell_type": "code",
   "execution_count": 13,
   "metadata": {},
   "outputs": [
    {
     "name": "stdout",
     "output_type": "stream",
     "text": [
      "__________________________________________________________________________________________________\n",
      "Layer (type)                    Output Shape         Param #     Connected to                     \n",
      "==================================================================================================\n",
      "Sequence_labels_input (InputLay (None, 613)          0                                            \n",
      "__________________________________________________________________________________________________\n",
      "lambda (Lambda)                 (None, 612)          0           Sequence_labels_input[0][0]      \n",
      "__________________________________________________________________________________________________\n",
      "phiPrime (Dense)                (None, 1)            613         lambda[0][0]                     \n",
      "__________________________________________________________________________________________________\n",
      "fix_diffeomorphic_mode (fixDiff (None, 1)            0           phiPrime[0][0]                   \n",
      "__________________________________________________________________________________________________\n",
      "phi (Dense)                     (None, 1)            2           fix_diffeomorphic_mode[0][0]     \n",
      "__________________________________________________________________________________________________\n",
      "dense_1 (Dense)                 (None, 20)           40          phi[0][0]                        \n",
      "__________________________________________________________________________________________________\n",
      "dense_2 (Dense)                 (None, 1)            21          dense_1[0][0]                    \n",
      "__________________________________________________________________________________________________\n",
      "lambda_1 (Lambda)               (None, 1)            0           Sequence_labels_input[0][0]      \n",
      "__________________________________________________________________________________________________\n",
      "yhat_and_y_to_ll (Concatenate)  (None, 2)            0           dense_2[0][0]                    \n",
      "                                                                 lambda_1[0][0]                   \n",
      "__________________________________________________________________________________________________\n",
      "gaussian_likelihood_layer_1 (Ga (None,)              3           yhat_and_y_to_ll[0][0]           \n",
      "==================================================================================================\n",
      "Total params: 679\n",
      "Trainable params: 679\n",
      "Non-trainable params: 0\n",
      "__________________________________________________________________________________________________\n"
     ]
    }
   ],
   "source": [
    "GER.get_nn().summary()"
   ]
  },
  {
   "cell_type": "code",
   "execution_count": 14,
   "metadata": {
    "collapsed": true
   },
   "outputs": [],
   "source": [
    "phi_range = np.linspace(min(phi),max(phi),1000)"
   ]
  },
  {
   "cell_type": "code",
   "execution_count": 15,
   "metadata": {},
   "outputs": [
    {
     "data": {
      "image/png": "[encoded data removed]",
      "text/plain": [
       "<Figure size 144x144 with 1 Axes>"
      ]
     },
     "metadata": {
      "needs_background": "light"
     },
     "output_type": "display_data"
    }
   ],
   "source": [
    "plt.figure(figsize=(2,2))\n",
    "Rsq = np.corrcoef(yhat,y_test)[0][1]**2\n",
    "plt.scatter(yhat,y_test,s=0.25,alpha=0.4)\n",
    "plt.xlabel('Predictions (test)',fontsize=7.5)\n",
    "plt.ylabel('Observations (test)',fontsize=7.5)\n",
    "plt.title('$R^2$: '+str(Rsq)[0:5],fontsize=7.5)\n",
    "plt.tick_params(labelsize=7.5)\n",
    "#plt.savefig('mavenn_mpsa_additive_gaussian_observations_vs_preds_test.png',bbox_inches='tight',dpi=600)\n",
    "plt.show()\n",
    "\n",
    "# plt.figure(figsize=(5,5))\n",
    "# Rsq = np.corrcoef(yhat,y_test)[0][1]**2\n",
    "# plt.scatter(yhat,y_test,s=5,alpha=1)\n",
    "# plt.xlabel('Predictions (test)',fontsize=12)\n",
    "# plt.ylabel('Observations (test)',fontsize=12)\n",
    "# plt.title('$R^2$: '+str(Rsq)[0:5],fontsize=12)\n",
    "# plt.tick_params(labelsize=12)\n",
    "# #plt.savefig('mavenn_mpsa_additive_gaussian_observations_vs_preds_test.png',bbox_inches='tight',dpi=600)\n",
    "# plt.show()"
   ]
  },
  {
   "cell_type": "code",
   "execution_count": 16,
   "metadata": {},
   "outputs": [],
   "source": [
    "#GER.model.model.summary()"
   ]
  },
  {
   "cell_type": "code",
   "execution_count": 17,
   "metadata": {
    "collapsed": true
   },
   "outputs": [],
   "source": [
    "# spline_order = np.arange(1,6,1)\n",
    "# Rsq_spline_test = [0.234,0.467,0.518,0.527,0.552]"
   ]
  },
  {
   "cell_type": "code",
   "execution_count": 18,
   "metadata": {},
   "outputs": [],
   "source": [
    "# plt.figure(figsize=(2,2))\n",
    "# Rsq = np.corrcoef(yhat,y_test)[0][1]**2\n",
    "# plt.scatter(spline_order,Rsq_spline_test,s=3, label='Epistasis')\n",
    "# plt.axhline(0.641,lw=1.5,color='orange', label='MAVE-NN')\n",
    "# plt.ylabel('$R^2$ (test)',fontsize=7.5)\n",
    "# plt.xlabel('Spline order',fontsize=7.5)\n",
    "# #plt.title('$R^2$: '+str(Rsq)[0:5],fontsize=7.5)\n",
    "# plt.tick_params(labelsize=7.5)\n",
    "# plt.xticks(spline_order)\n",
    "# plt.yticks([0.2,0.3,0.4,0.5,0.6])\n",
    "# plt.legend(fontsize=7)\n",
    "# #plt.savefig('Rsq_vs_spline_order_mpsa.png',bbox_inches='tight',dpi=600)\n",
    "# plt.show()\n",
    "\n",
    "\n",
    "\n"
   ]
  },
  {
   "cell_type": "code",
   "execution_count": 19,
   "metadata": {},
   "outputs": [],
   "source": [
    "#plt.scatter(phi,y_test,s=1,alpha=0.5)"
   ]
  },
  {
   "cell_type": "code",
   "execution_count": 20,
   "metadata": {},
   "outputs": [],
   "source": [
    "y_hat_GE = GER.ge_nonlinearity(phi_range)\n",
    "GaussianNoiseModel = mavenn.GaussianNoiseModel(GER,y_hat_GE)"
   ]
  },
  {
   "cell_type": "code",
   "execution_count": 21,
   "metadata": {},
   "outputs": [
    {
     "data": {
      "text/plain": [
       "((5483,), (5483,))"
      ]
     },
     "execution_count": 21,
     "metadata": {},
     "output_type": "execute_result"
    }
   ],
   "source": [
    "phi.shape, y_test.shape"
   ]
  },
  {
   "cell_type": "code",
   "execution_count": 22,
   "metadata": {},
   "outputs": [
    {
     "name": "stdout",
     "output_type": "stream",
     "text": [
      "(1, 1)\n"
     ]
    }
   ],
   "source": [
    "phi_single = 0.1\n",
    "y_hat_of_phi = GER.ge_nonlinearity(phi_single)\n",
    "p_of_y_given_phi = GaussianNoiseModel.p_of_y_given_phi(y_test,phi_single)\n",
    "p_of_y_given_y_hat = GaussianNoiseModel.p_of_y_given_yhat(y_test,y_hat_of_phi)"
   ]
  },
  {
   "cell_type": "code",
   "execution_count": 23,
   "metadata": {},
   "outputs": [
    {
     "data": {
      "text/plain": [
       "0.4184905311275903"
      ]
     },
     "execution_count": 23,
     "metadata": {},
     "output_type": "execute_result"
    }
   ],
   "source": [
    "GaussianNoiseModel.p_of_y_given_yhat(1,1)"
   ]
  },
  {
   "cell_type": "code",
   "execution_count": 24,
   "metadata": {},
   "outputs": [
    {
     "data": {
      "image/png": "[encoded data removed]",
      "text/plain": [
       "<Figure size 432x288 with 1 Axes>"
      ]
     },
     "metadata": {
      "needs_background": "light"
     },
     "output_type": "display_data"
    }
   ],
   "source": [
    "#plt.hist(p_of_y_given_y_hat.ravel(),bins=20)\n",
    "plt.scatter(y_test.ravel(),p_of_y_given_y_hat.ravel())\n",
    "plt.show()"
   ]
  },
  {
   "cell_type": "code",
   "execution_count": null,
   "metadata": {},
   "outputs": [],
   "source": []
  },
  {
   "cell_type": "code",
   "execution_count": 25,
   "metadata": {},
   "outputs": [
    {
     "data": {
      "image/png": "[encoded data removed]",
      "text/plain": [
       "<Figure size 360x360 with 1 Axes>"
      ]
     },
     "metadata": {
      "needs_background": "light"
     },
     "output_type": "display_data"
    }
   ],
   "source": [
    "\n",
    "\n",
    "plt.figure(figsize=(5,5))\n",
    "phi_range = np.linspace(min(phi),max(phi),1000)\n",
    "plt.plot(phi_range,GER.ge_nonlinearity(phi_range))\n",
    "plt.scatter(phi,y_test,s=0.25, alpha=0.4, label='Observations')\n",
    "plt.plot(phi_range,GER.ge_nonlinearity(phi_range),lw=2,label='$\\hat{y}$',alpha=1.0,color='black')\n",
    "plt.plot(phi_range,y_hat_GE-GaussianNoiseModel.sigma,color='orange',lw=2,alpha=0.85,label='$\\hat{y} \\pm \\sigma(\\hat{y})$')\n",
    "plt.plot(phi_range,y_hat_GE+GaussianNoiseModel.sigma,color='orange',lw=2,alpha=0.85)\n",
    "\n",
    "plt.tick_params(labelsize=7.5)\n",
    "\n",
    "# leg = plt.legend(fontsize=7,prop={'size': 5})\n",
    "# for lh in leg.legendHandles: \n",
    "#     lh.set_alpha(1)\n",
    "#     #lh.set_sizes([5.0])\n",
    "      \n",
    "#plt.ylim(-2,4)\n",
    "# plt.yticks([-1,0,1,2,3])\n",
    "plt.xticks([-2,0,2])\n",
    "plt.ylabel('Observations',fontsize=7.5)\n",
    "plt.xlabel('Latent phenotype ($\\phi$)',fontsize=7.5)\n",
    "#plt.title(noise_model+' Likelihood',fontsize=7.5)\n",
    "plt.title('MAVE-NN GE',fontsize=7.5)\n",
    "#plt.savefig('mpsa_additive_gaussian.png',bbox_inches='tight',dpi=600)\n",
    "plt.show()\n"
   ]
  },
  {
   "cell_type": "code",
   "execution_count": 26,
   "metadata": {},
   "outputs": [
    {
     "data": {
      "text/plain": [
       "576"
      ]
     },
     "execution_count": 26,
     "metadata": {},
     "output_type": "execute_result"
    }
   ],
   "source": [
    "#GER.get_gpmap_parameters() \n",
    "#GER.model.model.layers[2].get_weights()[0]\n",
    "36*4*4"
   ]
  },
  {
   "cell_type": "code",
   "execution_count": 27,
   "metadata": {},
   "outputs": [
    {
     "name": "stdout",
     "output_type": "stream",
     "text": [
      "Pred info averaging: (0.2927037038368059, 0.02258746389928063) bits\n",
      "Kraskov I_estimated: 0.3759 bits\n",
      "Justins implementation: (0.3752466397537901, 0.010717690231575401)\n"
     ]
    }
   ],
   "source": [
    "from mavenn.src.utils import mi_continuous\n",
    "import entropy_estimators as ee\n",
    "I_estimated = ee.mi(y_test,yhat)\n",
    "\n",
    "print(f'Pred info averaging: {GaussianNoiseModel.estimate_predictive_information(y_test,yhat)} bits')\n",
    "print(f'Kraskov I_estimated: {I_estimated:.4f} bits')\n",
    "print(f'Justins implementation: {mi_continuous(y_test,yhat)}')"
   ]
  },
  {
   "cell_type": "code",
   "execution_count": 28,
   "metadata": {
    "collapsed": true
   },
   "outputs": [],
   "source": [
    "# yhat -> predictions for all values (e.g. in test set)\n",
    "# y_test -> True values \n",
    "\n",
    "# compute log_2 of p_y_given_yhat for all values (i.e. in test set) and take mean.\n",
    "# that's equal to \n",
    "mean_log_2_p_y_given_yhat = np.mean(np.log2(GaussianNoiseModel.p_of_y_given_yhat(y_test,yhat)))"
   ]
  },
  {
   "cell_type": "code",
   "execution_count": 29,
   "metadata": {},
   "outputs": [
    {
     "data": {
      "text/plain": [
       "array([0.10755443, 0.4008427 , 0.38159606, ..., 0.20530868, 0.34530942,\n",
       "       0.40894556])"
      ]
     },
     "execution_count": 29,
     "metadata": {},
     "output_type": "execute_result"
    }
   ],
   "source": [
    "# p(y) = <p(y|yhat)>, where the average is taken over the yhat values (i.e. in test data)\n",
    "GaussianNoiseModel.p_of_y_given_yhat(y_test,yhat)"
   ]
  },
  {
   "cell_type": "code",
   "execution_count": 30,
   "metadata": {},
   "outputs": [
    {
     "data": {
      "text/plain": [
       "array([0.10755442, 0.10755549, 0.10755499, ..., 0.01949624, 0.10755026,\n",
       "       0.10755649], dtype=float32)"
      ]
     },
     "execution_count": 30,
     "metadata": {},
     "output_type": "execute_result"
    }
   ],
   "source": [
    "GaussianNoiseModel.p_of_y_given_yhat(y_test[0],yhat)"
   ]
  },
  {
   "cell_type": "code",
   "execution_count": 31,
   "metadata": {},
   "outputs": [
    {
     "name": "stdout",
     "output_type": "stream",
     "text": [
      "-1.9059476\n"
     ]
    }
   ],
   "source": [
    "p_y = []\n",
    "for _ in range(len(y_test)):\n",
    "    \n",
    "    '''\n",
    "    form p_y by averaging over y_hat for every value of y_test\n",
    "    i.e. \n",
    "    # p(y_1|y_hat_1), p(y_1|y_hat_1), ... ,p(y_1|y_hat_N), the mean of this is p(y_1)\n",
    "    # p(y_2|y_hat_1), p(y_2|y_hat_1), ... ,p(y_2|y_hat_N), the mean of this is p(y_2), and so on.\n",
    "    '''\n",
    "    p_y.append(np.mean(GaussianNoiseModel.p_of_y_given_yhat(y_test[_],yhat).ravel()))\n",
    "    \n",
    "p_y = np.array(p_y)    \n",
    "mean_log_2_p_y = np.mean(np.log2(p_y))\n",
    "print(mean_log_2_p_y)"
   ]
  },
  {
   "cell_type": "code",
   "execution_count": 32,
   "metadata": {},
   "outputs": [
    {
     "data": {
      "text/plain": [
       "0.2927037038368059"
      ]
     },
     "execution_count": 32,
     "metadata": {},
     "output_type": "execute_result"
    }
   ],
   "source": [
    "mean_log_2_p_y_given_yhat-mean_log_2_p_y"
   ]
  },
  {
   "cell_type": "markdown",
   "metadata": {},
   "source": [
    "## Probability calculations"
   ]
  },
  {
   "cell_type": "code",
   "execution_count": 33,
   "metadata": {
    "collapsed": true
   },
   "outputs": [],
   "source": [
    "polynomial_weights = GER.model.model.layers[9].get_weights()[0].copy()\n",
    "\n",
    "def p_of_y_given_yhat(y,yhat):\n",
    "    \n",
    "    #polynomial_weights = GER.model.model.layers[9].get_weights()[0].copy()\n",
    "    \n",
    "    logsigma=0\n",
    "    \n",
    "    for polynomial_index in range(len(polynomial_weights)):\n",
    "        logsigma+= polynomial_weights[polynomial_index][0]*np.power(yhat,polynomial_index)\n",
    "\n",
    "    sigma = np.exp(logsigma)\n",
    "\n",
    "    \n",
    "    return (1/np.sqrt(2*np.pi*sigma**2))*np.exp(-((y-yhat)**2)/(2*sigma**2))"
   ]
  },
  {
   "cell_type": "code",
   "execution_count": 34,
   "metadata": {},
   "outputs": [
    {
     "name": "stdout",
     "output_type": "stream",
     "text": [
      "MPSA-BRCA2-additive\n",
      "log2_p_y_given_yhat: 1.6132438621956038\n",
      "SEM: 0.0165717343837403\n"
     ]
    }
   ],
   "source": [
    "print('MPSA-BRCA2-additive')\n",
    "mean_log_2_p_y_given_yhat = -np.mean(np.log2(p_of_y_given_yhat(y_test,yhat)))\n",
    "print('log2_p_y_given_yhat:',mean_log_2_p_y_given_yhat)\n",
    "print('SEM:',np.std(np.log2(p_of_y_given_yhat(y_test,yhat)))/np.sqrt(len(y_test)))"
   ]
  },
  {
   "cell_type": "code",
   "execution_count": 35,
   "metadata": {},
   "outputs": [
    {
     "name": "stdout",
     "output_type": "stream",
     "text": [
      "1.9059476\n"
     ]
    }
   ],
   "source": [
    "p_y = []\n",
    "for _ in range(len(y_test)):\n",
    "    \n",
    "    #if _%500==0:\n",
    "    #print(_)\n",
    "    # form p_y by averaging over y_hat for every value of y_test\n",
    "    p_y.append(np.mean(p_of_y_given_yhat(y_test[_],yhat).ravel()))\n",
    "    \n",
    "p_y = np.array(p_y)    \n",
    "mean_log_2_p_y = -np.mean(np.log2(p_y))\n",
    "print(mean_log_2_p_y)"
   ]
  },
  {
   "cell_type": "code",
   "execution_count": 36,
   "metadata": {},
   "outputs": [
    {
     "data": {
      "text/plain": [
       "array([0.10755442, 0.10755549, 0.10755499, ..., 0.01949624, 0.10755026,\n",
       "       0.10755649], dtype=float32)"
      ]
     },
     "execution_count": 36,
     "metadata": {},
     "output_type": "execute_result"
    }
   ],
   "source": [
    "p_of_y_given_yhat(y_test[0],yhat).ravel()"
   ]
  },
  {
   "cell_type": "code",
   "execution_count": null,
   "metadata": {
    "collapsed": true
   },
   "outputs": [],
   "source": []
  },
  {
   "cell_type": "code",
   "execution_count": 37,
   "metadata": {},
   "outputs": [
    {
     "data": {
      "image/png": "[encoded data removed]",
      "text/plain": [
       "<Figure size 432x288 with 1 Axes>"
      ]
     },
     "metadata": {
      "needs_background": "light"
     },
     "output_type": "display_data"
    }
   ],
   "source": [
    "y_range = np.linspace(min(y_test),max(y_test),100)\n",
    "p_y_range = p_of_y_given_yhat(y_range,-0.55)\n",
    "plt.scatter(y_test,p_y)\n",
    "plt.scatter(y_range,p_y_range)\n",
    "plt.show()"
   ]
  },
  {
   "cell_type": "code",
   "execution_count": 38,
   "metadata": {},
   "outputs": [
    {
     "data": {
      "text/plain": [
       "'0.2927037038368059 bits'"
      ]
     },
     "execution_count": 38,
     "metadata": {},
     "output_type": "execute_result"
    }
   ],
   "source": [
    "I_y_test_y_hat = mean_log_2_p_y-mean_log_2_p_y_given_yhat\n",
    "f'{I_y_test_y_hat} bits'"
   ]
  },
  {
   "cell_type": "code",
   "execution_count": null,
   "metadata": {},
   "outputs": [],
   "source": []
  },
  {
   "cell_type": "code",
   "execution_count": 39,
   "metadata": {},
   "outputs": [],
   "source": [
    "#mean_log_2_p_y_given_yhat-H_y"
   ]
  },
  {
   "cell_type": "code",
   "execution_count": null,
   "metadata": {
    "collapsed": true
   },
   "outputs": [],
   "source": []
  },
  {
   "cell_type": "code",
   "execution_count": 40,
   "metadata": {},
   "outputs": [
    {
     "ename": "NameError",
     "evalue": "name 'salmon' is not defined",
     "output_type": "error",
     "traceback": [
      "\u001b[0;31m---------------------------------------------------------------------------\u001b[0m",
      "\u001b[0;31mNameError\u001b[0m                                 Traceback (most recent call last)",
      "\u001b[0;32m<ipython-input-40-42f5b8cc477d>\u001b[0m in \u001b[0;36m<module>\u001b[0;34m\u001b[0m\n\u001b[0;32m----> 1\u001b[0;31m \u001b[0msalmon\u001b[0m\u001b[0;34m\u001b[0m\u001b[0;34m\u001b[0m\u001b[0m\n\u001b[0m",
      "\u001b[0;31mNameError\u001b[0m: name 'salmon' is not defined"
     ]
    }
   ],
   "source": [
    "salmon"
   ]
  },
  {
   "cell_type": "code",
   "execution_count": null,
   "metadata": {
    "collapsed": true
   },
   "outputs": [],
   "source": [
    "#GER.get_gpmap_parameters()"
   ]
  },
  {
   "cell_type": "markdown",
   "metadata": {},
   "source": [
    "Sailer Harms code"
   ]
  },
  {
   "cell_type": "code",
   "execution_count": null,
   "metadata": {
    "collapsed": true
   },
   "outputs": [],
   "source": [
    "import pandas as pd\n",
    "import matplotlib.pyplot as plt\n",
    "from epistasis.models import EpistasisLinearRegression\n",
    "from epistasis.pyplot import plot_coefs\n",
    "\n",
    "from epistasis.models.nonlinear import EpistasisPowerTransform\n",
    "from epistasis.pyplot.nonlinear import plot_power_transform\n",
    "\n",
    "from gpmap import GenotypePhenotypeMap\n",
    "MPSA_WT = 'CAGGUAAGU'\n",
    "import mavenn\n",
    "from mavenn.src.utils import get_example_dataset\n",
    "X, y = get_example_dataset(name='MPSA')\n",
    "\n",
    "gpm = GenotypePhenotypeMap(MPSA_WT,X,y)\n",
    "\n",
    "# Fit Power transform\n",
    "model = EpistasisPowerTransform(lmbda=3, A=0, B=0)\n",
    "model.add_gpm(gpm)\n",
    "model.fit()\n",
    "\n",
    "# Create plot\n",
    "fig, ax = plt.subplots(figsize=(10,10))\n",
    "plot_power_transform(model, cmap='plasma', ax=ax, yerr=0.6, s=10)\n",
    "\n",
    "ax.set_xlabel('Padd', fontsize=14)\n",
    "ax.set_ylabel('Pobs', fontsize=14)\n",
    "ax.set_title('Sailer/Harms, Power Transform - lmbda = 3')\n",
    "fig.savefig('powerTransformLambda3.png',bbox_inches='tight')"
   ]
  },
  {
   "cell_type": "code",
   "execution_count": null,
   "metadata": {
    "collapsed": true
   },
   "outputs": [],
   "source": [
    "import pandas as pd\n",
    "import matplotlib.pyplot as plt\n",
    "from epistasis.models import EpistasisLinearRegression\n",
    "from epistasis.pyplot import plot_coefs\n",
    "\n",
    "from epistasis.models.nonlinear import EpistasisPowerTransform\n",
    "from epistasis.pyplot.nonlinear import plot_power_transform\n",
    "\n",
    "from epistasis.models import EpistasisSpline\n",
    "\n",
    "from gpmap import GenotypePhenotypeMap\n",
    "MPSA_WT = 'CAGGUAAGU'\n",
    "import mavenn\n",
    "from mavenn.src.utils import get_example_dataset\n",
    "X, y = get_example_dataset(name='MPSA')\n",
    "\n",
    "gpm = GenotypePhenotypeMap(MPSA_WT,X,y)\n",
    "\n",
    "# Fit Power transform\n",
    "model = EpistasisSpline(k=3)\n",
    "model.add_gpm(gpm)\n",
    "model.fit()\n",
    "\n",
    "# Create plot\n",
    "fig, ax = plt.subplots(figsize=(10,10))\n",
    "plot_power_transform(model, cmap='plasma', ax=ax, yerr=0.6, s=10)\n",
    "\n",
    "ax.set_xlabel('Padd', fontsize=14)\n",
    "ax.set_ylabel('Pobs', fontsize=14)\n",
    "ax.set_title('Sailer/Harms, Model Spline')\n",
    "fig.savefig('ModelSpline.png',bbox_inches='tight')"
   ]
  },
  {
   "cell_type": "code",
   "execution_count": null,
   "metadata": {
    "collapsed": true
   },
   "outputs": [],
   "source": [
    "from gpmap import GenotypePhenotypeMap\n",
    "from epistasis.models import EpistasisSpline\n",
    "\n",
    "wildtype = 'AA'\n",
    "genotypes = ['AA', 'AT', 'TA', 'TT']\n",
    "phenotypes = [0.1, 0.2, 0.7, 1.2]\n",
    "\n",
    "# Read genotype-phenotype map.\n",
    "gpm = GenotypePhenotypeMap(wildtype, genotypes, phenotypes)\n",
    "\n",
    "# Initialize the data.\n",
    "model = EpistasisSpline(k=3)\n",
    "\n",
    "# Add Genotype-phenotype map data.\n",
    "model.add_gpm(gpm)\n",
    "\n",
    "# Fit the model.\n",
    "model.fit()"
   ]
  },
  {
   "cell_type": "code",
   "execution_count": null,
   "metadata": {
    "collapsed": true
   },
   "outputs": [],
   "source": []
  }
 ],
 "metadata": {
  "kernelspec": {
   "display_name": "Python 3",
   "language": "python",
   "name": "python3"
  },
  "language_info": {
   "codemirror_mode": {
    "name": "ipython",
    "version": 3
   },
   "file_extension": ".py",
   "mimetype": "text/x-python",
   "name": "python",
   "nbconvert_exporter": "python",
   "pygments_lexer": "ipython3",
   "version": "3.6.7"
  }
 },
 "nbformat": 4,
 "nbformat_minor": 2
}
