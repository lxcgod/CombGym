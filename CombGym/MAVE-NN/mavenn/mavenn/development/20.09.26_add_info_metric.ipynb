{
 "cells": [
  {
   "cell_type": "code",
   "execution_count": 1,
   "metadata": {},
   "outputs": [
    {
     "name": "stdout",
     "output_type": "stream",
     "text": [
      "['/Users/jkinney/github/mavenn/mavenn']\n"
     ]
    }
   ],
   "source": [
    "# Standard imports\n",
    "import pandas as pd\n",
    "import matplotlib.pyplot as plt\n",
    "import numpy as np\n",
    "\n",
    "# Insert path to mavenn beginning of path\n",
    "import os\n",
    "import sys\n",
    "abs_path_to_mavenn = os.path.abspath('../../../')\n",
    "sys.path.insert(0, abs_path_to_mavenn)\n",
    "\n",
    "# Load mavenn\n",
    "import mavenn\n",
    "print(mavenn.__path__)"
   ]
  },
  {
   "cell_type": "code",
   "execution_count": 2,
   "metadata": {},
   "outputs": [
    {
     "name": "stdout",
     "output_type": "stream",
     "text": [
      "N: 536,963\n"
     ]
    },
    {
     "data": {
      "text/html": [
       "<div>\n",
       "<style scoped>\n",
       "    .dataframe tbody tr th:only-of-type {\n",
       "        vertical-align: middle;\n",
       "    }\n",
       "\n",
       "    .dataframe tbody tr th {\n",
       "        vertical-align: top;\n",
       "    }\n",
       "\n",
       "    .dataframe thead th {\n",
       "        text-align: right;\n",
       "    }\n",
       "</style>\n",
       "<table border=\"1\" class=\"dataframe\">\n",
       "  <thead>\n",
       "    <tr style=\"text-align: right;\">\n",
       "      <th></th>\n",
       "      <th>input_ct</th>\n",
       "      <th>selected_ct</th>\n",
       "      <th>hamming_dist</th>\n",
       "      <th>training_set</th>\n",
       "      <th>y</th>\n",
       "      <th>dy</th>\n",
       "      <th>x</th>\n",
       "    </tr>\n",
       "  </thead>\n",
       "  <tbody>\n",
       "    <tr>\n",
       "      <th>0</th>\n",
       "      <td>1759616.0</td>\n",
       "      <td>3041819.0</td>\n",
       "      <td>0</td>\n",
       "      <td>True</td>\n",
       "      <td>0.000000</td>\n",
       "      <td>0.001366</td>\n",
       "      <td>QYKLILNGKTLKGETTTEAVDAATAEKVFKQYANDNGVDGEWTYDD...</td>\n",
       "    </tr>\n",
       "    <tr>\n",
       "      <th>1</th>\n",
       "      <td>14663.0</td>\n",
       "      <td>38476.0</td>\n",
       "      <td>1</td>\n",
       "      <td>True</td>\n",
       "      <td>0.602044</td>\n",
       "      <td>0.014001</td>\n",
       "      <td>AYKLILNGKTLKGETTTEAVDAATAEKVFKQYANDNGVDGEWTYDD...</td>\n",
       "    </tr>\n",
       "    <tr>\n",
       "      <th>2</th>\n",
       "      <td>13001.0</td>\n",
       "      <td>23023.0</td>\n",
       "      <td>1</td>\n",
       "      <td>True</td>\n",
       "      <td>0.034732</td>\n",
       "      <td>0.015827</td>\n",
       "      <td>CYKLILNGKTLKGETTTEAVDAATAEKVFKQYANDNGVDGEWTYDD...</td>\n",
       "    </tr>\n",
       "    <tr>\n",
       "      <th>3</th>\n",
       "      <td>11488.0</td>\n",
       "      <td>18085.0</td>\n",
       "      <td>1</td>\n",
       "      <td>True</td>\n",
       "      <td>-0.135053</td>\n",
       "      <td>0.017212</td>\n",
       "      <td>DYKLILNGKTLKGETTTEAVDAATAEKVFKQYANDNGVDGEWTYDD...</td>\n",
       "    </tr>\n",
       "    <tr>\n",
       "      <th>4</th>\n",
       "      <td>9501.0</td>\n",
       "      <td>15629.0</td>\n",
       "      <td>1</td>\n",
       "      <td>True</td>\n",
       "      <td>-0.071659</td>\n",
       "      <td>0.018767</td>\n",
       "      <td>EYKLILNGKTLKGETTTEAVDAATAEKVFKQYANDNGVDGEWTYDD...</td>\n",
       "    </tr>\n",
       "  </tbody>\n",
       "</table>\n",
       "</div>"
      ],
      "text/plain": [
       "    input_ct  selected_ct  hamming_dist  training_set         y        dy  \\\n",
       "0  1759616.0    3041819.0             0          True  0.000000  0.001366   \n",
       "1    14663.0      38476.0             1          True  0.602044  0.014001   \n",
       "2    13001.0      23023.0             1          True  0.034732  0.015827   \n",
       "3    11488.0      18085.0             1          True -0.135053  0.017212   \n",
       "4     9501.0      15629.0             1          True -0.071659  0.018767   \n",
       "\n",
       "                                                   x  \n",
       "0  QYKLILNGKTLKGETTTEAVDAATAEKVFKQYANDNGVDGEWTYDD...  \n",
       "1  AYKLILNGKTLKGETTTEAVDAATAEKVFKQYANDNGVDGEWTYDD...  \n",
       "2  CYKLILNGKTLKGETTTEAVDAATAEKVFKQYANDNGVDGEWTYDD...  \n",
       "3  DYKLILNGKTLKGETTTEAVDAATAEKVFKQYANDNGVDGEWTYDD...  \n",
       "4  EYKLILNGKTLKGETTTEAVDAATAEKVFKQYANDNGVDGEWTYDD...  "
      ]
     },
     "execution_count": 2,
     "metadata": {},
     "output_type": "execute_result"
    }
   ],
   "source": [
    "# Load example data\n",
    "data_df = mavenn.load_example_dataset('gb1')\n",
    "print(f'N: {len(data_df):,}')\n",
    "data_df.head()"
   ]
  },
  {
   "cell_type": "code",
   "execution_count": 3,
   "metadata": {},
   "outputs": [
    {
     "name": "stdout",
     "output_type": "stream",
     "text": [
      "N training: 429,674\n",
      "N test: 107,289\n"
     ]
    }
   ],
   "source": [
    "# Split into training and test data\n",
    "ix = data_df['training_set']\n",
    "training_df = data_df[ix]\n",
    "test_df = data_df[~ix]\n",
    "print(f'N training: {len(training_df):,}')\n",
    "print(f'N test: {len(test_df):,}')"
   ]
  },
  {
   "cell_type": "code",
   "execution_count": 4,
   "metadata": {},
   "outputs": [],
   "source": [
    "# Set seeed\n",
    "mavenn.set_seed(0)\n",
    "\n",
    "# Define model\n",
    "model = mavenn.Model(regression_type='GE',\n",
    "                     L=len(training_df['x'][0]),\n",
    "                     alphabet='protein',\n",
    "                     gpmap_type='additive',                     \n",
    "                     ge_noise_model_type='Cauchy',\n",
    "                     ge_heteroskedasticity_order=2)"
   ]
  },
  {
   "cell_type": "code",
   "execution_count": 5,
   "metadata": {},
   "outputs": [
    {
     "name": "stdout",
     "output_type": "stream",
     "text": [
      "N = 429,674 observations set as training data.\n",
      "Data shuffled.\n",
      "Time to set data: 12.0 sec.\n"
     ]
    }
   ],
   "source": [
    "# Set training data\n",
    "model.set_data(x=training_df['x'],\n",
    "               y=training_df['y'])"
   ]
  },
  {
   "cell_type": "code",
   "execution_count": 6,
   "metadata": {},
   "outputs": [
    {
     "name": "stdout",
     "output_type": "stream",
     "text": [
      " \n",
      "LSMR            Least-squares solution of  Ax = b\n",
      "\n",
      "The matrix A has   429674 rows  and     1100 cols\n",
      "damp = 0.00000000000000e+00\n",
      "\n",
      "atol = 1.00e-06                 conlim = 1.00e+08\n",
      "\n",
      "btol = 1.00e-06             maxiter =     1100\n",
      "\n",
      " \n",
      "   itn      x(1)       norm r    norm Ar  compatible   LS      norm A   cond A\n",
      "     0  0.00000e+00  6.555e+02  6.819e+04   1.0e+00  1.6e-01\n",
      "     1  1.35584e-02  4.784e+02  5.099e+04   7.3e-01  8.4e-01  1.3e+02  1.0e+00\n",
      "     2  3.03543e-02  3.705e+02  8.062e+03   5.7e-01  4.7e-03  4.7e+03  1.6e+01\n",
      "     3  5.05346e-02  2.596e+02  4.464e+03   4.0e-01  3.7e-03  4.7e+03  1.1e+02\n",
      "     4  6.00529e-02  2.415e+02  1.645e+02   3.7e-01  1.5e-04  4.7e+03  9.0e+01\n",
      "     5  6.00044e-02  2.415e+02  1.627e+02   3.7e-01  1.4e-04  4.7e+03  9.0e+01\n",
      "     6  5.96612e-02  2.415e+02  1.486e+02   3.7e-01  9.5e-05  6.5e+03  9.0e+01\n",
      "     7  5.60233e-02  2.415e+02  1.438e+01   3.7e-01  9.0e-06  6.6e+03  9.0e+01\n",
      "     8  5.59991e-02  2.415e+02  1.375e+01   3.7e-01  8.6e-06  6.6e+03  9.0e+01\n",
      "     9  5.56915e-02  2.415e+02  1.338e+01   3.7e-01  8.4e-06  6.6e+03  4.2e+02\n",
      "    10  5.56145e-02  2.415e+02  1.329e+01   3.7e-01  7.9e-06  7.0e+03  9.6e+01\n",
      "    17 -4.18006e-01  2.410e+02  1.008e+00   3.7e-01  4.5e-07  9.4e+03  7.4e+02\n",
      " \n",
      "LSMR finished\n",
      "The least-squares solution is good enough, given atol     \n",
      "istop =       2    normr = 2.4e+02\n",
      "    normA = 9.4e+03    normAr = 1.0e+00\n",
      "itn   =      17    condA = 7.4e+02\n",
      "    normx = 1.9e+01\n",
      "    17 -4.18006e-01   2.410e+02  1.008e+00\n",
      "   3.7e-01  4.5e-07   9.4e+03  7.4e+02\n",
      "Linear regression time: 10.4984 sec\n",
      "Epoch 1/1000\n",
      "344/344 [==============================] - 4s 13ms/step - loss: 361.3004 - val_loss: 47.9527\n",
      "Epoch 2/1000\n",
      "344/344 [==============================] - 3s 8ms/step - loss: -23.8204 - val_loss: 55.2416\n",
      "Epoch 3/1000\n",
      "344/344 [==============================] - 3s 8ms/step - loss: -90.3643 - val_loss: -102.3488\n",
      "Epoch 4/1000\n",
      "344/344 [==============================] - 3s 8ms/step - loss: -101.9138 - val_loss: -108.6205\n",
      "Epoch 5/1000\n",
      "344/344 [==============================] - 3s 9ms/step - loss: -100.5003 - val_loss: -96.6426\n",
      "Epoch 6/1000\n",
      "344/344 [==============================] - 3s 9ms/step - loss: -105.7600 - val_loss: -120.2643\n",
      "Epoch 7/1000\n",
      "344/344 [==============================] - 3s 8ms/step - loss: -113.7114 - val_loss: -116.4968\n",
      "Epoch 8/1000\n",
      "344/344 [==============================] - 3s 10ms/step - loss: -107.0560 - val_loss: -75.3016\n",
      "Epoch 9/1000\n",
      "344/344 [==============================] - 3s 9ms/step - loss: -111.2801 - val_loss: -123.3686\n",
      "Epoch 10/1000\n",
      "344/344 [==============================] - 4s 10ms/step - loss: -106.9690 - val_loss: -32.6284\n",
      "Epoch 11/1000\n",
      "344/344 [==============================] - 3s 9ms/step - loss: -115.9662 - val_loss: -114.4804\n",
      "Epoch 12/1000\n",
      "344/344 [==============================] - 3s 10ms/step - loss: -107.0698 - val_loss: -110.7875\n",
      "Epoch 13/1000\n",
      "344/344 [==============================] - 3s 9ms/step - loss: -107.4497 - val_loss: -102.3611\n",
      "Epoch 14/1000\n",
      "344/344 [==============================] - 3s 9ms/step - loss: -114.8406 - val_loss: -118.7039\n",
      "Epoch 15/1000\n",
      "344/344 [==============================] - 3s 9ms/step - loss: -109.6411 - val_loss: -103.7007\n",
      "Epoch 16/1000\n",
      "344/344 [==============================] - 3s 10ms/step - loss: -116.6933 - val_loss: -109.1921\n",
      "Epoch 17/1000\n",
      "344/344 [==============================] - 3s 9ms/step - loss: -106.2736 - val_loss: -78.3995\n",
      "Epoch 18/1000\n",
      "344/344 [==============================] - 3s 9ms/step - loss: -115.4481 - val_loss: -125.6343\n",
      "Epoch 19/1000\n",
      "344/344 [==============================] - 3s 10ms/step - loss: -116.7191 - val_loss: -104.7138\n",
      "Epoch 20/1000\n",
      "344/344 [==============================] - 3s 10ms/step - loss: -114.7201 - val_loss: -129.2060\n",
      "Epoch 21/1000\n",
      "344/344 [==============================] - 3s 9ms/step - loss: -113.2534 - val_loss: -125.7469\n",
      "Epoch 22/1000\n",
      "344/344 [==============================] - 3s 9ms/step - loss: -112.2770 - val_loss: -115.0908\n",
      "Epoch 23/1000\n",
      "344/344 [==============================] - 3s 9ms/step - loss: -113.1177 - val_loss: -125.0529\n",
      "Epoch 24/1000\n",
      "344/344 [==============================] - 3s 9ms/step - loss: -116.3774 - val_loss: -130.6537\n",
      "Epoch 25/1000\n",
      "344/344 [==============================] - 3s 10ms/step - loss: -120.9943 - val_loss: -37.2805\n",
      "Epoch 26/1000\n",
      "344/344 [==============================] - 3s 9ms/step - loss: -120.1295 - val_loss: -130.7558\n",
      "Epoch 27/1000\n",
      "344/344 [==============================] - 3s 9ms/step - loss: -118.5840 - val_loss: -131.4186\n",
      "Epoch 28/1000\n",
      "344/344 [==============================] - 3s 9ms/step - loss: -119.4332 - val_loss: -118.9918\n",
      "Epoch 29/1000\n",
      "344/344 [==============================] - 3s 9ms/step - loss: -115.9172 - val_loss: -71.2237\n",
      "Epoch 30/1000\n",
      "344/344 [==============================] - 3s 9ms/step - loss: -115.7398 - val_loss: -134.4509\n",
      "Epoch 31/1000\n",
      "344/344 [==============================] - 3s 9ms/step - loss: -119.6774 - val_loss: -128.9982\n",
      "Epoch 32/1000\n",
      "344/344 [==============================] - 3s 10ms/step - loss: -120.7971 - val_loss: -125.3705\n",
      "Epoch 33/1000\n",
      "344/344 [==============================] - 3s 9ms/step - loss: -120.8198 - val_loss: -133.7157\n",
      "Epoch 34/1000\n",
      "344/344 [==============================] - 3s 8ms/step - loss: -123.2869 - val_loss: -129.4995\n",
      "Epoch 35/1000\n",
      "344/344 [==============================] - 3s 9ms/step - loss: -119.3127 - val_loss: -133.8076\n",
      "Epoch 36/1000\n",
      "344/344 [==============================] - 3s 9ms/step - loss: -119.2683 - val_loss: -123.3916\n",
      "Epoch 37/1000\n",
      "344/344 [==============================] - 3s 10ms/step - loss: -119.8366 - val_loss: -133.6521\n",
      "Epoch 38/1000\n",
      "344/344 [==============================] - 3s 8ms/step - loss: -118.6725 - val_loss: -132.3454\n",
      "Epoch 39/1000\n",
      "344/344 [==============================] - 3s 8ms/step - loss: -122.0337 - val_loss: -132.6242\n",
      "Epoch 40/1000\n",
      "344/344 [==============================] - 3s 9ms/step - loss: -118.1566 - val_loss: -53.7911\n",
      "Training time: 144.4 seconds\n"
     ]
    }
   ],
   "source": [
    "# Fit model to data\n",
    "history = model.fit(learning_rate=.005,\n",
    "                    batch_size=1000,\n",
    "                    epochs=1000,\n",
    "                    early_stopping=True,\n",
    "                    early_stopping_patience=10)"
   ]
  },
  {
   "cell_type": "code",
   "execution_count": 7,
   "metadata": {},
   "outputs": [
    {
     "name": "stdout",
     "output_type": "stream",
     "text": [
      "Model saved to these files:\n",
      "\tgb1_ge_additive.pickle\n",
      "\tgb1_ge_additive.h5\n"
     ]
    }
   ],
   "source": [
    "# Save model\n",
    "model.save('gb1_ge_additive')"
   ]
  },
  {
   "cell_type": "code",
   "execution_count": 8,
   "metadata": {},
   "outputs": [
    {
     "name": "stdout",
     "output_type": "stream",
     "text": [
      "Model loaded from these files:\n",
      "\tgb1_ge_additive.pickle\n",
      "\tgb1_ge_additive.h5\n"
     ]
    }
   ],
   "source": [
    "# Load model\n",
    "model = mavenn.load('gb1_ge_additive')"
   ]
  },
  {
   "cell_type": "code",
   "execution_count": 9,
   "metadata": {},
   "outputs": [],
   "source": [
    "# Subsample rows of test_df for easy plotting\n",
    "ix = np.random.rand(len(test_df)) < .1\n",
    "\n",
    "# Get x and y\n",
    "x = test_df['x'].values[ix]\n",
    "y = test_df['y'].values[ix]"
   ]
  },
  {
   "cell_type": "code",
   "execution_count": 10,
   "metadata": {},
   "outputs": [
    {
     "data": {
      "image/png": "[encoded data removed]",
      "text/plain": [
       "<Figure size 288x288 with 1 Axes>"
      ]
     },
     "metadata": {
      "needs_background": "light"
     },
     "output_type": "display_data"
    }
   ],
   "source": [
    "# Compute phi and yhat values\n",
    "phi = model.x_to_phi(x)\n",
    "yhat = model.phi_to_yhat(phi)\n",
    "\n",
    "# Create grid for plotting yhat and yqs\n",
    "phi_lim = [-5, 2.5]\n",
    "phi_grid = np.linspace(phi_lim[0], phi_lim[1], 1000)\n",
    "yhat_grid = model.phi_to_yhat(phi_grid)\n",
    "yqs_grid = model.yhat_to_yq(yhat_grid, q=[.16,.84])\n",
    "\n",
    "# Create two panels\n",
    "fig, ax = plt.subplots(1, 1, figsize=[4, 4])\n",
    "\n",
    "# Illustrate measurement process with GE curve\n",
    "ax.scatter(phi, y, color='C0', s=5, alpha=.2, label='test data')\n",
    "ax.plot(phi_grid, yhat_grid, linewidth=2, color='C1',\n",
    "        label='$\\hat{y} = g(\\phi)$')\n",
    "ax.plot(phi_grid, yqs_grid[:, 0], linestyle='--', color='C1',\n",
    "        label='68% CI')\n",
    "ax.plot(phi_grid, yqs_grid[:, 1], linestyle='--', color='C1')\n",
    "ax.set_xlim(phi_lim)\n",
    "ax.set_xlabel('latent phenotype ($\\phi$)')\n",
    "ax.set_ylabel('measurement ($y$)')\n",
    "ax.set_title('measurement process')\n",
    "ax.legend()\n",
    "\n",
    "# Fix up plot\n",
    "fig.tight_layout()\n",
    "plt.show()"
   ]
  },
  {
   "cell_type": "code",
   "execution_count": 11,
   "metadata": {},
   "outputs": [
    {
     "data": {
      "image/png": "[encoded data removed]",
      "text/plain": [
       "<Figure size 720x360 with 2 Axes>"
      ]
     },
     "metadata": {
      "needs_background": "light"
     },
     "output_type": "display_data"
    }
   ],
   "source": [
    "# Create two panels\n",
    "fig, ax = plt.subplots(1, 1, figsize=[10, 5])\n",
    "\n",
    "# Get model parameters\n",
    "theta_dict = model.get_theta(gauge='consensus')\n",
    "\n",
    "# Left panel: draw heatmap illustrating 1pt mutation effects\n",
    "ax, cb = mavenn.heatmap(theta_dict['theta_lc'],\n",
    "                        alphabet=theta_dict['alphabet'],\n",
    "                        seq=model.x_stats['consensus_seq'],\n",
    "                        ccenter=0,\n",
    "                        cmap='PiYG',\n",
    "                        ax=ax)\n",
    "ax.set_xlabel('position ($l$)')\n",
    "ax.set_ylabel('amino acid ($c$)')\n",
    "cb.set_label('effect ($\\Delta\\phi$)', rotation=-90, va=\"bottom\")\n",
    "ax.set_title('mutation effects')\n",
    "\n",
    "# Fix up plot\n",
    "fig.tight_layout()\n",
    "plt.show()\n"
   ]
  },
  {
   "cell_type": "code",
   "execution_count": null,
   "metadata": {},
   "outputs": [],
   "source": []
  }
 ],
 "metadata": {
  "kernelspec": {
   "display_name": "Python 3",
   "language": "python",
   "name": "python3"
  },
  "language_info": {
   "codemirror_mode": {
    "name": "ipython",
    "version": 3
   },
   "file_extension": ".py",
   "mimetype": "text/x-python",
   "name": "python",
   "nbconvert_exporter": "python",
   "pygments_lexer": "ipython3",
   "version": "3.7.4"
  }
 },
 "nbformat": 4,
 "nbformat_minor": 2
}
