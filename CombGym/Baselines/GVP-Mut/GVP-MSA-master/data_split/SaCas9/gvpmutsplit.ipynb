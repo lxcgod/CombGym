{
 "cells": [
  {
   "cell_type": "code",
   "execution_count": 1,
   "metadata": {},
   "outputs": [
    {
     "name": "stdout",
     "output_type": "stream",
     "text": [
      "数据集分割并保存完成。\n"
     ]
    }
   ],
   "source": [
    "import pandas as pd\n",
    "import os\n",
    "\n",
    "filename = 'GVP-Mut/GVP-MSA-master/data_split/SaCas9/SaCas9-mean.csv'  \n",
    "df = pd.read_csv(filename)\n",
    "\n",
    "fitness_min = df['fitness'].min()\n",
    "fitness_max = df['fitness'].max()\n",
    "df['fitness'] = (df['fitness'] - fitness_min) / (fitness_max - fitness_min)\n",
    "\n",
    "output_dir = 'gvpmut'\n",
    "os.makedirs(output_dir, exist_ok=True)\n",
    "\n",
    "conditions = [\n",
    "    (1, '-1_single', '-1_multi'),\n",
    "    (2, '-2_single', '-2_multi'),\n",
    "    (3, '-3_single', '-3_multi'),\n",
    "]\n",
    "\n",
    "\n",
    "wt_row = df[df['mutant'] == 'WT']\n",
    "\n",
    "\n",
    "for threshold, single_suffix, multi_suffix in conditions:\n",
    "    \n",
    "    df_single = df[df['n_mut'] <= threshold]\n",
    "    df_multi = df[df['n_mut'] > threshold]\n",
    "    \n",
    "    \n",
    "    df_multi_with_wt = pd.concat([wt_row, df_multi], ignore_index=True)\n",
    "    \n",
    "     \n",
    "    df_single = df_single.rename(columns={\n",
    "        'mutant': 'mutant',\n",
    "        'sequence': 'seq',\n",
    "        'n_mut': 'n_mut',\n",
    "        'fitness': 'log_fitness'\n",
    "    })\n",
    "    df_multi_with_wt = df_multi_with_wt.rename(columns={\n",
    "        'mutant': 'mutant',\n",
    "        'sequence': 'seq',\n",
    "        'n_mut': 'n_mut',\n",
    "        'fitness': 'log_fitness'\n",
    "    })\n",
    "    \n",
    "    base_name = os.path.splitext(filename)[0]\n",
    "    single_filename = f\"{base_name}{single_suffix}.csv\"\n",
    "    multi_filename = f\"{base_name}{multi_suffix}.csv\"\n",
    "    \n",
    "  \n",
    "    df_single.to_csv(os.path.join(output_dir, single_filename), index=False)\n",
    "    df_multi_with_wt.to_csv(os.path.join(output_dir, multi_filename), index=False)\n",
    "\n",
    "print(\"Finish\")\n"
   ]
  }
 ],
 "metadata": {
  "kernelspec": {
   "display_name": "bio-benchmarks",
   "language": "python",
   "name": "python3"
  },
  "language_info": {
   "codemirror_mode": {
    "name": "ipython",
    "version": 3
   },
   "file_extension": ".py",
   "mimetype": "text/x-python",
   "name": "python",
   "nbconvert_exporter": "python",
   "pygments_lexer": "ipython3",
   "version": "3.9.5"
  }
 },
 "nbformat": 4,
 "nbformat_minor": 2
}
