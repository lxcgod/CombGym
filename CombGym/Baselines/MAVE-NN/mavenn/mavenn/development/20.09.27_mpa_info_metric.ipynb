{
 "cells": [
  {
   "cell_type": "code",
   "execution_count": 1,
   "metadata": {},
   "outputs": [
    {
     "name": "stdout",
     "output_type": "stream",
     "text": [
      "['/Users/jkinney/github/mavenn/mavenn']\n"
     ]
    }
   ],
   "source": [
    "# Standard imports\n",
    "import pandas as pd\n",
    "import matplotlib.pyplot as plt\n",
    "import numpy as np\n",
    "import time\n",
    "import logomaker\n",
    "\n",
    "# Insert path to mavenn beginning of path\n",
    "import os\n",
    "import sys\n",
    "abs_path_to_mavenn = os.path.abspath('../../')\n",
    "sys.path.insert(0, abs_path_to_mavenn)\n",
    "\n",
    "# Load mavenn\n",
    "import mavenn\n",
    "print(mavenn.__path__)"
   ]
  },
  {
   "cell_type": "code",
   "execution_count": 2,
   "metadata": {},
   "outputs": [
    {
     "name": "stdout",
     "output_type": "stream",
     "text": [
      "training N: 45778\n"
     ]
    },
    {
     "data": {
      "text/html": [
       "<div>\n",
       "<style scoped>\n",
       "    .dataframe tbody tr th:only-of-type {\n",
       "        vertical-align: middle;\n",
       "    }\n",
       "\n",
       "    .dataframe tbody tr th {\n",
       "        vertical-align: top;\n",
       "    }\n",
       "\n",
       "    .dataframe thead th {\n",
       "        text-align: right;\n",
       "    }\n",
       "</style>\n",
       "<table border=\"1\" class=\"dataframe\">\n",
       "  <thead>\n",
       "    <tr style=\"text-align: right;\">\n",
       "      <th></th>\n",
       "      <th>training_set</th>\n",
       "      <th>ct</th>\n",
       "      <th>y</th>\n",
       "      <th>x</th>\n",
       "    </tr>\n",
       "  </thead>\n",
       "  <tbody>\n",
       "    <tr>\n",
       "      <th>0</th>\n",
       "      <td>True</td>\n",
       "      <td>1</td>\n",
       "      <td>0</td>\n",
       "      <td>AAATTTACACTTTATGCATCAGACTCGTATGTTGTGTGG</td>\n",
       "    </tr>\n",
       "    <tr>\n",
       "      <th>1</th>\n",
       "      <td>False</td>\n",
       "      <td>1</td>\n",
       "      <td>0</td>\n",
       "      <td>AACTTAACAATTTATGCTTCCGACTCGTATATTCTGTGG</td>\n",
       "    </tr>\n",
       "    <tr>\n",
       "      <th>2</th>\n",
       "      <td>True</td>\n",
       "      <td>1</td>\n",
       "      <td>0</td>\n",
       "      <td>AACTTTACACTATATGCGTCAGGCTCGTATGTTGTGTGG</td>\n",
       "    </tr>\n",
       "    <tr>\n",
       "      <th>3</th>\n",
       "      <td>False</td>\n",
       "      <td>1</td>\n",
       "      <td>0</td>\n",
       "      <td>AACTTTACACTGTATGCTTCCGTCTCCTATGTTGTGTGG</td>\n",
       "    </tr>\n",
       "    <tr>\n",
       "      <th>4</th>\n",
       "      <td>False</td>\n",
       "      <td>2</td>\n",
       "      <td>0</td>\n",
       "      <td>AACTTTACACTTGATGCTTCCGGCTCGTATGTTGTGTAG</td>\n",
       "    </tr>\n",
       "  </tbody>\n",
       "</table>\n",
       "</div>"
      ],
      "text/plain": [
       "   training_set  ct  y                                        x\n",
       "0          True   1  0  AAATTTACACTTTATGCATCAGACTCGTATGTTGTGTGG\n",
       "1         False   1  0  AACTTAACAATTTATGCTTCCGACTCGTATATTCTGTGG\n",
       "2          True   1  0  AACTTTACACTATATGCGTCAGGCTCGTATGTTGTGTGG\n",
       "3         False   1  0  AACTTTACACTGTATGCTTCCGTCTCCTATGTTGTGTGG\n",
       "4         False   2  0  AACTTTACACTTGATGCTTCCGGCTCGTATGTTGTGTAG"
      ]
     },
     "execution_count": 2,
     "metadata": {},
     "output_type": "execute_result"
    }
   ],
   "source": [
    "# Load example data\n",
    "data_df = mavenn.load_example_dataset('sortseq')\n",
    "print(f'training N: {len(data_df)}')\n",
    "data_df.head()"
   ]
  },
  {
   "cell_type": "code",
   "execution_count": 3,
   "metadata": {},
   "outputs": [
    {
     "data": {
      "text/plain": [
       "39"
      ]
     },
     "execution_count": 3,
     "metadata": {},
     "output_type": "execute_result"
    }
   ],
   "source": [
    "ix = data_df['training_set']\n",
    "train_df = data_df[ix].reset_index(drop=True)\n",
    "test_df = data_df[~ix].reset_index(drop=True)\n",
    "L = len(train_df['x'][0])\n",
    "L"
   ]
  },
  {
   "cell_type": "code",
   "execution_count": 4,
   "metadata": {},
   "outputs": [
    {
     "name": "stdout",
     "output_type": "stream",
     "text": [
      "L=39, Y=10\n",
      "N training: 3,652\n",
      "N test: 926\n"
     ]
    }
   ],
   "source": [
    "# Comptue sequence length and number of bins\n",
    "L = len(data_df['x'][0])\n",
    "Y = len(set(data_df['y']))\n",
    "print(f'L={L}, Y={Y}')\n",
    "\n",
    "# Split into training and test data\n",
    "ix = data_df['training_set']\n",
    "training_df = data_df[ix].copy()\n",
    "training_df.reset_index(inplace=True)\n",
    "test_df = data_df[~ix].copy()\n",
    "test_df.reset_index(inplace=True)\n",
    "print(f'N training: {len(training_df)/Y:,.0f}')\n",
    "print(f'N test: {len(test_df)/Y:,.0f}')"
   ]
  },
  {
   "cell_type": "code",
   "execution_count": 5,
   "metadata": {},
   "outputs": [],
   "source": [
    "refit_model = False\n",
    "if refit_model:\n",
    "\n",
    "    # Set seeed\n",
    "    mavenn.set_seed(0)\n",
    "\n",
    "    # Define model\n",
    "    model = mavenn.Model(regression_type='MPA',\n",
    "                         L=L,\n",
    "                         Y=Y,\n",
    "                         alphabet='dna',\n",
    "                         gpmap_type='additive',\n",
    "                         na_hidden_nodes=50,\n",
    "                         eta_regularization=0.01,\n",
    "                         theta_regularization=0.01,\n",
    "                         )\n",
    "\n",
    "    # Where is ct_n?\n",
    "    model.set_data(x=training_df['x'],\n",
    "                   y=training_df['y'],\n",
    "                   ct_n=training_df['ct'])\n",
    "\n",
    "    # Fit model to data\n",
    "    history = model.fit(learning_rate=.005,\n",
    "                        epochs=1000,\n",
    "                        early_stopping=True,\n",
    "                        early_stopping_patience=10)\n",
    "\n",
    "    # Save model\n",
    "    model.save('sortseq_mpa_additive')"
   ]
  },
  {
   "cell_type": "code",
   "execution_count": 6,
   "metadata": {},
   "outputs": [
    {
     "name": "stdout",
     "output_type": "stream",
     "text": [
      "Model loaded from these files:\n",
      "\tsortseq_mpa_additive.pickle\n",
      "\tsortseq_mpa_additive.h5\n"
     ]
    }
   ],
   "source": [
    "# Load model\n",
    "model = mavenn.load('sortseq_mpa_additive')"
   ]
  },
  {
   "cell_type": "code",
   "execution_count": 7,
   "metadata": {},
   "outputs": [
    {
     "data": {
      "image/png": "[encoded data removed]",
      "text/plain": [
       "<Figure size 864x288 with 3 Axes>"
      ]
     },
     "metadata": {
      "needs_background": "light"
     },
     "output_type": "display_data"
    }
   ],
   "source": [
    "# Get G-P map parameters\n",
    "theta_dict = model.get_theta(gauge='uniform')\n",
    "\n",
    "# Get additive parameters suitable for logomaker\n",
    "theta_logomaker_df = theta_dict['logomaker_df']\n",
    "\n",
    "# Create grid in phi space\n",
    "phi_lim = [-5, 3]\n",
    "phi_grid = np.linspace(phi_lim[0], phi_lim[1], 1000)\n",
    "\n",
    "# Create array of allowable y values\n",
    "Y = model.model.Y    # Y = number of bins\n",
    "y_lim = [-.5, Y-.5]\n",
    "y_all = range(Y)\n",
    "\n",
    "# Compute matrix of p(y|phi) values\n",
    "measurement_process = model.p_of_y_given_phi(y_all, phi_grid)\n",
    "\n",
    "# Create figure with two panels\n",
    "fig, axs = plt.subplots(1,2,figsize=[12,4])\n",
    "\n",
    "# Left panel: draw logo using logomaker\n",
    "ax = axs[0]\n",
    "logo = logomaker.Logo(theta_logomaker_df, ax=ax)\n",
    "ax.set_ylabel(r'parameter value ($\\theta_{l:c}$)')\n",
    "ax.set_xlabel(r'position ($l$)')\n",
    "ax.set_title('G-P map parameters')\n",
    "\n",
    "# Right panel: draw measurement process as heatmap\n",
    "ax = axs[1]\n",
    "im = ax.imshow(measurement_process,\n",
    "               cmap='Greens',\n",
    "               extent=phi_lim+y_lim,\n",
    "               vmin=0,\n",
    "               origin='lower',\n",
    "               interpolation='nearest',\n",
    "               aspect=\"auto\")\n",
    "ax.set_yticks(y_all)\n",
    "ax.set_ylabel('bin number (y)')\n",
    "ax.set_xlabel('latent phenotype ($\\phi$)')\n",
    "ax.set_title('measurement process')\n",
    "cb = plt.colorbar(im)\n",
    "cb.set_label('probability  $p(y|\\phi)$', rotation=-90, va=\"bottom\")\n",
    "\n",
    "# Fix up plot\n",
    "fig.tight_layout(w_pad=3)\n",
    "fig.savefig('sortseq_mpa_visualization.png')\n",
    "plt.show()"
   ]
  },
  {
   "cell_type": "code",
   "execution_count": 8,
   "metadata": {},
   "outputs": [
    {
     "name": "stdout",
     "output_type": "stream",
     "text": [
      "I_pred_test: 0.413 +- 0.014 bits\n",
      "I_var_test: 0.329 +- 0.008 bits\n"
     ]
    },
    {
     "data": {
      "text/plain": [
       "Text(0, 0.5, 'bits')"
      ]
     },
     "execution_count": 8,
     "metadata": {},
     "output_type": "execute_result"
    },
    {
     "data": {
      "image/png": "[encoded data removed]",
      "text/plain": [
       "<Figure size 288x288 with 1 Axes>"
      ]
     },
     "metadata": {
      "needs_background": "light"
     },
     "output_type": "display_data"
    }
   ],
   "source": [
    "# Compute predictive information on test data\n",
    "I_pred_test, dI_pred_test =  model.I_predictive(x=test_df['x'], \n",
    "                                          y=test_df['y'], \n",
    "                                          ct=test_df['ct'])\n",
    "print(f'I_pred_test: {I_pred_test:.3f} +- {dI_pred_test:.3f} bits') \n",
    "\n",
    "# Compute loss information on test data\n",
    "I_var_test, dI_var_test =  model.I_varlihood(x=test_df['x'], \n",
    "                                          y=test_df['y'], \n",
    "                                          ct=test_df['ct'])\n",
    "print(f'I_var_test: {I_var_test:.3f} +- {dI_var_test:.3f} bits') \n",
    "\n",
    "# Get loss information history\n",
    "I_var = model.history['I_var']\n",
    "val_I_var = model.history['val_I_var']\n",
    "\n",
    "fig, ax = plt.subplots(1,1,figsize=[4,4])\n",
    "ax.plot(I_var, label='I_var_train')\n",
    "ax.plot(val_I_var, label='I_var_val')\n",
    "ax.set_ylim([0,.5])\n",
    "ax.axhline(I_var_test, color='C2', linestyle=':', label='I_var_test')\n",
    "ax.axhline(I_pred_test, color='C3', linestyle=':', label='I_pred_test')\n",
    "ax.legend()\n",
    "ax.set_xlabel('epochs')\n",
    "ax.set_ylabel('bits')"
   ]
  },
  {
   "cell_type": "code",
   "execution_count": 9,
   "metadata": {},
   "outputs": [
    {
     "name": "stdout",
     "output_type": "stream",
     "text": [
      "Simulation N: 12349\n"
     ]
    },
    {
     "data": {
      "text/html": [
       "<div>\n",
       "<style scoped>\n",
       "    .dataframe tbody tr th:only-of-type {\n",
       "        vertical-align: middle;\n",
       "    }\n",
       "\n",
       "    .dataframe tbody tr th {\n",
       "        vertical-align: top;\n",
       "    }\n",
       "\n",
       "    .dataframe thead th {\n",
       "        text-align: right;\n",
       "    }\n",
       "</style>\n",
       "<table border=\"1\" class=\"dataframe\">\n",
       "  <thead>\n",
       "    <tr style=\"text-align: right;\">\n",
       "      <th></th>\n",
       "      <th>training_set</th>\n",
       "      <th>phi</th>\n",
       "      <th>y</th>\n",
       "      <th>ct</th>\n",
       "      <th>x</th>\n",
       "    </tr>\n",
       "  </thead>\n",
       "  <tbody>\n",
       "    <tr>\n",
       "      <th>0</th>\n",
       "      <td>True</td>\n",
       "      <td>0.735428</td>\n",
       "      <td>8</td>\n",
       "      <td>13</td>\n",
       "      <td>GGCTTTACACTTTATGCTTCCGGCTCGTATGTTGTGTGG</td>\n",
       "    </tr>\n",
       "    <tr>\n",
       "      <th>1</th>\n",
       "      <td>True</td>\n",
       "      <td>0.735428</td>\n",
       "      <td>9</td>\n",
       "      <td>11</td>\n",
       "      <td>GGCTTTACACTTTATGCTTCCGGCTCGTATGTTGTGTGG</td>\n",
       "    </tr>\n",
       "    <tr>\n",
       "      <th>2</th>\n",
       "      <td>True</td>\n",
       "      <td>0.735428</td>\n",
       "      <td>7</td>\n",
       "      <td>11</td>\n",
       "      <td>GGCTTTACACTTTATGCTTCCGGCTCGTATGTTGTGTGG</td>\n",
       "    </tr>\n",
       "    <tr>\n",
       "      <th>3</th>\n",
       "      <td>True</td>\n",
       "      <td>0.735428</td>\n",
       "      <td>0</td>\n",
       "      <td>8</td>\n",
       "      <td>GGCTTTACACTTTATGCTTCCGGCTCGTATGTTGTGTGG</td>\n",
       "    </tr>\n",
       "    <tr>\n",
       "      <th>4</th>\n",
       "      <td>True</td>\n",
       "      <td>0.735428</td>\n",
       "      <td>6</td>\n",
       "      <td>6</td>\n",
       "      <td>GGCTTTACACTTTATGCTTCCGGCTCGTATGTTGTGTGG</td>\n",
       "    </tr>\n",
       "    <tr>\n",
       "      <th>...</th>\n",
       "      <td>...</td>\n",
       "      <td>...</td>\n",
       "      <td>...</td>\n",
       "      <td>...</td>\n",
       "      <td>...</td>\n",
       "    </tr>\n",
       "    <tr>\n",
       "      <th>12186</th>\n",
       "      <td>True</td>\n",
       "      <td>-0.383148</td>\n",
       "      <td>9</td>\n",
       "      <td>1</td>\n",
       "      <td>GGCTTCACACTTTATGCGTCCGGCTCGTATGTTGGGCGG</td>\n",
       "    </tr>\n",
       "    <tr>\n",
       "      <th>12187</th>\n",
       "      <td>False</td>\n",
       "      <td>-0.169698</td>\n",
       "      <td>2</td>\n",
       "      <td>1</td>\n",
       "      <td>GGCTTCACACTTTATGCTACCGGCTCGTATGTTGTGTGG</td>\n",
       "    </tr>\n",
       "    <tr>\n",
       "      <th>12188</th>\n",
       "      <td>False</td>\n",
       "      <td>-0.000520</td>\n",
       "      <td>1</td>\n",
       "      <td>1</td>\n",
       "      <td>GGCTTCACACTTTATGCTACTGGCGCATATGTTGTGTGG</td>\n",
       "    </tr>\n",
       "    <tr>\n",
       "      <th>12189</th>\n",
       "      <td>False</td>\n",
       "      <td>0.367282</td>\n",
       "      <td>7</td>\n",
       "      <td>1</td>\n",
       "      <td>GGCTTCACACTTTATGCTGCCGGTTTGTATGCTGTTTGG</td>\n",
       "    </tr>\n",
       "    <tr>\n",
       "      <th>12190</th>\n",
       "      <td>True</td>\n",
       "      <td>-0.618008</td>\n",
       "      <td>2</td>\n",
       "      <td>1</td>\n",
       "      <td>TTTTTTCCACTTTATGCTTCCCGCTCGTATGTTGTGTGG</td>\n",
       "    </tr>\n",
       "  </tbody>\n",
       "</table>\n",
       "<p>12191 rows × 5 columns</p>\n",
       "</div>"
      ],
      "text/plain": [
       "       training_set       phi  y  ct                                        x\n",
       "0              True  0.735428  8  13  GGCTTTACACTTTATGCTTCCGGCTCGTATGTTGTGTGG\n",
       "1              True  0.735428  9  11  GGCTTTACACTTTATGCTTCCGGCTCGTATGTTGTGTGG\n",
       "2              True  0.735428  7  11  GGCTTTACACTTTATGCTTCCGGCTCGTATGTTGTGTGG\n",
       "3              True  0.735428  0   8  GGCTTTACACTTTATGCTTCCGGCTCGTATGTTGTGTGG\n",
       "4              True  0.735428  6   6  GGCTTTACACTTTATGCTTCCGGCTCGTATGTTGTGTGG\n",
       "...             ...       ... ..  ..                                      ...\n",
       "12186          True -0.383148  9   1  GGCTTCACACTTTATGCGTCCGGCTCGTATGTTGGGCGG\n",
       "12187         False -0.169698  2   1  GGCTTCACACTTTATGCTACCGGCTCGTATGTTGTGTGG\n",
       "12188         False -0.000520  1   1  GGCTTCACACTTTATGCTACTGGCGCATATGTTGTGTGG\n",
       "12189         False  0.367282  7   1  GGCTTCACACTTTATGCTGCCGGTTTGTATGCTGTTTGG\n",
       "12190          True -0.618008  2   1  TTTTTTCCACTTTATGCTTCCCGCTCGTATGTTGTGTGG\n",
       "\n",
       "[12191 rows x 5 columns]"
      ]
     },
     "execution_count": 9,
     "metadata": {},
     "output_type": "execute_result"
    }
   ],
   "source": [
    "N = int(test_df['ct'].sum())\n",
    "print(f'Simulation N: {N}')\n",
    "sim_df = model.simulate_dataset(N)\n",
    "sim_df"
   ]
  },
  {
   "cell_type": "code",
   "execution_count": 10,
   "metadata": {},
   "outputs": [
    {
     "data": {
      "text/html": [
       "<div>\n",
       "<style scoped>\n",
       "    .dataframe tbody tr th:only-of-type {\n",
       "        vertical-align: middle;\n",
       "    }\n",
       "\n",
       "    .dataframe tbody tr th {\n",
       "        vertical-align: top;\n",
       "    }\n",
       "\n",
       "    .dataframe thead th {\n",
       "        text-align: right;\n",
       "    }\n",
       "</style>\n",
       "<table border=\"1\" class=\"dataframe\">\n",
       "  <thead>\n",
       "    <tr style=\"text-align: right;\">\n",
       "      <th></th>\n",
       "      <th>training_set</th>\n",
       "      <th>phi</th>\n",
       "      <th>y</th>\n",
       "      <th>ct</th>\n",
       "      <th>x</th>\n",
       "    </tr>\n",
       "  </thead>\n",
       "  <tbody>\n",
       "    <tr>\n",
       "      <th>0</th>\n",
       "      <td>True</td>\n",
       "      <td>0.735428</td>\n",
       "      <td>8</td>\n",
       "      <td>13</td>\n",
       "      <td>GGCTTTACACTTTATGCTTCCGGCTCGTATGTTGTGTGG</td>\n",
       "    </tr>\n",
       "    <tr>\n",
       "      <th>2</th>\n",
       "      <td>True</td>\n",
       "      <td>0.735428</td>\n",
       "      <td>7</td>\n",
       "      <td>11</td>\n",
       "      <td>GGCTTTACACTTTATGCTTCCGGCTCGTATGTTGTGTGG</td>\n",
       "    </tr>\n",
       "    <tr>\n",
       "      <th>1</th>\n",
       "      <td>True</td>\n",
       "      <td>0.735428</td>\n",
       "      <td>9</td>\n",
       "      <td>11</td>\n",
       "      <td>GGCTTTACACTTTATGCTTCCGGCTCGTATGTTGTGTGG</td>\n",
       "    </tr>\n",
       "    <tr>\n",
       "      <th>3</th>\n",
       "      <td>True</td>\n",
       "      <td>0.735428</td>\n",
       "      <td>0</td>\n",
       "      <td>8</td>\n",
       "      <td>GGCTTTACACTTTATGCTTCCGGCTCGTATGTTGTGTGG</td>\n",
       "    </tr>\n",
       "    <tr>\n",
       "      <th>4</th>\n",
       "      <td>True</td>\n",
       "      <td>0.735428</td>\n",
       "      <td>6</td>\n",
       "      <td>6</td>\n",
       "      <td>GGCTTTACACTTTATGCTTCCGGCTCGTATGTTGTGTGG</td>\n",
       "    </tr>\n",
       "    <tr>\n",
       "      <th>...</th>\n",
       "      <td>...</td>\n",
       "      <td>...</td>\n",
       "      <td>...</td>\n",
       "      <td>...</td>\n",
       "      <td>...</td>\n",
       "    </tr>\n",
       "    <tr>\n",
       "      <th>4129</th>\n",
       "      <td>True</td>\n",
       "      <td>-0.653555</td>\n",
       "      <td>4</td>\n",
       "      <td>1</td>\n",
       "      <td>TGCTTTAGACTTTTTTGTTCCGGCTCGTATGTTGTGTGG</td>\n",
       "    </tr>\n",
       "    <tr>\n",
       "      <th>4130</th>\n",
       "      <td>True</td>\n",
       "      <td>0.521524</td>\n",
       "      <td>6</td>\n",
       "      <td>1</td>\n",
       "      <td>TGCTTTAGAGTTTATGTTTCTGGCTGGTATGTTGTGCGG</td>\n",
       "    </tr>\n",
       "    <tr>\n",
       "      <th>4131</th>\n",
       "      <td>True</td>\n",
       "      <td>-1.156647</td>\n",
       "      <td>2</td>\n",
       "      <td>1</td>\n",
       "      <td>TGCTTTACTCTTTATGCGTCCGGCTCGTTGGTTATGTGG</td>\n",
       "    </tr>\n",
       "    <tr>\n",
       "      <th>4132</th>\n",
       "      <td>True</td>\n",
       "      <td>0.524138</td>\n",
       "      <td>4</td>\n",
       "      <td>1</td>\n",
       "      <td>TGCTTTACTCTTTATGCCTCCGACTCGTATGGTGTGTGG</td>\n",
       "    </tr>\n",
       "    <tr>\n",
       "      <th>12190</th>\n",
       "      <td>True</td>\n",
       "      <td>-0.618008</td>\n",
       "      <td>2</td>\n",
       "      <td>1</td>\n",
       "      <td>TTTTTTCCACTTTATGCTTCCCGCTCGTATGTTGTGTGG</td>\n",
       "    </tr>\n",
       "  </tbody>\n",
       "</table>\n",
       "<p>12191 rows × 5 columns</p>\n",
       "</div>"
      ],
      "text/plain": [
       "       training_set       phi  y  ct                                        x\n",
       "0              True  0.735428  8  13  GGCTTTACACTTTATGCTTCCGGCTCGTATGTTGTGTGG\n",
       "2              True  0.735428  7  11  GGCTTTACACTTTATGCTTCCGGCTCGTATGTTGTGTGG\n",
       "1              True  0.735428  9  11  GGCTTTACACTTTATGCTTCCGGCTCGTATGTTGTGTGG\n",
       "3              True  0.735428  0   8  GGCTTTACACTTTATGCTTCCGGCTCGTATGTTGTGTGG\n",
       "4              True  0.735428  6   6  GGCTTTACACTTTATGCTTCCGGCTCGTATGTTGTGTGG\n",
       "...             ...       ... ..  ..                                      ...\n",
       "4129           True -0.653555  4   1  TGCTTTAGACTTTTTTGTTCCGGCTCGTATGTTGTGTGG\n",
       "4130           True  0.521524  6   1  TGCTTTAGAGTTTATGTTTCTGGCTGGTATGTTGTGCGG\n",
       "4131           True -1.156647  2   1  TGCTTTACTCTTTATGCGTCCGGCTCGTTGGTTATGTGG\n",
       "4132           True  0.524138  4   1  TGCTTTACTCTTTATGCCTCCGACTCGTATGGTGTGTGG\n",
       "12190          True -0.618008  2   1  TTTTTTCCACTTTATGCTTCCCGCTCGTATGTTGTGTGG\n",
       "\n",
       "[12191 rows x 5 columns]"
      ]
     },
     "execution_count": 10,
     "metadata": {},
     "output_type": "execute_result"
    }
   ],
   "source": [
    "sim_df.sort_values(by='ct', inplace=True, ascending=False)\n",
    "sim_df"
   ]
  },
  {
   "cell_type": "code",
   "execution_count": null,
   "metadata": {},
   "outputs": [],
   "source": []
  }
 ],
 "metadata": {
  "kernelspec": {
   "display_name": "Python 3",
   "language": "python",
   "name": "python3"
  },
  "language_info": {
   "codemirror_mode": {
    "name": "ipython",
    "version": 3
   },
   "file_extension": ".py",
   "mimetype": "text/x-python",
   "name": "python",
   "nbconvert_exporter": "python",
   "pygments_lexer": "ipython3",
   "version": "3.7.4"
  }
 },
 "nbformat": 4,
 "nbformat_minor": 2
}
