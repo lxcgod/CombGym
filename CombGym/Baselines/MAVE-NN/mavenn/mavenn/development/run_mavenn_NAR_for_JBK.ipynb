{
 "cells": [
  {
   "cell_type": "code",
   "execution_count": 1,
   "metadata": {
    "collapsed": true
   },
   "outputs": [],
   "source": [
    "import pandas as pd\n",
    "import matplotlib.pyplot as plt\n",
    "import numpy as np\n",
    "from sklearn.model_selection import train_test_split\n",
    "\n",
    "import warnings\n",
    "warnings.filterwarnings(\"ignore\")\n",
    "\n",
    "\n",
    "import sys\n",
    "path_to_mavenn_local = '/Users/tareen/Desktop/Research_Projects/2020_mavenn_github/mavenn_local'\n",
    "sys.path.insert(0,path_to_mavenn_local)\n",
    "\n",
    "import mavenn\n",
    "from mavenn.src.utils import get_example_dataset"
   ]
  },
  {
   "cell_type": "code",
   "execution_count": 2,
   "metadata": {
    "collapsed": true,
    "scrolled": false
   },
   "outputs": [],
   "source": [
    "#mavenn.demo(name='NAsortseq')"
   ]
  },
  {
   "cell_type": "code",
   "execution_count": 3,
   "metadata": {
    "collapsed": true
   },
   "outputs": [],
   "source": [
    "sequences, bin_counts = get_example_dataset(name='Sort-Seq')"
   ]
  },
  {
   "cell_type": "code",
   "execution_count": 4,
   "metadata": {},
   "outputs": [
    {
     "data": {
      "text/plain": [
       "(50518, 10)"
      ]
     },
     "execution_count": 4,
     "metadata": {},
     "output_type": "execute_result"
    }
   ],
   "source": [
    "bin_counts.shape"
   ]
  },
  {
   "cell_type": "code",
   "execution_count": 5,
   "metadata": {},
   "outputs": [
    {
     "name": "stdout",
     "output_type": "stream",
     "text": [
      "Train on 40414 samples, validate on 10104 samples\n",
      "Epoch 1/30\n",
      "40414/40414 [==============================] - 2s 38us/step - loss: 1.0915 - val_loss: 1.0903\n",
      "Epoch 2/30\n",
      "40414/40414 [==============================] - 1s 29us/step - loss: 1.0891 - val_loss: 1.0887\n",
      "Epoch 3/30\n",
      "40414/40414 [==============================] - 1s 35us/step - loss: 1.0885 - val_loss: 1.0884\n",
      "Epoch 4/30\n",
      "40414/40414 [==============================] - 1s 31us/step - loss: 1.0884 - val_loss: 1.0887\n",
      "Epoch 5/30\n",
      "40414/40414 [==============================] - 1s 31us/step - loss: 1.0884 - val_loss: 1.0883\n",
      "Epoch 6/30\n",
      "40414/40414 [==============================] - 1s 32us/step - loss: 1.0884 - val_loss: 1.0883\n",
      "Epoch 7/30\n",
      "40414/40414 [==============================] - 1s 33us/step - loss: 1.0883 - val_loss: 1.0883\n",
      "Epoch 8/30\n",
      "40414/40414 [==============================] - 1s 31us/step - loss: 1.0883 - val_loss: 1.0888\n",
      "Epoch 9/30\n",
      "40414/40414 [==============================] - 1s 34us/step - loss: 1.0883 - val_loss: 1.0885\n",
      "Epoch 10/30\n",
      "40414/40414 [==============================] - 1s 31us/step - loss: 1.0883 - val_loss: 1.0883\n",
      "Epoch 11/30\n",
      "40414/40414 [==============================] - 1s 32us/step - loss: 1.0883 - val_loss: 1.0883\n",
      "Epoch 12/30\n",
      "40414/40414 [==============================] - 1s 32us/step - loss: 1.0883 - val_loss: 1.0886\n",
      "Epoch 13/30\n",
      "40414/40414 [==============================] - 1s 33us/step - loss: 1.0883 - val_loss: 1.0882\n",
      "Epoch 14/30\n",
      "40414/40414 [==============================] - 1s 32us/step - loss: 1.0883 - val_loss: 1.0882\n",
      "Epoch 15/30\n",
      "40414/40414 [==============================] - 1s 32us/step - loss: 1.0883 - val_loss: 1.0882\n",
      "Epoch 16/30\n",
      "40414/40414 [==============================] - 1s 34us/step - loss: 1.0883 - val_loss: 1.0885\n",
      "Epoch 17/30\n",
      "40414/40414 [==============================] - 1s 32us/step - loss: 1.0883 - val_loss: 1.0883\n",
      "Epoch 18/30\n",
      "40414/40414 [==============================] - 1s 36us/step - loss: 1.0883 - val_loss: 1.0884\n",
      "Epoch 19/30\n",
      "40414/40414 [==============================] - 1s 35us/step - loss: 1.0883 - val_loss: 1.0884\n"
     ]
    },
    {
     "data": {
      "text/plain": [
       "<tensorflow.python.keras.callbacks.History at 0x1324b8048>"
      ]
     },
     "execution_count": 5,
     "metadata": {},
     "output_type": "execute_result"
    }
   ],
   "source": [
    "NAR = mavenn.Model(regression_type='NA',\n",
    "                   X=sequences, \n",
    "                   y=bin_counts, \n",
    "                   gpmap_type='additive',\n",
    "                   monotonic=False,\n",
    "                   learning_rate=0.001,\n",
    "                   alphabet='dna',\n",
    "                   ohe_single_batch_size=50000)\n",
    "\n",
    "NAR.fit(epochs=30, \n",
    "        early_stopping=True, \n",
    "        early_stopping_patience=5, \n",
    "        verbose=1)"
   ]
  },
  {
   "cell_type": "code",
   "execution_count": 6,
   "metadata": {
    "collapsed": true
   },
   "outputs": [],
   "source": [
    "loss_history = NAR.model.history"
   ]
  },
  {
   "cell_type": "code",
   "execution_count": 7,
   "metadata": {},
   "outputs": [
    {
     "data": {
      "image/png": "[encoded data removed]",
      "text/plain": [
       "<Figure size 432x288 with 1 Axes>"
      ]
     },
     "metadata": {
      "needs_background": "light"
     },
     "output_type": "display_data"
    }
   ],
   "source": [
    "plt.plot(loss_history.history['loss'], color='blue')\n",
    "plt.plot(loss_history.history['val_loss'], color='orange')\n",
    "plt.title('Model loss', fontsize=12)\n",
    "plt.ylabel('loss', fontsize=12)\n",
    "plt.xlabel('epoch', fontsize=12)\n",
    "plt.legend(['train', 'validation'])\n",
    "plt.show()"
   ]
  },
  {
   "cell_type": "code",
   "execution_count": 8,
   "metadata": {},
   "outputs": [
    {
     "name": "stdout",
     "output_type": "stream",
     "text": [
      "__________________________________________________________________________________________________\n",
      "Layer (type)                    Output Shape         Param #     Connected to                     \n",
      "==================================================================================================\n",
      "Sequence_labels_input (InputLay (None, 166)          0                                            \n",
      "__________________________________________________________________________________________________\n",
      "Sequence_only (Lambda)          (None, 156)          0           Sequence_labels_input[0][0]      \n",
      "__________________________________________________________________________________________________\n",
      "phiPrime (Dense)                (None, 1)            157         Sequence_only[0][0]              \n",
      "__________________________________________________________________________________________________\n",
      "fix_diffeomorphic_mode (fixDiff (None, 1)            0           phiPrime[0][0]                   \n",
      "__________________________________________________________________________________________________\n",
      "phi (Dense)                     (None, 1)            2           fix_diffeomorphic_mode[0][0]     \n",
      "__________________________________________________________________________________________________\n",
      "dense_1 (Dense)                 (None, 50)           100         phi[0][0]                        \n",
      "__________________________________________________________________________________________________\n",
      "yhat (Dense)                    (None, 10)           510         dense_1[0][0]                    \n",
      "__________________________________________________________________________________________________\n",
      "Labels_input (Lambda)           (None, 10)           0           Sequence_labels_input[0][0]      \n",
      "__________________________________________________________________________________________________\n",
      "yhat_and_y_to_ll (Concatenate)  (None, 20)           0           yhat[0][0]                       \n",
      "                                                                 Labels_input[0][0]               \n",
      "__________________________________________________________________________________________________\n",
      "na_likelihood_layer_1 (NALikeli (None, 10)           0           yhat_and_y_to_ll[0][0]           \n",
      "==================================================================================================\n",
      "Total params: 769\n",
      "Trainable params: 769\n",
      "Non-trainable params: 0\n",
      "__________________________________________________________________________________________________\n"
     ]
    }
   ],
   "source": [
    "NAR.get_nn().summary()"
   ]
  },
  {
   "cell_type": "code",
   "execution_count": 9,
   "metadata": {},
   "outputs": [
    {
     "data": {
      "text/plain": [
       "<tensorflow.python.keras.engine.training.Model at 0x13456d438>"
      ]
     },
     "execution_count": 9,
     "metadata": {},
     "output_type": "execute_result"
    }
   ],
   "source": [
    "NAR.get_nn()"
   ]
  },
  {
   "cell_type": "code",
   "execution_count": 10,
   "metadata": {},
   "outputs": [],
   "source": [
    "phi = NAR.gpmap(sequences)"
   ]
  },
  {
   "cell_type": "code",
   "execution_count": null,
   "metadata": {},
   "outputs": [],
   "source": []
  },
  {
   "cell_type": "code",
   "execution_count": 21,
   "metadata": {},
   "outputs": [
    {
     "data": {
      "text/plain": [
       "<logomaker.src.Logo.Logo at 0x13426a518>"
      ]
     },
     "execution_count": 21,
     "metadata": {},
     "output_type": "execute_result"
    },
    {
     "data": {
      "image/png": "[encoded data removed]",
      "text/plain": [
       "<Figure size 720x180 with 1 Axes>"
      ]
     },
     "metadata": {
      "needs_background": "light"
     },
     "output_type": "display_data"
    }
   ],
   "source": [
    "import logomaker\n",
    "theta_df = pd.DataFrame(NAR.get_nn().layers[2].get_weights()[0].reshape(39,4),columns=['A','C','G','T'])\n",
    "logomaker.Logo(theta_df,center_values=False)"
   ]
  },
  {
   "cell_type": "code",
   "execution_count": 12,
   "metadata": {
    "collapsed": true
   },
   "outputs": [],
   "source": [
    "phi_range = np.linspace(min(phi),max(phi),500)"
   ]
  },
  {
   "cell_type": "code",
   "execution_count": 13,
   "metadata": {
    "collapsed": true
   },
   "outputs": [],
   "source": [
    "noise_model = NAR.na_noisemodel(phi_range)"
   ]
  },
  {
   "cell_type": "code",
   "execution_count": 14,
   "metadata": {},
   "outputs": [
    {
     "data": {
      "text/plain": [
       "[Text(0.5, 0, '-8.30'), Text(20.5, 0, '-2'), Text(40.5, 0, '3.215')]"
      ]
     },
     "execution_count": 14,
     "metadata": {},
     "output_type": "execute_result"
    },
    {
     "data": {
      "image/png": "[encoded data removed]",
      "text/plain": [
       "<Figure size 432x288 with 2 Axes>"
      ]
     },
     "metadata": {
      "needs_background": "light"
     },
     "output_type": "display_data"
    }
   ],
   "source": [
    "import seaborn as sns\n",
    "fig, ax = plt.subplots(figsize=(6,4))\n",
    "if noise_model.T[noise_model.T.shape[0]-1][0]>noise_model.T[noise_model.T.shape[0]-1][noise_model.T.shape[1]-1]:\n",
    "    ax = sns.heatmap(pd.DataFrame(noise_model.T).loc[::1,::-1],cmap='Greens')\n",
    "else:\n",
    "    ax = sns.heatmap(noise_model.T,cmap='Greens')    \n",
    "ax.invert_yaxis()\n",
    "ax.set_xticks(([0,int(len(phi_range)/2),len(phi_range)-2]), minor=False)\n",
    "middle_tick = str(phi_range[int(len(phi_range)/2)])\n",
    "ax.set_xticklabels(([str(phi_range[0])[0:5],middle_tick[0:2],str(phi_range[len(phi_range)-1])[0:5]]), minor=False)"
   ]
  },
  {
   "cell_type": "code",
   "execution_count": 15,
   "metadata": {
    "collapsed": true
   },
   "outputs": [],
   "source": [
    "#noise_model_no_gf, phi_range_no_gf, latent_trait_no_gf = NAR.na_noisemodel(sequences, gauge_fix=False)"
   ]
  },
  {
   "cell_type": "code",
   "execution_count": 16,
   "metadata": {
    "collapsed": true
   },
   "outputs": [],
   "source": [
    "# fig, ax = plt.subplots(figsize=(6,4))\n",
    "# if noise_model.T[noise_model_no_gf.T.shape[0]-1][0]>noise_model_no_gf.T[noise_model_no_gf.T.shape[0]-1][noise_model_no_gf.T.shape[1]-1]:\n",
    "#     ax = sns.heatmap(pd.DataFrame(noise_model_no_gf.T).loc[::1,::-1],cmap='Greens')\n",
    "# else:\n",
    "#     ax = sns.heatmap(noise_model_no_gf.T,cmap='Greens')    \n",
    "# ax.invert_yaxis()\n",
    "# ax.set_xticks(([0,int(len(phi_range_no_gf)/2),len(phi_range_no_gf)-2]), minor=False)\n",
    "# middle_tick = str(phi_range_no_gf[int(len(phi_range_no_gf)/2)])\n",
    "# ax.set_xticklabels(([str(phi_range_no_gf[0])[0:5],middle_tick[0:5],str(phi_range_no_gf[len(phi_range)-1])[0:5]]), minor=False)"
   ]
  },
  {
   "cell_type": "code",
   "execution_count": 17,
   "metadata": {
    "collapsed": true
   },
   "outputs": [],
   "source": [
    "# theta_df = pd.DataFrame(NAR.return_theta().reshape(39,4),columns=['A','C','G','T'])\n",
    "# import logomaker\n",
    "# logomaker.Logo(theta_df)"
   ]
  },
  {
   "cell_type": "code",
   "execution_count": 18,
   "metadata": {},
   "outputs": [
    {
     "name": "stdout",
     "output_type": "stream",
     "text": [
      "0.3098808221646475\n"
     ]
    }
   ],
   "source": [
    "NAR.estimate_predictive_info(sequences,bin_counts)"
   ]
  },
  {
   "cell_type": "code",
   "execution_count": 22,
   "metadata": {
    "collapsed": true
   },
   "outputs": [],
   "source": [
    "from mavenn.src.utils import mi_mixed"
   ]
  },
  {
   "cell_type": "code",
   "execution_count": 24,
   "metadata": {
    "collapsed": true
   },
   "outputs": [],
   "source": [
    "y_hat = NAR.predict(sequences).reshape(-1,10)"
   ]
  },
  {
   "cell_type": "code",
   "execution_count": 34,
   "metadata": {},
   "outputs": [
    {
     "data": {
      "text/plain": [
       "(0.09266461153894312, 0.004791404096462745)"
      ]
     },
     "execution_count": 34,
     "metadata": {},
     "output_type": "execute_result"
    }
   ],
   "source": [
    "#mi_mixed(bin_counts.ravel()[0:50000], y_hat.ravel()[0:50000])"
   ]
  },
  {
   "cell_type": "code",
   "execution_count": null,
   "metadata": {},
   "outputs": [],
   "source": [
    "# #additive_model = K.function([model.layers[0].input],[model.layers[1].output])\n",
    "# phi = NAR.gpmap(sequences)\n",
    "# p_of_b_given_phi = NAR.na_noisemodel(phi)"
   ]
  },
  {
   "cell_type": "code",
   "execution_count": null,
   "metadata": {},
   "outputs": [],
   "source": [
    "# MI = 0\n",
    "\n",
    "# # M is total counts\n",
    "# M = np.sum(bin_counts)\n",
    "\n",
    "# # c_ib is counts of sequences i in bin b\n",
    "\n",
    "# # This is p(b), but need to double check\n",
    "# # i.e. fraciton of counts in bin i\n",
    "# p_of_b = np.sum(bin_counts,axis=0)/M\n",
    "\n",
    "# for sequence_index in range(len(sequences)):\n",
    "#     # compute file for a sequence\n",
    "#     #phi_i = additive_model([test_input_sequences_tensor2[sequence_index].reshape(-1,156)])[0][0]\n",
    "#     #phi_i = additive_model([test_input_sequences_tensor2[sequence_index].reshape(-1,156)])[0][0]\n",
    "    \n",
    "#     phi_i = phi[sequence_index]\n",
    "#     # compute p(bin|phi)\n",
    "#     #p_of_b_given_phi_i = noise_model.predict(phi_i)\n",
    "#     p_of_b_given_phi_i = p_of_b_given_phi[sequence_index]\n",
    "\n",
    "#     # MI summand summed over b\n",
    "#     MI+=np.sum(bin_counts[sequence_index]*np.log2((p_of_b_given_phi_i/p_of_b)))\n",
    "# print(MI/M)"
   ]
  },
  {
   "cell_type": "code",
   "execution_count": null,
   "metadata": {
    "collapsed": true
   },
   "outputs": [],
   "source": []
  }
 ],
 "metadata": {
  "kernelspec": {
   "display_name": "Python 3",
   "language": "python",
   "name": "python3"
  },
  "language_info": {
   "codemirror_mode": {
    "name": "ipython",
    "version": 3
   },
   "file_extension": ".py",
   "mimetype": "text/x-python",
   "name": "python",
   "nbconvert_exporter": "python",
   "pygments_lexer": "ipython3",
   "version": "3.6.7"
  }
 },
 "nbformat": 4,
 "nbformat_minor": 2
}
