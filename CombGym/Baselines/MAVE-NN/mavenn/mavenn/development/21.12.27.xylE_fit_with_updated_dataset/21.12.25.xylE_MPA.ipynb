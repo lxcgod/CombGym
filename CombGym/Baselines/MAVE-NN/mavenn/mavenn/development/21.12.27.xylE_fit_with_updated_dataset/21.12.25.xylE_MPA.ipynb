{
 "cells": [
  {
   "cell_type": "code",
   "execution_count": 1,
   "metadata": {
    "collapsed": true
   },
   "outputs": [],
   "source": [
    "import numpy as np\n",
    "import pandas as pd\n",
    "import matplotlib.pyplot as plt\n",
    "import sys\n",
    "sys.path.insert(0, '/Users/tareen/Desktop/Research_Projects/2020_mavenn_github/mavenn_git_ssh')\n",
    "\n",
    "import mavenn\n",
    "import logomaker\n",
    "import seaborn as sns\n",
    "import re\n",
    "\n",
    "%matplotlib inline"
   ]
  },
  {
   "cell_type": "code",
   "execution_count": 2,
   "metadata": {},
   "outputs": [
    {
     "data": {
      "text/plain": [
       "['/Users/tareen/Desktop/Research_Projects/2020_mavenn_github/mavenn_git_ssh/mavenn']"
      ]
     },
     "execution_count": 2,
     "metadata": {},
     "output_type": "execute_result"
    }
   ],
   "source": [
    "mavenn.__path__"
   ]
  },
  {
   "cell_type": "code",
   "execution_count": 3,
   "metadata": {},
   "outputs": [],
   "source": [
    "data_df = pd.read_csv('data_df_mut2.csv.gz')\n",
    "data_df.rename(columns={'x_full':'x'}, inplace=True)"
   ]
  },
  {
   "cell_type": "code",
   "execution_count": 4,
   "metadata": {},
   "outputs": [
    {
     "data": {
      "text/html": [
       "<div>\n",
       "<style scoped>\n",
       "    .dataframe tbody tr th:only-of-type {\n",
       "        vertical-align: middle;\n",
       "    }\n",
       "\n",
       "    .dataframe tbody tr th {\n",
       "        vertical-align: top;\n",
       "    }\n",
       "\n",
       "    .dataframe thead th {\n",
       "        text-align: right;\n",
       "    }\n",
       "</style>\n",
       "<table border=\"1\" class=\"dataframe\">\n",
       "  <thead>\n",
       "    <tr style=\"text-align: right;\">\n",
       "      <th></th>\n",
       "      <th>x</th>\n",
       "      <th>ct_0</th>\n",
       "      <th>ct_1</th>\n",
       "      <th>ct_2</th>\n",
       "      <th>ct_3</th>\n",
       "      <th>ct_4</th>\n",
       "      <th>ct_5</th>\n",
       "      <th>ct_6</th>\n",
       "      <th>ct_7</th>\n",
       "      <th>ct_8</th>\n",
       "      <th>ct_9</th>\n",
       "      <th>ct_10</th>\n",
       "      <th>ct_11</th>\n",
       "    </tr>\n",
       "  </thead>\n",
       "  <tbody>\n",
       "    <tr>\n",
       "      <th>0</th>\n",
       "      <td>CGGCAATAGTATTGTTTTTATCAATTTTGGATAATTATCACAATTA...</td>\n",
       "      <td>0</td>\n",
       "      <td>0</td>\n",
       "      <td>0</td>\n",
       "      <td>0</td>\n",
       "      <td>1</td>\n",
       "      <td>0</td>\n",
       "      <td>0</td>\n",
       "      <td>0</td>\n",
       "      <td>0</td>\n",
       "      <td>0</td>\n",
       "      <td>0</td>\n",
       "      <td>0</td>\n",
       "    </tr>\n",
       "    <tr>\n",
       "      <th>1</th>\n",
       "      <td>CGGCAATAGTATTGTTTTTATCAATTTTGGATAATTATCACAATTA...</td>\n",
       "      <td>0</td>\n",
       "      <td>0</td>\n",
       "      <td>0</td>\n",
       "      <td>0</td>\n",
       "      <td>1</td>\n",
       "      <td>0</td>\n",
       "      <td>0</td>\n",
       "      <td>0</td>\n",
       "      <td>0</td>\n",
       "      <td>0</td>\n",
       "      <td>0</td>\n",
       "      <td>0</td>\n",
       "    </tr>\n",
       "    <tr>\n",
       "      <th>2</th>\n",
       "      <td>CGGCAATAGTATTGTTTTTATCAATTTTGGATAATTATCACAATTA...</td>\n",
       "      <td>0</td>\n",
       "      <td>0</td>\n",
       "      <td>0</td>\n",
       "      <td>0</td>\n",
       "      <td>1</td>\n",
       "      <td>0</td>\n",
       "      <td>0</td>\n",
       "      <td>0</td>\n",
       "      <td>0</td>\n",
       "      <td>0</td>\n",
       "      <td>0</td>\n",
       "      <td>0</td>\n",
       "    </tr>\n",
       "    <tr>\n",
       "      <th>3</th>\n",
       "      <td>CGGCAATAGTATTGTTTTTATCAATTTTGGATAATTATCACAATTA...</td>\n",
       "      <td>0</td>\n",
       "      <td>0</td>\n",
       "      <td>0</td>\n",
       "      <td>0</td>\n",
       "      <td>1</td>\n",
       "      <td>0</td>\n",
       "      <td>0</td>\n",
       "      <td>0</td>\n",
       "      <td>0</td>\n",
       "      <td>0</td>\n",
       "      <td>0</td>\n",
       "      <td>0</td>\n",
       "    </tr>\n",
       "    <tr>\n",
       "      <th>4</th>\n",
       "      <td>CGGCAATAGTATTGTTTTTATCAATTTTGGATAATTATCACAATTA...</td>\n",
       "      <td>0</td>\n",
       "      <td>0</td>\n",
       "      <td>0</td>\n",
       "      <td>0</td>\n",
       "      <td>1</td>\n",
       "      <td>0</td>\n",
       "      <td>0</td>\n",
       "      <td>0</td>\n",
       "      <td>0</td>\n",
       "      <td>0</td>\n",
       "      <td>0</td>\n",
       "      <td>0</td>\n",
       "    </tr>\n",
       "    <tr>\n",
       "      <th>...</th>\n",
       "      <td>...</td>\n",
       "      <td>...</td>\n",
       "      <td>...</td>\n",
       "      <td>...</td>\n",
       "      <td>...</td>\n",
       "      <td>...</td>\n",
       "      <td>...</td>\n",
       "      <td>...</td>\n",
       "      <td>...</td>\n",
       "      <td>...</td>\n",
       "      <td>...</td>\n",
       "      <td>...</td>\n",
       "      <td>...</td>\n",
       "    </tr>\n",
       "    <tr>\n",
       "      <th>1379847</th>\n",
       "      <td>CGGCAATAGTATTGTTTTTATCAATTTTGGATAATTATCACAATTA...</td>\n",
       "      <td>0</td>\n",
       "      <td>0</td>\n",
       "      <td>0</td>\n",
       "      <td>0</td>\n",
       "      <td>0</td>\n",
       "      <td>0</td>\n",
       "      <td>0</td>\n",
       "      <td>1</td>\n",
       "      <td>0</td>\n",
       "      <td>0</td>\n",
       "      <td>0</td>\n",
       "      <td>0</td>\n",
       "    </tr>\n",
       "    <tr>\n",
       "      <th>1379848</th>\n",
       "      <td>CGGCAATAGTATTGTTTTTATCAATTTTGGATAATTATCACAATTA...</td>\n",
       "      <td>0</td>\n",
       "      <td>0</td>\n",
       "      <td>0</td>\n",
       "      <td>0</td>\n",
       "      <td>0</td>\n",
       "      <td>0</td>\n",
       "      <td>0</td>\n",
       "      <td>1</td>\n",
       "      <td>0</td>\n",
       "      <td>0</td>\n",
       "      <td>0</td>\n",
       "      <td>0</td>\n",
       "    </tr>\n",
       "    <tr>\n",
       "      <th>1379849</th>\n",
       "      <td>CGGCAATAGTATTGTTTTTATCAATTTTGGATAATTATCACAATTA...</td>\n",
       "      <td>0</td>\n",
       "      <td>0</td>\n",
       "      <td>0</td>\n",
       "      <td>0</td>\n",
       "      <td>0</td>\n",
       "      <td>0</td>\n",
       "      <td>0</td>\n",
       "      <td>1</td>\n",
       "      <td>0</td>\n",
       "      <td>0</td>\n",
       "      <td>0</td>\n",
       "      <td>0</td>\n",
       "    </tr>\n",
       "    <tr>\n",
       "      <th>1379850</th>\n",
       "      <td>CGGCAATAGTATTGTTTTTATCAATTTTGGATAATTATCACAATTA...</td>\n",
       "      <td>0</td>\n",
       "      <td>0</td>\n",
       "      <td>0</td>\n",
       "      <td>0</td>\n",
       "      <td>0</td>\n",
       "      <td>0</td>\n",
       "      <td>0</td>\n",
       "      <td>1</td>\n",
       "      <td>0</td>\n",
       "      <td>0</td>\n",
       "      <td>0</td>\n",
       "      <td>0</td>\n",
       "    </tr>\n",
       "    <tr>\n",
       "      <th>1379851</th>\n",
       "      <td>CGGCAATAGTATTGTTTTTATCAATTTTGGATAATTATCACAATTA...</td>\n",
       "      <td>0</td>\n",
       "      <td>0</td>\n",
       "      <td>0</td>\n",
       "      <td>0</td>\n",
       "      <td>0</td>\n",
       "      <td>0</td>\n",
       "      <td>0</td>\n",
       "      <td>1</td>\n",
       "      <td>0</td>\n",
       "      <td>0</td>\n",
       "      <td>0</td>\n",
       "      <td>0</td>\n",
       "    </tr>\n",
       "  </tbody>\n",
       "</table>\n",
       "<p>1379852 rows × 13 columns</p>\n",
       "</div>"
      ],
      "text/plain": [
       "                                                         x  ct_0  ct_1  ct_2  \\\n",
       "0        CGGCAATAGTATTGTTTTTATCAATTTTGGATAATTATCACAATTA...     0     0     0   \n",
       "1        CGGCAATAGTATTGTTTTTATCAATTTTGGATAATTATCACAATTA...     0     0     0   \n",
       "2        CGGCAATAGTATTGTTTTTATCAATTTTGGATAATTATCACAATTA...     0     0     0   \n",
       "3        CGGCAATAGTATTGTTTTTATCAATTTTGGATAATTATCACAATTA...     0     0     0   \n",
       "4        CGGCAATAGTATTGTTTTTATCAATTTTGGATAATTATCACAATTA...     0     0     0   \n",
       "...                                                    ...   ...   ...   ...   \n",
       "1379847  CGGCAATAGTATTGTTTTTATCAATTTTGGATAATTATCACAATTA...     0     0     0   \n",
       "1379848  CGGCAATAGTATTGTTTTTATCAATTTTGGATAATTATCACAATTA...     0     0     0   \n",
       "1379849  CGGCAATAGTATTGTTTTTATCAATTTTGGATAATTATCACAATTA...     0     0     0   \n",
       "1379850  CGGCAATAGTATTGTTTTTATCAATTTTGGATAATTATCACAATTA...     0     0     0   \n",
       "1379851  CGGCAATAGTATTGTTTTTATCAATTTTGGATAATTATCACAATTA...     0     0     0   \n",
       "\n",
       "         ct_3  ct_4  ct_5  ct_6  ct_7  ct_8  ct_9  ct_10  ct_11  \n",
       "0           0     1     0     0     0     0     0      0      0  \n",
       "1           0     1     0     0     0     0     0      0      0  \n",
       "2           0     1     0     0     0     0     0      0      0  \n",
       "3           0     1     0     0     0     0     0      0      0  \n",
       "4           0     1     0     0     0     0     0      0      0  \n",
       "...       ...   ...   ...   ...   ...   ...   ...    ...    ...  \n",
       "1379847     0     0     0     0     1     0     0      0      0  \n",
       "1379848     0     0     0     0     1     0     0      0      0  \n",
       "1379849     0     0     0     0     1     0     0      0      0  \n",
       "1379850     0     0     0     0     1     0     0      0      0  \n",
       "1379851     0     0     0     0     1     0     0      0      0  \n",
       "\n",
       "[1379852 rows x 13 columns]"
      ]
     },
     "execution_count": 4,
     "metadata": {},
     "output_type": "execute_result"
    }
   ],
   "source": [
    "data_df"
   ]
  },
  {
   "cell_type": "code",
   "execution_count": 5,
   "metadata": {
    "collapsed": true
   },
   "outputs": [],
   "source": [
    "np.random.seed(0)\n",
    "data_df['set'] = np.random.choice(a=['training','test','validation'], \n",
    "                                   p=[.6,.2,.2], \n",
    "                                   size=len(data_df))"
   ]
  },
  {
   "cell_type": "code",
   "execution_count": 6,
   "metadata": {},
   "outputs": [
    {
     "name": "stdout",
     "output_type": "stream",
     "text": [
      "test N: 275,818\n",
      "training + validation N: 1,104,034\n"
     ]
    }
   ],
   "source": [
    "# # Separate test from data_df\n",
    "ix_test = data_df['set']=='test'\n",
    "test_df = data_df[ix_test].reset_index(drop=True)\n",
    "print(f'test N: {len(test_df):,}')\n",
    "\n",
    "# Remove test data from data_df\n",
    "data_df = data_df[~ix_test].reset_index(drop=True)\n",
    "print(f'training + validation N: {len(data_df):,}')"
   ]
  },
  {
   "cell_type": "code",
   "execution_count": 7,
   "metadata": {},
   "outputs": [
    {
     "name": "stdout",
     "output_type": "stream",
     "text": [
      "L=150, Y=12\n"
     ]
    }
   ],
   "source": [
    "# Comptue sequence length and number of bins\n",
    "L = len(data_df['x'][0])\n",
    "y_cols = data_df.columns[1:-1]\n",
    "Y = len(y_cols)\n",
    "print(f'L={L}, Y={Y}')"
   ]
  },
  {
   "cell_type": "code",
   "execution_count": 8,
   "metadata": {
    "collapsed": true
   },
   "outputs": [],
   "source": [
    "# define custom gp_map parameters dictionary\n",
    "\n",
    "gpmap_kwargs = {'L':L,\n",
    "                'C':4,\n",
    "                'theta_regularization': 0.05,\n",
    "                'CRP_start':37,\n",
    "                'CRP_end':57,\n",
    "                'xylR_start':58,\n",
    "                'xylR_end':89,\n",
    "                'RNAP_start':91,\n",
    "                'RNAP_end':122,\n",
    "                'regularizer':0.05}\n"
   ]
  },
  {
   "cell_type": "code",
   "execution_count": 24,
   "metadata": {},
   "outputs": [],
   "source": [
    "for idx in range(1):\n",
    "    \n",
    "    # # Create model\n",
    "    model = mavenn.Model(L=L, \n",
    "                         Y=Y,\n",
    "                         alphabet='dna', \n",
    "                         regression_type='MPA', \n",
    "                         gpmap_type='additive',\n",
    "                         mpa_hidden_nodes=50)\n",
    "\n",
    "    # Set training data\n",
    "    model.set_data(x=data_df['x'],\n",
    "                   y=data_df[y_cols],\n",
    "                   verbose=True,\n",
    "                   validation_flags=(data_df['set']=='validation'),\n",
    "                   shuffle=True)\n",
    "\n",
    "    # Fit model to data\n",
    "    model.fit(learning_rate=.0005,\n",
    "              epochs=100,\n",
    "              verbose=True,\n",
    "              try_tqdm=False,\n",
    "              batch_size=1000,\n",
    "              early_stopping=True,\n",
    "              early_stopping_patience=3,\n",
    "              linear_initialization=False)\n",
    "\n",
    "    #model.save(f'21.12.25.xylE_models/xylE_model_full_dataset_mut_2')"
   ]
  },
  {
   "cell_type": "code",
   "execution_count": 10,
   "metadata": {
    "collapsed": true
   },
   "outputs": [],
   "source": [
    "# batch size for full_dataset_model_2 was 1000, lr = 0.0005 regularizer = 0.1\n",
    "# batch size for full_dataset_model_3 was 1000, lr = 0.0003, regularizer = 0.01\n",
    "# batch size for full_dataset_model_3 was 2000, lr = 0.0008, regularizer = 0.05\n",
    "# batch size for full_dataset_model_4 was 2000, lr = 0.001, regularizer = 0.05\n",
    "# batch size for full_dataset_model_5 was 2000, lr = 0.001, regularizer = 0.05\n",
    "# batch size for full_dataset_model_6 was 3000, lr = 0.001, regularizer = 0.05"
   ]
  },
  {
   "cell_type": "code",
   "execution_count": 12,
   "metadata": {
    "collapsed": true
   },
   "outputs": [],
   "source": [
    "#model.save('21.21.19.xylE_models/xylE_model_full_dataset_3_no_data')\n",
    "#model = mavenn.load('21.21.19.xylE_models/xylE_model_full_dataset_4')"
   ]
  },
  {
   "cell_type": "code",
   "execution_count": 13,
   "metadata": {},
   "outputs": [
    {
     "name": "stdout",
     "output_type": "stream",
     "text": [
      "xylE_model_full_dataset_mut_1.h5     xylE_model_full_dataset_mut_2.pickle\r\n",
      "xylE_model_full_dataset_mut_1.pickle xylE_model_full_dataset_mut_3.h5\r\n",
      "xylE_model_full_dataset_mut_2.h5     xylE_model_full_dataset_mut_3.pickle\r\n"
     ]
    }
   ],
   "source": [
    "!ls 21.12.25.xylE_models"
   ]
  },
  {
   "cell_type": "code",
   "execution_count": 14,
   "metadata": {
    "collapsed": true
   },
   "outputs": [],
   "source": [
    "# Subsample indices for easy plotting and information estimation\n",
    "N_subsampled_test = len(test_df)\n",
    "ix_test = np.random.rand(N_subsampled_test) < .1\n",
    "\n",
    "# Get x and y\n",
    "x_test = test_df['x'][ix_test]\n",
    "y_test = test_df[y_cols][ix_test]"
   ]
  },
  {
   "cell_type": "code",
   "execution_count": 15,
   "metadata": {
    "collapsed": true
   },
   "outputs": [],
   "source": [
    "# x_test = test_df['x']\n",
    "# y_test = test_df[y_cols]"
   ]
  },
  {
   "cell_type": "code",
   "execution_count": 16,
   "metadata": {},
   "outputs": [
    {
     "data": {
      "text/plain": [
       "(27546,)"
      ]
     },
     "execution_count": 16,
     "metadata": {},
     "output_type": "execute_result"
    }
   ],
   "source": [
    "x_test.shape"
   ]
  },
  {
   "cell_type": "code",
   "execution_count": 17,
   "metadata": {},
   "outputs": [
    {
     "name": "stdout",
     "output_type": "stream",
     "text": [
      "On test data:\n",
      "I_var_test: 0.416 +- 0.006 bits\n",
      "I_pred_test: 0.427 +- 0.007 bits\n"
     ]
    },
    {
     "data": {
      "text/plain": [
       "Text(0.5, 1.0, 'training hisotry')"
      ]
     },
     "execution_count": 17,
     "metadata": {},
     "output_type": "execute_result"
    },
    {
     "data": {
      "image/png": "[encoded data removed]",
      "text/plain": [
       "<Figure size 288x288 with 1 Axes>"
      ]
     },
     "metadata": {
      "needs_background": "light"
     },
     "output_type": "display_data"
    }
   ],
   "source": [
    "# Show training history\n",
    "print('On test data:')\n",
    "# x_test = test_df['x'].values\n",
    "# y_test = test_df[y_cols].values\n",
    "\n",
    "# Compute likelihood information\n",
    "I_var, dI_var =  model.I_variational(x=x_test, y=y_test)\n",
    "print(f'I_var_test: {I_var:.3f} +- {dI_var:.3f} bits') \n",
    "\n",
    "# Compute predictive information\n",
    "I_pred, dI_pred = model.I_predictive(x=x_test, y=y_test)\n",
    "print(f'I_pred_test: {I_pred:.3f} +- {dI_pred:.3f} bits')\n",
    "\n",
    "I_var_hist = model.history['I_var']\n",
    "val_I_var_hist = model.history['val_I_var']\n",
    "\n",
    "fig, ax = plt.subplots(1,1,figsize=[4,4])\n",
    "ax.plot(I_var_hist, label='I_var_train')\n",
    "ax.plot(val_I_var_hist, label='I_var_val')\n",
    "#ax.axhline(I_var, color='C2', linestyle=':', label='I_var_test')\n",
    "#ax.axhline(I_pred, color='C3', linestyle=':', label='I_pred_test')\n",
    "ax.legend()\n",
    "ax.set_xlabel('epochs')\n",
    "ax.set_ylabel('bits')\n",
    "ax.set_title('training hisotry')\n",
    "#ax.set_ylim([0, I_pred*1.2]);"
   ]
  },
  {
   "cell_type": "code",
   "execution_count": 18,
   "metadata": {},
   "outputs": [],
   "source": [
    "theta = np.squeeze(model.get_nn().layers[2].get_weights()[1])"
   ]
  },
  {
   "cell_type": "code",
   "execution_count": 19,
   "metadata": {
    "collapsed": true
   },
   "outputs": [],
   "source": [
    "theta_df = pd.DataFrame(theta,columns=model.alphabet)\n"
   ]
  },
  {
   "cell_type": "code",
   "execution_count": 20,
   "metadata": {},
   "outputs": [
    {
     "data": {
      "image/png": "[encoded data removed]",
      "text/plain": [
       "<Figure size 1080x288 with 1 Axes>"
      ]
     },
     "metadata": {
      "needs_background": "light"
     },
     "output_type": "display_data"
    }
   ],
   "source": [
    "# # Get G-P map parameters in matrix form\n",
    "# theta = model.get_theta(gauge='uniform')\n",
    "\n",
    "# Create grid in phi space\n",
    "phi_lim = [-5, 3]\n",
    "phi_grid = np.linspace(phi_lim[0], phi_lim[1], 1000)\n",
    "\n",
    "# Create array of allowable y values\n",
    "Y = model.model.Y    # Y = number of bins\n",
    "y_lim = [-.5, Y-.5]\n",
    "y_all = range(Y)\n",
    "\n",
    "# Compute matrix of p(y|phi) values\n",
    "measurement_process = model.p_of_y_given_phi(y_all, phi_grid)\n",
    "\n",
    "# # Create figure with two panels\n",
    "fig, axs = plt.subplots(1,1,figsize=[15,4])\n",
    "\n",
    "tick_spacing=2\n",
    "theta_logo  = logomaker.Logo(theta_df,ax=axs,center_values=True)\n",
    "theta_logo.style_xticks(anchor=0, spacing=tick_spacing, rotation=90)\n",
    "theta_logo.style_spines(visible=False)\n",
    "#theta_logo.highlight_position_range(0,21,alpha=0.5,color='lavenderblush',label='CRP')\n",
    "#crp_logo.style_glyphs_in_sequence(sequence='.TGTGA......TCACA...', color='darkred')\n",
    "#theta_logo.ax.set_xticklabels('%+d'%x for x in np.arange(-125,-107+1,tick_spacing))\n",
    "\n"
   ]
  },
  {
   "cell_type": "code",
   "execution_count": 25,
   "metadata": {},
   "outputs": [],
   "source": [
    "#theta_df.to_csv('21.12.25.matrices/xylR_df.csv.gz',index=False)"
   ]
  }
 ],
 "metadata": {
  "kernelspec": {
   "display_name": "Python 3",
   "language": "python",
   "name": "python3"
  },
  "language_info": {
   "codemirror_mode": {
    "name": "ipython",
    "version": 3
   },
   "file_extension": ".py",
   "mimetype": "text/x-python",
   "name": "python",
   "nbconvert_exporter": "python",
   "pygments_lexer": "ipython3",
   "version": "3.6.7"
  }
 },
 "nbformat": 4,
 "nbformat_minor": 2
}
