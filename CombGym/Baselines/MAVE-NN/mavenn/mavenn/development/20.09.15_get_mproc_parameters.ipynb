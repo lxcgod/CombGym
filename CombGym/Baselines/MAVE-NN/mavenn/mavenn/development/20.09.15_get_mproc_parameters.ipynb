{
 "cells": [
  {
   "cell_type": "code",
   "execution_count": 2,
   "metadata": {},
   "outputs": [
    {
     "name": "stdout",
     "output_type": "stream",
     "text": [
      "['../../mavenn']\n"
     ]
    }
   ],
   "source": [
    "# Standard imports\n",
    "import pandas as pd\n",
    "import matplotlib.pyplot as plt\n",
    "import numpy as np\n",
    "import re\n",
    "import seaborn as sns\n",
    "import time\n",
    "import tensorflow as tf\n",
    "from tensorflow.keras.backend import get_value\n",
    "%matplotlib inline\n",
    "\n",
    "# Insert mavenn at beginning of path\n",
    "import sys\n",
    "path_to_mavenn_local = '../../'\n",
    "sys.path.insert(0, path_to_mavenn_local)\n",
    "\n",
    "#Load mavenn and check path\n",
    "import mavenn\n",
    "print(mavenn.__path__)\n",
    "\n",
    "# MAVE-NN utilities\n",
    "from mavenn.src.dev import mutations_to_dataset"
   ]
  },
  {
   "cell_type": "code",
   "execution_count": 3,
   "metadata": {},
   "outputs": [
    {
     "data": {
      "text/plain": [
       "<mavenn.src.model.Model at 0x110b95150>"
      ]
     },
     "execution_count": 3,
     "metadata": {},
     "output_type": "execute_result"
    }
   ],
   "source": [
    "model = mavenn.load_example_model('gb1_ge_additive')\n",
    "model"
   ]
  },
  {
   "cell_type": "code",
   "execution_count": 4,
   "metadata": {},
   "outputs": [
    {
     "name": "stdout",
     "output_type": "stream",
     "text": [
      "Model: \"functional_5\"\n",
      "__________________________________________________________________________________________________\n",
      "Layer (type)                    Output Shape         Param #     Connected to                     \n",
      "==================================================================================================\n",
      "Sequence_labels_input (InputLay [(None, 1101)]       0                                            \n",
      "__________________________________________________________________________________________________\n",
      "lambda (Lambda)                 (None, 1100)         0           Sequence_labels_input[0][0]      \n",
      "__________________________________________________________________________________________________\n",
      "phiPrime (Dense)                (None, 1)            1101        lambda[0][0]                     \n",
      "__________________________________________________________________________________________________\n",
      "phi (Dense)                     (None, 1)            2           phiPrime[0][0]                   \n",
      "__________________________________________________________________________________________________\n",
      "dense_1 (Dense)                 (None, 20)           40          phi[0][0]                        \n",
      "__________________________________________________________________________________________________\n",
      "dense_2 (Dense)                 (None, 1)            21          dense_1[0][0]                    \n",
      "__________________________________________________________________________________________________\n",
      "lambda_1 (Lambda)               (None, 1)            0           Sequence_labels_input[0][0]      \n",
      "__________________________________________________________________________________________________\n",
      "yhat_and_y_to_ll (Concatenate)  (None, 2)            0           dense_2[0][0]                    \n",
      "                                                                 lambda_1[0][0]                   \n",
      "__________________________________________________________________________________________________\n",
      "gaussian_likelihood_layer_1 (Ga (None,)              3           yhat_and_y_to_ll[0][0]           \n",
      "==================================================================================================\n",
      "Total params: 1,167\n",
      "Trainable params: 1,167\n",
      "Non-trainable params: 0\n",
      "__________________________________________________________________________________________________\n"
     ]
    }
   ],
   "source": [
    "tf_model = model.model.model\n",
    "tf_model.summary()"
   ]
  },
  {
   "cell_type": "code",
   "execution_count": 5,
   "metadata": {},
   "outputs": [
    {
     "data": {
      "text/plain": [
       "array([[-0.765893  ],\n",
       "       [-0.3884795 ],\n",
       "       [-0.03328627]], dtype=float32)"
      ]
     },
     "execution_count": 5,
     "metadata": {},
     "output_type": "execute_result"
    }
   ],
   "source": [
    "w_a = tf_model.trainable_weights[-1]\n",
    "get_value(w_a)"
   ]
  },
  {
   "cell_type": "code",
   "execution_count": null,
   "metadata": {},
   "outputs": [],
   "source": [
    "# !pip install pydot"
   ]
  },
  {
   "cell_type": "code",
   "execution_count": null,
   "metadata": {},
   "outputs": [],
   "source": [
    "def get_mproc_parameters(model):"
   ]
  }
 ],
 "metadata": {
  "kernelspec": {
   "display_name": "Python 3",
   "language": "python",
   "name": "python3"
  },
  "language_info": {
   "codemirror_mode": {
    "name": "ipython",
    "version": 3
   },
   "file_extension": ".py",
   "mimetype": "text/x-python",
   "name": "python",
   "nbconvert_exporter": "python",
   "pygments_lexer": "ipython3",
   "version": "3.7.4"
  }
 },
 "nbformat": 4,
 "nbformat_minor": 2
}
