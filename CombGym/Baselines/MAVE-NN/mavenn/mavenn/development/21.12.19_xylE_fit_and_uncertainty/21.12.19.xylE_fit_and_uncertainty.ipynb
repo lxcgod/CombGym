{
 "cells": [
  {
   "cell_type": "code",
   "execution_count": 1,
   "metadata": {
    "collapsed": true
   },
   "outputs": [],
   "source": [
    "import numpy as np\n",
    "import pandas as pd\n",
    "import matplotlib.pyplot as plt\n",
    "import sys\n",
    "sys.path.insert(0, '/Users/tareen/Desktop/Research_Projects/2020_mavenn_github/mavenn_git_ssh')\n",
    "\n",
    "import mavenn\n",
    "import logomaker\n",
    "import seaborn as sns\n",
    "import re\n",
    "\n",
    "%matplotlib inline"
   ]
  },
  {
   "cell_type": "code",
   "execution_count": 2,
   "metadata": {},
   "outputs": [
    {
     "data": {
      "text/plain": [
       "['/Users/tareen/Desktop/Research_Projects/2020_mavenn_github/mavenn_git_ssh/mavenn']"
      ]
     },
     "execution_count": 2,
     "metadata": {},
     "output_type": "execute_result"
    }
   ],
   "source": [
    "mavenn.__path__"
   ]
  },
  {
   "cell_type": "code",
   "execution_count": 3,
   "metadata": {},
   "outputs": [],
   "source": [
    "data_df = mavenn.load_example_dataset('xylE')"
   ]
  },
  {
   "cell_type": "code",
   "execution_count": 4,
   "metadata": {},
   "outputs": [
    {
     "data": {
      "text/html": [
       "<div>\n",
       "<style scoped>\n",
       "    .dataframe tbody tr th:only-of-type {\n",
       "        vertical-align: middle;\n",
       "    }\n",
       "\n",
       "    .dataframe tbody tr th {\n",
       "        vertical-align: top;\n",
       "    }\n",
       "\n",
       "    .dataframe thead th {\n",
       "        text-align: right;\n",
       "    }\n",
       "</style>\n",
       "<table border=\"1\" class=\"dataframe\">\n",
       "  <thead>\n",
       "    <tr style=\"text-align: right;\">\n",
       "      <th></th>\n",
       "      <th>x</th>\n",
       "      <th>ct_0</th>\n",
       "      <th>ct_1</th>\n",
       "      <th>ct_2</th>\n",
       "      <th>ct_3</th>\n",
       "      <th>ct_0.1</th>\n",
       "      <th>ct_1.1</th>\n",
       "      <th>ct_2.1</th>\n",
       "      <th>ct_3.1</th>\n",
       "      <th>ct_0.2</th>\n",
       "      <th>ct_1.2</th>\n",
       "      <th>ct_2.2</th>\n",
       "      <th>ct_3.2</th>\n",
       "      <th>set</th>\n",
       "    </tr>\n",
       "  </thead>\n",
       "  <tbody>\n",
       "    <tr>\n",
       "      <th>0</th>\n",
       "      <td>CAGCAATAGCATTATTTTTATCAATTTTGGATAATTATCACAATTA...</td>\n",
       "      <td>1.0</td>\n",
       "      <td>0.0</td>\n",
       "      <td>0.0</td>\n",
       "      <td>0.0</td>\n",
       "      <td>1.0</td>\n",
       "      <td>0.0</td>\n",
       "      <td>0.0</td>\n",
       "      <td>0.0</td>\n",
       "      <td>1</td>\n",
       "      <td>0</td>\n",
       "      <td>0</td>\n",
       "      <td>0</td>\n",
       "      <td>training</td>\n",
       "    </tr>\n",
       "    <tr>\n",
       "      <th>1</th>\n",
       "      <td>CGGCAATAGTATTGTTTATATCGATTTTGGATAGTTATCTCAATTA...</td>\n",
       "      <td>1.0</td>\n",
       "      <td>0.0</td>\n",
       "      <td>0.0</td>\n",
       "      <td>0.0</td>\n",
       "      <td>1.0</td>\n",
       "      <td>0.0</td>\n",
       "      <td>0.0</td>\n",
       "      <td>0.0</td>\n",
       "      <td>1</td>\n",
       "      <td>0</td>\n",
       "      <td>0</td>\n",
       "      <td>0</td>\n",
       "      <td>test</td>\n",
       "    </tr>\n",
       "    <tr>\n",
       "      <th>2</th>\n",
       "      <td>CGGCAATAGTATTGTTTTTATCAATTTTGGATAATTATCACAATTA...</td>\n",
       "      <td>1.0</td>\n",
       "      <td>0.0</td>\n",
       "      <td>0.0</td>\n",
       "      <td>0.0</td>\n",
       "      <td>1.0</td>\n",
       "      <td>0.0</td>\n",
       "      <td>0.0</td>\n",
       "      <td>0.0</td>\n",
       "      <td>1</td>\n",
       "      <td>0</td>\n",
       "      <td>0</td>\n",
       "      <td>0</td>\n",
       "      <td>test</td>\n",
       "    </tr>\n",
       "    <tr>\n",
       "      <th>3</th>\n",
       "      <td>TGGCAATATTATTGTTTTTGTCAATTTTGGATAATTATCACAATTA...</td>\n",
       "      <td>1.0</td>\n",
       "      <td>0.0</td>\n",
       "      <td>0.0</td>\n",
       "      <td>0.0</td>\n",
       "      <td>1.0</td>\n",
       "      <td>0.0</td>\n",
       "      <td>0.0</td>\n",
       "      <td>0.0</td>\n",
       "      <td>1</td>\n",
       "      <td>0</td>\n",
       "      <td>0</td>\n",
       "      <td>0</td>\n",
       "      <td>training</td>\n",
       "    </tr>\n",
       "    <tr>\n",
       "      <th>4</th>\n",
       "      <td>GGGCATTAATATGTTTTTTACCAATTTTGGATTATTATCCCAATTA...</td>\n",
       "      <td>1.0</td>\n",
       "      <td>0.0</td>\n",
       "      <td>0.0</td>\n",
       "      <td>0.0</td>\n",
       "      <td>1.0</td>\n",
       "      <td>0.0</td>\n",
       "      <td>0.0</td>\n",
       "      <td>0.0</td>\n",
       "      <td>1</td>\n",
       "      <td>0</td>\n",
       "      <td>0</td>\n",
       "      <td>0</td>\n",
       "      <td>training</td>\n",
       "    </tr>\n",
       "    <tr>\n",
       "      <th>...</th>\n",
       "      <td>...</td>\n",
       "      <td>...</td>\n",
       "      <td>...</td>\n",
       "      <td>...</td>\n",
       "      <td>...</td>\n",
       "      <td>...</td>\n",
       "      <td>...</td>\n",
       "      <td>...</td>\n",
       "      <td>...</td>\n",
       "      <td>...</td>\n",
       "      <td>...</td>\n",
       "      <td>...</td>\n",
       "      <td>...</td>\n",
       "      <td>...</td>\n",
       "    </tr>\n",
       "    <tr>\n",
       "      <th>1379847</th>\n",
       "      <td>CGGCAATAGTATTGTTTTTATCAATTTTGAATTATTATCACATTTA...</td>\n",
       "      <td>0.0</td>\n",
       "      <td>0.0</td>\n",
       "      <td>1.0</td>\n",
       "      <td>0.0</td>\n",
       "      <td>0.0</td>\n",
       "      <td>0.0</td>\n",
       "      <td>0.0</td>\n",
       "      <td>1.0</td>\n",
       "      <td>0</td>\n",
       "      <td>1</td>\n",
       "      <td>0</td>\n",
       "      <td>0</td>\n",
       "      <td>validation</td>\n",
       "    </tr>\n",
       "    <tr>\n",
       "      <th>1379848</th>\n",
       "      <td>AGTCAATGGTATCGTTTTTATCAATTTTGGATAATTATCACAATTA...</td>\n",
       "      <td>0.0</td>\n",
       "      <td>0.0</td>\n",
       "      <td>1.0</td>\n",
       "      <td>0.0</td>\n",
       "      <td>0.0</td>\n",
       "      <td>0.0</td>\n",
       "      <td>0.0</td>\n",
       "      <td>1.0</td>\n",
       "      <td>0</td>\n",
       "      <td>1</td>\n",
       "      <td>0</td>\n",
       "      <td>0</td>\n",
       "      <td>training</td>\n",
       "    </tr>\n",
       "    <tr>\n",
       "      <th>1379849</th>\n",
       "      <td>CTATAATAGTATTGTTTTTATCAATTTTGTATAATTATCACAATTA...</td>\n",
       "      <td>0.0</td>\n",
       "      <td>0.0</td>\n",
       "      <td>1.0</td>\n",
       "      <td>0.0</td>\n",
       "      <td>0.0</td>\n",
       "      <td>0.0</td>\n",
       "      <td>0.0</td>\n",
       "      <td>1.0</td>\n",
       "      <td>0</td>\n",
       "      <td>1</td>\n",
       "      <td>0</td>\n",
       "      <td>0</td>\n",
       "      <td>test</td>\n",
       "    </tr>\n",
       "    <tr>\n",
       "      <th>1379850</th>\n",
       "      <td>CGGCAATAGTATTGTTTTTATGAATTTTGGATAATTATCACAATTA...</td>\n",
       "      <td>0.0</td>\n",
       "      <td>0.0</td>\n",
       "      <td>1.0</td>\n",
       "      <td>0.0</td>\n",
       "      <td>0.0</td>\n",
       "      <td>0.0</td>\n",
       "      <td>0.0</td>\n",
       "      <td>1.0</td>\n",
       "      <td>0</td>\n",
       "      <td>1</td>\n",
       "      <td>0</td>\n",
       "      <td>0</td>\n",
       "      <td>training</td>\n",
       "    </tr>\n",
       "    <tr>\n",
       "      <th>1379851</th>\n",
       "      <td>CGGCAATAGTATTGTTTTTATCAATGTTGGAAAATTAGCACAATTA...</td>\n",
       "      <td>0.0</td>\n",
       "      <td>0.0</td>\n",
       "      <td>1.0</td>\n",
       "      <td>0.0</td>\n",
       "      <td>0.0</td>\n",
       "      <td>0.0</td>\n",
       "      <td>0.0</td>\n",
       "      <td>1.0</td>\n",
       "      <td>0</td>\n",
       "      <td>1</td>\n",
       "      <td>0</td>\n",
       "      <td>0</td>\n",
       "      <td>training</td>\n",
       "    </tr>\n",
       "  </tbody>\n",
       "</table>\n",
       "<p>1379852 rows × 14 columns</p>\n",
       "</div>"
      ],
      "text/plain": [
       "                                                         x  ct_0  ct_1  ct_2  \\\n",
       "0        CAGCAATAGCATTATTTTTATCAATTTTGGATAATTATCACAATTA...   1.0   0.0   0.0   \n",
       "1        CGGCAATAGTATTGTTTATATCGATTTTGGATAGTTATCTCAATTA...   1.0   0.0   0.0   \n",
       "2        CGGCAATAGTATTGTTTTTATCAATTTTGGATAATTATCACAATTA...   1.0   0.0   0.0   \n",
       "3        TGGCAATATTATTGTTTTTGTCAATTTTGGATAATTATCACAATTA...   1.0   0.0   0.0   \n",
       "4        GGGCATTAATATGTTTTTTACCAATTTTGGATTATTATCCCAATTA...   1.0   0.0   0.0   \n",
       "...                                                    ...   ...   ...   ...   \n",
       "1379847  CGGCAATAGTATTGTTTTTATCAATTTTGAATTATTATCACATTTA...   0.0   0.0   1.0   \n",
       "1379848  AGTCAATGGTATCGTTTTTATCAATTTTGGATAATTATCACAATTA...   0.0   0.0   1.0   \n",
       "1379849  CTATAATAGTATTGTTTTTATCAATTTTGTATAATTATCACAATTA...   0.0   0.0   1.0   \n",
       "1379850  CGGCAATAGTATTGTTTTTATGAATTTTGGATAATTATCACAATTA...   0.0   0.0   1.0   \n",
       "1379851  CGGCAATAGTATTGTTTTTATCAATGTTGGAAAATTAGCACAATTA...   0.0   0.0   1.0   \n",
       "\n",
       "         ct_3  ct_0.1  ct_1.1  ct_2.1  ct_3.1  ct_0.2  ct_1.2  ct_2.2  ct_3.2  \\\n",
       "0         0.0     1.0     0.0     0.0     0.0       1       0       0       0   \n",
       "1         0.0     1.0     0.0     0.0     0.0       1       0       0       0   \n",
       "2         0.0     1.0     0.0     0.0     0.0       1       0       0       0   \n",
       "3         0.0     1.0     0.0     0.0     0.0       1       0       0       0   \n",
       "4         0.0     1.0     0.0     0.0     0.0       1       0       0       0   \n",
       "...       ...     ...     ...     ...     ...     ...     ...     ...     ...   \n",
       "1379847   0.0     0.0     0.0     0.0     1.0       0       1       0       0   \n",
       "1379848   0.0     0.0     0.0     0.0     1.0       0       1       0       0   \n",
       "1379849   0.0     0.0     0.0     0.0     1.0       0       1       0       0   \n",
       "1379850   0.0     0.0     0.0     0.0     1.0       0       1       0       0   \n",
       "1379851   0.0     0.0     0.0     0.0     1.0       0       1       0       0   \n",
       "\n",
       "                set  \n",
       "0          training  \n",
       "1              test  \n",
       "2              test  \n",
       "3          training  \n",
       "4          training  \n",
       "...             ...  \n",
       "1379847  validation  \n",
       "1379848    training  \n",
       "1379849        test  \n",
       "1379850    training  \n",
       "1379851    training  \n",
       "\n",
       "[1379852 rows x 14 columns]"
      ]
     },
     "execution_count": 4,
     "metadata": {},
     "output_type": "execute_result"
    }
   ],
   "source": [
    "data_df"
   ]
  },
  {
   "cell_type": "code",
   "execution_count": 5,
   "metadata": {},
   "outputs": [],
   "source": [
    "#data_df.columns = ['x', 'ct_0', 'ct_1', 'ct_2', 'ct_3', 'ct_0', 'ct_1', 'ct_2','ct_3', 'ct_0', 'ct_1', 'ct_2', 'ct_3', 'set']\n",
    "data_df.columns = ['x', 'ct_0', 'ct_1', 'ct_2', 'ct_3', 'ct_4', 'ct_5', 'ct_6','ct_7', 'ct_8', 'ct_9', 'ct_10', 'ct_11', 'set']\n"
   ]
  },
  {
   "cell_type": "code",
   "execution_count": 6,
   "metadata": {},
   "outputs": [
    {
     "data": {
      "text/html": [
       "<div>\n",
       "<style scoped>\n",
       "    .dataframe tbody tr th:only-of-type {\n",
       "        vertical-align: middle;\n",
       "    }\n",
       "\n",
       "    .dataframe tbody tr th {\n",
       "        vertical-align: top;\n",
       "    }\n",
       "\n",
       "    .dataframe thead th {\n",
       "        text-align: right;\n",
       "    }\n",
       "</style>\n",
       "<table border=\"1\" class=\"dataframe\">\n",
       "  <thead>\n",
       "    <tr style=\"text-align: right;\">\n",
       "      <th></th>\n",
       "      <th>x</th>\n",
       "      <th>ct_0</th>\n",
       "      <th>ct_1</th>\n",
       "      <th>ct_2</th>\n",
       "      <th>ct_3</th>\n",
       "      <th>ct_4</th>\n",
       "      <th>ct_5</th>\n",
       "      <th>ct_6</th>\n",
       "      <th>ct_7</th>\n",
       "      <th>ct_8</th>\n",
       "      <th>ct_9</th>\n",
       "      <th>ct_10</th>\n",
       "      <th>ct_11</th>\n",
       "      <th>set</th>\n",
       "    </tr>\n",
       "  </thead>\n",
       "  <tbody>\n",
       "    <tr>\n",
       "      <th>0</th>\n",
       "      <td>CAGCAATAGCATTATTTTTATCAATTTTGGATAATTATCACAATTA...</td>\n",
       "      <td>1.0</td>\n",
       "      <td>0.0</td>\n",
       "      <td>0.0</td>\n",
       "      <td>0.0</td>\n",
       "      <td>1.0</td>\n",
       "      <td>0.0</td>\n",
       "      <td>0.0</td>\n",
       "      <td>0.0</td>\n",
       "      <td>1</td>\n",
       "      <td>0</td>\n",
       "      <td>0</td>\n",
       "      <td>0</td>\n",
       "      <td>training</td>\n",
       "    </tr>\n",
       "    <tr>\n",
       "      <th>1</th>\n",
       "      <td>CGGCAATAGTATTGTTTATATCGATTTTGGATAGTTATCTCAATTA...</td>\n",
       "      <td>1.0</td>\n",
       "      <td>0.0</td>\n",
       "      <td>0.0</td>\n",
       "      <td>0.0</td>\n",
       "      <td>1.0</td>\n",
       "      <td>0.0</td>\n",
       "      <td>0.0</td>\n",
       "      <td>0.0</td>\n",
       "      <td>1</td>\n",
       "      <td>0</td>\n",
       "      <td>0</td>\n",
       "      <td>0</td>\n",
       "      <td>test</td>\n",
       "    </tr>\n",
       "    <tr>\n",
       "      <th>2</th>\n",
       "      <td>CGGCAATAGTATTGTTTTTATCAATTTTGGATAATTATCACAATTA...</td>\n",
       "      <td>1.0</td>\n",
       "      <td>0.0</td>\n",
       "      <td>0.0</td>\n",
       "      <td>0.0</td>\n",
       "      <td>1.0</td>\n",
       "      <td>0.0</td>\n",
       "      <td>0.0</td>\n",
       "      <td>0.0</td>\n",
       "      <td>1</td>\n",
       "      <td>0</td>\n",
       "      <td>0</td>\n",
       "      <td>0</td>\n",
       "      <td>test</td>\n",
       "    </tr>\n",
       "    <tr>\n",
       "      <th>3</th>\n",
       "      <td>TGGCAATATTATTGTTTTTGTCAATTTTGGATAATTATCACAATTA...</td>\n",
       "      <td>1.0</td>\n",
       "      <td>0.0</td>\n",
       "      <td>0.0</td>\n",
       "      <td>0.0</td>\n",
       "      <td>1.0</td>\n",
       "      <td>0.0</td>\n",
       "      <td>0.0</td>\n",
       "      <td>0.0</td>\n",
       "      <td>1</td>\n",
       "      <td>0</td>\n",
       "      <td>0</td>\n",
       "      <td>0</td>\n",
       "      <td>training</td>\n",
       "    </tr>\n",
       "    <tr>\n",
       "      <th>4</th>\n",
       "      <td>GGGCATTAATATGTTTTTTACCAATTTTGGATTATTATCCCAATTA...</td>\n",
       "      <td>1.0</td>\n",
       "      <td>0.0</td>\n",
       "      <td>0.0</td>\n",
       "      <td>0.0</td>\n",
       "      <td>1.0</td>\n",
       "      <td>0.0</td>\n",
       "      <td>0.0</td>\n",
       "      <td>0.0</td>\n",
       "      <td>1</td>\n",
       "      <td>0</td>\n",
       "      <td>0</td>\n",
       "      <td>0</td>\n",
       "      <td>training</td>\n",
       "    </tr>\n",
       "    <tr>\n",
       "      <th>...</th>\n",
       "      <td>...</td>\n",
       "      <td>...</td>\n",
       "      <td>...</td>\n",
       "      <td>...</td>\n",
       "      <td>...</td>\n",
       "      <td>...</td>\n",
       "      <td>...</td>\n",
       "      <td>...</td>\n",
       "      <td>...</td>\n",
       "      <td>...</td>\n",
       "      <td>...</td>\n",
       "      <td>...</td>\n",
       "      <td>...</td>\n",
       "      <td>...</td>\n",
       "    </tr>\n",
       "    <tr>\n",
       "      <th>1379847</th>\n",
       "      <td>CGGCAATAGTATTGTTTTTATCAATTTTGAATTATTATCACATTTA...</td>\n",
       "      <td>0.0</td>\n",
       "      <td>0.0</td>\n",
       "      <td>1.0</td>\n",
       "      <td>0.0</td>\n",
       "      <td>0.0</td>\n",
       "      <td>0.0</td>\n",
       "      <td>0.0</td>\n",
       "      <td>1.0</td>\n",
       "      <td>0</td>\n",
       "      <td>1</td>\n",
       "      <td>0</td>\n",
       "      <td>0</td>\n",
       "      <td>validation</td>\n",
       "    </tr>\n",
       "    <tr>\n",
       "      <th>1379848</th>\n",
       "      <td>AGTCAATGGTATCGTTTTTATCAATTTTGGATAATTATCACAATTA...</td>\n",
       "      <td>0.0</td>\n",
       "      <td>0.0</td>\n",
       "      <td>1.0</td>\n",
       "      <td>0.0</td>\n",
       "      <td>0.0</td>\n",
       "      <td>0.0</td>\n",
       "      <td>0.0</td>\n",
       "      <td>1.0</td>\n",
       "      <td>0</td>\n",
       "      <td>1</td>\n",
       "      <td>0</td>\n",
       "      <td>0</td>\n",
       "      <td>training</td>\n",
       "    </tr>\n",
       "    <tr>\n",
       "      <th>1379849</th>\n",
       "      <td>CTATAATAGTATTGTTTTTATCAATTTTGTATAATTATCACAATTA...</td>\n",
       "      <td>0.0</td>\n",
       "      <td>0.0</td>\n",
       "      <td>1.0</td>\n",
       "      <td>0.0</td>\n",
       "      <td>0.0</td>\n",
       "      <td>0.0</td>\n",
       "      <td>0.0</td>\n",
       "      <td>1.0</td>\n",
       "      <td>0</td>\n",
       "      <td>1</td>\n",
       "      <td>0</td>\n",
       "      <td>0</td>\n",
       "      <td>test</td>\n",
       "    </tr>\n",
       "    <tr>\n",
       "      <th>1379850</th>\n",
       "      <td>CGGCAATAGTATTGTTTTTATGAATTTTGGATAATTATCACAATTA...</td>\n",
       "      <td>0.0</td>\n",
       "      <td>0.0</td>\n",
       "      <td>1.0</td>\n",
       "      <td>0.0</td>\n",
       "      <td>0.0</td>\n",
       "      <td>0.0</td>\n",
       "      <td>0.0</td>\n",
       "      <td>1.0</td>\n",
       "      <td>0</td>\n",
       "      <td>1</td>\n",
       "      <td>0</td>\n",
       "      <td>0</td>\n",
       "      <td>training</td>\n",
       "    </tr>\n",
       "    <tr>\n",
       "      <th>1379851</th>\n",
       "      <td>CGGCAATAGTATTGTTTTTATCAATGTTGGAAAATTAGCACAATTA...</td>\n",
       "      <td>0.0</td>\n",
       "      <td>0.0</td>\n",
       "      <td>1.0</td>\n",
       "      <td>0.0</td>\n",
       "      <td>0.0</td>\n",
       "      <td>0.0</td>\n",
       "      <td>0.0</td>\n",
       "      <td>1.0</td>\n",
       "      <td>0</td>\n",
       "      <td>1</td>\n",
       "      <td>0</td>\n",
       "      <td>0</td>\n",
       "      <td>training</td>\n",
       "    </tr>\n",
       "  </tbody>\n",
       "</table>\n",
       "<p>1379852 rows × 14 columns</p>\n",
       "</div>"
      ],
      "text/plain": [
       "                                                         x  ct_0  ct_1  ct_2  \\\n",
       "0        CAGCAATAGCATTATTTTTATCAATTTTGGATAATTATCACAATTA...   1.0   0.0   0.0   \n",
       "1        CGGCAATAGTATTGTTTATATCGATTTTGGATAGTTATCTCAATTA...   1.0   0.0   0.0   \n",
       "2        CGGCAATAGTATTGTTTTTATCAATTTTGGATAATTATCACAATTA...   1.0   0.0   0.0   \n",
       "3        TGGCAATATTATTGTTTTTGTCAATTTTGGATAATTATCACAATTA...   1.0   0.0   0.0   \n",
       "4        GGGCATTAATATGTTTTTTACCAATTTTGGATTATTATCCCAATTA...   1.0   0.0   0.0   \n",
       "...                                                    ...   ...   ...   ...   \n",
       "1379847  CGGCAATAGTATTGTTTTTATCAATTTTGAATTATTATCACATTTA...   0.0   0.0   1.0   \n",
       "1379848  AGTCAATGGTATCGTTTTTATCAATTTTGGATAATTATCACAATTA...   0.0   0.0   1.0   \n",
       "1379849  CTATAATAGTATTGTTTTTATCAATTTTGTATAATTATCACAATTA...   0.0   0.0   1.0   \n",
       "1379850  CGGCAATAGTATTGTTTTTATGAATTTTGGATAATTATCACAATTA...   0.0   0.0   1.0   \n",
       "1379851  CGGCAATAGTATTGTTTTTATCAATGTTGGAAAATTAGCACAATTA...   0.0   0.0   1.0   \n",
       "\n",
       "         ct_3  ct_4  ct_5  ct_6  ct_7  ct_8  ct_9  ct_10  ct_11         set  \n",
       "0         0.0   1.0   0.0   0.0   0.0     1     0      0      0    training  \n",
       "1         0.0   1.0   0.0   0.0   0.0     1     0      0      0        test  \n",
       "2         0.0   1.0   0.0   0.0   0.0     1     0      0      0        test  \n",
       "3         0.0   1.0   0.0   0.0   0.0     1     0      0      0    training  \n",
       "4         0.0   1.0   0.0   0.0   0.0     1     0      0      0    training  \n",
       "...       ...   ...   ...   ...   ...   ...   ...    ...    ...         ...  \n",
       "1379847   0.0   0.0   0.0   0.0   1.0     0     1      0      0  validation  \n",
       "1379848   0.0   0.0   0.0   0.0   1.0     0     1      0      0    training  \n",
       "1379849   0.0   0.0   0.0   0.0   1.0     0     1      0      0        test  \n",
       "1379850   0.0   0.0   0.0   0.0   1.0     0     1      0      0    training  \n",
       "1379851   0.0   0.0   0.0   0.0   1.0     0     1      0      0    training  \n",
       "\n",
       "[1379852 rows x 14 columns]"
      ]
     },
     "execution_count": 6,
     "metadata": {},
     "output_type": "execute_result"
    }
   ],
   "source": [
    "data_df"
   ]
  },
  {
   "cell_type": "code",
   "execution_count": 7,
   "metadata": {},
   "outputs": [
    {
     "name": "stdout",
     "output_type": "stream",
     "text": [
      "test N: 275,818\n",
      "training + validation N: 1,104,034\n"
     ]
    }
   ],
   "source": [
    "# # Separate test from data_df\n",
    "ix_test = data_df['set']=='test'\n",
    "test_df = data_df[ix_test].reset_index(drop=True)\n",
    "print(f'test N: {len(test_df):,}')\n",
    "\n",
    "# Remove test data from data_df\n",
    "data_df = data_df[~ix_test].reset_index(drop=True)\n",
    "print(f'training + validation N: {len(data_df):,}')"
   ]
  },
  {
   "cell_type": "code",
   "execution_count": 8,
   "metadata": {},
   "outputs": [
    {
     "name": "stdout",
     "output_type": "stream",
     "text": [
      "L=150, Y=12\n"
     ]
    }
   ],
   "source": [
    "# Comptue sequence length and number of bins\n",
    "L = len(data_df['x'][0])\n",
    "y_cols = data_df.columns[1:-1]\n",
    "Y = len(y_cols)\n",
    "print(f'L={L}, Y={Y}')"
   ]
  },
  {
   "cell_type": "code",
   "execution_count": 9,
   "metadata": {},
   "outputs": [],
   "source": [
    "from mavenn.src.layers.gpmap import GPMapLayer\n",
    "\n",
    "\n",
    "# Tensorflow imports\n",
    "import tensorflow as tf\n",
    "import tensorflow.keras.backend as K\n",
    "from tensorflow.keras.initializers import Constant\n",
    "from tensorflow.keras.layers import Layer, Dense\n",
    "\n",
    "class ThermodynamicLayer(GPMapLayer):\n",
    "    \"\"\"Represents an thermodynamic model of transcription\n",
    "       regulation in E. Coli at the xylE promoter, which \n",
    "       contains binding sites for RNAP, CRP, and xylR.\n",
    "    \"\"\"\n",
    "\n",
    "    def __init__(self, \n",
    "                 CRP_start,\n",
    "                 CRP_end,\n",
    "                 xylR_start,\n",
    "                 xylR_end,\n",
    "                 RNAP_start,\n",
    "                 RNAP_end,\n",
    "                 regularizer, \n",
    "                 *args, **kwargs):\n",
    "        \"\"\"Construct layer instance.\"\"\"\n",
    "        \n",
    "        # set attributes\n",
    "        self.CRP_start = CRP_start\n",
    "        self.CRP_end = CRP_end        \n",
    "\n",
    "        self.xylR_start = xylR_start\n",
    "        self.xylR_end = xylR_end                        \n",
    "        \n",
    "        self.RNAP_start = RNAP_start\n",
    "        self.RNAP_end = RNAP_end        \n",
    "        \n",
    "        self.C=kwargs['C']\n",
    "        self.regularizer = tf.keras.regularizers.L2(regularizer)\n",
    "        \n",
    "        # form helpful variables\n",
    "        self.L_CRP = CRP_end-CRP_start\n",
    "        self.L_RNAP = RNAP_end - RNAP_start\n",
    "        self.L_xylR = xylR_end - xylR_start\n",
    "        \n",
    "        super().__init__(*args, **kwargs)\n",
    "\n",
    "    def build(self, input_shape):\n",
    "        \"\"\"Build layer.\"\"\"\n",
    "        \n",
    "        #1 define bias/chemical potential weight for crp\n",
    "        self.mu_CRP = self.add_weight(name='mu_CRP',\n",
    "                                       shape=(1,),\n",
    "                                       initializer=Constant(0.),\n",
    "                                       trainable=True,\n",
    "                                       regularizer=self.regularizer)\n",
    "        \n",
    "        \n",
    "        #2 define bias/chemical potential weight for xylR\n",
    "        self.mu_xylR = self.add_weight(name='mu_xylR',\n",
    "                                       shape=(1,),\n",
    "                                       initializer=Constant(0.),\n",
    "                                       trainable=True,\n",
    "                                       regularizer=self.regularizer)                   \n",
    "\n",
    "        #3 define bias/chemical potential weight for rnap\n",
    "        self.mu_RNAP = self.add_weight(name='mu_RNAP',\n",
    "                                       shape=(1,),\n",
    "                                       initializer=Constant(0.),\n",
    "                                       trainable=True,\n",
    "                                       regularizer=self.regularizer)\n",
    "     \n",
    "        \n",
    "\n",
    "        #4 Define theta_CRP_lc parameters\n",
    "        theta_CRP_lc_shape = (1, self.L_CRP, self.C)\n",
    "\n",
    "        theta_CRP_lc_init = np.random.randn(*theta_CRP_lc_shape)/np.sqrt(self.L_CRP)\n",
    "        self.theta_CRP_lc = self.add_weight(name='theta_CRP_lc',\n",
    "                                        shape=theta_CRP_lc_shape,\n",
    "                                        #initializer=Constant(theta_CRP_lc_init),\n",
    "                                        trainable=True,\n",
    "                                        regularizer=self.regularizer)\n",
    "        \n",
    "\n",
    "                \n",
    "        #5 Define theta_xylR_lc parameters\n",
    "        theta_xylR_lc_shape = (1, self.L_xylR, self.C)\n",
    "\n",
    "        theta_xylR_lc_init = np.random.randn(*theta_xylR_lc_shape)/np.sqrt(self.L_xylR)\n",
    "        self.theta_xylR_lc = self.add_weight(name='theta_xylR_lc',\n",
    "                                        shape=theta_xylR_lc_shape,\n",
    "                                        #initializer=Constant(theta_xylR_lc_init),\n",
    "                                        trainable=True,\n",
    "                                        regularizer=self.regularizer)        \n",
    "        \n",
    "        #6 Define theta_rnap_lc parameters\n",
    "        theta_RNAP_lc_shape = (1, self.L_RNAP, self.C)\n",
    "\n",
    "        theta_RNAP_lc_init = np.random.randn(*theta_RNAP_lc_shape)/np.sqrt(self.L_RNAP)\n",
    "        self.theta_RNAP_lc = self.add_weight(name='theta_RNAP_lc',\n",
    "                                        shape=theta_RNAP_lc_shape,\n",
    "                                        #initializer=Constant(theta_RNAP_lc_init),\n",
    "                                        trainable=True,\n",
    "                                        regularizer=self.regularizer)\n",
    "\n",
    "        \n",
    "        #7 define interaction term between CRP and xylR\n",
    "        self.I_cx = self.add_weight(name='I_cx',\n",
    "                               shape=(1,),\n",
    "                               initializer=Constant(-1),\n",
    "                               trainable=True)\n",
    "        \n",
    "        #8 define interaction term between RNAP and xylR. \n",
    "        self.I_rx = self.add_weight(name='I_rx',\n",
    "                               shape=(1,),\n",
    "                               initializer=Constant(-1),\n",
    "                               trainable=True,\n",
    "                               regularizer=self.regularizer)\n",
    "        \n",
    "#         #9 define interaction term between CRP and RNAP\n",
    "#         self.I_cr = self.add_weight(name='I_cr',\n",
    "#                                shape=(1,),\n",
    "#                                initializer=Constant(-1),\n",
    "#                                trainable=True)        \n",
    "        \n",
    "        #10 define tsat term. \n",
    "        self.tsat = self.add_weight(name='tsat',\n",
    "                               shape=(1,),\n",
    "                               initializer=Constant(1.),\n",
    "                               trainable=True)        \n",
    "        \n",
    "        # Call superclass build\n",
    "        super().build(input_shape)\n",
    "\n",
    "    def call(self, x_lc):\n",
    "        \"\"\"Process layer input and return output.\n",
    "        \n",
    "        x_lc: (tensor)\n",
    "            Input tensor that represents one-hot encoded \n",
    "            sequence values. \n",
    "        \"\"\"\n",
    "        \n",
    "        # extract locations of binding sites from entire lac-promoter sequence.\n",
    "        x_CRP_lc = x_lc[:,self.C * self.CRP_start:self.C * self.CRP_end]\n",
    "        x_xylR_lc = x_lc[:,self.C * self.xylR_start: self.C * self.xylR_end]\n",
    "        x_RNAP_lc = x_lc[:,self.C * self.RNAP_start: self.C * self.RNAP_end]\n",
    "        \n",
    "        # reshape according to crp and rnap lengths. \n",
    "        x_CRP_lc = tf.reshape(x_CRP_lc, [-1, self.L_CRP, self.C])\n",
    "        x_xylR_lc = tf.reshape(x_xylR_lc, [-1, self.L_xylR, self.C])        \n",
    "        x_RNAP_lc = tf.reshape(x_RNAP_lc, [-1, self.L_RNAP, self.C])\n",
    "\n",
    "                \n",
    "        # compute delta G for crp    \n",
    "        phi_CRP = self.mu_CRP + \\\n",
    "              tf.reshape(K.sum(self.theta_CRP_lc * x_CRP_lc, axis=[1, 2]),\n",
    "                         shape=[-1, 1])\n",
    "            \n",
    "        # compute delta G for LacI\n",
    "        phi_xylR = self.mu_xylR + \\\n",
    "              tf.reshape(K.sum(self.theta_xylR_lc * x_xylR_lc, axis=[1, 2]),\n",
    "                         shape=[-1, 1])                             \n",
    "            \n",
    "        # compute delta G for rnap\n",
    "        phi_RNAP = self.mu_RNAP + \\\n",
    "              tf.reshape(K.sum(self.theta_RNAP_lc * x_RNAP_lc, axis=[1, 2]),\n",
    "                         shape=[-1, 1])                   \n",
    "        \n",
    "        # partition function\n",
    "        Z = (1+K.exp(-phi_CRP)+K.exp(-phi_xylR)+ \\\n",
    "             K.exp(-phi_RNAP)+ \\\n",
    "             K.exp(-phi_xylR-phi_RNAP-self.I_rx)+ \\\n",
    "             #K.exp(-phi_CRP-phi_RNAP-self.I_cr)+ \\\n",
    "             K.exp(-phi_CRP-phi_RNAP)+ \\\n",
    "             K.exp(-phi_CRP-phi_xylR-phi_RNAP-self.I_cx-self.I_rx) +\\\n",
    "             K.exp(-phi_CRP-phi_xylR-self.I_cx)\n",
    "            )\n",
    "        \n",
    "        transcription_states =  K.exp(-phi_RNAP)+ \\\n",
    "                                K.exp(-phi_xylR-phi_RNAP-self.I_rx)+ \\\n",
    "                                K.exp(-phi_CRP-phi_RNAP)+ \\\n",
    "                                K.exp(-phi_CRP-phi_xylR-phi_RNAP-self.I_cx-self.I_rx)\n",
    "        \n",
    "        \n",
    "        \n",
    "        # compute rate of transcription\n",
    "        t = (self.tsat)*(transcription_states)/Z\n",
    "        \n",
    "        \n",
    "        # return rate of transcription\n",
    "        return t\n"
   ]
  },
  {
   "cell_type": "code",
   "execution_count": 10,
   "metadata": {},
   "outputs": [],
   "source": [
    "# define custom gp_map parameters dictionary\n",
    "\n",
    "gpmap_kwargs = {'L':L,\n",
    "                'C':4,\n",
    "                'theta_regularization': 0.1,\n",
    "                'CRP_start':37,\n",
    "                'CRP_end':57,\n",
    "                'xylR_start':58,\n",
    "                'xylR_end':89,\n",
    "                'RNAP_start':91,\n",
    "                'RNAP_end':122,\n",
    "                'regularizer':0.1}\n"
   ]
  },
  {
   "cell_type": "code",
   "execution_count": 11,
   "metadata": {
    "scrolled": false
   },
   "outputs": [
    {
     "name": "stdout",
     "output_type": "stream",
     "text": [
      "WARNING:tensorflow:AutoGraph could not transform <bound method ThermodynamicLayer.call of <__main__.ThermodynamicLayer object at 0x7f96f1302908>> and will run it as-is.\n",
      "Please report this to the TensorFlow team. When filing the bug, set the verbosity to 10 (on Linux, `export AUTOGRAPH_VERBOSITY=10`) and attach the full output.\n",
      "Cause: invalid syntax (<unknown>, line 34)\n",
      "To silence this warning, decorate the function with @tf.autograph.experimental.do_not_convert\n",
      "WARNING: AutoGraph could not transform <bound method ThermodynamicLayer.call of <__main__.ThermodynamicLayer object at 0x7f96f1302908>> and will run it as-is.\n",
      "Please report this to the TensorFlow team. When filing the bug, set the verbosity to 10 (on Linux, `export AUTOGRAPH_VERBOSITY=10`) and attach the full output.\n",
      "Cause: invalid syntax (<unknown>, line 34)\n",
      "To silence this warning, decorate the function with @tf.autograph.experimental.do_not_convert\n"
     ]
    }
   ],
   "source": [
    "\n",
    "\n",
    "# # Create model\n",
    "model = mavenn.Model(L=L, \n",
    "                     Y=Y,\n",
    "                     alphabet='dna', \n",
    "                     regression_type='MPA', \n",
    "                     gpmap_type='custom',\n",
    "                     gpmap_kwargs=gpmap_kwargs,\n",
    "                     custom_gpmap=ThermodynamicLayer)"
   ]
  },
  {
   "cell_type": "code",
   "execution_count": 12,
   "metadata": {},
   "outputs": [
    {
     "name": "stdout",
     "output_type": "stream",
     "text": [
      "N = 1,104,034 observations set as training data.\n",
      "Using 25.0% for validation.\n",
      "Data shuffled.\n",
      "Time to set data: 55.4 sec.\n"
     ]
    },
    {
     "name": "stderr",
     "output_type": "stream",
     "text": [
      "Using TensorFlow backend.\n",
      "Exception ignored in: <bound method tqdm.__del__ of <tqdm.auto.tqdm object at 0x7f96e490f860>>\n",
      "Traceback (most recent call last):\n",
      "  File \"/Users/tareen/miniconda3/lib/python3.6/site-packages/tqdm/std.py\", line 1147, in __del__\n",
      "    self.close()\n",
      "  File \"/Users/tareen/miniconda3/lib/python3.6/site-packages/tqdm/notebook.py\", line 289, in close\n",
      "    self.disp(bar_style='success', check_delay=False)\n",
      "AttributeError: 'tqdm' object has no attribute 'disp'\n"
     ]
    },
    {
     "name": "stdout",
     "output_type": "stream",
     "text": [
      "Warning: linear initialization has no effect when gpmap_type=custom.\n",
      "Epoch 1/100\n",
      "1656/1656 [==============================] - 17s 9ms/step - loss: 3184.1024 - I_var: -0.0323 - val_loss: 3055.6135 - val_I_var: -0.0030\n",
      "Epoch 2/100\n",
      "1656/1656 [==============================] - 8s 5ms/step - loss: 3051.8081 - I_var: -0.0021 - val_loss: 3039.7500 - val_I_var: -0.0019\n",
      "Epoch 3/100\n",
      "1656/1656 [==============================] - 8s 5ms/step - loss: 3035.2972 - I_var: 0.0271 - val_loss: 2812.8984 - val_I_var: 0.2170\n",
      "Epoch 4/100\n",
      "1656/1656 [==============================] - 8s 5ms/step - loss: 2760.1141 - I_var: 0.2946 - val_loss: 2708.1917 - val_I_var: 0.3198\n",
      "Epoch 5/100\n",
      "1656/1656 [==============================] - 8s 5ms/step - loss: 2704.3926 - I_var: 0.3283 - val_loss: 2694.9001 - val_I_var: 0.3322\n",
      "Epoch 6/100\n",
      "1656/1656 [==============================] - 8s 5ms/step - loss: 2693.7958 - I_var: 0.3354 - val_loss: 2689.8606 - val_I_var: 0.3364\n",
      "Epoch 7/100\n",
      "1656/1656 [==============================] - 8s 5ms/step - loss: 2689.1224 - I_var: 0.3383 - val_loss: 2687.0464 - val_I_var: 0.3386\n",
      "Epoch 8/100\n",
      "1656/1656 [==============================] - 8s 5ms/step - loss: 2687.0941 - I_var: 0.3399 - val_loss: 2685.5867 - val_I_var: 0.3396\n",
      "Epoch 9/100\n",
      "1656/1656 [==============================] - 8s 5ms/step - loss: 2684.6826 - I_var: 0.3409 - val_loss: 2684.0610 - val_I_var: 0.3408\n",
      "Epoch 10/100\n",
      "1656/1656 [==============================] - 8s 5ms/step - loss: 2683.7277 - I_var: 0.3418 - val_loss: 2683.0605 - val_I_var: 0.3414\n",
      "Epoch 11/100\n",
      "1656/1656 [==============================] - 8s 5ms/step - loss: 2685.2057 - I_var: 0.3424 - val_loss: 2682.1648 - val_I_var: 0.3421\n",
      "Epoch 12/100\n",
      "1656/1656 [==============================] - 8s 5ms/step - loss: 2682.0558 - I_var: 0.3429 - val_loss: 2681.8306 - val_I_var: 0.3422\n",
      "Epoch 13/100\n",
      "1656/1656 [==============================] - 8s 5ms/step - loss: 2681.5851 - I_var: 0.3434 - val_loss: 2680.7144 - val_I_var: 0.3430\n",
      "Epoch 14/100\n",
      "1656/1656 [==============================] - 8s 5ms/step - loss: 2681.6544 - I_var: 0.3440 - val_loss: 2680.4829 - val_I_var: 0.3431\n",
      "Epoch 15/100\n",
      "1656/1656 [==============================] - 8s 5ms/step - loss: 2680.3433 - I_var: 0.3444 - val_loss: 2679.8430 - val_I_var: 0.3435\n",
      "Epoch 16/100\n",
      "1656/1656 [==============================] - 8s 5ms/step - loss: 2680.6938 - I_var: 0.3450 - val_loss: 2680.3010 - val_I_var: 0.3429\n",
      "Epoch 17/100\n",
      "1656/1656 [==============================] - 8s 5ms/step - loss: 2679.4724 - I_var: 0.3454 - val_loss: 2677.9780 - val_I_var: 0.3451\n",
      "Epoch 18/100\n",
      "1656/1656 [==============================] - 8s 5ms/step - loss: 2676.7060 - I_var: 0.3459 - val_loss: 2677.4524 - val_I_var: 0.3455\n",
      "Epoch 19/100\n",
      "1656/1656 [==============================] - 8s 5ms/step - loss: 2677.2799 - I_var: 0.3464 - val_loss: 2676.9382 - val_I_var: 0.3458\n",
      "Epoch 20/100\n",
      "1656/1656 [==============================] - 8s 5ms/step - loss: 2677.4615 - I_var: 0.3467 - val_loss: 2676.3792 - val_I_var: 0.3463\n",
      "Epoch 21/100\n",
      "1656/1656 [==============================] - 8s 5ms/step - loss: 2678.6067 - I_var: 0.3470 - val_loss: 2676.4084 - val_I_var: 0.3462\n",
      "Epoch 22/100\n",
      "1656/1656 [==============================] - 8s 5ms/step - loss: 2675.5244 - I_var: 0.3473 - val_loss: 2675.6731 - val_I_var: 0.3468\n",
      "Epoch 23/100\n",
      "1656/1656 [==============================] - 8s 5ms/step - loss: 2677.6466 - I_var: 0.3474 - val_loss: 2675.6516 - val_I_var: 0.3467\n",
      "Epoch 24/100\n",
      "1656/1656 [==============================] - 8s 5ms/step - loss: 2675.1355 - I_var: 0.3476 - val_loss: 2675.2578 - val_I_var: 0.3470\n",
      "Epoch 25/100\n",
      "1656/1656 [==============================] - 8s 5ms/step - loss: 2676.7102 - I_var: 0.3478 - val_loss: 2674.7820 - val_I_var: 0.3473\n",
      "Epoch 26/100\n",
      "1656/1656 [==============================] - 8s 5ms/step - loss: 2675.0061 - I_var: 0.3479 - val_loss: 2676.2859 - val_I_var: 0.3457\n",
      "Epoch 27/100\n",
      "1656/1656 [==============================] - 8s 5ms/step - loss: 2674.7626 - I_var: 0.3479 - val_loss: 2674.5654 - val_I_var: 0.3473\n",
      "Epoch 28/100\n",
      "1656/1656 [==============================] - 9s 5ms/step - loss: 2676.3947 - I_var: 0.3480 - val_loss: 2674.3279 - val_I_var: 0.3475\n",
      "Epoch 29/100\n",
      "1656/1656 [==============================] - 8s 5ms/step - loss: 2674.2778 - I_var: 0.3481 - val_loss: 2674.0557 - val_I_var: 0.3477\n",
      "Epoch 30/100\n",
      "1656/1656 [==============================] - 8s 5ms/step - loss: 2674.2736 - I_var: 0.3481 - val_loss: 2674.6343 - val_I_var: 0.3470\n",
      "Epoch 31/100\n",
      "1656/1656 [==============================] - 8s 5ms/step - loss: 2674.5614 - I_var: 0.3481 - val_loss: 2674.0879 - val_I_var: 0.3475\n",
      "Epoch 32/100\n",
      "1656/1656 [==============================] - 8s 5ms/step - loss: 2672.8819 - I_var: 0.3482 - val_loss: 2674.0503 - val_I_var: 0.3474\n",
      "Epoch 33/100\n",
      "1656/1656 [==============================] - 8s 5ms/step - loss: 2675.0278 - I_var: 0.3482 - val_loss: 2674.0200 - val_I_var: 0.3474\n",
      "Epoch 34/100\n",
      "1656/1656 [==============================] - 8s 5ms/step - loss: 2672.2651 - I_var: 0.3483 - val_loss: 2673.6008 - val_I_var: 0.3477\n",
      "Epoch 35/100\n",
      "1656/1656 [==============================] - 8s 5ms/step - loss: 2674.5044 - I_var: 0.3483 - val_loss: 2673.3477 - val_I_var: 0.3479\n",
      "Epoch 36/100\n",
      "1656/1656 [==============================] - 8s 5ms/step - loss: 2673.9708 - I_var: 0.3483 - val_loss: 2673.2957 - val_I_var: 0.3479\n",
      "Epoch 37/100\n",
      "1656/1656 [==============================] - 8s 5ms/step - loss: 2674.2085 - I_var: 0.3483 - val_loss: 2673.1775 - val_I_var: 0.3479\n",
      "Epoch 38/100\n",
      "1656/1656 [==============================] - 8s 5ms/step - loss: 2672.7505 - I_var: 0.3485 - val_loss: 2673.2000 - val_I_var: 0.3478\n",
      "Epoch 39/100\n",
      "1656/1656 [==============================] - 8s 5ms/step - loss: 2672.3392 - I_var: 0.3485 - val_loss: 2673.7197 - val_I_var: 0.3473\n",
      "Epoch 40/100\n",
      "1656/1656 [==============================] - 8s 5ms/step - loss: 2671.8553 - I_var: 0.3485 - val_loss: 2672.9578 - val_I_var: 0.3480\n",
      "Epoch 41/100\n",
      "1656/1656 [==============================] - 8s 5ms/step - loss: 2673.5415 - I_var: 0.3485 - val_loss: 2672.8943 - val_I_var: 0.3479\n",
      "Epoch 42/100\n",
      "1656/1656 [==============================] - 8s 5ms/step - loss: 2673.3892 - I_var: 0.3485 - val_loss: 2672.7480 - val_I_var: 0.3481\n",
      "Epoch 43/100\n",
      "1656/1656 [==============================] - 8s 5ms/step - loss: 2674.1637 - I_var: 0.3484 - val_loss: 2672.8318 - val_I_var: 0.3479\n",
      "Epoch 44/100\n",
      "1656/1656 [==============================] - 8s 5ms/step - loss: 2673.7090 - I_var: 0.3485 - val_loss: 2673.3328 - val_I_var: 0.3474\n",
      "Epoch 45/100\n",
      "1656/1656 [==============================] - 8s 5ms/step - loss: 2673.0421 - I_var: 0.3484 - val_loss: 2672.9629 - val_I_var: 0.3477\n",
      "Epoch 46/100\n",
      "1656/1656 [==============================] - 8s 5ms/step - loss: 2672.2376 - I_var: 0.3485 - val_loss: 2673.0149 - val_I_var: 0.3476\n",
      "Epoch 47/100\n",
      "1656/1656 [==============================] - 8s 5ms/step - loss: 2671.9011 - I_var: 0.3486 - val_loss: 2672.3457 - val_I_var: 0.3482\n",
      "Epoch 48/100\n",
      "1656/1656 [==============================] - 8s 5ms/step - loss: 2673.6798 - I_var: 0.3486 - val_loss: 2672.4182 - val_I_var: 0.3481\n",
      "Epoch 49/100\n",
      "1656/1656 [==============================] - 8s 5ms/step - loss: 2672.8690 - I_var: 0.3486 - val_loss: 2672.3831 - val_I_var: 0.3481\n",
      "Epoch 50/100\n",
      "1656/1656 [==============================] - 8s 5ms/step - loss: 2671.6830 - I_var: 0.3486 - val_loss: 2672.9546 - val_I_var: 0.3475\n",
      "Epoch 51/100\n",
      "1656/1656 [==============================] - 8s 5ms/step - loss: 2674.2016 - I_var: 0.3486 - val_loss: 2672.5225 - val_I_var: 0.3479\n",
      "Epoch 52/100\n",
      "1656/1656 [==============================] - 8s 5ms/step - loss: 2673.5294 - I_var: 0.3486 - val_loss: 2672.2905 - val_I_var: 0.3481\n",
      "Epoch 53/100\n",
      "1656/1656 [==============================] - 8s 5ms/step - loss: 2673.6045 - I_var: 0.3487 - val_loss: 2672.0542 - val_I_var: 0.3482\n",
      "Epoch 54/100\n",
      "1656/1656 [==============================] - 8s 5ms/step - loss: 2672.6764 - I_var: 0.3486 - val_loss: 2672.1492 - val_I_var: 0.3481\n",
      "Epoch 55/100\n",
      "1656/1656 [==============================] - 8s 5ms/step - loss: 2672.2612 - I_var: 0.3486 - val_loss: 2672.1643 - val_I_var: 0.3480\n",
      "Epoch 56/100\n"
     ]
    },
    {
     "name": "stdout",
     "output_type": "stream",
     "text": [
      "1656/1656 [==============================] - 8s 5ms/step - loss: 2671.9512 - I_var: 0.3487 - val_loss: 2672.1667 - val_I_var: 0.3480\n",
      "Epoch 57/100\n",
      "1656/1656 [==============================] - 8s 5ms/step - loss: 2672.2749 - I_var: 0.3487 - val_loss: 2672.5413 - val_I_var: 0.3476\n",
      "Epoch 58/100\n",
      "1656/1656 [==============================] - 8s 5ms/step - loss: 2672.9705 - I_var: 0.3487 - val_loss: 2672.0508 - val_I_var: 0.3481\n",
      "Epoch 59/100\n",
      "1656/1656 [==============================] - 8s 5ms/step - loss: 2671.8500 - I_var: 0.3486 - val_loss: 2671.7883 - val_I_var: 0.3483\n",
      "Epoch 60/100\n",
      "1656/1656 [==============================] - 8s 5ms/step - loss: 2670.6935 - I_var: 0.3487 - val_loss: 2671.7378 - val_I_var: 0.3483\n",
      "Epoch 61/100\n",
      "1656/1656 [==============================] - 8s 5ms/step - loss: 2670.4130 - I_var: 0.3487 - val_loss: 2671.8799 - val_I_var: 0.3481\n",
      "Epoch 62/100\n",
      "1656/1656 [==============================] - 8s 5ms/step - loss: 2672.3397 - I_var: 0.3487 - val_loss: 2671.7883 - val_I_var: 0.3482\n",
      "Epoch 63/100\n",
      "1656/1656 [==============================] - 8s 5ms/step - loss: 2672.6134 - I_var: 0.3487 - val_loss: 2671.9517 - val_I_var: 0.3480\n",
      "Epoch 64/100\n",
      "1656/1656 [==============================] - 8s 5ms/step - loss: 2672.8571 - I_var: 0.3487 - val_loss: 2671.9353 - val_I_var: 0.3480\n",
      "Epoch 65/100\n",
      "1656/1656 [==============================] - 8s 5ms/step - loss: 2672.5341 - I_var: 0.3487 - val_loss: 2671.6321 - val_I_var: 0.3483\n",
      "Epoch 66/100\n",
      "1656/1656 [==============================] - 8s 5ms/step - loss: 2672.9242 - I_var: 0.3487 - val_loss: 2671.9072 - val_I_var: 0.3480\n",
      "Epoch 67/100\n",
      "1656/1656 [==============================] - 8s 5ms/step - loss: 2672.5681 - I_var: 0.3487 - val_loss: 2671.5286 - val_I_var: 0.3483\n",
      "Epoch 68/100\n",
      "1656/1656 [==============================] - 8s 5ms/step - loss: 2672.7507 - I_var: 0.3487 - val_loss: 2671.4824 - val_I_var: 0.3483\n",
      "Epoch 69/100\n",
      "1656/1656 [==============================] - 8s 5ms/step - loss: 2671.8500 - I_var: 0.3488 - val_loss: 2671.7410 - val_I_var: 0.3480\n",
      "Epoch 70/100\n",
      "1656/1656 [==============================] - 8s 5ms/step - loss: 2672.7886 - I_var: 0.3487 - val_loss: 2671.8760 - val_I_var: 0.3479\n",
      "Epoch 71/100\n",
      "1656/1656 [==============================] - 8s 5ms/step - loss: 2672.8134 - I_var: 0.3488 - val_loss: 2671.4543 - val_I_var: 0.3483\n",
      "Epoch 72/100\n",
      "1656/1656 [==============================] - 8s 5ms/step - loss: 2671.9207 - I_var: 0.3487 - val_loss: 2672.2922 - val_I_var: 0.3474\n",
      "Epoch 73/100\n",
      "1656/1656 [==============================] - 8s 5ms/step - loss: 2669.8187 - I_var: 0.3488 - val_loss: 2671.3491 - val_I_var: 0.3483\n",
      "Epoch 74/100\n",
      "1656/1656 [==============================] - 8s 5ms/step - loss: 2671.8210 - I_var: 0.3487 - val_loss: 2672.6030 - val_I_var: 0.3471\n",
      "Epoch 75/100\n",
      "1656/1656 [==============================] - 8s 5ms/step - loss: 2671.3682 - I_var: 0.3488 - val_loss: 2671.3252 - val_I_var: 0.3483\n",
      "Epoch 76/100\n",
      "1656/1656 [==============================] - 8s 5ms/step - loss: 2673.0123 - I_var: 0.3488 - val_loss: 2672.0837 - val_I_var: 0.3476\n",
      "Epoch 77/100\n",
      "1656/1656 [==============================] - 8s 5ms/step - loss: 2671.4724 - I_var: 0.3488 - val_loss: 2671.1841 - val_I_var: 0.3484\n",
      "Epoch 78/100\n",
      "1656/1656 [==============================] - 8s 5ms/step - loss: 2671.2840 - I_var: 0.3488 - val_loss: 2671.3870 - val_I_var: 0.3482\n",
      "Epoch 79/100\n",
      "1656/1656 [==============================] - 8s 5ms/step - loss: 2670.9645 - I_var: 0.3488 - val_loss: 2671.0618 - val_I_var: 0.3485\n",
      "Epoch 80/100\n",
      "1656/1656 [==============================] - 8s 5ms/step - loss: 2672.5483 - I_var: 0.3488 - val_loss: 2671.0793 - val_I_var: 0.3484\n",
      "Epoch 81/100\n",
      "1656/1656 [==============================] - 8s 5ms/step - loss: 2669.9531 - I_var: 0.3489 - val_loss: 2671.0210 - val_I_var: 0.3484\n",
      "Epoch 82/100\n",
      "1656/1656 [==============================] - 8s 5ms/step - loss: 2671.9698 - I_var: 0.3488 - val_loss: 2670.9880 - val_I_var: 0.3485\n",
      "Epoch 83/100\n",
      "1656/1656 [==============================] - 8s 5ms/step - loss: 2672.0067 - I_var: 0.3489 - val_loss: 2671.1421 - val_I_var: 0.3483\n",
      "Epoch 84/100\n",
      "1656/1656 [==============================] - 8s 5ms/step - loss: 2672.0981 - I_var: 0.3489 - val_loss: 2671.0515 - val_I_var: 0.3484\n",
      "Epoch 85/100\n",
      "1656/1656 [==============================] - 8s 5ms/step - loss: 2671.6784 - I_var: 0.3488 - val_loss: 2671.3062 - val_I_var: 0.3481\n",
      "Epoch 86/100\n",
      "1656/1656 [==============================] - 8s 5ms/step - loss: 2670.5192 - I_var: 0.3489 - val_loss: 2671.7417 - val_I_var: 0.3477\n",
      "Epoch 87/100\n",
      "1656/1656 [==============================] - 8s 5ms/step - loss: 2670.4203 - I_var: 0.3488 - val_loss: 2671.2107 - val_I_var: 0.348231\n",
      "Epoch 88/100\n",
      "1656/1656 [==============================] - 8s 5ms/step - loss: 2670.0665 - I_var: 0.3488 - val_loss: 2670.9033 - val_I_var: 0.3484\n",
      "Epoch 89/100\n",
      "1656/1656 [==============================] - 8s 5ms/step - loss: 2670.8234 - I_var: 0.3488 - val_loss: 2670.9619 - val_I_var: 0.3483\n",
      "Epoch 90/100\n",
      "1656/1656 [==============================] - 8s 5ms/step - loss: 2670.4675 - I_var: 0.3489 - val_loss: 2670.8718 - val_I_var: 0.3484\n",
      "Epoch 91/100\n",
      "1656/1656 [==============================] - 8s 5ms/step - loss: 2670.7360 - I_var: 0.3489 - val_loss: 2670.8108 - val_I_var: 0.3485\n",
      "Epoch 92/100\n",
      "1656/1656 [==============================] - 8s 5ms/step - loss: 2673.1982 - I_var: 0.3489 - val_loss: 2671.6194 - val_I_var: 0.3477\n",
      "Epoch 93/100\n",
      "1656/1656 [==============================] - 8s 5ms/step - loss: 2671.4407 - I_var: 0.3489 - val_loss: 2671.0591 - val_I_var: 0.3482\n",
      "Epoch 94/100\n",
      "1656/1656 [==============================] - 8s 5ms/step - loss: 2669.3876 - I_var: 0.3489 - val_loss: 2670.9973 - val_I_var: 0.3482\n",
      "Epoch 95/100\n",
      "1656/1656 [==============================] - 8s 5ms/step - loss: 2672.7534 - I_var: 0.3488 - val_loss: 2671.0383 - val_I_var: 0.3482\n",
      "Epoch 96/100\n",
      "1656/1656 [==============================] - 8s 5ms/step - loss: 2669.8604 - I_var: 0.3489 - val_loss: 2670.6763 - val_I_var: 0.3485\n",
      "Epoch 97/100\n",
      "1656/1656 [==============================] - 8s 5ms/step - loss: 2671.7072 - I_var: 0.3489 - val_loss: 2670.6785 - val_I_var: 0.3485\n",
      "Epoch 98/100\n",
      "1656/1656 [==============================] - 8s 5ms/step - loss: 2672.4677 - I_var: 0.3489 - val_loss: 2671.0847 - val_I_var: 0.3481\n",
      "Epoch 99/100\n",
      "1656/1656 [==============================] - 8s 5ms/step - loss: 2671.5536 - I_var: 0.3489 - val_loss: 2670.6079 - val_I_var: 0.3485\n",
      "Epoch 100/100\n",
      "1656/1656 [==============================] - 8s 5ms/step - loss: 2670.3217 - I_var: 0.3489 - val_loss: 2670.9182 - val_I_var: 0.3482\n",
      "Training time: 867.0 seconds\n"
     ]
    },
    {
     "data": {
      "text/plain": [
       "<tensorflow.python.keras.callbacks.History at 0x7f96cddcb358>"
      ]
     },
     "execution_count": 12,
     "metadata": {},
     "output_type": "execute_result"
    }
   ],
   "source": [
    "# Set training data\n",
    "model.set_data(x=data_df['x'],\n",
    "               y=data_df[y_cols],\n",
    "               validation_flags=(data_df['set']=='validation'),\n",
    "               shuffle=True)\n",
    "\n",
    "# Fit model to data\n",
    "model.fit(learning_rate=.0003,\n",
    "          epochs=100,\n",
    "          batch_size=500,\n",
    "          early_stopping=True,\n",
    "          early_stopping_patience=25,\n",
    "          linear_initialization=True)\n"
   ]
  },
  {
   "cell_type": "code",
   "execution_count": 27,
   "metadata": {},
   "outputs": [
    {
     "name": "stdout",
     "output_type": "stream",
     "text": [
      "Model saved to these files:\n",
      "\t21.21.19.xylE_models/xylE_model_1.pickle\n",
      "\t21.21.19.xylE_models/xylE_model_1.h5\n"
     ]
    }
   ],
   "source": [
    "model.save('21.21.19.xylE_models/xylE_model_1')"
   ]
  },
  {
   "cell_type": "code",
   "execution_count": 40,
   "metadata": {},
   "outputs": [],
   "source": [
    "#model = mavenn.load('21.21.19.xylE_models/xylE_model_1')"
   ]
  },
  {
   "cell_type": "code",
   "execution_count": 28,
   "metadata": {},
   "outputs": [
    {
     "name": "stdout",
     "output_type": "stream",
     "text": [
      "xylE_model_1.h5     xylE_model_1.pickle\r\n"
     ]
    }
   ],
   "source": [
    "!ls 21.21.19.xylE_models"
   ]
  },
  {
   "cell_type": "code",
   "execution_count": 29,
   "metadata": {},
   "outputs": [],
   "source": [
    "x_test = test_df['x']\n",
    "y_test = test_df[y_cols]"
   ]
  },
  {
   "cell_type": "code",
   "execution_count": 14,
   "metadata": {},
   "outputs": [
    {
     "name": "stdout",
     "output_type": "stream",
     "text": [
      "On test data:\n",
      "I_var_test: 0.349 +- 0.001 bits\n",
      "I_pred_test: 0.355 +- 0.001 bits\n"
     ]
    },
    {
     "data": {
      "text/plain": [
       "Text(0.5, 1.0, 'training hisotry')"
      ]
     },
     "execution_count": 14,
     "metadata": {},
     "output_type": "execute_result"
    },
    {
     "data": {
      "image/png": "[encoded data removed]",
      "text/plain": [
       "<Figure size 288x288 with 1 Axes>"
      ]
     },
     "metadata": {
      "needs_background": "light"
     },
     "output_type": "display_data"
    }
   ],
   "source": [
    "# Show training history\n",
    "print('On test data:')\n",
    "# x_test = test_df['x'].values\n",
    "# y_test = test_df[y_cols].values\n",
    "\n",
    "# Compute likelihood information\n",
    "I_var, dI_var =  model.I_variational(x=x_test, y=y_test)\n",
    "print(f'I_var_test: {I_var:.3f} +- {dI_var:.3f} bits') \n",
    "\n",
    "# Compute predictive information\n",
    "I_pred, dI_pred = model.I_predictive(x=x_test, y=y_test)\n",
    "print(f'I_pred_test: {I_pred:.3f} +- {dI_pred:.3f} bits')\n",
    "\n",
    "I_var_hist = model.history['I_var']\n",
    "val_I_var_hist = model.history['val_I_var']\n",
    "\n",
    "fig, ax = plt.subplots(1,1,figsize=[4,4])\n",
    "ax.plot(I_var_hist, label='I_var_train')\n",
    "ax.plot(val_I_var_hist, label='I_var_val')\n",
    "#ax.axhline(I_var, color='C2', linestyle=':', label='I_var_test')\n",
    "#ax.axhline(I_pred, color='C3', linestyle=':', label='I_pred_test')\n",
    "ax.legend()\n",
    "ax.set_xlabel('epochs')\n",
    "ax.set_ylabel('bits')\n",
    "ax.set_title('training hisotry')\n",
    "#ax.set_ylim([0, I_pred*1.2]);"
   ]
  },
  {
   "cell_type": "code",
   "execution_count": 15,
   "metadata": {},
   "outputs": [
    {
     "data": {
      "text/plain": [
       "-2.56484"
      ]
     },
     "execution_count": 15,
     "metadata": {},
     "output_type": "execute_result"
    }
   ],
   "source": [
    "model.get_nn().layers[2].I_rx.numpy()[0]"
   ]
  },
  {
   "cell_type": "code",
   "execution_count": 16,
   "metadata": {
    "collapsed": true
   },
   "outputs": [],
   "source": [
    "interaction_term = model.get_nn().layers[2].get_weights()[4]\n",
    "crp_weights = np.squeeze(model.get_nn().layers[2].theta_CRP_lc.numpy())\n",
    "xylR_weights = np.squeeze(model.get_nn().layers[2].theta_xylR_lc.numpy())\n",
    "rnap_weights = np.squeeze(model.get_nn().layers[2].theta_RNAP_lc.numpy())\n",
    "\n",
    "I_cx = model.get_nn().layers[2].I_cx.numpy()[0]\n",
    "I_rx = model.get_nn().layers[2].I_rx.numpy()[0]\n",
    "#print(f'interaction term = {interaction_term[0]:.3f} k_bT')"
   ]
  },
  {
   "cell_type": "code",
   "execution_count": 17,
   "metadata": {},
   "outputs": [
    {
     "data": {
      "text/plain": [
       "(-1.3222013998031616, -1.5902008485794068)"
      ]
     },
     "execution_count": 17,
     "metadata": {},
     "output_type": "execute_result"
    }
   ],
   "source": [
    "# -1.954364, -2.5270987\n",
    "# -1.9444253, -2.5044086\n",
    "I_cx*0.62, I_rx*0.62"
   ]
  },
  {
   "cell_type": "code",
   "execution_count": 18,
   "metadata": {
    "collapsed": true
   },
   "outputs": [],
   "source": [
    "crp_df = pd.DataFrame(crp_weights,columns=model.alphabet)\n",
    "xylR_df = pd.DataFrame(xylR_weights,columns=model.alphabet)\n",
    "rnap_df = pd.DataFrame(rnap_weights,columns=model.alphabet)"
   ]
  },
  {
   "cell_type": "code",
   "execution_count": null,
   "metadata": {
    "collapsed": true
   },
   "outputs": [],
   "source": []
  },
  {
   "cell_type": "code",
   "execution_count": 19,
   "metadata": {},
   "outputs": [
    {
     "data": {
      "image/png": "[encoded data removed]",
      "text/plain": [
       "<Figure size 1008x216 with 3 Axes>"
      ]
     },
     "metadata": {
      "needs_background": "light"
     },
     "output_type": "display_data"
    }
   ],
   "source": [
    "# # Get G-P map parameters in matrix form\n",
    "# theta = model.get_theta(gauge='uniform')\n",
    "\n",
    "# Create grid in phi space\n",
    "phi_lim = [-5, 3]\n",
    "phi_grid = np.linspace(phi_lim[0], phi_lim[1], 1000)\n",
    "\n",
    "# Create array of allowable y values\n",
    "Y = model.model.Y    # Y = number of bins\n",
    "y_lim = [-.5, Y-.5]\n",
    "y_all = range(Y)\n",
    "\n",
    "# Compute matrix of p(y|phi) values\n",
    "measurement_process = model.p_of_y_given_phi(y_all, phi_grid)\n",
    "\n",
    "# # Create figure with two panels\n",
    "fig, axs = plt.subplots(1,3,figsize=[14,3])\n",
    "\n",
    "tick_spacing=2\n",
    "crp_logo  = logomaker.Logo(-crp_df,ax=axs[0],center_values=True)\n",
    "crp_logo.style_xticks(anchor=0, spacing=tick_spacing, rotation=90)\n",
    "crp_logo.style_spines(visible=False)\n",
    "crp_logo.highlight_position_range(0,21,alpha=0.5,color='lavenderblush',label='CRP')\n",
    "#crp_logo.style_glyphs_in_sequence(sequence='.TGTGA......TCACA...', color='darkred')\n",
    "crp_logo.ax.set_xticklabels('%+d'%x for x in np.arange(-125,-107+1,tick_spacing))\n",
    "\n",
    "xylR_logo = logomaker.Logo(-xylR_df,ax=axs[1],center_values=True)\n",
    "xylR_logo.style_xticks(anchor=0, spacing=tick_spacing, rotation=90)\n",
    "xylR_logo.style_spines(visible=False)\n",
    "xylR_logo.ax.set_xticklabels('%+d'%x for x in np.arange(-104,-74+1,tick_spacing))\n",
    "xylR_logo.highlight_position_range(0,31,alpha=0.5,color='honeydew',label='RNAP')\n",
    "\n",
    "rnap_logo = logomaker.Logo(-rnap_df,ax=axs[2],center_values=True)\n",
    "rnap_logo.style_xticks(anchor=0, spacing=tick_spacing, rotation=90)\n",
    "rnap_logo.style_spines(visible=False)\n",
    "rnap_logo.highlight_position_range(0,31,alpha=0.5,color='lightcyan',label='RNAP')\n",
    "rnap_logo.ax.set_xticklabels('%+d'%x for x in np.arange(-73,-42+1,tick_spacing))\n",
    "\n",
    "# # # Right panel: draw measurement process as heatmap\n",
    "# ax = axs[3]\n",
    "# im = ax.imshow(measurement_process,\n",
    "#                cmap='Greens',\n",
    "#                extent=phi_lim+y_lim,\n",
    "#                vmin=0,\n",
    "#                origin='lower',\n",
    "#                interpolation='nearest',\n",
    "#                aspect=\"auto\")\n",
    "# ax.set_yticks(y_all)\n",
    "# ax.set_ylabel('bin number (y)')\n",
    "# ax.set_xlabel('latent phenotype ($\\phi$)')\n",
    "# ax.set_title('measurement process')\n",
    "# cb = plt.colorbar(im)\n",
    "# cb.set_label('probability  $p(y|\\phi)$', rotation=-90, va=\"bottom\")\n",
    "\n",
    "# Fix up plot\n",
    "fig.tight_layout(w_pad=3)\n",
    "#fig.savefig('thermodynmic_custom_gpmap_mpa_visualization_xylE.pdf',bbox_index='tight',dpi=500)\n",
    "# plt.show()"
   ]
  },
  {
   "cell_type": "code",
   "execution_count": 20,
   "metadata": {},
   "outputs": [
    {
     "data": {
      "image/png": "[encoded data removed]",
      "text/plain": [
       "<Figure size 360x288 with 2 Axes>"
      ]
     },
     "metadata": {
      "needs_background": "light"
     },
     "output_type": "display_data"
    }
   ],
   "source": [
    "fig, ax = plt.subplots(1,1,figsize=[5,4])\n",
    "\n",
    "im = ax.imshow(np.sort(np.sort(measurement_process,axis=1),axis=0),\n",
    "               cmap='Greens',\n",
    "               extent=phi_lim+y_lim,\n",
    "               vmin=0,\n",
    "               origin='lower',\n",
    "               interpolation='nearest',\n",
    "               aspect=\"auto\")\n",
    "#ax.set_yticks(y_all)\n",
    "ax.set_ylabel('bin number (y)')\n",
    "ax.set_xlabel('latent phenotype ($\\phi$)')\n",
    "ax.set_title('measurement process')\n",
    "cb = plt.colorbar(im)\n",
    "cb.set_label('probability  $p(y|\\phi)$', rotation=-90, va=\"bottom\")"
   ]
  },
  {
   "cell_type": "code",
   "execution_count": 21,
   "metadata": {},
   "outputs": [
    {
     "data": {
      "image/png": "[encoded data removed]",
      "text/plain": [
       "<Figure size 360x288 with 2 Axes>"
      ]
     },
     "metadata": {
      "needs_background": "light"
     },
     "output_type": "display_data"
    }
   ],
   "source": [
    "fig, ax = plt.subplots(1,1,figsize=[5,4])\n",
    "\n",
    "#im = ax.imshow(np.sort(measurement_process,axis=0),\n",
    "im = ax.imshow(measurement_process,\n",
    "               cmap='Greens',\n",
    "               extent=phi_lim+y_lim,\n",
    "               vmin=0,\n",
    "               origin='lower',\n",
    "               interpolation='nearest',\n",
    "               aspect=\"auto\")\n",
    "ax.set_yticks(y_all)\n",
    "ax.set_ylabel('bin number (y)')\n",
    "ax.set_xlabel('latent phenotype ($\\phi$)')\n",
    "ax.set_title('measurement process')\n",
    "cb = plt.colorbar(im)\n",
    "cb.set_label('probability  $p(y|\\phi)$', rotation=-90, va=\"bottom\")"
   ]
  },
  {
   "cell_type": "code",
   "execution_count": 22,
   "metadata": {},
   "outputs": [],
   "source": [
    "# # # Create figure with two panels\n",
    "# fig, axs = plt.subplots(1,1,figsize=[3.5,1.6])\n",
    "\n",
    "# tick_spacing=3\n",
    "# # crp_logo  = logomaker.Logo(-0.62*crp_df,ax=axs,center_values=True)\n",
    "# # crp_logo.style_xticks(anchor=0, spacing=tick_spacing, rotation=90)\n",
    "# # crp_logo.style_spines(visible=False)\n",
    "# # crp_logo.highlight_position_range(0,21,alpha=0.1,color='#9981B3',label='CRP')\n",
    "# # #crp_logo.style_glyphs_in_sequence(sequence='.TGTGA......TCACA...', color='darkred')\n",
    "# # crp_logo.ax.set_xticklabels('%+d'%x for x in np.arange(-125,-107+1,tick_spacing))\n",
    "# # #axs.set_xlabel('Position l')\n",
    "# # crp_logo.ax.set_ylabel(\"$-\\Delta \\Delta G$ (kcal/mol)\", labelpad=-1)\n",
    "# # axs.set_yticks([-0.25,0,0.25])\n",
    "# # fig.savefig('xylE_figure/crp_logo.png',bbox_inches='tight',dpi=200)\n",
    "# # plt.show()\n",
    "\n",
    "# xylR_logo = logomaker.Logo(-0.62*xylR_df,ax=axs,center_values=True)\n",
    "# xylR_logo.style_xticks(anchor=0, spacing=tick_spacing, rotation=90)\n",
    "# xylR_logo.style_spines(visible=False)\n",
    "# xylR_logo.ax.set_xticklabels('%+d'%x for x in np.arange(-104,-74+1,tick_spacing))\n",
    "# xylR_logo.highlight_position_range(0,31,alpha=0.1,color='#b6cc34',label='xylR')\n",
    "# xylR_logo.ax.set_ylabel(\"$-\\Delta \\Delta G$ (kcal/mol)\", labelpad=-1)\n",
    "# axs.set_yticks([-0.5, 0, 0.5])\n",
    "# #fig.savefig('xylR_logo.png',bbox_inches='tight',dpi=200)\n",
    "# plt.show()\n",
    "\n",
    "# # rnap_logo = logomaker.Logo(-0.62*rnap_df,ax=axs,center_values=True)\n",
    "# # rnap_logo.style_xticks(anchor=0, spacing=tick_spacing, rotation=90)\n",
    "# # rnap_logo.style_spines(visible=False)\n",
    "# # rnap_logo.highlight_position_range(0,31,alpha=0.7,color='lightcyan',label='RNAP')\n",
    "# # rnap_logo.ax.set_xticklabels('%+d'%x for x in np.arange(-73,-42+1,tick_spacing))\n",
    "# # rnap_logo.ax.set_ylabel(\"$-\\Delta \\Delta G$ (kcal/mol)\", labelpad=-1)\n",
    "# # axs.set_xlabel('Position (relative to xylE gene)')\n",
    "# # axs.set_yticks([-0.5, 0, 0.5])\n",
    "# # axs.xaxis.set_label_coords(0.5, -0.39)\n",
    "# # fig.savefig('xylE_figure/rnap_logo.png',bbox_inches='tight',dpi=200)\n",
    "# # plt.show()"
   ]
  },
  {
   "cell_type": "code",
   "execution_count": 43,
   "metadata": {},
   "outputs": [],
   "source": [
    "x_train = data_df['x'].values"
   ]
  },
  {
   "cell_type": "code",
   "execution_count": 44,
   "metadata": {},
   "outputs": [
    {
     "data": {
      "text/plain": [
       "1379852"
      ]
     },
     "execution_count": 44,
     "metadata": {},
     "output_type": "execute_result"
    }
   ],
   "source": [
    "number_of_seqs_to_simulate = x_train.shape[0]+x_test.shape[0]\n",
    "number_of_seqs_to_simulate"
   ]
  },
  {
   "cell_type": "code",
   "execution_count": 35,
   "metadata": {},
   "outputs": [
    {
     "name": "stdout",
     "output_type": "stream",
     "text": [
      "0.19690704345703125\n"
     ]
    }
   ],
   "source": [
    "import time\n",
    "\n",
    "start = time.time()\n",
    "sim_df = model.simulate_dataset(1000)\n",
    "end = time.time()\n",
    "print(end - start)\n"
   ]
  },
  {
   "cell_type": "code",
   "execution_count": 36,
   "metadata": {},
   "outputs": [
    {
     "name": "stdout",
     "output_type": "stream",
     "text": [
      "test N: 199\n"
     ]
    }
   ],
   "source": [
    "sim_df\n",
    "ix_test = sim_df['set']=='test'\n",
    "test_df = sim_df[ix_test].reset_index(drop=True)\n",
    "print(f'test N: {len(test_df):,}')"
   ]
  },
  {
   "cell_type": "code",
   "execution_count": 45,
   "metadata": {},
   "outputs": [
    {
     "name": "stderr",
     "output_type": "stream",
     "text": [
      "Exception ignored in: <bound method tqdm.__del__ of <tqdm.auto.tqdm object at 0x7f8735f5bbe0>>\n",
      "Traceback (most recent call last):\n",
      "  File \"/Users/tareen/miniconda3/lib/python3.6/site-packages/tqdm/std.py\", line 1147, in __del__\n",
      "    self.close()\n",
      "  File \"/Users/tareen/miniconda3/lib/python3.6/site-packages/tqdm/notebook.py\", line 289, in close\n",
      "    self.disp(bar_style='success', check_delay=False)\n",
      "AttributeError: 'tqdm' object has no attribute 'disp'\n"
     ]
    },
    {
     "name": "stdout",
     "output_type": "stream",
     "text": [
      "Training time: 1136.3 seconds\n",
      "model number = 0, I_cx =  -1.058278591632843, I_rx -1.5169657373428345\n"
     ]
    },
    {
     "name": "stderr",
     "output_type": "stream",
     "text": [
      "Exception ignored in: <bound method tqdm.__del__ of <tqdm.auto.tqdm object at 0x7f8735f56898>>\n",
      "Traceback (most recent call last):\n",
      "  File \"/Users/tareen/miniconda3/lib/python3.6/site-packages/tqdm/std.py\", line 1147, in __del__\n",
      "    self.close()\n",
      "  File \"/Users/tareen/miniconda3/lib/python3.6/site-packages/tqdm/notebook.py\", line 289, in close\n",
      "    self.disp(bar_style='success', check_delay=False)\n",
      "AttributeError: 'tqdm' object has no attribute 'disp'\n"
     ]
    },
    {
     "name": "stdout",
     "output_type": "stream",
     "text": [
      "Training time: 1126.6 seconds\n",
      "model number = 1, I_cx =  -1.9991697120666503, I_rx -1.699657950401306\n"
     ]
    },
    {
     "name": "stderr",
     "output_type": "stream",
     "text": [
      "Exception ignored in: <bound method tqdm.__del__ of <tqdm.auto.tqdm object at 0x7f91673ca2e8>>\n",
      "Traceback (most recent call last):\n",
      "  File \"/Users/tareen/miniconda3/lib/python3.6/site-packages/tqdm/std.py\", line 1147, in __del__\n",
      "    self.close()\n",
      "  File \"/Users/tareen/miniconda3/lib/python3.6/site-packages/tqdm/notebook.py\", line 289, in close\n",
      "    self.disp(bar_style='success', check_delay=False)\n",
      "AttributeError: 'tqdm' object has no attribute 'disp'\n"
     ]
    },
    {
     "name": "stdout",
     "output_type": "stream",
     "text": [
      "Training time: 1136.0 seconds\n",
      "model number = 2, I_cx =  -1.11902982711792, I_rx -1.5306730413436889\n"
     ]
    },
    {
     "name": "stderr",
     "output_type": "stream",
     "text": [
      "Exception ignored in: <bound method tqdm.__del__ of <tqdm.auto.tqdm object at 0x7f9719d29e10>>\n",
      "Traceback (most recent call last):\n",
      "  File \"/Users/tareen/miniconda3/lib/python3.6/site-packages/tqdm/std.py\", line 1147, in __del__\n",
      "    self.close()\n",
      "  File \"/Users/tareen/miniconda3/lib/python3.6/site-packages/tqdm/notebook.py\", line 289, in close\n",
      "    self.disp(bar_style='success', check_delay=False)\n",
      "AttributeError: 'tqdm' object has no attribute 'disp'\n"
     ]
    },
    {
     "name": "stdout",
     "output_type": "stream",
     "text": [
      "Training time: 777.7 seconds\n",
      "model number = 3, I_cx =  -1.0872175884246826, I_rx -1.5490790843963622\n"
     ]
    },
    {
     "name": "stderr",
     "output_type": "stream",
     "text": [
      "Exception ignored in: <bound method tqdm.__del__ of <tqdm.auto.tqdm object at 0x7f80768459b0>>\n",
      "Traceback (most recent call last):\n",
      "  File \"/Users/tareen/miniconda3/lib/python3.6/site-packages/tqdm/std.py\", line 1147, in __del__\n",
      "    self.close()\n",
      "  File \"/Users/tareen/miniconda3/lib/python3.6/site-packages/tqdm/notebook.py\", line 289, in close\n",
      "    self.disp(bar_style='success', check_delay=False)\n",
      "AttributeError: 'tqdm' object has no attribute 'disp'\n"
     ]
    },
    {
     "name": "stdout",
     "output_type": "stream",
     "text": [
      "Training time: 921.9 seconds\n",
      "model number = 4, I_cx =  -1.082081377506256, I_rx -1.5428711080551147\n"
     ]
    },
    {
     "name": "stderr",
     "output_type": "stream",
     "text": [
      "Exception ignored in: <bound method tqdm.__del__ of <tqdm.auto.tqdm object at 0x7f807bce1898>>\n",
      "Traceback (most recent call last):\n",
      "  File \"/Users/tareen/miniconda3/lib/python3.6/site-packages/tqdm/std.py\", line 1147, in __del__\n",
      "    self.close()\n",
      "  File \"/Users/tareen/miniconda3/lib/python3.6/site-packages/tqdm/notebook.py\", line 289, in close\n",
      "    self.disp(bar_style='success', check_delay=False)\n",
      "AttributeError: 'tqdm' object has no attribute 'disp'\n"
     ]
    },
    {
     "name": "stdout",
     "output_type": "stream",
     "text": [
      "Training time: 1127.0 seconds\n",
      "model number = 5, I_cx =  -1.1179259848594665, I_rx -1.5333170890808105\n"
     ]
    },
    {
     "name": "stderr",
     "output_type": "stream",
     "text": [
      "Exception ignored in: <bound method tqdm.__del__ of <tqdm.auto.tqdm object at 0x7f873688de10>>\n",
      "Traceback (most recent call last):\n",
      "  File \"/Users/tareen/miniconda3/lib/python3.6/site-packages/tqdm/std.py\", line 1147, in __del__\n",
      "    self.close()\n",
      "  File \"/Users/tareen/miniconda3/lib/python3.6/site-packages/tqdm/notebook.py\", line 289, in close\n",
      "    self.disp(bar_style='success', check_delay=False)\n",
      "AttributeError: 'tqdm' object has no attribute 'disp'\n"
     ]
    },
    {
     "name": "stdout",
     "output_type": "stream",
     "text": [
      "Training time: 1089.9 seconds\n",
      "model number = 6, I_cx =  -1.108266496658325, I_rx -1.521855902671814\n"
     ]
    },
    {
     "name": "stderr",
     "output_type": "stream",
     "text": [
      "Exception ignored in: <bound method tqdm.__del__ of <tqdm.auto.tqdm object at 0x7f915644e358>>\n",
      "Traceback (most recent call last):\n",
      "  File \"/Users/tareen/miniconda3/lib/python3.6/site-packages/tqdm/std.py\", line 1147, in __del__\n",
      "    self.close()\n",
      "  File \"/Users/tareen/miniconda3/lib/python3.6/site-packages/tqdm/notebook.py\", line 289, in close\n",
      "    self.disp(bar_style='success', check_delay=False)\n",
      "AttributeError: 'tqdm' object has no attribute 'disp'\n"
     ]
    },
    {
     "name": "stdout",
     "output_type": "stream",
     "text": [
      "Training time: 1120.3 seconds\n",
      "model number = 7, I_cx =  -2.002158031463623, I_rx -1.6838969898223877\n"
     ]
    },
    {
     "name": "stderr",
     "output_type": "stream",
     "text": [
      "Exception ignored in: <bound method tqdm.__del__ of <tqdm.auto.tqdm object at 0x7f91673ca4a8>>\n",
      "Traceback (most recent call last):\n",
      "  File \"/Users/tareen/miniconda3/lib/python3.6/site-packages/tqdm/std.py\", line 1147, in __del__\n",
      "    self.close()\n",
      "  File \"/Users/tareen/miniconda3/lib/python3.6/site-packages/tqdm/notebook.py\", line 289, in close\n",
      "    self.disp(bar_style='success', check_delay=False)\n",
      "AttributeError: 'tqdm' object has no attribute 'disp'\n"
     ]
    },
    {
     "name": "stdout",
     "output_type": "stream",
     "text": [
      "Training time: 1065.7 seconds\n",
      "model number = 8, I_cx =  -1.0922476649284363, I_rx -1.5308365297317506\n"
     ]
    },
    {
     "name": "stderr",
     "output_type": "stream",
     "text": [
      "Exception ignored in: <bound method tqdm.__del__ of <tqdm.auto.tqdm object at 0x7f72fc9daba8>>\n",
      "Traceback (most recent call last):\n",
      "  File \"/Users/tareen/miniconda3/lib/python3.6/site-packages/tqdm/std.py\", line 1147, in __del__\n",
      "    self.close()\n",
      "  File \"/Users/tareen/miniconda3/lib/python3.6/site-packages/tqdm/notebook.py\", line 289, in close\n",
      "    self.disp(bar_style='success', check_delay=False)\n",
      "AttributeError: 'tqdm' object has no attribute 'disp'\n"
     ]
    },
    {
     "name": "stdout",
     "output_type": "stream",
     "text": [
      "Training time: 1119.8 seconds\n",
      "model number = 9, I_cx =  -1.107904634475708, I_rx -1.5360734796524047\n"
     ]
    }
   ],
   "source": [
    "number_of_seqs_to_simulate = 500000\n",
    "I_cxs = []\n",
    "I_xrs = []\n",
    "for model_number in range(10):\n",
    "    \n",
    "    sim_df_new = model.simulate_dataset(number_of_seqs_to_simulate)\n",
    "    sim_df_new.to_csv(f'21.12.19.sim_dfs_xylE/sim_df_{model_number}.csv.gz')\n",
    "    \n",
    "    y_cols_sim = sim_df_new.columns[1:-1]\n",
    "    # Separate test from data_df\n",
    "    ix_test = sim_df_new['set']=='test'\n",
    "    test_df = sim_df_new[ix_test].reset_index(drop=True)\n",
    "    #print(f'test N: {len(test_df):,}')\n",
    "\n",
    "    # Remove test data from data_df\n",
    "    sim_df_new = sim_df_new[~ix_test].reset_index(drop=True)\n",
    "    #print(f'training + validation N: {len(sim_df_new):,}')\n",
    "    #sim_df.head()\n",
    "    \n",
    "    # Create model\n",
    "    sim_model = mavenn.Model(L=L, \n",
    "                             Y=Y,\n",
    "                             alphabet='dna', \n",
    "                             regression_type='MPA', \n",
    "                             gpmap_type='custom',\n",
    "                             gpmap_kwargs=gpmap_kwargs,\n",
    "                             custom_gpmap=ThermodynamicLayer)\n",
    "    \n",
    "    # Set training data\n",
    "    sim_model.set_data(x=sim_df_new['x'],\n",
    "                       y=sim_df_new[y_cols_sim],\n",
    "                       validation_flags=(sim_df_new['set']=='validation'),\n",
    "                       shuffle=True,\n",
    "                       verbose=False)\n",
    "\n",
    "    # Fit model to data\n",
    "    sim_model.fit(learning_rate=.00025,\n",
    "                  epochs=500,\n",
    "                  batch_size=500,\n",
    "                  early_stopping=True,\n",
    "                  early_stopping_patience=25,\n",
    "                  linear_initialization=False,\n",
    "                  verbose=False)\n",
    "    \n",
    "    I_cx_sim = sim_model.get_nn().layers[2].I_cx.numpy()[0]\n",
    "    I_rx_sim = sim_model.get_nn().layers[2].I_rx.numpy()[0]\n",
    "    \n",
    "    I_cxs.append(I_cx_sim*0.62)\n",
    "    I_xrs.append(I_rx_sim*0.62)\n",
    "    \n",
    "    sim_model.save(f'21.12.19.sim_dfs_xylE/sim_model_{model_number}', verbose=False)\n",
    "    print(f'model number = {model_number}, I_cx =  {I_cx_sim*0.62}, I_rx {I_rx_sim*0.62}')\n",
    "    "
   ]
  },
  {
   "cell_type": "markdown",
   "metadata": {},
   "source": [
    "results for interaction energies"
   ]
  },
  {
   "cell_type": "code",
   "execution_count": 49,
   "metadata": {},
   "outputs": [
    {
     "name": "stdout",
     "output_type": "stream",
     "text": [
      "-1.277427990913391 0.36203423876702456\n",
      "-1.5645226912498473 0.06431553444496807\n"
     ]
    }
   ],
   "source": [
    "print(np.mean(I_cxs),np.std(I_cxs))\n",
    "print(np.mean(I_xrs),np.std(I_xrs))\n"
   ]
  },
  {
   "cell_type": "code",
   "execution_count": 50,
   "metadata": {},
   "outputs": [
    {
     "data": {
      "text/plain": [
       "[-1.058278591632843,\n",
       " -1.9991697120666503,\n",
       " -1.11902982711792,\n",
       " -1.0872175884246826,\n",
       " -1.082081377506256,\n",
       " -1.1179259848594665,\n",
       " -1.108266496658325,\n",
       " -2.002158031463623,\n",
       " -1.0922476649284363,\n",
       " -1.107904634475708]"
      ]
     },
     "execution_count": 50,
     "metadata": {},
     "output_type": "execute_result"
    }
   ],
   "source": [
    "I_cxs"
   ]
  },
  {
   "cell_type": "code",
   "execution_count": 51,
   "metadata": {},
   "outputs": [
    {
     "data": {
      "text/plain": [
       "[-1.5169657373428345,\n",
       " -1.699657950401306,\n",
       " -1.5306730413436889,\n",
       " -1.5490790843963622,\n",
       " -1.5428711080551147,\n",
       " -1.5333170890808105,\n",
       " -1.521855902671814,\n",
       " -1.6838969898223877,\n",
       " -1.5308365297317506,\n",
       " -1.5360734796524047]"
      ]
     },
     "execution_count": 51,
     "metadata": {},
     "output_type": "execute_result"
    }
   ],
   "source": [
    "I_xrs"
   ]
  }
 ],
 "metadata": {
  "kernelspec": {
   "display_name": "Python 3",
   "language": "python",
   "name": "python3"
  },
  "language_info": {
   "codemirror_mode": {
    "name": "ipython",
    "version": 3
   },
   "file_extension": ".py",
   "mimetype": "text/x-python",
   "name": "python",
   "nbconvert_exporter": "python",
   "pygments_lexer": "ipython3",
   "version": "3.6.7"
  }
 },
 "nbformat": 4,
 "nbformat_minor": 2
}
