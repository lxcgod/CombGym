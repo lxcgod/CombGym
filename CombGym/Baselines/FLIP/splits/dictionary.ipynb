{
 "cells": [
  {
   "cell_type": "code",
   "execution_count": 1,
   "metadata": {},
   "outputs": [
    {
     "name": "stdout",
     "output_type": "stream",
     "text": [
      "字典已保存到 /home/Lxc/FLIP/splits/split_dict.txt\n"
     ]
    }
   ],
   "source": [
    "import os\n",
    "\n",
    "def generate_split_dict_from_directory(directory):\n",
    "   \n",
    "    split_dict = {}\n",
    "    for filename in os.listdir(directory):\n",
    "        if os.path.isfile(os.path.join(directory, filename)): \n",
    "            base_name = os.path.splitext(filename)[0]\n",
    "            split_dict[base_name] = base_name\n",
    "    return split_dict\n",
    "\n",
    "def save_dict_to_txt(dictionary, txt_filename):\n",
    "   \n",
    "    with open(txt_filename, mode='w', encoding='utf-8') as file:\n",
    "        for key, value in dictionary.items():\n",
    "            file.write(f\"'{key}' : '{value}',\\n\")\n",
    "\n",
    "def main():\n",
    " \n",
    "    target_directory = \"/home/Lxc/FLIP/splits/CreiLOV/splits\"\n",
    "\n",
    "   \n",
    "    split_dict = generate_split_dict_from_directory(target_directory)\n",
    "\n",
    "    current_directory = os.getcwd()\n",
    "\n",
    "   \n",
    "    txt_filename = os.path.join(current_directory, \"split_dict.txt\")\n",
    "\n",
    "    save_dict_to_txt(split_dict, txt_filename)\n",
    "\n",
    "\n",
    "if __name__ == \"__main__\":\n",
    "    main()\n",
    "\n",
    "\n"
   ]
  }
 ],
 "metadata": {
  "kernelspec": {
   "display_name": "bio-benchmarks",
   "language": "python",
   "name": "python3"
  },
  "language_info": {
   "codemirror_mode": {
    "name": "ipython",
    "version": 3
   },
   "file_extension": ".py",
   "mimetype": "text/x-python",
   "name": "python",
   "nbconvert_exporter": "python",
   "pygments_lexer": "ipython3",
   "version": "3.9.5"
  }
 },
 "nbformat": 4,
 "nbformat_minor": 2
}
