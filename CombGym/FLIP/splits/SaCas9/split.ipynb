{
 "cells": [
  {
   "cell_type": "code",
   "execution_count": 1,
   "metadata": {},
   "outputs": [],
   "source": [
    "import os\n",
    "import pandas as pd\n",
    "import numpy as np\n",
    "\n",
    "csv_files = [f for f in os.listdir('.') if f.endswith('.csv')]\n",
    "\n",
    "seeds = [42, 123, 456,789,567]\n",
    "\n",
    "output_dir = 'splits'\n",
    "if not os.path.exists(output_dir):\n",
    "    os.makedirs(output_dir)\n",
    "\n",
    "for file in csv_files:\n",
    "    df_original = pd.read_csv(file)\n",
    "    if 'fitness' in df_original.columns:\n",
    "        min_value = df_original['fitness'].min()\n",
    "        max_value = df_original['fitness'].max()\n",
    "        df_original['fitness'] = (df_original['fitness'] - min_value) / (max_value - min_value)\n",
    "        \n",
    "        df_original = df_original.rename(columns={'fitness': 'target'})\n",
    "    file_prefix = os.path.splitext(file)[0]\n",
    "    \n",
    "    \n",
    "    for n in range(4):\n",
    "        df = df_original.copy()\n",
    "        df['set'] = np.where(df['n_mut'] > n, 'test', 'train')\n",
    "        \n",
    "        for i, seed in enumerate(seeds):\n",
    "            np.random.seed(seed)\n",
    "            \n",
    "            train_indices = df[df['set'] == 'train'].index\n",
    "            \n",
    "            num_validation = max(2, int(len(train_indices) * 0.1))\n",
    "            \n",
    "            num_validation = min(len(train_indices), num_validation)\n",
    "            \n",
    "            if num_validation > 0:\n",
    "                validation_indices = np.random.choice(train_indices, size=num_validation, replace=False)\n",
    "            else:\n",
    "                validation_indices = []\n",
    "            if n == 0:\n",
    "                df['validation'] = ''\n",
    "            else:\n",
    "                df['validation'] = ''\n",
    "                df.loc[validation_indices, 'validation'] = 'true'\n",
    "\n",
    "            output_file = os.path.join(output_dir, f'{file_prefix}-{n}vsrest-df{i+1}.csv')\n",
    "            df.to_csv(output_file, index=False)"
   ]
  }
 ],
 "metadata": {
  "kernelspec": {
   "display_name": "bio-benchmarks",
   "language": "python",
   "name": "python3"
  },
  "language_info": {
   "codemirror_mode": {
    "name": "ipython",
    "version": 3
   },
   "file_extension": ".py",
   "mimetype": "text/x-python",
   "name": "python",
   "nbconvert_exporter": "python",
   "pygments_lexer": "ipython3",
   "version": "3.9.5"
  }
 },
 "nbformat": 4,
 "nbformat_minor": 2
}
