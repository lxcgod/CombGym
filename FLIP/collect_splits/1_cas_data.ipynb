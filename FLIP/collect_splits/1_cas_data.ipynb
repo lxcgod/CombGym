{
 "cells": [
  {
   "cell_type": "markdown",
   "metadata": {},
   "source": [
    "# Notes\n",
    "\n",
    "- Manuscript: https://www.nature.com/articles/s41598-017-17081-y\n",
    "- Data was collected from supplementary material: https://static-content.springer.com/esm/art%3A10.1038%2Fs41598-017-17081-y/MediaObjects/41598_2017_17081_MOESM2_ESM.xlsx"
   ]
  },
  {
   "cell_type": "code",
   "execution_count": 1,
   "metadata": {},
   "outputs": [
    {
     "name": "stdout",
     "output_type": "stream",
     "text": [
      "Requirement already satisfied: xlrd in /Users/chdallago/miniconda3/envs/bio-benchmarks/lib/python3.8/site-packages (2.0.1)\n",
      "Requirement already satisfied: openpyxl in /Users/chdallago/miniconda3/envs/bio-benchmarks/lib/python3.8/site-packages (3.0.7)\n",
      "Requirement already satisfied: et-xmlfile in /Users/chdallago/miniconda3/envs/bio-benchmarks/lib/python3.8/site-packages (from openpyxl) (1.1.0)\n"
     ]
    }
   ],
   "source": [
    "!pip install xlrd\n",
    "!pip install openpyxl"
   ]
  },
  {
   "cell_type": "code",
   "execution_count": 1,
   "metadata": {},
   "outputs": [],
   "source": [
    "import math\n",
    "\n",
    "from pathlib import Path\n",
    "from copy import deepcopy\n",
    "\n",
    "from pandas import read_excel, DataFrame\n",
    "\n",
    "from Bio import SeqIO\n",
    "from Bio.SeqRecord import SeqRecord\n",
    "from Bio.Seq import MutableSeq"
   ]
  },
  {
   "cell_type": "code",
   "execution_count": 2,
   "metadata": {},
   "outputs": [],
   "source": [
    "data_path = Path('') / '..' / 'data' / 'cas'\n",
    "cas_data_path = data_path / '41598_2017_17081_MOESM2_ESM.xlsx'\n",
    "\n",
    "split_path = Path('') / '..' / 'splits' / 'cas'\n",
    "\n",
    "sheet_names = ['Positive Selection ', 'Negative Selection', 'All Count Data', 'Mutability Scores']"
   ]
  },
  {
   "cell_type": "code",
   "execution_count": 3,
   "metadata": {},
   "outputs": [],
   "source": [
    "cas_sheets = read_excel(cas_data_path, sheet_name=sheet_names)"
   ]
  },
  {
   "cell_type": "code",
   "execution_count": 4,
   "metadata": {},
   "outputs": [],
   "source": [
    "cas_all_counts = cas_sheets['All Count Data']"
   ]
  },
  {
   "cell_type": "code",
   "execution_count": 5,
   "metadata": {},
   "outputs": [
    {
     "data": {
      "text/plain": [
       "Index(['Nucleotide Position', 'AA Position', 'WT Codon', 'WT AA', 'Domain',\n",
       "       'Mutant AA', 'Mutant nucleotide', 'Mutant Codon', 'Initial Counts',\n",
       "       'Initial Total Counts', 'Synonymous Mutation ', 'HindIII NdeI Cut Site',\n",
       "       'WT Nucleotide', 'Error Counts', 'Error Sum Reads per Position',\n",
       "       'Negative 1 Counts', 'Negative 1 Sum Reads per Position',\n",
       "       'Negative 2 Counts', 'Negative 2 Sum Reads per Position',\n",
       "       'Negative 3 Counts', 'Negative 3 Sum Reads per Position',\n",
       "       'Positive 1 Counts', 'Positive 1 Sum Reads per Position',\n",
       "       'Positive 2 Counts', 'Positive 2 Sum Reads per Position',\n",
       "       'Positive 3 Counts', 'Positive 3 Sum Reads per Position',\n",
       "       'Negative Counts', 'Negative Total Counts', 'Positive Counts',\n",
       "       'Positive Total Counts', 'Negative Adjusted Fisher P Values',\n",
       "       'Positive Adjusted Fisher P Values',\n",
       "       'Log2 Fold Change after Negative Selection',\n",
       "       'Log2 Fold Change after Positive Selection'],\n",
       "      dtype='object')"
      ]
     },
     "execution_count": 5,
     "metadata": {},
     "output_type": "execute_result"
    }
   ],
   "source": [
    "cas_all_counts.columns"
   ]
  },
  {
   "cell_type": "code",
   "execution_count": 6,
   "metadata": {},
   "outputs": [
    {
     "data": {
      "text/plain": [
       "Rec1    5952\n",
       "RuvC    3684\n",
       "PI      3228\n",
       "HNH     1608\n",
       "Rec2    1536\n",
       "BH       408\n",
       "Name: Domain, dtype: int64"
      ]
     },
     "execution_count": 6,
     "metadata": {},
     "output_type": "execute_result"
    }
   ],
   "source": [
    "cas_all_counts['Domain'].value_counts()"
   ]
  },
  {
   "cell_type": "code",
   "execution_count": 7,
   "metadata": {},
   "outputs": [],
   "source": [
    "# Quick and dirty check that all sequence positions are unique\n",
    "t = {}\n",
    "\n",
    "for i in cas_all_counts[['AA Position', 'WT AA']].drop_duplicates()['AA Position'].values:\n",
    "    if t.get(i):\n",
    "        t[i] = t[i]+1\n",
    "        print(t[i])\n",
    "    else:\n",
    "        t[i] = 0"
   ]
  },
  {
   "cell_type": "code",
   "execution_count": 8,
   "metadata": {},
   "outputs": [],
   "source": [
    "# Infer WT sequence from data\n",
    "wt_sequence = ''.join(cas_all_counts[['AA Position', 'WT AA']].drop_duplicates()['WT AA'].values)\n",
    "\n",
    "# Create Bio SeqRecord ignoring last character (a \"*\", most likely signifying the end of the sequence)\n",
    "bio_seq = SeqRecord(seq=MutableSeq(wt_sequence[:-1]), id=\"CAS9\", description=\"S. pyogenes\")\n",
    "\n",
    "with open(split_path / \"cas9_sequence.fasta\", \"w\") as output_handle:\n",
    "    SeqIO.write([bio_seq], output_handle, \"fasta\")"
   ]
  },
  {
   "cell_type": "code",
   "execution_count": 9,
   "metadata": {},
   "outputs": [
    {
     "data": {
      "text/plain": [
       "<AxesSubplot:>"
      ]
     },
     "execution_count": 9,
     "metadata": {},
     "output_type": "execute_result"
    },
    {
     "data": {
      "image/png": "[encoded data removed]",
      "text/plain": [
       "<Figure size 432x288 with 1 Axes>"
      ]
     },
     "metadata": {
      "needs_background": "light"
     },
     "output_type": "display_data"
    }
   ],
   "source": [
    "cas_all_counts['Log2 Fold Change after Positive Selection'].hist()"
   ]
  },
  {
   "cell_type": "code",
   "execution_count": 10,
   "metadata": {},
   "outputs": [
    {
     "data": {
      "text/plain": [
       "<AxesSubplot:>"
      ]
     },
     "execution_count": 10,
     "metadata": {},
     "output_type": "execute_result"
    },
    {
     "data": {
      "image/png": "[encoded data removed]",
      "text/plain": [
       "<Figure size 432x288 with 1 Axes>"
      ]
     },
     "metadata": {
      "needs_background": "light"
     },
     "output_type": "display_data"
    }
   ],
   "source": [
    "cas_all_counts['Log2 Fold Change after Negative Selection'].hist()"
   ]
  },
  {
   "cell_type": "code",
   "execution_count": 11,
   "metadata": {},
   "outputs": [
    {
     "data": {
      "text/plain": [
       "<AxesSubplot:xlabel='Negative Adjusted Fisher P Values', ylabel='Positive Adjusted Fisher P Values'>"
      ]
     },
     "execution_count": 11,
     "metadata": {},
     "output_type": "execute_result"
    },
    {
     "data": {
      "image/png": "[encoded data removed]",
      "text/plain": [
       "<Figure size 432x288 with 1 Axes>"
      ]
     },
     "metadata": {
      "needs_background": "light"
     },
     "output_type": "display_data"
    }
   ],
   "source": [
    "cas_all_counts.plot.scatter(\n",
    "    x=\"Negative Adjusted Fisher P Values\", \n",
    "    y=\"Positive Adjusted Fisher P Values\"\n",
    ")"
   ]
  },
  {
   "cell_type": "code",
   "execution_count": 12,
   "metadata": {},
   "outputs": [
    {
     "data": {
      "text/plain": [
       "<AxesSubplot:xlabel='Log2 Fold Change after Negative Selection', ylabel='Log2 Fold Change after Positive Selection'>"
      ]
     },
     "execution_count": 12,
     "metadata": {},
     "output_type": "execute_result"
    },
    {
     "data": {
      "image/png": "[encoded data removed]",
      "text/plain": [
       "<Figure size 432x288 with 1 Axes>"
      ]
     },
     "metadata": {
      "needs_background": "light"
     },
     "output_type": "display_data"
    }
   ],
   "source": [
    "cas_all_counts.plot.scatter(\n",
    "    x=\"Log2 Fold Change after Negative Selection\", \n",
    "    y=\"Log2 Fold Change after Positive Selection\"\n",
    ")"
   ]
  },
  {
   "cell_type": "code",
   "execution_count": 13,
   "metadata": {},
   "outputs": [
    {
     "data": {
      "text/plain": [
       "<AxesSubplot:xlabel='Positive Adjusted Fisher P Values', ylabel='Log2 Fold Change after Positive Selection'>"
      ]
     },
     "execution_count": 13,
     "metadata": {},
     "output_type": "execute_result"
    },
    {
     "data": {
      "image/png": "[encoded data removed]",
      "text/plain": [
       "<Figure size 432x288 with 1 Axes>"
      ]
     },
     "metadata": {
      "needs_background": "light"
     },
     "output_type": "display_data"
    }
   ],
   "source": [
    "cas_all_counts.plot.scatter(\n",
    "    x=\"Positive Adjusted Fisher P Values\", \n",
    "    y=\"Log2 Fold Change after Positive Selection\"\n",
    ")"
   ]
  },
  {
   "cell_type": "code",
   "execution_count": 14,
   "metadata": {},
   "outputs": [
    {
     "data": {
      "text/plain": [
       "<AxesSubplot:xlabel='Negative Adjusted Fisher P Values', ylabel='Log2 Fold Change after Negative Selection'>"
      ]
     },
     "execution_count": 14,
     "metadata": {},
     "output_type": "execute_result"
    },
    {
     "data": {
      "image/png": "[encoded data removed]",
      "text/plain": [
       "<Figure size 432x288 with 1 Axes>"
      ]
     },
     "metadata": {
      "needs_background": "light"
     },
     "output_type": "display_data"
    }
   ],
   "source": [
    "cas_all_counts.plot.scatter(\n",
    "    x=\"Negative Adjusted Fisher P Values\", \n",
    "    y=\"Log2 Fold Change after Negative Selection\"\n",
    ")"
   ]
  },
  {
   "cell_type": "code",
   "execution_count": 14,
   "metadata": {},
   "outputs": [
    {
     "name": "stdout",
     "output_type": "stream",
     "text": [
      "Couldn't edit position 1390.\n",
      "Couldn't edit position 1390.\n",
      "Couldn't edit position 1390.\n",
      "Couldn't edit position 1390.\n",
      "Couldn't edit position 1390.\n",
      "Couldn't edit position 1390.\n",
      "Couldn't edit position 1390.\n"
     ]
    }
   ],
   "source": [
    "# AA Position', 'WT Codon', 'WT AA', 'Domain','Mutant AA'\n",
    "\n",
    "accepted_mutations = 'KILTVRNEHADGYQ*SCFPMW'\n",
    "\n",
    "def apply_mutated_sequence(row):\n",
    "    seq_copy = deepcopy(bio_seq)\n",
    "    \n",
    "    if str(row['Mutant AA']) in accepted_mutations:\n",
    "        if str(row['Mutant AA']) == \"*\":\n",
    "            seq_copy.seq = seq_copy.seq[0:int(row['AA Position'])-1]\n",
    "        else:\n",
    "            try:\n",
    "                seq_copy.seq[int(row['AA Position'])-1] = row['Mutant AA']\n",
    "            except:\n",
    "                print(f\"Couldn't edit position {int(row['AA Position'])-1}.\")\n",
    "    \n",
    "    return str(seq_copy.seq)\n",
    "\n",
    "cas_all_counts['mutated_AA_sequence'] = cas_all_counts.apply(apply_mutated_sequence, axis=1)"
   ]
  },
  {
   "cell_type": "code",
   "execution_count": 15,
   "metadata": {},
   "outputs": [
    {
     "data": {
      "text/html": [
       "<div>\n",
       "<style scoped>\n",
       "    .dataframe tbody tr th:only-of-type {\n",
       "        vertical-align: middle;\n",
       "    }\n",
       "\n",
       "    .dataframe tbody tr th {\n",
       "        vertical-align: top;\n",
       "    }\n",
       "\n",
       "    .dataframe thead th {\n",
       "        text-align: right;\n",
       "    }\n",
       "</style>\n",
       "<table border=\"1\" class=\"dataframe\">\n",
       "  <thead>\n",
       "    <tr style=\"text-align: right;\">\n",
       "      <th></th>\n",
       "      <th>Nucleotide Position</th>\n",
       "      <th>AA Position</th>\n",
       "      <th>WT Codon</th>\n",
       "      <th>WT AA</th>\n",
       "      <th>Domain</th>\n",
       "      <th>Mutant AA</th>\n",
       "      <th>Mutant nucleotide</th>\n",
       "      <th>Mutant Codon</th>\n",
       "      <th>Initial Counts</th>\n",
       "      <th>Initial Total Counts</th>\n",
       "      <th>...</th>\n",
       "      <th>Positive 3 Sum Reads per Position</th>\n",
       "      <th>Negative Counts</th>\n",
       "      <th>Negative Total Counts</th>\n",
       "      <th>Positive Counts</th>\n",
       "      <th>Positive Total Counts</th>\n",
       "      <th>Negative Adjusted Fisher P Values</th>\n",
       "      <th>Positive Adjusted Fisher P Values</th>\n",
       "      <th>Log2 Fold Change after Negative Selection</th>\n",
       "      <th>Log2 Fold Change after Positive Selection</th>\n",
       "      <th>mutated_AA_sequence</th>\n",
       "    </tr>\n",
       "  </thead>\n",
       "  <tbody>\n",
       "    <tr>\n",
       "      <th>36</th>\n",
       "      <td>13</td>\n",
       "      <td>4</td>\n",
       "      <td>AAA</td>\n",
       "      <td>K</td>\n",
       "      <td>RuvC</td>\n",
       "      <td>NaN</td>\n",
       "      <td>A</td>\n",
       "      <td>NaN</td>\n",
       "      <td>34741</td>\n",
       "      <td>35156</td>\n",
       "      <td>...</td>\n",
       "      <td>38312</td>\n",
       "      <td>84692</td>\n",
       "      <td>86635</td>\n",
       "      <td>124545</td>\n",
       "      <td>126410</td>\n",
       "      <td>NaN</td>\n",
       "      <td>NaN</td>\n",
       "      <td>-0.015593</td>\n",
       "      <td>0.011281</td>\n",
       "      <td>MDKKYSIGLDIGTNSVGWAVITDEYKVPSKKFKVLGNTDRHSIKKN...</td>\n",
       "    </tr>\n",
       "    <tr>\n",
       "      <th>37</th>\n",
       "      <td>14</td>\n",
       "      <td>4</td>\n",
       "      <td>AAA</td>\n",
       "      <td>K</td>\n",
       "      <td>RuvC</td>\n",
       "      <td>NaN</td>\n",
       "      <td>A</td>\n",
       "      <td>NaN</td>\n",
       "      <td>34919</td>\n",
       "      <td>34971</td>\n",
       "      <td>...</td>\n",
       "      <td>38113</td>\n",
       "      <td>86091</td>\n",
       "      <td>86204</td>\n",
       "      <td>125719</td>\n",
       "      <td>125862</td>\n",
       "      <td>NaN</td>\n",
       "      <td>NaN</td>\n",
       "      <td>0.000254</td>\n",
       "      <td>0.000252</td>\n",
       "      <td>MDKKYSIGLDIGTNSVGWAVITDEYKVPSKKFKVLGNTDRHSIKKN...</td>\n",
       "    </tr>\n",
       "    <tr>\n",
       "      <th>38</th>\n",
       "      <td>15</td>\n",
       "      <td>4</td>\n",
       "      <td>AAA</td>\n",
       "      <td>K</td>\n",
       "      <td>RuvC</td>\n",
       "      <td>NaN</td>\n",
       "      <td>A</td>\n",
       "      <td>NaN</td>\n",
       "      <td>34930</td>\n",
       "      <td>35008</td>\n",
       "      <td>...</td>\n",
       "      <td>38222</td>\n",
       "      <td>86239</td>\n",
       "      <td>86413</td>\n",
       "      <td>125861</td>\n",
       "      <td>126161</td>\n",
       "      <td>NaN</td>\n",
       "      <td>NaN</td>\n",
       "      <td>0.000310</td>\n",
       "      <td>-0.000527</td>\n",
       "      <td>MDKKYSIGLDIGTNSVGWAVITDEYKVPSKKFKVLGNTDRHSIKKN...</td>\n",
       "    </tr>\n",
       "    <tr>\n",
       "      <th>39</th>\n",
       "      <td>13</td>\n",
       "      <td>4</td>\n",
       "      <td>AAA</td>\n",
       "      <td>K</td>\n",
       "      <td>RuvC</td>\n",
       "      <td>Q</td>\n",
       "      <td>C</td>\n",
       "      <td>CAA</td>\n",
       "      <td>22</td>\n",
       "      <td>35156</td>\n",
       "      <td>...</td>\n",
       "      <td>38312</td>\n",
       "      <td>43</td>\n",
       "      <td>86635</td>\n",
       "      <td>31</td>\n",
       "      <td>126410</td>\n",
       "      <td>9.282565e-01</td>\n",
       "      <td>1.532095e-02</td>\n",
       "      <td>-0.365285</td>\n",
       "      <td>-1.004515</td>\n",
       "      <td>MDKQYSIGLDIGTNSVGWAVITDEYKVPSKKFKVLGNTDRHSIKKN...</td>\n",
       "    </tr>\n",
       "    <tr>\n",
       "      <th>40</th>\n",
       "      <td>14</td>\n",
       "      <td>4</td>\n",
       "      <td>AAA</td>\n",
       "      <td>K</td>\n",
       "      <td>RuvC</td>\n",
       "      <td>T</td>\n",
       "      <td>C</td>\n",
       "      <td>ACA</td>\n",
       "      <td>13</td>\n",
       "      <td>34971</td>\n",
       "      <td>...</td>\n",
       "      <td>38113</td>\n",
       "      <td>23</td>\n",
       "      <td>86204</td>\n",
       "      <td>52</td>\n",
       "      <td>125862</td>\n",
       "      <td>8.996652e-01</td>\n",
       "      <td>2.141399e-01</td>\n",
       "      <td>-0.523964</td>\n",
       "      <td>0.596947</td>\n",
       "      <td>MDKTYSIGLDIGTNSVGWAVITDEYKVPSKKFKVLGNTDRHSIKKN...</td>\n",
       "    </tr>\n",
       "    <tr>\n",
       "      <th>41</th>\n",
       "      <td>15</td>\n",
       "      <td>4</td>\n",
       "      <td>AAA</td>\n",
       "      <td>K</td>\n",
       "      <td>RuvC</td>\n",
       "      <td>N</td>\n",
       "      <td>C</td>\n",
       "      <td>AAC</td>\n",
       "      <td>5</td>\n",
       "      <td>35008</td>\n",
       "      <td>...</td>\n",
       "      <td>38222</td>\n",
       "      <td>11</td>\n",
       "      <td>86413</td>\n",
       "      <td>11</td>\n",
       "      <td>126161</td>\n",
       "      <td>1.000000e+00</td>\n",
       "      <td>5.684247e-01</td>\n",
       "      <td>-0.303539</td>\n",
       "      <td>-0.545940</td>\n",
       "      <td>MDKNYSIGLDIGTNSVGWAVITDEYKVPSKKFKVLGNTDRHSIKKN...</td>\n",
       "    </tr>\n",
       "    <tr>\n",
       "      <th>42</th>\n",
       "      <td>13</td>\n",
       "      <td>4</td>\n",
       "      <td>AAA</td>\n",
       "      <td>K</td>\n",
       "      <td>RuvC</td>\n",
       "      <td>E</td>\n",
       "      <td>G</td>\n",
       "      <td>GAA</td>\n",
       "      <td>18</td>\n",
       "      <td>35156</td>\n",
       "      <td>...</td>\n",
       "      <td>38312</td>\n",
       "      <td>35</td>\n",
       "      <td>86635</td>\n",
       "      <td>17</td>\n",
       "      <td>126410</td>\n",
       "      <td>9.461613e-01</td>\n",
       "      <td>1.595505e-03</td>\n",
       "      <td>-0.379157</td>\n",
       "      <td>-1.545083</td>\n",
       "      <td>MDKEYSIGLDIGTNSVGWAVITDEYKVPSKKFKVLGNTDRHSIKKN...</td>\n",
       "    </tr>\n",
       "    <tr>\n",
       "      <th>43</th>\n",
       "      <td>14</td>\n",
       "      <td>4</td>\n",
       "      <td>AAA</td>\n",
       "      <td>K</td>\n",
       "      <td>RuvC</td>\n",
       "      <td>R</td>\n",
       "      <td>G</td>\n",
       "      <td>AGA</td>\n",
       "      <td>16</td>\n",
       "      <td>34971</td>\n",
       "      <td>...</td>\n",
       "      <td>38113</td>\n",
       "      <td>39</td>\n",
       "      <td>86204</td>\n",
       "      <td>27</td>\n",
       "      <td>125862</td>\n",
       "      <td>1.000000e+00</td>\n",
       "      <td>1.814871e-02</td>\n",
       "      <td>-0.067106</td>\n",
       "      <td>-1.060584</td>\n",
       "      <td>MDKRYSIGLDIGTNSVGWAVITDEYKVPSKKFKVLGNTDRHSIKKN...</td>\n",
       "    </tr>\n",
       "    <tr>\n",
       "      <th>44</th>\n",
       "      <td>15</td>\n",
       "      <td>4</td>\n",
       "      <td>AAA</td>\n",
       "      <td>K</td>\n",
       "      <td>RuvC</td>\n",
       "      <td>K</td>\n",
       "      <td>G</td>\n",
       "      <td>AAG</td>\n",
       "      <td>13</td>\n",
       "      <td>35008</td>\n",
       "      <td>...</td>\n",
       "      <td>38222</td>\n",
       "      <td>26</td>\n",
       "      <td>86413</td>\n",
       "      <td>33</td>\n",
       "      <td>126161</td>\n",
       "      <td>9.765855e-01</td>\n",
       "      <td>7.493782e-01</td>\n",
       "      <td>-0.356007</td>\n",
       "      <td>-0.213365</td>\n",
       "      <td>MDKKYSIGLDIGTNSVGWAVITDEYKVPSKKFKVLGNTDRHSIKKN...</td>\n",
       "    </tr>\n",
       "    <tr>\n",
       "      <th>45</th>\n",
       "      <td>13</td>\n",
       "      <td>4</td>\n",
       "      <td>AAA</td>\n",
       "      <td>K</td>\n",
       "      <td>RuvC</td>\n",
       "      <td>*</td>\n",
       "      <td>T</td>\n",
       "      <td>TAA</td>\n",
       "      <td>375</td>\n",
       "      <td>35156</td>\n",
       "      <td>...</td>\n",
       "      <td>38312</td>\n",
       "      <td>1865</td>\n",
       "      <td>86635</td>\n",
       "      <td>1817</td>\n",
       "      <td>126410</td>\n",
       "      <td>2.100000e-37</td>\n",
       "      <td>8.990000e-33</td>\n",
       "      <td>1.009990</td>\n",
       "      <td>-0.582680</td>\n",
       "      <td>MDK</td>\n",
       "    </tr>\n",
       "    <tr>\n",
       "      <th>46</th>\n",
       "      <td>14</td>\n",
       "      <td>4</td>\n",
       "      <td>AAA</td>\n",
       "      <td>K</td>\n",
       "      <td>RuvC</td>\n",
       "      <td>I</td>\n",
       "      <td>T</td>\n",
       "      <td>ATA</td>\n",
       "      <td>23</td>\n",
       "      <td>34971</td>\n",
       "      <td>...</td>\n",
       "      <td>38113</td>\n",
       "      <td>51</td>\n",
       "      <td>86204</td>\n",
       "      <td>64</td>\n",
       "      <td>125862</td>\n",
       "      <td>1.000000e+00</td>\n",
       "      <td>6.219303e-01</td>\n",
       "      <td>-0.186094</td>\n",
       "      <td>-0.224083</td>\n",
       "      <td>MDKIYSIGLDIGTNSVGWAVITDEYKVPSKKFKVLGNTDRHSIKKN...</td>\n",
       "    </tr>\n",
       "    <tr>\n",
       "      <th>47</th>\n",
       "      <td>15</td>\n",
       "      <td>4</td>\n",
       "      <td>AAA</td>\n",
       "      <td>K</td>\n",
       "      <td>RuvC</td>\n",
       "      <td>N</td>\n",
       "      <td>T</td>\n",
       "      <td>AAT</td>\n",
       "      <td>60</td>\n",
       "      <td>35008</td>\n",
       "      <td>...</td>\n",
       "      <td>38222</td>\n",
       "      <td>137</td>\n",
       "      <td>86413</td>\n",
       "      <td>256</td>\n",
       "      <td>126161</td>\n",
       "      <td>9.903653e-01</td>\n",
       "      <td>6.708117e-02</td>\n",
       "      <td>-0.125752</td>\n",
       "      <td>0.351160</td>\n",
       "      <td>MDKNYSIGLDIGTNSVGWAVITDEYKVPSKKFKVLGNTDRHSIKKN...</td>\n",
       "    </tr>\n",
       "  </tbody>\n",
       "</table>\n",
       "<p>12 rows × 36 columns</p>\n",
       "</div>"
      ],
      "text/plain": [
       "    Nucleotide Position  AA Position WT Codon WT AA Domain Mutant AA  \\\n",
       "36                   13            4      AAA     K   RuvC       NaN   \n",
       "37                   14            4      AAA     K   RuvC       NaN   \n",
       "38                   15            4      AAA     K   RuvC       NaN   \n",
       "39                   13            4      AAA     K   RuvC         Q   \n",
       "40                   14            4      AAA     K   RuvC         T   \n",
       "41                   15            4      AAA     K   RuvC         N   \n",
       "42                   13            4      AAA     K   RuvC         E   \n",
       "43                   14            4      AAA     K   RuvC         R   \n",
       "44                   15            4      AAA     K   RuvC         K   \n",
       "45                   13            4      AAA     K   RuvC         *   \n",
       "46                   14            4      AAA     K   RuvC         I   \n",
       "47                   15            4      AAA     K   RuvC         N   \n",
       "\n",
       "   Mutant nucleotide Mutant Codon  Initial Counts  Initial Total Counts  ...  \\\n",
       "36                 A          NaN           34741                 35156  ...   \n",
       "37                 A          NaN           34919                 34971  ...   \n",
       "38                 A          NaN           34930                 35008  ...   \n",
       "39                 C          CAA              22                 35156  ...   \n",
       "40                 C          ACA              13                 34971  ...   \n",
       "41                 C          AAC               5                 35008  ...   \n",
       "42                 G          GAA              18                 35156  ...   \n",
       "43                 G          AGA              16                 34971  ...   \n",
       "44                 G          AAG              13                 35008  ...   \n",
       "45                 T          TAA             375                 35156  ...   \n",
       "46                 T          ATA              23                 34971  ...   \n",
       "47                 T          AAT              60                 35008  ...   \n",
       "\n",
       "   Positive 3 Sum Reads per Position Negative Counts Negative Total Counts  \\\n",
       "36                             38312           84692                 86635   \n",
       "37                             38113           86091                 86204   \n",
       "38                             38222           86239                 86413   \n",
       "39                             38312              43                 86635   \n",
       "40                             38113              23                 86204   \n",
       "41                             38222              11                 86413   \n",
       "42                             38312              35                 86635   \n",
       "43                             38113              39                 86204   \n",
       "44                             38222              26                 86413   \n",
       "45                             38312            1865                 86635   \n",
       "46                             38113              51                 86204   \n",
       "47                             38222             137                 86413   \n",
       "\n",
       "    Positive Counts  Positive Total Counts  Negative Adjusted Fisher P Values  \\\n",
       "36           124545                 126410                                NaN   \n",
       "37           125719                 125862                                NaN   \n",
       "38           125861                 126161                                NaN   \n",
       "39               31                 126410                       9.282565e-01   \n",
       "40               52                 125862                       8.996652e-01   \n",
       "41               11                 126161                       1.000000e+00   \n",
       "42               17                 126410                       9.461613e-01   \n",
       "43               27                 125862                       1.000000e+00   \n",
       "44               33                 126161                       9.765855e-01   \n",
       "45             1817                 126410                       2.100000e-37   \n",
       "46               64                 125862                       1.000000e+00   \n",
       "47              256                 126161                       9.903653e-01   \n",
       "\n",
       "    Positive Adjusted Fisher P Values  \\\n",
       "36                                NaN   \n",
       "37                                NaN   \n",
       "38                                NaN   \n",
       "39                       1.532095e-02   \n",
       "40                       2.141399e-01   \n",
       "41                       5.684247e-01   \n",
       "42                       1.595505e-03   \n",
       "43                       1.814871e-02   \n",
       "44                       7.493782e-01   \n",
       "45                       8.990000e-33   \n",
       "46                       6.219303e-01   \n",
       "47                       6.708117e-02   \n",
       "\n",
       "    Log2 Fold Change after Negative Selection  \\\n",
       "36                                  -0.015593   \n",
       "37                                   0.000254   \n",
       "38                                   0.000310   \n",
       "39                                  -0.365285   \n",
       "40                                  -0.523964   \n",
       "41                                  -0.303539   \n",
       "42                                  -0.379157   \n",
       "43                                  -0.067106   \n",
       "44                                  -0.356007   \n",
       "45                                   1.009990   \n",
       "46                                  -0.186094   \n",
       "47                                  -0.125752   \n",
       "\n",
       "    Log2 Fold Change after Positive Selection  \\\n",
       "36                                   0.011281   \n",
       "37                                   0.000252   \n",
       "38                                  -0.000527   \n",
       "39                                  -1.004515   \n",
       "40                                   0.596947   \n",
       "41                                  -0.545940   \n",
       "42                                  -1.545083   \n",
       "43                                  -1.060584   \n",
       "44                                  -0.213365   \n",
       "45                                  -0.582680   \n",
       "46                                  -0.224083   \n",
       "47                                   0.351160   \n",
       "\n",
       "                                  mutated_AA_sequence  \n",
       "36  MDKKYSIGLDIGTNSVGWAVITDEYKVPSKKFKVLGNTDRHSIKKN...  \n",
       "37  MDKKYSIGLDIGTNSVGWAVITDEYKVPSKKFKVLGNTDRHSIKKN...  \n",
       "38  MDKKYSIGLDIGTNSVGWAVITDEYKVPSKKFKVLGNTDRHSIKKN...  \n",
       "39  MDKQYSIGLDIGTNSVGWAVITDEYKVPSKKFKVLGNTDRHSIKKN...  \n",
       "40  MDKTYSIGLDIGTNSVGWAVITDEYKVPSKKFKVLGNTDRHSIKKN...  \n",
       "41  MDKNYSIGLDIGTNSVGWAVITDEYKVPSKKFKVLGNTDRHSIKKN...  \n",
       "42  MDKEYSIGLDIGTNSVGWAVITDEYKVPSKKFKVLGNTDRHSIKKN...  \n",
       "43  MDKRYSIGLDIGTNSVGWAVITDEYKVPSKKFKVLGNTDRHSIKKN...  \n",
       "44  MDKKYSIGLDIGTNSVGWAVITDEYKVPSKKFKVLGNTDRHSIKKN...  \n",
       "45                                                MDK  \n",
       "46  MDKIYSIGLDIGTNSVGWAVITDEYKVPSKKFKVLGNTDRHSIKKN...  \n",
       "47  MDKNYSIGLDIGTNSVGWAVITDEYKVPSKKFKVLGNTDRHSIKKN...  \n",
       "\n",
       "[12 rows x 36 columns]"
      ]
     },
     "execution_count": 15,
     "metadata": {},
     "output_type": "execute_result"
    }
   ],
   "source": [
    "cas_all_counts[cas_all_counts['AA Position'] == 4]"
   ]
  },
  {
   "cell_type": "code",
   "execution_count": 16,
   "metadata": {},
   "outputs": [],
   "source": [
    "def merge_group(group):\n",
    "    result = {}\n",
    "    \n",
    "    result['sequence'] = group.iloc[0]['mutated_AA_sequence']\n",
    "    if group.iloc[0]['Domain'] == \"PI\":\n",
    "        result['set'] = 'test'\n",
    "    else:\n",
    "        result['set'] = 'train'\n",
    "    \n",
    "    result['target'] = group['Log2 Fold Change after Positive Selection'].mean()\n",
    "    \n",
    "    return result\n",
    "\n",
    "grouped_positive_selection = cas_all_counts[[\n",
    "    'Log2 Fold Change after Positive Selection',\n",
    "    'mutated_AA_sequence',\n",
    "    'Domain'\n",
    "]].dropna().groupby(['mutated_AA_sequence', 'Domain']).apply(merge_group).values\n",
    "\n",
    "DataFrame.from_records(\n",
    "    grouped_positive_selection\n",
    ").to_csv(split_path / 'splits' / \"pi_domain_log_positive_selection_regression.csv\", index=False)"
   ]
  },
  {
   "cell_type": "code",
   "execution_count": 17,
   "metadata": {},
   "outputs": [],
   "source": [
    "def merge_group(group):\n",
    "    result = {}\n",
    "    \n",
    "    result['sequence'] = group.iloc[0]['mutated_AA_sequence']\n",
    "    if group.iloc[0]['Domain'] == \"PI\":\n",
    "        result['set'] = 'test'\n",
    "    else:\n",
    "        result['set'] = 'train'\n",
    "    \n",
    "    result['target'] = group['Log2 Fold Change after Negative Selection'].mean()\n",
    "    \n",
    "    return result\n",
    "\n",
    "grouped_negative_selection = cas_all_counts[[\n",
    "    'Log2 Fold Change after Negative Selection',\n",
    "    'mutated_AA_sequence',\n",
    "    'Domain'\n",
    "]].dropna().groupby(['mutated_AA_sequence', 'Domain']).apply(merge_group).values\n",
    "\n",
    "DataFrame.from_records(\n",
    "    grouped_negative_selection\n",
    ").to_csv(split_path / 'splits' / \"pi_domain_log_negative_selection_regression.csv\", index=False)"
   ]
  },
  {
   "cell_type": "code",
   "execution_count": null,
   "metadata": {},
   "outputs": [],
   "source": [
    "#########################################################################################################\n",
    "#########################################################################################################\n",
    "############################################## OLDER CELLS ##############################################\n",
    "#########################################################################################################\n",
    "#########################################################################################################"
   ]
  },
  {
   "cell_type": "code",
   "execution_count": 13,
   "metadata": {},
   "outputs": [],
   "source": [
    "def get_mutation_matrix(cas_all_counts_dataframe, score_column):\n",
    "    \n",
    "    possible_mutations = cas_all_counts_dataframe['Mutant AA'].unique()\n",
    "\n",
    "    ordered_change_impact = list()\n",
    "\n",
    "    def assign_score(group, score_column):\n",
    "        group_score = {}\n",
    "        group_AAs = group['Mutant AA'].unique()\n",
    "        for AA in possible_mutations:\n",
    "            if AA in group_AAs:\n",
    "                group_score[AA] = group[group['Mutant AA'] == AA][score_column].values[0]\n",
    "            else:\n",
    "                group_score[AA] = math.nan\n",
    "        ordered_change_impact.append(group_score)\n",
    "\n",
    "    cas_all_counts_dataframe[[\n",
    "        'AA Position', 'Mutant AA', \n",
    "        'Log2 Fold Change after Positive Selection', 'Log2 Fold Change after Negative Selection'\n",
    "    ]].groupby(\"AA Position\").apply(\n",
    "        lambda x: assign_score(x, score_column)\n",
    "    )\n",
    "    \n",
    "    mutation_matrix = DataFrame(ordered_change_impact, index=list(wt_sequence)).T\n",
    "    \n",
    "    return mutation_matrix"
   ]
  },
  {
   "cell_type": "code",
   "execution_count": 14,
   "metadata": {},
   "outputs": [],
   "source": [
    "positive_mutation_matrix = get_mutation_matrix(cas_all_counts, 'Log2 Fold Change after Positive Selection')\n",
    "negative_mutation_matrix = get_mutation_matrix(cas_all_counts, 'Log2 Fold Change after Negative Selection')\n",
    "\n",
    "positive_mutation_matrix.to_csv(split_path / 'positive_mutation_matrix.csv', index=True)\n",
    "negative_mutation_matrix.to_csv(split_path / 'negative_mutation_matrix.csv', index=True)"
   ]
  },
  {
   "cell_type": "code",
   "execution_count": 28,
   "metadata": {},
   "outputs": [
    {
     "name": "stdout",
     "output_type": "stream",
     "text": [
      "Couldn't edit position 1390.\n",
      "Couldn't edit position 1390.\n",
      "Couldn't edit position 1390.\n",
      "Couldn't edit position 1390.\n",
      "Couldn't edit position 1390.\n",
      "Couldn't edit position 1390.\n",
      "Couldn't edit position 1390.\n",
      "Couldn't edit position 1390.\n",
      "Couldn't edit position 1390.\n",
      "Couldn't edit position 1390.\n",
      "Couldn't edit position 1390.\n",
      "Couldn't edit position 1390.\n",
      "Couldn't edit position 1390.\n",
      "Couldn't edit position 1390.\n",
      "Couldn't edit position 1390.\n",
      "Couldn't edit position 1390.\n",
      "Couldn't edit position 1390.\n",
      "Couldn't edit position 1390.\n",
      "Couldn't edit position 1390.\n",
      "Couldn't edit position 1390.\n",
      "Couldn't edit position 1390.\n"
     ]
    },
    {
     "data": {
      "text/plain": [
       "M    None\n",
       "D    None\n",
       "K    None\n",
       "K    None\n",
       "Y    None\n",
       "     ... \n",
       "P    None\n",
       "D    None\n",
       "Y    None\n",
       "A    None\n",
       "*    None\n",
       "Length: 1391, dtype: object"
      ]
     },
     "execution_count": 28,
     "metadata": {},
     "output_type": "execute_result"
    }
   ],
   "source": [
    "scores = list()\n",
    "\n",
    "accepted_mutations = 'KILTVRNEHADGYQ*SCFPMW'\n",
    "i = 0\n",
    "\n",
    "def mutate_sequence(col):\n",
    "    seq_copy = deepcopy(bio_seq)\n",
    "    global i\n",
    "    \n",
    "    for mutation in accepted_mutations:\n",
    "        mutation_value = col['*']\n",
    "        if not math.isnan(mutation_value):\n",
    "            try:\n",
    "                seq_copy.seq[i] = mutation\n",
    "\n",
    "                scores.append({\n",
    "                    'sequence': str(seq_copy.seq), \n",
    "                    'target': mutation_value\n",
    "                })\n",
    "            except:\n",
    "                print(f\"Couldn't edit position {i}.\")\n",
    "    \n",
    "    i = i + 1\n",
    "\n",
    "positive_mutation_matrix.apply(mutate_sequence)"
   ]
  }
 ],
 "metadata": {
  "kernelspec": {
   "display_name": "Python 3",
   "language": "python",
   "name": "python3"
  },
  "language_info": {
   "codemirror_mode": {
    "name": "ipython",
    "version": 3
   },
   "file_extension": ".py",
   "mimetype": "text/x-python",
   "name": "python",
   "nbconvert_exporter": "python",
   "pygments_lexer": "ipython3",
   "version": "3.8.10"
  }
 },
 "nbformat": 4,
 "nbformat_minor": 1
}