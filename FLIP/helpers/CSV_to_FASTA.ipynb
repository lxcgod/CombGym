{
 "cells": [
  {
   "cell_type": "markdown",
   "metadata": {},
   "source": [
    "A helper notebook that transforms the standard task CSV (containing: sequence, score and set) into a FASTA file."
   ]
  },
  {
   "cell_type": "code",
   "execution_count": 1,
   "metadata": {},
   "outputs": [],
   "source": [
    "from hashlib import md5\n",
    "\n",
    "from pandas import read_csv\n",
    "\n",
    "from Bio import SeqIO\n",
    "from Bio.SeqRecord import SeqRecord\n",
    "from Bio.Seq import Seq"
   ]
  },
  {
   "cell_type": "code",
   "execution_count": 2,
   "metadata": {},
   "outputs": [],
   "source": [
    "task_csv = read_csv('natural_task_2_regression.csv')"
   ]
  },
  {
   "cell_type": "code",
   "execution_count": 3,
   "metadata": {},
   "outputs": [],
   "source": [
    "protein_sequences = list()\n",
    "\n",
    "for i, protein in enumerate(task_csv.to_dict(orient='records')):\n",
    "    protein_sequences.append(\n",
    "        SeqRecord(\n",
    "            Seq(protein.get('sequence')),\n",
    "            id=f\"S{i}\",\n",
    "            description=f\"MD5={md5(protein.get('sequence').encode()).hexdigest()};\"\n",
    "                        f\"SET={protein.get('set')};\"\n",
    "                        f\"TARGET={protein.get('target')}\"\n",
    "        )\n",
    "    )"
   ]
  },
  {
   "cell_type": "code",
   "execution_count": 4,
   "metadata": {},
   "outputs": [
    {
     "data": {
      "text/plain": [
       "28102"
      ]
     },
     "execution_count": 4,
     "metadata": {},
     "output_type": "execute_result"
    }
   ],
   "source": [
    "SeqIO.write(protein_sequences, \"task.fasta\", \"fasta\")"
   ]
  },
  {
   "cell_type": "code",
   "execution_count": null,
   "metadata": {},
   "outputs": [],
   "source": []
  }
 ],
 "metadata": {
  "kernelspec": {
   "display_name": "Python 3",
   "language": "python",
   "name": "python3"
  },
  "language_info": {
   "codemirror_mode": {
    "name": "ipython",
    "version": 3
   },
   "file_extension": ".py",
   "mimetype": "text/x-python",
   "name": "python",
   "nbconvert_exporter": "python",
   "pygments_lexer": "ipython3",
   "version": "3.6.8"
  }
 },
 "nbformat": 4,
 "nbformat_minor": 2
}
