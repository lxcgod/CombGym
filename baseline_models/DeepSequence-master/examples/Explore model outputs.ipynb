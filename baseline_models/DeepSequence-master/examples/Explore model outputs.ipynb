{
 "cells": [
  {
   "cell_type": "code",
   "execution_count": 1,
   "metadata": {
    "collapsed": true
   },
   "outputs": [],
   "source": [
    "import theano\n",
    "import numpy as np\n",
    "import sys\n",
    "\n",
    "%matplotlib inline\n",
    "import matplotlib.pyplot as plt"
   ]
  },
  {
   "cell_type": "markdown",
   "metadata": {},
   "source": [
    "We will walk through the basic functions of loading up a model, obtaining the latent variables for sequences in the dataset, and generating sequences from latent variables. Since model training is computationally expensive and is best suited for a GPU-enabled compute cluster, executables for the SVI and MLE version of the code are available."
   ]
  },
  {
   "cell_type": "markdown",
   "metadata": {},
   "source": [
    "# Downloading pretrained parameters"
   ]
  },
  {
   "cell_type": "markdown",
   "metadata": {},
   "source": [
    "Please first download the pretrained parameters in the \"Downloading pretrained parameters.ipynb\" notebook. "
   ]
  },
  {
   "cell_type": "markdown",
   "metadata": {},
   "source": [
    "# Loading the model"
   ]
  },
  {
   "cell_type": "code",
   "execution_count": 2,
   "metadata": {
    "collapsed": false
   },
   "outputs": [],
   "source": [
    "sys.path.insert(0, \"../DeepSequence\")\n",
    "\n",
    "import model\n",
    "import helper\n",
    "import train"
   ]
  },
  {
   "cell_type": "markdown",
   "metadata": {},
   "source": [
    "First let's load up a model. We don't have to calculate sequence weights here because we are not training a model and this can be slow on the CPU. "
   ]
  },
  {
   "cell_type": "code",
   "execution_count": 13,
   "metadata": {
    "collapsed": false
   },
   "outputs": [
    {
     "name": "stdout",
     "output_type": "stream",
     "text": [
      "sequence ['A', 'T', 'L', 'R', 'A', 'L', 'E', 'Q', 'D', 'A', 'G', 'A', 'Q', 'V', 'S', 'V', 'H', 'V', 'V', 'D', 'L', 'D', 'N', 'H', 'V', 'H', 'V', 'S', 'G', 'D', 'D', 'H', 'V', 'T', 'M', 'P', 'V', 'A', 'G', 'L', 'G', 'V', 'V', 'P', 'L', 'L', 'I', 'E', 'V', 'A', 'A', 'A', 'F', 'E', 'A', 'G', 'A', 'L', 'D', 'P', 'L', 'E', 'I', 'V', 'E', 'R', 'S', 'A', 'V', 'D', 'S', 'V', 'S', 'T', 'S', 'G', 'L', 'W', 'R', 'H', 'L', 'H', 'A', 'P', 'A', 'L', 'P', 'L', 'E', 'D', 'L', 'A', 'V', 'L', 'A', 'A', 'T', 'A', 'G', 'D', 'P', 'I', 'A', 'V', 'N', 'A', 'L', 'L', 'H', 'R', 'V', '-', 'G', 'H', 'D', 'R', 'V', 'R', 'R', 'R', 'I', 'E', 'D', 'L', 'G', 'L', 'R', 'R', 'T', 'A', 'L', 'L', 'D', 'R', 'F', 'R', 'D', 'E', 'R', 'G', 'P', 'D', 'D', 'A', 'P', 'Q', 'V', 'A', 'V', 'G', 'S', 'A', 'R', 'E', 'F', 'A', 'G', 'L', 'F', 'S', 'A', 'L', 'V', 'N', 'S', 'Q', 'V', 'V', 'D', 'A', 'P', 'V', 'S', 'A', 'Q', 'V', 'A', 'E', 'W', 'L', 'S', 'L', 'N', 'Q', 'D', '-', 'L', 'S', 'L', 'V', 'A', 'A', 'S', 'T', 'G', 'H', 'G', 'L', 'L', 'F', 'I', 'N', 'K', 'T', 'G', 'R', 'D', 'R', 'G', 'V', 'R', 'A', 'E', 'A', 'G', 'V', 'L', 'A', 'G', 'P', 'R', 'A', 'V', 'G', 'Y', 'S', 'M', 'I', 'V', 'C', 'F', 'D', 'D', 'L', '-', '-', '-', '-', '-', '-', '-', '-', '-', '-', '-', '-', '-', '-', '-', '-', '-', '-', '-']\n",
      "Encoding sequences\n",
      "Neff = 8355.0\n",
      "Data Shape = (8355, 253, 20)\n",
      "Model built\n"
     ]
    }
   ],
   "source": [
    "data_params = {\"dataset\":\"BLAT_ECOLX\"}\n",
    "\n",
    "data_helper = helper.DataHelper(\n",
    "                dataset=data_params[\"dataset\"],\n",
    "                working_dir=\".\",\n",
    "                calc_weights=False\n",
    "                )\n",
    "\n",
    "model_params = {\n",
    "        \"batch_size\"        :   100,\n",
    "        \"encode_dim_zero\"   :   1500,\n",
    "        \"encode_dim_one\"    :   1500,\n",
    "        \"decode_dim_zero\"   :   100,\n",
    "        \"decode_dim_one\"    :   500,\n",
    "        \"n_patterns\"        :   4,\n",
    "        \"n_latent\"          :   30,\n",
    "        \"logit_p\"           :   0.001,\n",
    "        \"sparsity\"          :   \"logit\",\n",
    "        \"encode_nonlin\"     :   \"relu\",\n",
    "        \"decode_nonlin\"     :   \"relu\",\n",
    "        \"final_decode_nonlin\":  \"sigmoid\",\n",
    "        \"output_bias\"       :   True,\n",
    "        \"final_pwm_scale\"   :   True,\n",
    "        \"conv_pat\"          :   True,\n",
    "        \"d_c_size\"          :   40\n",
    "        }\n",
    "\n",
    "vae_model   = model.VariationalAutoencoder(data_helper,\n",
    "    batch_size              =   model_params[\"batch_size\"],\n",
    "    encoder_architecture    =   [model_params[\"encode_dim_zero\"],\n",
    "                                model_params[\"encode_dim_one\"]],\n",
    "    decoder_architecture    =   [model_params[\"decode_dim_zero\"],\n",
    "                                model_params[\"decode_dim_one\"]],\n",
    "    n_latent                =   model_params[\"n_latent\"],\n",
    "    n_patterns              =   model_params[\"n_patterns\"],\n",
    "    convolve_patterns       =   model_params[\"conv_pat\"],\n",
    "    conv_decoder_size       =   model_params[\"d_c_size\"],\n",
    "    logit_p                 =   model_params[\"logit_p\"],\n",
    "    sparsity                =   model_params[\"sparsity\"],\n",
    "    encode_nonlinearity_type       =   model_params[\"encode_nonlin\"],\n",
    "    decode_nonlinearity_type       =   model_params[\"decode_nonlin\"],\n",
    "    final_decode_nonlinearity      =   model_params[\"final_decode_nonlin\"],\n",
    "    output_bias             =   model_params[\"output_bias\"],\n",
    "    final_pwm_scale         =   model_params[\"final_pwm_scale\"],\n",
    "    working_dir             =   \".\")\n",
    "\n",
    "print (\"Model built\")"
   ]
  },
  {
   "cell_type": "markdown",
   "metadata": {},
   "source": [
    "Load up the parameters of a pretrained model in the 'params' folder."
   ]
  },
  {
   "cell_type": "code",
   "execution_count": 15,
   "metadata": {
    "collapsed": false
   },
   "outputs": [
    {
     "ename": "UnicodeDecodeError",
     "evalue": "'ascii' codec can't decode byte 0xd0 in position 0: ordinal not in range(128)",
     "output_type": "error",
     "traceback": [
      "\u001b[0;31m---------------------------------------------------------------------------\u001b[0m",
      "\u001b[0;31mUnicodeDecodeError\u001b[0m                        Traceback (most recent call last)",
      "\u001b[0;32m<ipython-input-15-55478703fee3>\u001b[0m in \u001b[0;36m<module>\u001b[0;34m\u001b[0m\n\u001b[1;32m      1\u001b[0m \u001b[0mfile_prefix\u001b[0m \u001b[0;34m=\u001b[0m \u001b[0;34m\"BLAT_ECOLX\"\u001b[0m\u001b[0;34m\u001b[0m\u001b[0;34m\u001b[0m\u001b[0m\n\u001b[1;32m      2\u001b[0m \u001b[0;34m\u001b[0m\u001b[0m\n\u001b[0;32m----> 3\u001b[0;31m \u001b[0mvae_model\u001b[0m\u001b[0;34m.\u001b[0m\u001b[0mload_parameters\u001b[0m\u001b[0;34m(\u001b[0m\u001b[0mfile_prefix\u001b[0m\u001b[0;34m=\u001b[0m\u001b[0mfile_prefix\u001b[0m\u001b[0;34m)\u001b[0m\u001b[0;34m\u001b[0m\u001b[0;34m\u001b[0m\u001b[0m\n\u001b[0m\u001b[1;32m      4\u001b[0m \u001b[0;34m\u001b[0m\u001b[0m\n\u001b[1;32m      5\u001b[0m \u001b[0mprint\u001b[0m \u001b[0;34m(\u001b[0m\u001b[0;34m\"Parameters loaded\"\u001b[0m\u001b[0;34m)\u001b[0m\u001b[0;34m\u001b[0m\u001b[0;34m\u001b[0m\u001b[0m\n",
      "\u001b[0;32m~/DeepSequence-master/DeepSequence-master/DeepSequence/model.py\u001b[0m in \u001b[0;36mload_parameters\u001b[0;34m(self, file_prefix)\u001b[0m\n\u001b[1;32m    723\u001b[0m         \u001b[0;34m\"\"\"Load the variables in a shared variable safe way\"\"\"\u001b[0m\u001b[0;34m\u001b[0m\u001b[0;34m\u001b[0m\u001b[0m\n\u001b[1;32m    724\u001b[0m         p_list = cPickle.load(open(\"/thinker/glusterfs/home/TSLab-xcLu/DeepSequence-master/DeepSequence-master/examples/params/\"+file_prefix \\\n\u001b[0;32m--> 725\u001b[0;31m             + \"_params.pkl\", \"rb\"))\n\u001b[0m\u001b[1;32m    726\u001b[0m         m_list = cPickle.load(open(\"/thinker/glusterfs/home/TSLab-xcLu/DeepSequence-master/DeepSequence-master/examples/params/\"+file_prefix \\\n\u001b[1;32m    727\u001b[0m             + \"_m.pkl\", \"rb\"))\n",
      "\u001b[0;31mUnicodeDecodeError\u001b[0m: 'ascii' codec can't decode byte 0xd0 in position 0: ordinal not in range(128)"
     ]
    }
   ],
   "source": [
    "file_prefix = \"BLAT_ECOLX\"\n",
    "\n",
    "vae_model.load_parameters(file_prefix=file_prefix)\n",
    "\n",
    "print (\"Parameters loaded\")"
   ]
  },
  {
   "cell_type": "markdown",
   "metadata": {},
   "source": [
    "Print the name, location, and sequence of the focus sequence of the alignment:"
   ]
  },
  {
   "cell_type": "markdown",
   "metadata": {},
   "source": []
  },
  {
   "cell_type": "code",
   "execution_count": 5,
   "metadata": {
    "collapsed": false
   },
   "outputs": [
    {
     "name": "stdout",
     "output_type": "stream",
     "text": [
      ">BLAT_ECOLX/24-286\n",
      "24-286\n",
      "hpetlVKVKDAEDQLGARVGYIELDLNSGKILeSFRPEERFPMMSTFKVLLCGAVLSRVDAGQEQLGRRIHYSQNDLVEYSPVTEKHLTDGMTVRELCSAAITMSDNTAANLLLTTIGGPKELTAFLHNMGDHVTRLDRWEPELNEAIPNDERDTTMPAAMATTLRKLLTGELLTLASRQQLIDWMEADKVAGPLLRSALPAGWFIADKSGAGErGSRGIIAALGPDGKPSRIVVIYTTGSQATMDERNRQIAEIGASLIkhw\n"
     ]
    }
   ],
   "source": [
    "print (data_helper.focus_seq_name)\n",
    "print (str(data_helper.focus_start_loc)+\"-\"+str(data_helper.focus_stop_loc))\n",
    "print (data_helper.focus_seq)"
   ]
  },
  {
   "cell_type": "markdown",
   "metadata": {},
   "source": [
    "However, we remove lowercase letters from the focus sequences before training because columns of the alignment in those positions have little amino acid coverage in them:"
   ]
  },
  {
   "cell_type": "code",
   "execution_count": 7,
   "metadata": {
    "collapsed": false
   },
   "outputs": [
    {
     "name": "stdout",
     "output_type": "stream",
     "text": [
      "VKVKDAEDQLGARVGYIELDLNSGKILSFRPEERFPMMSTFKVLLCGAVLSRVDAGQEQLGRRIHYSQNDLVEYSPVTEKHLTDGMTVRELCSAAITMSDNTAANLLLTTIGGPKELTAFLHNMGDHVTRLDRWEPELNEAIPNDERDTTMPAAMATTLRKLLTGELLTLASRQQLIDWMEADKVAGPLLRSALPAGWFIADKSGAGEGSRGIIAALGPDGKPSRIVVIYTTGSQATMDERNRQIAEIGASLI\n"
     ]
    }
   ],
   "source": [
    "print (\"\".join(data_helper.focus_seq_trimmed))"
   ]
  },
  {
   "cell_type": "markdown",
   "metadata": {},
   "source": [
    "# Model functions"
   ]
  },
  {
   "cell_type": "markdown",
   "metadata": {},
   "source": [
    "Let's get the latent variables for that sequence of the model. This model has a 30 dimensional latent representation whose prior is a diagonal Gaussian."
   ]
  },
  {
   "cell_type": "code",
   "execution_count": 8,
   "metadata": {
    "collapsed": false
   },
   "outputs": [
    {
     "name": "stdout",
     "output_type": "stream",
     "text": [
      "mu:\n",
      "[ 0.34938802 -0.13276478 -0.00635905 -0.0519855  -0.03323791  0.02068262\n",
      " -0.35835532  0.37571222 -0.31491978  0.2216208  -0.36170241  0.51862729\n",
      "  0.52036539 -0.23304972  0.19518882  0.21947976  0.32090208  0.49596854\n",
      "  0.2084736   0.43719074  0.16998474  0.63181091  0.15745053 -0.14569474\n",
      "  0.60805297 -0.46293343 -0.43630477 -0.05935098 -0.01780249 -0.14023283]\n",
      "\n",
      "log sigma:\n",
      "[-4.66593918 -4.63269746 -5.17962881 -5.2628855  -5.34027153 -4.86437884\n",
      " -5.08196748 -5.40233033 -5.50361482 -4.78762112 -5.22542082 -5.53464046\n",
      " -4.8920119  -5.01001952 -4.92974687 -5.35288695 -5.19385034 -4.89988563\n",
      " -6.06612677 -5.44057619 -4.78473196 -5.25366396 -5.12093702 -4.92797392\n",
      " -4.85533433 -4.82210096 -4.56625006 -5.09157662 -5.65296305 -4.89292555]\n"
     ]
    }
   ],
   "source": [
    "focus_seq_one_hot = np.expand_dims(data_helper.one_hot_3D(data_helper.focus_seq_trimmed),axis=0)\n",
    "mu_blat, log_sigma_blat = vae_model.recognize(focus_seq_one_hot)\n",
    "print (\"mu:\")\n",
    "print (mu_blat[0])\n",
    "print (\"\\nlog sigma:\")\n",
    "print (log_sigma_blat[0])"
   ]
  },
  {
   "cell_type": "markdown",
   "metadata": {},
   "source": [
    "We can also sample from this model:"
   ]
  },
  {
   "cell_type": "code",
   "execution_count": 9,
   "metadata": {
    "collapsed": false
   },
   "outputs": [
    {
     "name": "stdout",
     "output_type": "stream",
     "text": [
      "z:\n",
      "[ 0.36120883 -0.13799803 -0.00694649 -0.04851508 -0.03663313  0.02836846\n",
      " -0.35790542  0.37271531 -0.31110398  0.22044417 -0.35740831  0.51964504\n",
      "  0.53028492 -0.2253781   0.19448775  0.21704803  0.32431517  0.49585889\n",
      "  0.20385944  0.4424637   0.16340249  0.63282967  0.16067538 -0.14826396\n",
      "  0.60354168 -0.44843225 -0.42904103 -0.06795993 -0.01822602 -0.13191983]\n"
     ]
    }
   ],
   "source": [
    "z_blat = vae_model.encode(focus_seq_one_hot)\n",
    "print (\"z:\")\n",
    "print (z_blat[0])"
   ]
  },
  {
   "cell_type": "markdown",
   "metadata": {},
   "source": [
    "And then generate a sample distribution around that sequence via the sampled latent variable."
   ]
  },
  {
   "cell_type": "code",
   "execution_count": 10,
   "metadata": {
    "collapsed": false
   },
   "outputs": [
    {
     "data": {
      "image/png": "[encoded data removed]",
      "text/plain": [
       "<Figure size 2520x720 with 1 Axes>"
      ]
     },
     "metadata": {
      "needs_background": "light"
     },
     "output_type": "display_data"
    }
   ],
   "source": [
    "seq_reconstruct = vae_model.decode(z_blat)\n",
    "plt.figure(figsize=(35,10))\n",
    "plt.imshow(seq_reconstruct[0].T,cmap=plt.get_cmap(\"Blues\"))\n",
    "ax = plt.gca()\n",
    "ax.set_yticks(np.arange(len(data_helper.alphabet)))\n",
    "ax.set_yticklabels(list(data_helper.alphabet))\n",
    "plt.show()"
   ]
  },
  {
   "cell_type": "code",
   "execution_count": null,
   "metadata": {
    "collapsed": true
   },
   "outputs": [],
   "source": []
  }
 ],
 "metadata": {
  "kernelspec": {
   "display_name": "protein_fitness_prediction",
   "language": "python",
   "name": "python3"
  },
  "language_info": {
   "codemirror_mode": {
    "name": "ipython",
    "version": 3
   },
   "file_extension": ".py",
   "mimetype": "text/x-python",
   "name": "python",
   "nbconvert_exporter": "python",
   "pygments_lexer": "ipython3",
   "version": "3.7.6"
  }
 },
 "nbformat": 4,
 "nbformat_minor": 2
}
